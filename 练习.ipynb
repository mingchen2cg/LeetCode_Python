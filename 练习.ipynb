{
 "cells": [
  {
   "cell_type": "code",
   "execution_count": 3,
   "metadata": {},
   "outputs": [],
   "source": [
    "class Solution(object):\n",
    "    def shortestPalindrome(self, s):\n",
    "        \"\"\"\n",
    "        :type s: str\n",
    "        :rtype: str\n",
    "        \"\"\"\n",
    "        if s == None:\n",
    "            return s\n",
    "        \n",
    "        # 构造新的字符串 s + “#” + rev（s）\n",
    "        rev_s = s[::-1]\n",
    "        new_str = s + \"#\" + rev_s\n",
    "        print(rev_s)\n",
    "\n",
    "        lps = [0] * len(new_str)\n",
    "        j = 0\n",
    "\n",
    "        for i in range(1, len(new_str)):\n",
    "            while j > 0 and new_str[i] != new_str[j]:\n",
    "                j = lps[j - 1]\n",
    "            if new_str[i] == new_str[j]:\n",
    "                j += 1\n",
    "            lps[i] = j\n",
    "        \n",
    "        max_palindrome_len = lps[-1]\n",
    "        print(lps)\n",
    "        return rev_s[:len(s) - max_palindrome_len] + s\n",
    " \n"
   ]
  },
  {
   "cell_type": "code",
   "execution_count": 4,
   "metadata": {},
   "outputs": [
    {
     "name": "stdout",
     "output_type": "stream",
     "text": [
      "dcba\n",
      "[0, 0, 0, 0, 0, 0, 0, 0, 1]\n",
      "dcbabcd\n"
     ]
    }
   ],
   "source": [
    "s = \"abcd\"\n",
    "solution = Solution()\n",
    "ans = solution.shortestPalindrome(s)\n",
    "print(ans)"
   ]
  }
 ],
 "metadata": {
  "kernelspec": {
   "display_name": "base",
   "language": "python",
   "name": "python3"
  },
  "language_info": {
   "codemirror_mode": {
    "name": "ipython",
    "version": 3
   },
   "file_extension": ".py",
   "mimetype": "text/x-python",
   "name": "python",
   "nbconvert_exporter": "python",
   "pygments_lexer": "ipython3",
   "version": "3.12.2"
  }
 },
 "nbformat": 4,
 "nbformat_minor": 2
}
