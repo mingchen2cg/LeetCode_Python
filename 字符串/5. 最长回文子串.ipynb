{
 "cells": [
  {
   "cell_type": "code",
   "execution_count": 10,
   "metadata": {},
   "outputs": [],
   "source": [
    "class Solution(object):\n",
    "    def longestPalindrome(self, s):\n",
    "        \"\"\"\n",
    "        :type s: str\n",
    "        :rtype: str\n",
    "        \"\"\"\n",
    "        # 用于保存最长回文子串\n",
    "        longest = \"\"\n",
    "\n",
    "        # 中心扩展法，遍历每一个字符及每一对字符\n",
    "        for i in range(len(s)):\n",
    "            # 1. 以单个字符为中心的回文串\n",
    "            odd_palindrome = self.expand_from_center(s, i, i)\n",
    "            # 2. 以两个字符为中心的回文串\n",
    "            even_palindrome = self.expand_from_center(s, i, i + 1)\n",
    "            \n",
    "            # 更新最长回文子串\n",
    "            longest = max(longest, odd_palindrome, even_palindrome, key=len)\n",
    "        \n",
    "        return longest\n",
    "    \n",
    "    def expand_from_center(self, s, left, right):\n",
    "        # 扩展回文子串\n",
    "        while left >= 0 and right < len(s) and s[left] == s[right]:\n",
    "            left -= 1\n",
    "            right += 1\n",
    "        # 返回回文子串\n",
    "        return s[left + 1:right]\n"
   ]
  },
  {
   "cell_type": "code",
   "execution_count": 12,
   "metadata": {},
   "outputs": [
    {
     "name": "stdout",
     "output_type": "stream",
     "text": [
      "[0, 0, 0, 0]\n"
     ]
    }
   ],
   "source": [
    "s = \"cbbd\"\n",
    "solution = Solution()\n",
    "ans = solution.longestPalindrome(s)\n",
    "print(ans)"
   ]
  }
 ],
 "metadata": {
  "kernelspec": {
   "display_name": "base",
   "language": "python",
   "name": "python3"
  },
  "language_info": {
   "codemirror_mode": {
    "name": "ipython",
    "version": 3
   },
   "file_extension": ".py",
   "mimetype": "text/x-python",
   "name": "python",
   "nbconvert_exporter": "python",
   "pygments_lexer": "ipython3",
   "version": "3.12.2"
  }
 },
 "nbformat": 4,
 "nbformat_minor": 2
}
