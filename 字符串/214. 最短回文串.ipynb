{
 "cells": [
  {
   "cell_type": "code",
   "execution_count": 64,
   "metadata": {},
   "outputs": [],
   "source": [
    "class Solution(object):\n",
    "    def shortestPalindrome(self, s):\n",
    "        \"\"\"\n",
    "        :type s: str\n",
    "        :rtype: str\n",
    "        \"\"\"\n",
    "        if not s:\n",
    "            return s\n",
    "\n",
    "        # 构造新的字符串 s + \"#\" + rev(s)\n",
    "        rev_s = s[::-1]\n",
    "        new_str = s + \"#\" + rev_s\n",
    "        \n",
    "        # 计算新字符串的 LPS 数组\n",
    "        lps = [0] * len(new_str)\n",
    "        j = 0\n",
    "        for i in range(1, len(new_str)):\n",
    "            while j > 0 and new_str[i] != new_str[j]:\n",
    "                j = lps[j - 1]\n",
    "            if new_str[i] == new_str[j]:\n",
    "                j += 1\n",
    "            lps[i] = j\n",
    "\n",
    "        # 最大回文前缀的长度\n",
    "        max_palindrome_len = lps[-1]\n",
    "        \n",
    "        # 将剩余部分反转并加到原字符串的前面\n",
    "        return rev_s[:len(s) - max_palindrome_len] + s"
   ]
  },
  {
   "cell_type": "code",
   "execution_count": 69,
   "metadata": {},
   "outputs": [
    {
     "name": "stdout",
     "output_type": "stream",
     "text": [
      "dcbabcd\n"
     ]
    }
   ],
   "source": [
    "s = \"abcd\"\n",
    "solution = Solution()\n",
    "ans = solution.shortestPalindrome(s)\n",
    "print(ans)"
   ]
  },
  {
   "cell_type": "code",
   "execution_count": null,
   "metadata": {},
   "outputs": [],
   "source": [
    "# class Solution(object):\n",
    "#     def shortestPalindrome(self, s):\n",
    "#         \"\"\"\n",
    "#         :type s: str\n",
    "#         :rtype: str\n",
    "#         \"\"\"\n",
    "#         n = len(s)\n",
    "#         index = 0\n",
    "#         maxcnt = 0 \n",
    "#         for i in range(n):\n",
    "#             left = i - 1 if i - 1 >= 0 else 0\n",
    "#             right = i + 1 if i + 1 < n else n - 1\n",
    "#             cnt = 0\n",
    "#             while left >= 0 and right < n and left < i and right > i:\n",
    "#                 if s[left] == s[right]:\n",
    "#                     cnt += 1 \n",
    "#                     left -= 1\n",
    "#                     right += 1\n",
    "#                 else:\n",
    "#                     break\n",
    "#             if cnt > maxcnt:\n",
    "#                 index = i\n",
    "#                 maxcnt = cnt\n",
    "#             # print(index)\n",
    "\n",
    "#         # print(s[index + maxcnt + 1 :n])\n",
    "#         return \"\".join(reversed(s[index + maxcnt + 1 :n])) + \"\".join(s)"
   ]
  }
 ],
 "metadata": {
  "kernelspec": {
   "display_name": "base",
   "language": "python",
   "name": "python3"
  },
  "language_info": {
   "codemirror_mode": {
    "name": "ipython",
    "version": 3
   },
   "file_extension": ".py",
   "mimetype": "text/x-python",
   "name": "python",
   "nbconvert_exporter": "python",
   "pygments_lexer": "ipython3",
   "version": "3.12.2"
  }
 },
 "nbformat": 4,
 "nbformat_minor": 2
}
