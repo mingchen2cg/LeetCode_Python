{
 "cells": [
  {
   "cell_type": "code",
   "execution_count": 46,
   "metadata": {},
   "outputs": [],
   "source": [
    "class Solution(object):\n",
    "    def repeatedSubstringPattern(self, s):\n",
    "        \"\"\"\n",
    "        :type s: str\n",
    "        :rtype: bool\n",
    "        \"\"\"\n",
    "        # 获取字符串的长度\n",
    "        n = len(s)\n",
    "        \n",
    "        # 构造 KMP 的 next 数组\n",
    "        next_arr = [0] * n\n",
    "        j = 0  # 前缀指针\n",
    "        for i in range(1, n):\n",
    "            while j > 0 and s[i] != s[j]:\n",
    "                j = next_arr[j - 1]  # 回退到上一个匹配的位置\n",
    "            if s[i] == s[j]:\n",
    "                j += 1\n",
    "            next_arr[i] = j\n",
    "\n",
    "        # next 数组的最后一个值是最长相等前后缀的长度\n",
    "        longest_prefix_suffix = next_arr[-1]\n",
    "        \n",
    "        # 判断是否可以由一个子串重复构成\n",
    "        if longest_prefix_suffix > 0 and n % (n - longest_prefix_suffix) == 0:\n",
    "            return True\n",
    "        return False"
   ]
  },
  {
   "cell_type": "code",
   "execution_count": 47,
   "metadata": {},
   "outputs": [
    {
     "name": "stdout",
     "output_type": "stream",
     "text": [
      "True\n"
     ]
    }
   ],
   "source": [
    "s = \"abaababaab\" * 1\n",
    "solotion = Solution()\n",
    "ans = solotion.repeatedSubstringPattern(s)\n",
    "print(ans)"
   ]
  },
  {
   "cell_type": "markdown",
   "metadata": {},
   "source": [
    "## 字符串s是由重复子串组成，那么最长相等前后缀不包含的子串是字符串s的最小重复子串。"
   ]
  },
  {
   "cell_type": "code",
   "execution_count": null,
   "metadata": {},
   "outputs": [],
   "source": [
    "class Solution(object):\n",
    "    def repeatedSubstringPattern(self, s):\n",
    "        \"\"\"\n",
    "        :type s: str\n",
    "        :rtype: bool\n",
    "        \"\"\"\n",
    "        # 将字符串拼接成 s + s，然后去掉首尾字符\n",
    "        new_s = (s + s)[1:-1]\n",
    "        # 如果 s 是 new_s 的子串，则返回 True\n",
    "        return s in new_s"
   ]
  }
 ],
 "metadata": {
  "kernelspec": {
   "display_name": "base",
   "language": "python",
   "name": "python3"
  },
  "language_info": {
   "codemirror_mode": {
    "name": "ipython",
    "version": 3
   },
   "file_extension": ".py",
   "mimetype": "text/x-python",
   "name": "python",
   "nbconvert_exporter": "python",
   "pygments_lexer": "ipython3",
   "version": "3.12.2"
  }
 },
 "nbformat": 4,
 "nbformat_minor": 2
}
