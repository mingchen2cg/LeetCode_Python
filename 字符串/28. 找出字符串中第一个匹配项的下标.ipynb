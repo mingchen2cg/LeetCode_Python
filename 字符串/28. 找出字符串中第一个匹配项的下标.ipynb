{
 "cells": [
  {
   "cell_type": "code",
   "execution_count": 1,
   "metadata": {},
   "outputs": [],
   "source": [
    "class Solution(object):\n",
    "    def strStr(self, haystack, needle):\n",
    "        \"\"\"\n",
    "        :type haystack: str\n",
    "        :type needle: str\n",
    "        :rtype: int\n",
    "        \"\"\"\n",
    "        # 如果 needle 为空字符串，返回 0\n",
    "        if needle == None:\n",
    "            return 0\n",
    "        \n",
    "        # 获取 haystack 和 needle 的长度\n",
    "        n, m = len(haystack), len(needle)\n",
    "\n",
    "        # 创建 lps (Longest Prefix Suffix) 数组，用于 KMP 算法\n",
    "        lps = [0] * m\n",
    "        j = 0 \n",
    "        \n",
    "        # 预处理 needle，构建 lps 数组\n",
    "        for i in range(1, m):\n",
    "            # 如果字符不匹配，回退 j 到 lps[j - 1]\n",
    "            while j > 0 and needle[i] != needle[j]:\n",
    "                j = lps[j - 1]\n",
    "            # 如果字符匹配，增加 j\n",
    "            if needle[i] == needle[j]:\n",
    "                j += 1\n",
    "            # 更新 lps[i]\n",
    "            lps[i] = j\n",
    "\n",
    "        # 使用 KMP 算法在 haystack 中查找 needle\n",
    "        i, j = 0, 0\n",
    "        while i < n:\n",
    "            # 如果字符匹配，继续比较下一个字符\n",
    "            if haystack[i] == needle[j]:\n",
    "                i += 1 \n",
    "                j += 1 \n",
    "                # 如果 j 等于 needle 的长度，说明找到了匹配，返回起始位置\n",
    "                if j == m:\n",
    "                    return i - j\n",
    "            # 如果字符不匹配且 j > 0，回退 j 到 lps[j - 1]\n",
    "            elif j > 0:\n",
    "                j = lps[j - 1]\n",
    "            # 如果字符不匹配且 j == 0，继续比较 haystack 的下一个字符\n",
    "            else:\n",
    "                i += 1 \n",
    "        \n",
    "        # 如果没有找到匹配，返回 -1\n",
    "        return -1\n"
   ]
  },
  {
   "cell_type": "code",
   "execution_count": 2,
   "metadata": {},
   "outputs": [
    {
     "name": "stdout",
     "output_type": "stream",
     "text": [
      "3\n"
     ]
    }
   ],
   "source": [
    "haystack = \"sadbutsad\"\n",
    "needle = \"but\"\n",
    "solotion = Solution()\n",
    "ans = solotion.strStr(haystack, needle)\n",
    "print(ans)"
   ]
  },
  {
   "cell_type": "code",
   "execution_count": 1,
   "metadata": {},
   "outputs": [],
   "source": [
    "# 暴力求解\n",
    "\n",
    "class Solution(object):\n",
    "    def strStr(self, haystack, needle):\n",
    "        \"\"\"\n",
    "        :type haystack: str\n",
    "        :type needle: str\n",
    "        :rtype: int\n",
    "        \"\"\"\n",
    "        for i in range(len(haystack) - len(needle) + 1):\n",
    "            if haystack[i:i + len(needle)] == needle:\n",
    "                return i\n",
    "                \n",
    "        return -1 "
   ]
  },
  {
   "cell_type": "code",
   "execution_count": null,
   "metadata": {},
   "outputs": [],
   "source": [
    "# 最简洁的代码\n",
    "\n",
    "class Solution(object):\n",
    "    def strStr(self, haystack, needle):\n",
    "        \"\"\"\n",
    "        :type haystack: str\n",
    "        :type needle: str\n",
    "        :rtype: int\n",
    "        \"\"\"\n",
    "        return haystack.find(needle)\n"
   ]
  }
 ],
 "metadata": {
  "kernelspec": {
   "display_name": "base",
   "language": "python",
   "name": "python3"
  },
  "language_info": {
   "codemirror_mode": {
    "name": "ipython",
    "version": 3
   },
   "file_extension": ".py",
   "mimetype": "text/x-python",
   "name": "python",
   "nbconvert_exporter": "python",
   "pygments_lexer": "ipython3",
   "version": "3.12.2"
  }
 },
 "nbformat": 4,
 "nbformat_minor": 2
}
