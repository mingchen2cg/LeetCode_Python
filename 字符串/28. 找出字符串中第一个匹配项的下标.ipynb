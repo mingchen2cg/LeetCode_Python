{
 "cells": [
  {
   "cell_type": "code",
   "execution_count": 1,
   "metadata": {},
   "outputs": [],
   "source": [
    "class Solution(object):\n",
    "    def strStr(self, haystack, needle):\n",
    "        \"\"\"\n",
    "        :type haystack: str\n",
    "        :type needle: str\n",
    "        :rtype: int\n",
    "        \"\"\"\n",
    "        # 如果 needle 为空，返回 0\n",
    "        if not needle:\n",
    "            return 0\n",
    "        \n",
    "        # 构建部分匹配表 (LPS - Longest Prefix Suffix)\n",
    "        \n",
    "        n, m = len(haystack), len(needle)\n",
    "        # 构建部分匹配表 (LPS - Longest Prefix Suffix)\n",
    "        lps = [0] * m\n",
    "        j = 0 \n",
    "        for i in range(1 ,m):\n",
    "            while j > 0 and needle[i] != needle[j]:\n",
    "                j = lps[j - 1]\n",
    "            if needle[i] == needle[j]:\n",
    "                j += 1\n",
    "            lps[i] = j \n",
    "        \n",
    "        # 使用 KMP 算法进行匹配\n",
    "        i, j = 0, 0  # i 是 haystack 的指针，j 是 needle 的指针\n",
    "        \n",
    "        while i < n:\n",
    "            if haystack[i] == needle[j]:\n",
    "                i += 1\n",
    "                j += 1\n",
    "                if j == m:  # 如果整个 needle 匹配完成\n",
    "                    return i - j  # 返回第一个匹配的位置\n",
    "            else:\n",
    "                if j > 0:\n",
    "                    j = lps[j - 1]  # 如果不匹配，回退 j 的位置\n",
    "                else:\n",
    "                    i += 1  # 否则，haystack 的指针向前移一步\n",
    "        \n",
    "        return -1  # 如果没有匹配到，返回 -1"
   ]
  },
  {
   "cell_type": "code",
   "execution_count": 2,
   "metadata": {},
   "outputs": [
    {
     "name": "stdout",
     "output_type": "stream",
     "text": [
      "3\n"
     ]
    }
   ],
   "source": [
    "haystack = \"sadbutsad\"\n",
    "needle = \"but\"\n",
    "solotion = Solution()\n",
    "ans = solotion.strStr(haystack, needle)\n",
    "print(ans)"
   ]
  },
  {
   "cell_type": "code",
   "execution_count": 1,
   "metadata": {},
   "outputs": [],
   "source": [
    "# 暴力求解\n",
    "\n",
    "class Solution(object):\n",
    "    def strStr(self, haystack, needle):\n",
    "        \"\"\"\n",
    "        :type haystack: str\n",
    "        :type needle: str\n",
    "        :rtype: int\n",
    "        \"\"\"\n",
    "        for i in range(len(haystack) - len(needle) + 1):\n",
    "            if haystack[i:i + len(needle)] == needle:\n",
    "                return i\n",
    "                \n",
    "        return -1 "
   ]
  },
  {
   "cell_type": "code",
   "execution_count": null,
   "metadata": {},
   "outputs": [],
   "source": []
  }
 ],
 "metadata": {
  "kernelspec": {
   "display_name": "base",
   "language": "python",
   "name": "python3"
  },
  "language_info": {
   "codemirror_mode": {
    "name": "ipython",
    "version": 3
   },
   "file_extension": ".py",
   "mimetype": "text/x-python",
   "name": "python",
   "nbconvert_exporter": "python",
   "pygments_lexer": "ipython3",
   "version": "3.12.2"
  }
 },
 "nbformat": 4,
 "nbformat_minor": 2
}
