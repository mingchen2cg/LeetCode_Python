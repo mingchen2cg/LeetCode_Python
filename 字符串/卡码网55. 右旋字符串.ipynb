{
 "cells": [
  {
   "cell_type": "code",
   "execution_count": null,
   "metadata": {},
   "outputs": [
    {
     "name": "stdout",
     "output_type": "stream",
     "text": [
      "fgabcde\n"
     ]
    }
   ],
   "source": [
    "def main():\n",
    "    k = int(input())\n",
    "    s = str(input())\n",
    "\n",
    "    tmp = ''.join(reversed(s))\n",
    "    result = ''.join(reversed(tmp[0:k])) + ''.join(reversed(tmp[k:]))\n",
    "\n",
    "    print(result)\n",
    "\n",
    "\n",
    "\n",
    "if __name__ == '__main__':\n",
    "    main()"
   ]
  }
 ],
 "metadata": {
  "kernelspec": {
   "display_name": "base",
   "language": "python",
   "name": "python3"
  },
  "language_info": {
   "codemirror_mode": {
    "name": "ipython",
    "version": 3
   },
   "file_extension": ".py",
   "mimetype": "text/x-python",
   "name": "python",
   "nbconvert_exporter": "python",
   "pygments_lexer": "ipython3",
   "version": "3.12.2"
  }
 },
 "nbformat": 4,
 "nbformat_minor": 2
}
