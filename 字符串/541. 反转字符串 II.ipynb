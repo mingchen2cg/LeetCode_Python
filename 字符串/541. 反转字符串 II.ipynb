{
 "cells": [
  {
   "cell_type": "code",
   "execution_count": 37,
   "metadata": {},
   "outputs": [],
   "source": [
    "class Solution:\n",
    "    def reverseStr(self, s, k):\n",
    "        # 转换为列表更方便修改\n",
    "        s = list(s)\n",
    "        n = len(s)\n",
    "        \n",
    "        # 遍历每个 2k 长度的块\n",
    "        for i in range(0, n, 2 * k):\n",
    "            # 计算当前块的结束位置\n",
    "            end = min(i + k, n)\n",
    "            # 反转前 k 个字符\n",
    "            s[i:end] = reversed(s[i:end])\n",
    "        \n",
    "        # 将列表转换回字符串并返回\n",
    "        return ''.join(s)\n"
   ]
  },
  {
   "cell_type": "code",
   "execution_count": 38,
   "metadata": {},
   "outputs": [
    {
     "name": "stdout",
     "output_type": "stream",
     "text": [
      "abcdefg\n"
     ]
    }
   ],
   "source": [
    "s = s = \"abcdefg\"\n",
    "k = 2\n",
    "solution = Solution()\n",
    "ans = solution.reverseStr(s, k)\n",
    "print(s)"
   ]
  }
 ],
 "metadata": {
  "kernelspec": {
   "display_name": "base",
   "language": "python",
   "name": "python3"
  },
  "language_info": {
   "codemirror_mode": {
    "name": "ipython",
    "version": 3
   },
   "file_extension": ".py",
   "mimetype": "text/x-python",
   "name": "python",
   "nbconvert_exporter": "python",
   "pygments_lexer": "ipython3",
   "version": "3.12.2"
  }
 },
 "nbformat": 4,
 "nbformat_minor": 2
}
