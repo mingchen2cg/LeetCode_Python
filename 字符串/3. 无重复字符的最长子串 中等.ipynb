{
 "cells": [
  {
   "cell_type": "code",
   "execution_count": 6,
   "metadata": {},
   "outputs": [],
   "source": [
    "class Solution(object):\n",
    "    def lengthOfLongestSubstring(self, s):\n",
    "        \"\"\"\n",
    "        :type s: str\n",
    "        :rtype: int\n",
    "        \"\"\"\n",
    "        # 使用一个集合来存储当前窗口中的字符\n",
    "        char_set = set()\n",
    "        # 左指针初始化为 0\n",
    "        left = 0\n",
    "        # 记录最大子串长度\n",
    "        max_length = 0\n",
    "\n",
    "        # 右指针遍历字符串\n",
    "        for right in range(len(s)):\n",
    "            # 如果当前字符已经在集合中，移动左指针直到移除重复字符\n",
    "            while s[right] in char_set:\n",
    "                char_set.remove(s[left])\n",
    "                left += 1\n",
    "            # 将当前字符加入集合\n",
    "            char_set.add(s[right])\n",
    "            # 更新最大长度\n",
    "            max_length = max(max_length, right - left + 1)\n",
    "\n",
    "        return max_length\n"
   ]
  },
  {
   "cell_type": "code",
   "execution_count": 7,
   "metadata": {},
   "outputs": [
    {
     "name": "stdout",
     "output_type": "stream",
     "text": [
      "3\n"
     ]
    }
   ],
   "source": [
    "s = \"pwwkew\"\n",
    "solotion = Solution()\n",
    "ans = solotion.lengthOfLongestSubstring(s)\n",
    "print(ans)\n"
   ]
  }
 ],
 "metadata": {
  "kernelspec": {
   "display_name": "base",
   "language": "python",
   "name": "python3"
  },
  "language_info": {
   "codemirror_mode": {
    "name": "ipython",
    "version": 3
   },
   "file_extension": ".py",
   "mimetype": "text/x-python",
   "name": "python",
   "nbconvert_exporter": "python",
   "pygments_lexer": "ipython3",
   "version": "3.12.2"
  }
 },
 "nbformat": 4,
 "nbformat_minor": 2
}
