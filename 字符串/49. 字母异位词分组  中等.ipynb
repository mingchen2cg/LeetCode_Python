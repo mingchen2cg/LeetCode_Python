{
 "cells": [
  {
   "cell_type": "markdown",
   "id": "180d5e40",
   "metadata": {},
   "source": [
    "1. 常规： 用哈希表的思想\n",
    "2. 排序最快 "
   ]
  },
  {
   "cell_type": "code",
   "execution_count": null,
   "id": "741c57ca",
   "metadata": {},
   "outputs": [],
   "source": [
    "from typing import List\n",
    "from collections import defaultdict\n",
    "class Solution:\n",
    "    def groupAnagrams(self, strs: List[str]) -> List[List[str]]:\n",
    "        ans_dict = defaultdict(list)\n",
    "        for word in strs:\n",
    "            count = [0] * 26\n",
    "            for char in word:\n",
    "                count[ord(char) - ord('a')] += 1\n",
    "            # 修正点: 直接使用 __setitem__ (通过方括号) 来利用 defaultdict 的特性\n",
    "            ans_dict[tuple(count)].append(word)\n",
    "        \n",
    "        ans = []\n",
    "        for key in ans_dict.keys():\n",
    "            ans.append(ans_dict[key])\n",
    "        \n",
    "        return ans"
   ]
  },
  {
   "cell_type": "code",
   "execution_count": null,
   "id": "22c59ca0",
   "metadata": {},
   "outputs": [],
   "source": [
    "from collections import defaultdict\n",
    "\n",
    "\n",
    "class Solution(object):\n",
    "    def groupAnagrams(self, strs):\n",
    "        \"\"\"\n",
    "        :type strs: List[str]\n",
    "        :rtype: List[List[str]]\n",
    "        \"\"\"\n",
    "        mp = defaultdict(list)\n",
    "        for st in strs:\n",
    "            key = \"\".join(sorted(st))\n",
    "            mp[key].append(st)\n",
    "\n",
    "        return list(mp.values())"
   ]
  }
 ],
 "metadata": {
  "kernelspec": {
   "display_name": "base",
   "language": "python",
   "name": "python3"
  },
  "language_info": {
   "name": "python",
   "version": "3.12.9"
  }
 },
 "nbformat": 4,
 "nbformat_minor": 5
}
