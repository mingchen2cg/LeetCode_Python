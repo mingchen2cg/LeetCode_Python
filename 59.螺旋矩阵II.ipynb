{
 "cells": [
  {
   "cell_type": "code",
   "execution_count": 35,
   "metadata": {},
   "outputs": [],
   "source": [
    "class Solution(object):\n",
    "    def generateMatrix(self, n):\n",
    "        \"\"\"\n",
    "        :type n: int\n",
    "        :rtype: List[List[int]]\n",
    "        \"\"\"\n",
    "        ans = [[0 for _ in range(n)] for _ in range(n)]\n",
    "\n",
    "        count = 1 # 需要填入的数字 \n",
    "\n",
    "        if n % 2 != 0 :\n",
    "            center = n // 2 \n",
    "            ans[center][center] = n ** 2 \n",
    "\n",
    "        i = j = 0 # index \n",
    "\n",
    "        loop = n - 1 \n",
    "\n",
    "        while loop > 0 :\n",
    "            # 向右填充\n",
    "            for k in range(loop):\n",
    "                ans[i][j] = count \n",
    "                count += 1 \n",
    "                j += 1    \n",
    "            # 向下填充\n",
    "            for k in range(loop):\n",
    "                ans[i][j] = count \n",
    "                count += 1 \n",
    "                i +=1 \n",
    "            # 向左填充\n",
    "            for k in range(loop):\n",
    "                ans[i][j] = count\n",
    "                count += 1 \n",
    "                j -= 1 \n",
    "            # 向上填充\n",
    "            for k in range(loop):\n",
    "                ans[i][j] = count\n",
    "                count += 1 \n",
    "                i -= 1\n",
    "            # 往内层移动 \n",
    "            i += 1\n",
    "            j += 1 \n",
    "            loop -= 2\n",
    "\n",
    "        return ans"
   ]
  },
  {
   "cell_type": "code",
   "execution_count": 36,
   "metadata": {},
   "outputs": [
    {
     "name": "stdout",
     "output_type": "stream",
     "text": [
      "3\n",
      "1\n",
      "[[1, 2, 3, 4], [12, 13, 14, 5], [11, 16, 15, 6], [10, 9, 8, 7]]\n"
     ]
    }
   ],
   "source": [
    "n = 4\n",
    "solution = Solution()  \n",
    "ans = solution.generateMatrix(n)\n",
    "print(ans)"
   ]
  },
  {
   "cell_type": "code",
   "execution_count": 10,
   "metadata": {},
   "outputs": [
    {
     "name": "stdout",
     "output_type": "stream",
     "text": [
      "0 0\n"
     ]
    }
   ],
   "source": []
  }
 ],
 "metadata": {
  "kernelspec": {
   "display_name": "base",
   "language": "python",
   "name": "python3"
  },
  "language_info": {
   "codemirror_mode": {
    "name": "ipython",
    "version": 3
   },
   "file_extension": ".py",
   "mimetype": "text/x-python",
   "name": "python",
   "nbconvert_exporter": "python",
   "pygments_lexer": "ipython3",
   "version": "3.12.7"
  }
 },
 "nbformat": 4,
 "nbformat_minor": 2
}
