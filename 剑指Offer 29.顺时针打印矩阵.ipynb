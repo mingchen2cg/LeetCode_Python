{
 "cells": [
  {
   "cell_type": "code",
   "execution_count": 1,
   "metadata": {},
   "outputs": [],
   "source": [
    "class Solution(object):\n",
    "    def spiralArray(self, array):\n",
    "        \"\"\"\n",
    "        :type array: List[List[int]]\n",
    "        :rtype: List[int]\n",
    "        \"\"\"\n",
    "        m = len(array)\n",
    "        n = len(array[0])\n",
    "\n",
    "        ans = [0] * (m * n )\n",
    "\n",
    "        heng_loop = n - 1\n",
    "        shu_loop = m - 1 \n",
    "        cnt = 0 \n",
    "        i = j = 0 # index\n",
    "\n",
    "        if array == []:\n",
    "            return []\n",
    "        \n",
    "        if m == 1: \n",
    "            return array[0]\n",
    "        \n",
    "        if n == 1:\n",
    "            for i in range(m):\n",
    "                ans[i] = array[i][0]\n",
    "            return ans\n",
    "\n",
    "        while cnt < m * n :\n",
    "            if heng_loop >= 1 and shu_loop == 0 : # 只剩下一行\n",
    "                for k in range(m * n - cnt):\n",
    "                    ans[cnt] = array[i][j]\n",
    "                    cnt += 1 \n",
    "                    j += 1 \n",
    "                return ans \n",
    "            if shu_loop >= 1 and heng_loop == 0 : # 只剩下一列\n",
    "                for k in range(m * n - cnt):\n",
    "                    ans[cnt] = array[i][j]\n",
    "                    cnt += 1\n",
    "                    i += 1\n",
    "                return ans \n",
    "             \n",
    "            if heng_loop == 0 and shu_loop == 0 : # 只剩下一个数\n",
    "                ans[ m * n - 1 ] = array[m//2][n//2]\n",
    "                return ans\n",
    "            \n",
    "            for k in range(heng_loop): # 向右\n",
    "                ans[cnt] = array[i][j]\n",
    "                cnt += 1 \n",
    "                j += 1 \n",
    "            for k in range(shu_loop): # down\n",
    "                ans[cnt] = array[i][j]\n",
    "                cnt += 1 \n",
    "                i += 1 \n",
    "            for k in range(heng_loop): # left\n",
    "                ans[cnt] = array[i][j]\n",
    "                cnt += 1 \n",
    "                j -= 1 \n",
    "            for k in range(shu_loop): # up\n",
    "                ans[cnt] = array[i][j]\n",
    "                cnt += 1\n",
    "                i -= 1 \n",
    "            \n",
    "            i += 1 \n",
    "            j += 1 \n",
    "            heng_loop -= 2 \n",
    "            shu_loop -= 2 \n",
    "\n",
    "        return ans\n",
    " "
   ]
  },
  {
   "cell_type": "code",
   "execution_count": 2,
   "metadata": {},
   "outputs": [
    {
     "name": "stdout",
     "output_type": "stream",
     "text": [
      "[1, 2, 3, 6, 9, 8, 7, 4, 5]\n"
     ]
    }
   ],
   "source": [
    "matrix = [[1,2,3],[4,5,6],[7,8,9]]\n",
    "\n",
    "solution = Solution()  \n",
    "ans = solution.spiralArray(matrix)\n",
    "print(ans)"
   ]
  }
 ],
 "metadata": {
  "kernelspec": {
   "display_name": "base",
   "language": "python",
   "name": "python3"
  },
  "language_info": {
   "codemirror_mode": {
    "name": "ipython",
    "version": 3
   },
   "file_extension": ".py",
   "mimetype": "text/x-python",
   "name": "python",
   "nbconvert_exporter": "python",
   "pygments_lexer": "ipython3",
   "version": "3.12.7"
  }
 },
 "nbformat": 4,
 "nbformat_minor": 2
}
