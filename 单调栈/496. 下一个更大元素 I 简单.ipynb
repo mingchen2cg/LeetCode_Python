{
 "cells": [
  {
   "cell_type": "code",
   "execution_count": null,
   "id": "99a1b5e2",
   "metadata": {},
   "outputs": [],
   "source": [
    "class Solution(object):\n",
    "    def nextGreaterElement(self, nums1, nums2):\n",
    "        \"\"\"\n",
    "        :type nums1: List[int]\n",
    "        :type nums2: List[int]\n",
    "        :rtype: List[int]\n",
    "        \"\"\"\n",
    "        n = len(nums1)\n",
    "        answer = [-1] * n\n",
    "        index_dict = {}\n",
    "        for i in range(len(nums2)):\n",
    "            index_dict[nums2[i]] = i\n",
    "\n",
    "        \n",
    "        for i in range(n):\n",
    "            index = index_dict[nums1[i]]\n",
    "            for j in range(index+1, len(nums2)):\n",
    "                if nums2[j] > nums1[i]:\n",
    "                    answer[i] = nums2[j]\n",
    "                    break\n",
    "        return answer"
   ]
  },
  {
   "cell_type": "code",
   "execution_count": null,
   "id": "a86fd43a",
   "metadata": {},
   "outputs": [],
   "source": [
    "class Solution(object):\n",
    "    def nextGreaterElement(self, nums1, nums2):\n",
    "        \"\"\"\n",
    "        :type nums1: List[int]\n",
    "        :type nums2: List[int]\n",
    "        :rtype: List[int]\n",
    "        \"\"\"\n",
    "        n = len(nums2)\n",
    "        all_answer = [-1] * n\n",
    "        answer = [-1] * len(nums1)\n",
    "        stack = []\n",
    "\n",
    "        index_dict = {}\n",
    "        for i in range(len(nums2)):\n",
    "            index_dict[nums2[i]] = i\n",
    "\n",
    "        for i in range(len(nums2)):\n",
    "            curruent_num = nums2[i]\n",
    "            while stack and nums2[stack[-1]] < curruent_num:\n",
    "                pre_index = stack.pop()\n",
    "                all_answer[pre_index] = nums2[i]\n",
    "            stack.append(i)\n",
    "\n",
    "\n",
    "        for i in range(len(nums1)):\n",
    "            answer[i] = all_answer[index_dict[nums1[i]]]\n",
    "            \n",
    "        return answer"
   ]
  },
  {
   "cell_type": "code",
   "execution_count": 7,
   "id": "e5746bc3",
   "metadata": {},
   "outputs": [
    {
     "name": "stdout",
     "output_type": "stream",
     "text": [
      "[2, 3, 4, -1]\n",
      "[3, -1]\n"
     ]
    }
   ],
   "source": [
    "nums1 = [2,4]\n",
    "nums2 = [1,2,3,4]\n",
    "\n",
    "mysolution = Solution()\n",
    "ans = mysolution.nextGreaterElement(nums1,nums2)\n",
    "ans"
   ]
  }
 ],
 "metadata": {
  "kernelspec": {
   "display_name": "base",
   "language": "python",
   "name": "python3"
  },
  "language_info": {
   "codemirror_mode": {
    "name": "ipython",
    "version": 3
   },
   "file_extension": ".py",
   "mimetype": "text/x-python",
   "name": "python",
   "nbconvert_exporter": "python",
   "pygments_lexer": "ipython3",
   "version": "3.12.9"
  }
 },
 "nbformat": 4,
 "nbformat_minor": 5
}
