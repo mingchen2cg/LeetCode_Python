{
 "cells": [
  {
   "cell_type": "code",
   "execution_count": null,
   "id": "981992f7",
   "metadata": {},
   "outputs": [],
   "source": [
    "class Solution(object):\n",
    "    def dailyTemperatures(self, temperatures):\n",
    "        \"\"\"\n",
    "        :type temperatures: List[int]\n",
    "        :rtype: List[int]\n",
    "        \"\"\"\n",
    "        n = len(temperatures)\n",
    "        answer = [0] * n\n",
    "        stack = []\n",
    "\n",
    "        for i in range(n):\n",
    "            current_temp = temperatures[i]\n",
    "            # 核心逻辑：当栈不为空，并且当前温度大于栈顶索引对应的温度时\n",
    "            # 这意味着当前温度 current_temp 是栈顶索引 prev_index 的“下一个更高温度”\n",
    "            while stack and temperatures[stack[-1]] < current_temp:\n",
    "                # 弹出栈顶索引，表示找到了它对应的下一个更高温度\n",
    "                pre_index = stack.pop()\n",
    "\n",
    "                days_wait = i - pre_index\n",
    "                answer[pre_index] = days_wait\n",
    "                \n",
    "            stack.append(i)"
   ]
  },
  {
   "cell_type": "code",
   "execution_count": null,
   "id": "2f2cd789",
   "metadata": {},
   "outputs": [],
   "source": [
    "temperatures = [73,74,75,71,69,72,76,73]\n",
    "mysolution = Solution()\n",
    "ans = mysolution.dailyTemperatures(temperatures)\n",
    "ans"
   ]
  }
 ],
 "metadata": {
  "language_info": {
   "name": "python"
  }
 },
 "nbformat": 4,
 "nbformat_minor": 5
}
