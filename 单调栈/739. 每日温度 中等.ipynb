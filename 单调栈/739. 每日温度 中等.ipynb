{
 "cells": [
  {
   "cell_type": "code",
   "execution_count": 5,
   "id": "981992f7",
   "metadata": {},
   "outputs": [],
   "source": [
    "class Solution(object):\n",
    "    def dailyTemperatures(self, temperatures):\n",
    "        \"\"\"\n",
    "        :type temperatures: List[int]\n",
    "        :rtype: List[int]\n",
    "        \"\"\"\n",
    "        n = len(temperatures)\n",
    "        answer = [0] * n\n",
    "        stack = []\n",
    "\n",
    "        for i in range(n):\n",
    "            current_temp = temperatures[i]\n",
    "            # 核心逻辑：当栈不为空，并且当前温度大于栈顶索引对应的温度时\n",
    "            # 这意味着当前温度 current_temp 是栈顶索引 prev_index 的“下一个更高温度”\n",
    "            while stack and temperatures[stack[-1]] < current_temp:\n",
    "                # 弹出栈顶索引，表示找到了它对应的下一个更高温度\n",
    "                pre_index = stack.pop()\n",
    "\n",
    "                days_wait = i - pre_index\n",
    "                answer[pre_index] = days_wait\n",
    "                \n",
    "            stack.append(i)\n",
    "        return answer"
   ]
  },
  {
   "cell_type": "code",
   "execution_count": 6,
   "id": "2f2cd789",
   "metadata": {},
   "outputs": [
    {
     "data": {
      "text/plain": [
       "[1, 1, 4, 2, 1, 1, 0, 0]"
      ]
     },
     "execution_count": 6,
     "metadata": {},
     "output_type": "execute_result"
    }
   ],
   "source": [
    "temperatures = [73,74,75,71,69,72,76,73]\n",
    "mysolution = Solution()\n",
    "ans = mysolution.dailyTemperatures(temperatures)\n",
    "ans"
   ]
  }
 ],
 "metadata": {
  "kernelspec": {
   "display_name": "base",
   "language": "python",
   "name": "python3"
  },
  "language_info": {
   "codemirror_mode": {
    "name": "ipython",
    "version": 3
   },
   "file_extension": ".py",
   "mimetype": "text/x-python",
   "name": "python",
   "nbconvert_exporter": "python",
   "pygments_lexer": "ipython3",
   "version": "3.12.9"
  }
 },
 "nbformat": 4,
 "nbformat_minor": 5
}
