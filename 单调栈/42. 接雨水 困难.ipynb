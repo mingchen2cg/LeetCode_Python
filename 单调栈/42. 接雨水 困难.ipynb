{
 "cells": [
  {
   "cell_type": "code",
   "execution_count": 5,
   "id": "84a6ad9e",
   "metadata": {},
   "outputs": [],
   "source": [
    "class Solution(object):\n",
    "    def trap(self, height):\n",
    "        \"\"\"\n",
    "        :type height: List[int]\n",
    "        :rtype: int\n",
    "        \"\"\"\n",
    "        n = len(height)\n",
    "        if n < 3:\n",
    "            return 0\n",
    "        \n",
    "        stack = []\n",
    "        ans = 0\n",
    "        \n",
    "        for i, current_height in enumerate(height):\n",
    "            while stack and height[stack[-1]] < current_height:\n",
    "                top_index = stack.pop()\n",
    "                h_bottom = height[top_index]\n",
    "                \n",
    "                if not stack:\n",
    "                    break\n",
    "                \n",
    "                left_wall_index = stack[-1]\n",
    "                h_left_wall = height[left_wall_index]\n",
    "                \n",
    "                distance = i - left_wall_index - 1\n",
    "                \n",
    "                water_level = min(h_left_wall,current_height)\n",
    "                \n",
    "                trapped_water_height = water_level - h_bottom\n",
    "                \n",
    "                if trapped_water_height > 0 :\n",
    "                    ans += distance * trapped_water_height\n",
    "            stack.append(i)\n",
    "            \n",
    "        return ans\n",
    "        \n",
    "        \n",
    "        "
   ]
  },
  {
   "cell_type": "code",
   "execution_count": 6,
   "id": "70ac1700",
   "metadata": {},
   "outputs": [
    {
     "data": {
      "text/plain": [
       "6"
      ]
     },
     "execution_count": 6,
     "metadata": {},
     "output_type": "execute_result"
    }
   ],
   "source": [
    "height = [0,1,0,2,1,0,1,3,2,1,2,1]\n",
    "mysolution = Solution()\n",
    "ans = mysolution.trap(height)\n",
    "ans"
   ]
  }
 ],
 "metadata": {
  "kernelspec": {
   "display_name": "base",
   "language": "python",
   "name": "python3"
  },
  "language_info": {
   "codemirror_mode": {
    "name": "ipython",
    "version": 3
   },
   "file_extension": ".py",
   "mimetype": "text/x-python",
   "name": "python",
   "nbconvert_exporter": "python",
   "pygments_lexer": "ipython3",
   "version": "3.12.9"
  }
 },
 "nbformat": 4,
 "nbformat_minor": 5
}
