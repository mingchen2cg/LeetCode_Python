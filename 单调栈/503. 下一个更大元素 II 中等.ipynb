{
 "cells": [
  {
   "cell_type": "markdown",
   "id": "65612d37",
   "metadata": {},
   "source": [
    "给定一个循环数组 nums （ nums[nums.length - 1] 的下一个元素是 nums[0] ），返回 nums 中每个元素的 下一个更大元素 。\n",
    "\n",
    "数字 x 的 下一个更大的元素 是按数组遍历顺序，这个数字之后的第一个比它更大的数，这意味着你应该循环地搜索它的下一个更大的数。如果不存在，则输出 -1 。"
   ]
  },
  {
   "cell_type": "code",
   "execution_count": 11,
   "id": "07e7dfe3",
   "metadata": {},
   "outputs": [],
   "source": [
    "class Solution(object):\n",
    "    def nextGreaterElements(self, nums):\n",
    "        \"\"\"\n",
    "        :type nums: List[int]\n",
    "        :rtype: List[int]\n",
    "        \"\"\"\n",
    "        mynums = []\n",
    "        for i in range(2):\n",
    "            for num in nums:\n",
    "                mynums.append(num)\n",
    "        n = len(nums) * 2\n",
    "        \n",
    "        answer = [-1] * n\n",
    "        stack = []\n",
    "        \n",
    "        for i in range(n):\n",
    "            current_num = mynums[i]\n",
    "            while stack and mynums[stack[-1]] < current_num:\n",
    "                pre_index = stack.pop()\n",
    "                answer[pre_index] = current_num\n",
    "            stack.append(i)\n",
    "        \n",
    "        return answer[:n // 2]\n",
    "        \n",
    "        "
   ]
  },
  {
   "cell_type": "code",
   "execution_count": null,
   "id": "2613b5bd",
   "metadata": {},
   "outputs": [],
   "source": [
    "class Solution(object):\n",
    "    def nextGreaterElements(self, nums):\n",
    "        \"\"\"\n",
    "        :type nums: List[int]\n",
    "        :rtype: List[int]\n",
    "        \"\"\"\n",
    "        result = [-1] * (len(nums))\n",
    "        stack = []\n",
    "        for i in range(len(nums)):\n",
    "            while stack and nums[stack[-1]] < nums[i]:\n",
    "                result[stack[-1]] = nums[i]\n",
    "                stack.pop()\n",
    "            stack.append(i)\n",
    "        for i in range(len(nums)):\n",
    "            if not stack:\n",
    "                return result\n",
    "            while stack and nums[stack[-1]] < nums[i]:\n",
    "                result[stack[-1]] = nums[i]\n",
    "                stack.pop()\n",
    "        return result"
   ]
  },
  {
   "cell_type": "code",
   "execution_count": 13,
   "id": "951ed0f4",
   "metadata": {},
   "outputs": [
    {
     "data": {
      "text/plain": [
       "[2, 3, 4, -1, 4]"
      ]
     },
     "execution_count": 13,
     "metadata": {},
     "output_type": "execute_result"
    }
   ],
   "source": [
    "nums = [1,2,3,4,3]\n",
    "\n",
    "mysolution = Solution()\n",
    "ans = mysolution.nextGreaterElements(nums)\n",
    "ans"
   ]
  }
 ],
 "metadata": {
  "kernelspec": {
   "display_name": "base",
   "language": "python",
   "name": "python3"
  },
  "language_info": {
   "codemirror_mode": {
    "name": "ipython",
    "version": 3
   },
   "file_extension": ".py",
   "mimetype": "text/x-python",
   "name": "python",
   "nbconvert_exporter": "python",
   "pygments_lexer": "ipython3",
   "version": "3.12.9"
  }
 },
 "nbformat": 4,
 "nbformat_minor": 5
}
