{
 "cells": [
  {
   "cell_type": "code",
   "execution_count": 58,
   "metadata": {},
   "outputs": [],
   "source": [
    "class Solution(object):\n",
    "    def fourSum(self, nums, target):\n",
    "        \"\"\"\n",
    "        :type nums: List[int]\n",
    "        :type target: int\n",
    "        :rtype: List[List[int]]\n",
    "        \"\"\"\n",
    "        # 存储结果\n",
    "        result = []\n",
    "        n = len(nums)\n",
    "        nums.sort()\n",
    "\n",
    "        for i in range(n - 3):\n",
    "            if i > 0 and nums[i] == nums[i - 1]:\n",
    "                # continue 是跳过本次循环（后面的代码），进行下一次循环\n",
    "                continue\n",
    "\n",
    "            for j in range(i+1, n - 2):\n",
    "                BigTwoSum = target - (nums[i] + nums[j])\n",
    "                left, right = j + 1, n - 1 \n",
    "                # print(i, j, left, right)\n",
    "\n",
    "                while left < right:\n",
    "                    # print([nums[i], nums[j], nums[left], nums[right]])\n",
    "                    if nums[left] + nums[right] == BigTwoSum:\n",
    "                        result.append([nums[i], nums[j], nums[left], nums[right]])\n",
    "                        # 跳过重复的元素\n",
    "                        while left < right and nums[left] == nums[left + 1]:\n",
    "                            # print(\"true1,left = \" + str(left))\n",
    "                            left += 1\n",
    "                        # print(\"left = \" + str(left) + \" right = \" + str(right))\n",
    "                        while left < right and nums[right] == nums[right - 1]:\n",
    "                            # print(\"true2\")\n",
    "                            right -= 1\n",
    "\n",
    "                        # 移动指针 寻找以 nums[i] num[j] 开头的下一个组合\n",
    "                        right -= 1\n",
    "                        left += 1\n",
    "                        # print(\"end if left = \" + str(left) + \" right = \" + str(right))\n",
    "\n",
    "                    elif nums[left] + nums[right] < BigTwoSum:\n",
    "                        # 需要更大的数字\n",
    "                        left += 1 \n",
    "                    else:\n",
    "                        # 需要更小的数字\n",
    "                        right -= 1\n",
    "        # 子列表排序后去重\n",
    "        result = list(map(list, {tuple(sorted(sublist)) for sublist in result})) \n",
    "\n",
    "        return result\n",
    "\n"
   ]
  },
  {
   "cell_type": "code",
   "execution_count": 60,
   "metadata": {},
   "outputs": [
    {
     "name": "stdout",
     "output_type": "stream",
     "text": [
      "9\n",
      "[[2, 2, 2, 2]]\n"
     ]
    }
   ],
   "source": [
    "nums = [2,2,2,2,2,9,9,7,65]\n",
    "target = 8\n",
    "print(len(nums))\n",
    "solution = Solution()\n",
    "ans = solution.fourSum(nums, target)\n",
    "print(ans)"
   ]
  }
 ],
 "metadata": {
  "kernelspec": {
   "display_name": "base",
   "language": "python",
   "name": "python3"
  },
  "language_info": {
   "codemirror_mode": {
    "name": "ipython",
    "version": 3
   },
   "file_extension": ".py",
   "mimetype": "text/x-python",
   "name": "python",
   "nbconvert_exporter": "python",
   "pygments_lexer": "ipython3",
   "version": "3.12.7"
  }
 },
 "nbformat": 4,
 "nbformat_minor": 2
}
