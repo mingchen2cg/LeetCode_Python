{
 "cells": [
  {
   "cell_type": "code",
   "execution_count": 19,
   "metadata": {},
   "outputs": [],
   "source": [
    "class Solution(object):\n",
    "    def threeSum(self, nums):\n",
    "        \"\"\"\n",
    "        :type nums: List[int]\n",
    "        :rtype: List[List[int]]\n",
    "        \"\"\"\n",
    "\n",
    "        ans = []\n",
    "        lenght = len(nums)\n",
    "        # 首先进行数组的排序\n",
    "        nums.sort()\n",
    "\n",
    "        for i in range(lenght - 2):\n",
    "            if i > 0 and nums[i] == nums[i - 1]:\n",
    "                # continue 是跳过本次循环（后面的代码），进行下一次循环\n",
    "                continue\n",
    "\n",
    "            target = - nums[i]\n",
    "            left, right = i + 1, lenght - 1 \n",
    "            while left < right:\n",
    "                if nums[left] + nums[right] == target:\n",
    "                    ans.append([nums[i], nums[left], nums[right]])\n",
    "                    # 跳过重复的元素\n",
    "                    while left < right and nums[left] == nums[left + 1]:\n",
    "                        left += 1\n",
    "                    while left < right and nums[right - 1] == nums[right]:\n",
    "                        right -= 1 \n",
    "                    # 移动指针 寻找以 nums[i] 开头的下一个组合\n",
    "                    right -= 1\n",
    "                    left += 1 \n",
    "                elif nums[left] + nums[right] < target:\n",
    "                    left += 1\n",
    "                else:\n",
    "                    # 需要更小的数字\n",
    "                    right -= 1 \n",
    "                \n",
    "        return ans"
   ]
  },
  {
   "cell_type": "code",
   "execution_count": 20,
   "metadata": {},
   "outputs": [
    {
     "name": "stdout",
     "output_type": "stream",
     "text": [
      "5\n",
      "[[-1, -1, 2], [-1, 0, 1]]\n"
     ]
    }
   ],
   "source": [
    "nums =  [-1,0,1,2,-1]\n",
    "print(len(nums))\n",
    "solution = Solution()\n",
    "ans = solution.threeSum(nums)\n",
    "print(ans)"
   ]
  },
  {
   "cell_type": "code",
   "execution_count": 53,
   "metadata": {},
   "outputs": [
    {
     "name": "stdout",
     "output_type": "stream",
     "text": [
      "16258\n"
     ]
    }
   ],
   "source": [
    "print(len(ans))"
   ]
  }
 ],
 "metadata": {
  "kernelspec": {
   "display_name": "base",
   "language": "python",
   "name": "python3"
  },
  "language_info": {
   "codemirror_mode": {
    "name": "ipython",
    "version": 3
   },
   "file_extension": ".py",
   "mimetype": "text/x-python",
   "name": "python",
   "nbconvert_exporter": "python",
   "pygments_lexer": "ipython3",
   "version": "3.12.7"
  }
 },
 "nbformat": 4,
 "nbformat_minor": 2
}
