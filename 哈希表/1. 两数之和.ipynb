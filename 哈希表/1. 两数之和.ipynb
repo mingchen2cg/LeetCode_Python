{
 "cells": [
  {
   "cell_type": "code",
   "execution_count": 26,
   "metadata": {},
   "outputs": [],
   "source": [
    "class Solution(object):\n",
    "    def twoSum(self, nums, target):\n",
    "        \"\"\"\n",
    "        :type nums: List[int]\n",
    "        :type target: int\n",
    "        :rtype: List[int]\n",
    "        \"\"\"\n",
    "\n",
    "        numsset = set(nums)\n",
    "        if target % 2 == 0 :\n",
    "            if target / 2  in numsset:\n",
    "                indexes = [i for i, x in enumerate(nums) if x == target /2 ]\n",
    "                if len(indexes) == 2 :\n",
    "                    return indexes\n",
    "                else:\n",
    "                    numsset.remove( target / 2)\n",
    "\n",
    "        ans = []\n",
    "\n",
    "        for i in numsset:\n",
    "            if i in numsset and (target - i) in numsset:\n",
    "                # 找 i 和 taget - i的下标\n",
    "                ans.append(nums.index(i))\n",
    "                ans.append(nums.index(target - i))\n",
    "                return ans"
   ]
  },
  {
   "cell_type": "code",
   "execution_count": 27,
   "metadata": {},
   "outputs": [
    {
     "name": "stdout",
     "output_type": "stream",
     "text": [
      "2\n",
      "[0, 1]\n"
     ]
    }
   ],
   "source": [
    "nums = [2,4,11,3]\n",
    "target = 6\n",
    "solution = Solution()\n",
    "ans = solution.twoSum(nums,target)\n",
    "print(ans)"
   ]
  }
 ],
 "metadata": {
  "kernelspec": {
   "display_name": "base",
   "language": "python",
   "name": "python3"
  },
  "language_info": {
   "codemirror_mode": {
    "name": "ipython",
    "version": 3
   },
   "file_extension": ".py",
   "mimetype": "text/x-python",
   "name": "python",
   "nbconvert_exporter": "python",
   "pygments_lexer": "ipython3",
   "version": "3.12.7"
  }
 },
 "nbformat": 4,
 "nbformat_minor": 2
}
