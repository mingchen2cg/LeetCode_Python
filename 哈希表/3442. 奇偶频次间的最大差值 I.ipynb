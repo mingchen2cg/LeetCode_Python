{
 "cells": [
  {
   "cell_type": "code",
   "execution_count": 16,
   "id": "bebd2e9b",
   "metadata": {},
   "outputs": [],
   "source": [
    "from collections import Counter\n",
    "\n",
    "class Solution:\n",
    "    def maxDifference(self, s: str) -> int:\n",
    "        count = Counter(s)\n",
    "        \n",
    "        odd_counts = [freq for freq in count.values() if freq % 2 == 1]\n",
    "        even_counts = [freq for freq in count.values() if freq % 2 == 0]\n",
    "        \n",
    "        if not odd_counts or not even_counts:\n",
    "            return 0  # 无法形成合法差值\n",
    "        \n",
    "        return max(odd_counts) - min(even_counts)\n"
   ]
  },
  {
   "cell_type": "code",
   "execution_count": 19,
   "id": "b12c9ff4",
   "metadata": {},
   "outputs": [],
   "source": [
    "from collections import Counter\n",
    "\n",
    "class Solution:\n",
    "    def maxDifference(self, s: str) -> int:\n",
    "        count = Counter(s)\n",
    "        a1 = 1\n",
    "        a2 = 100\n",
    "        \n",
    "        for freq in count.values():\n",
    "            if freq % 2 == 1:\n",
    "                a1 = max(a1,freq)\n",
    "            else:\n",
    "                a2 = min(a2,freq)\n",
    "        return a1 - a2"
   ]
  },
  {
   "cell_type": "code",
   "execution_count": 20,
   "id": "df645dab",
   "metadata": {},
   "outputs": [
    {
     "data": {
      "text/plain": [
       "1"
      ]
     },
     "execution_count": 20,
     "metadata": {},
     "output_type": "execute_result"
    }
   ],
   "source": [
    "s = \"wwecwe\"\n",
    "mysolution = Solution()\n",
    "ans = mysolution.maxDifference(s)\n",
    "ans"
   ]
  }
 ],
 "metadata": {
  "kernelspec": {
   "display_name": "base",
   "language": "python",
   "name": "python3"
  },
  "language_info": {
   "codemirror_mode": {
    "name": "ipython",
    "version": 3
   },
   "file_extension": ".py",
   "mimetype": "text/x-python",
   "name": "python",
   "nbconvert_exporter": "python",
   "pygments_lexer": "ipython3",
   "version": "3.12.9"
  }
 },
 "nbformat": 4,
 "nbformat_minor": 5
}
