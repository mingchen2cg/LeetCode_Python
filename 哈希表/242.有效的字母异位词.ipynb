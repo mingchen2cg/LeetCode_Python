{
 "cells": [
  {
   "cell_type": "code",
   "execution_count": null,
   "metadata": {},
   "outputs": [],
   "source": [
    "class Solution(object):\n",
    "    def isAnagram(self, s, t):\n",
    "        \"\"\"\n",
    "        :type s: str\n",
    "        :type t: str\n",
    "        :rtype: bool\n",
    "        \"\"\"\n",
    "\n",
    "        if len(s) != len(t):\n",
    "            return False\n",
    "\n",
    "        # 将字符转换成dict\n",
    "        cnt_s = {}\n",
    "        cnt_t = {}\n",
    "\n",
    "        for char in s:\n",
    "            cnt_s[char] = cnt_s.get(char, 0 ) + 1\n",
    "        \n",
    "        for char in t:\n",
    "            cnt_t[char] =cnt_t.get(char, 0) + 1 \n",
    "\n",
    "        return cnt_t == cnt_s\n",
    "\n",
    "\n",
    "        "
   ]
  },
  {
   "cell_type": "code",
   "execution_count": null,
   "metadata": {},
   "outputs": [],
   "source": [
    "class Solution(object):\n",
    "    def isAnagram(self, s, t):\n",
    "        \"\"\"\n",
    "        :type s: str\n",
    "        :type t: str\n",
    "        :rtype: bool\n",
    "        \"\"\"\n",
    "        if len(s) != len(t):\n",
    "            return False\n",
    "\n",
    "        s_set = set(s)\n",
    "        for char in s_set:\n",
    "            if s.count(char) != t.count(char):\n",
    "                return False\n",
    "        \n",
    "        return True\n"
   ]
  }
 ],
 "metadata": {
  "kernelspec": {
   "display_name": "base",
   "language": "python",
   "name": "python3"
  },
  "language_info": {
   "name": "python",
   "version": "3.12.7"
  }
 },
 "nbformat": 4,
 "nbformat_minor": 2
}
