{
 "cells": [
  {
   "cell_type": "code",
   "execution_count": 5,
   "metadata": {},
   "outputs": [],
   "source": [
    "class Solution(object):\n",
    "    def isHappy(self, n):\n",
    "        \"\"\"\n",
    "        :type n: int\n",
    "        :rtype: bool\n",
    "        \"\"\"\n",
    "        \"\"\"\n",
    "        2 ** 31 - 1 = 2147483647 是一个十位数 \n",
    "        十位数 每一位的平方和 最大 为 810\n",
    "        \"\"\"\n",
    "        hash1 = [0] * 811\n",
    "        nums =  [int(digit) for digit in str(n)]\n",
    "\n",
    "        while True:\n",
    "            n = 0\n",
    "            for i in nums:\n",
    "                n += i ** 2 \n",
    "            if hash1[n] == 0:\n",
    "                hash1[n] += 1\n",
    "            else:\n",
    "                return False\n",
    "\n",
    "            nums =  [int(digit) for digit in str(n)]\n",
    "\n",
    "            if n == 1: \n",
    "                return True\n",
    "\n",
    "\n"
   ]
  },
  {
   "cell_type": "code",
   "execution_count": 8,
   "metadata": {},
   "outputs": [
    {
     "name": "stdout",
     "output_type": "stream",
     "text": [
      "True\n"
     ]
    }
   ],
   "source": [
    "n = 19\n",
    "solution = Solution()\n",
    "ans = solution.isHappy(n)\n",
    "print(ans)"
   ]
  }
 ],
 "metadata": {
  "kernelspec": {
   "display_name": "base",
   "language": "python",
   "name": "python3"
  },
  "language_info": {
   "codemirror_mode": {
    "name": "ipython",
    "version": 3
   },
   "file_extension": ".py",
   "mimetype": "text/x-python",
   "name": "python",
   "nbconvert_exporter": "python",
   "pygments_lexer": "ipython3",
   "version": "3.12.7"
  }
 },
 "nbformat": 4,
 "nbformat_minor": 2
}
