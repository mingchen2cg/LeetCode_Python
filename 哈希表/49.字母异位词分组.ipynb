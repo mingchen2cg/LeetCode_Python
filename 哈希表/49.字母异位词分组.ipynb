{
 "cells": [
  {
   "cell_type": "code",
   "execution_count": null,
   "metadata": {},
   "outputs": [],
   "source": [
    "class Solution(object):\n",
    "    def groupAnagrams(self, strs):\n",
    "        \"\"\"\n",
    "        :type strs: List[str]\n",
    "        :rtype: List[List[str]]\n",
    "        \"\"\"\n",
    "        mp = collections.defaultdict(list)\n",
    "        for st in strs:\n",
    "            key = \"\".join(sorted(st))\n",
    "            mp[key].append(st)\n",
    "        \n",
    "        return list(mp.values())\n",
    "\n",
    "        \n",
    "\n",
    "            \n",
    "        "
   ]
  },
  {
   "cell_type": "code",
   "execution_count": 9,
   "metadata": {},
   "outputs": [
    {
     "name": "stdout",
     "output_type": "stream",
     "text": [
      "1 1 [1, 2, 3, 4, 1, 2, 5]\n",
      "1 3 [2, 3, 4, 1, 2, 5]\n",
      "1 4 [2, 3, 4, 1, 2, 5]\n",
      "1 1 [2, 3, 4, 1, 2, 5]\n",
      "1 5 [2, 3, 4, 2, 5]\n",
      "3 2 [2, 3, 4, 2, 5]\n",
      "3 3 [2, 3, 4, 2, 5]\n",
      "3 2 [2, 4, 2, 5]\n",
      "3 5 [2, 4, 2, 5]\n",
      "2 2 [2, 4, 2, 5]\n",
      "2 2 [4, 2, 5]\n",
      "[4, 5]\n"
     ]
    }
   ],
   "source": [
    "l = [1,2,3,4,1,2,5]\n",
    "\n",
    "for i in l:\n",
    "    for j in l:\n",
    "        print(i, j, l)\n",
    "        if i == j:\n",
    "            l.remove(j)\n",
    "\n",
    "\n",
    "print(l)"
   ]
  }
 ],
 "metadata": {
  "kernelspec": {
   "display_name": "base",
   "language": "python",
   "name": "python3"
  },
  "language_info": {
   "codemirror_mode": {
    "name": "ipython",
    "version": 3
   },
   "file_extension": ".py",
   "mimetype": "text/x-python",
   "name": "python",
   "nbconvert_exporter": "python",
   "pygments_lexer": "ipython3",
   "version": "3.12.7"
  }
 },
 "nbformat": 4,
 "nbformat_minor": 2
}
