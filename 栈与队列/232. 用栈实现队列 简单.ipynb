{
 "cells": [
  {
   "cell_type": "code",
   "execution_count": null,
   "metadata": {},
   "outputs": [],
   "source": [
    "class MyQueue:\n",
    "    def __init__(self):\n",
    "        self.stack_in = []  # 用于入栈操作\n",
    "        self.stack_out = []  # 用于出栈操作\n",
    "\n",
    "    def push(self, x):\n",
    "        \"\"\"\n",
    "        将元素 x 推到队列的末尾\n",
    "        :type x: int\n",
    "        :rtype: None\n",
    "        \"\"\"\n",
    "        self.stack_in.append(x)\n",
    "\n",
    "    def pop(self):\n",
    "        \"\"\"\n",
    "        从队列的开头移除并返回元素\n",
    "        :rtype: int\n",
    "        \"\"\"\n",
    "        self._transfer()\n",
    "        return self.stack_out.pop()\n",
    "\n",
    "    def peek(self):\n",
    "        \"\"\"\n",
    "        返回队列开头的元素\n",
    "        :rtype: int\n",
    "        \"\"\"\n",
    "        self._transfer()\n",
    "        return self.stack_out[-1]\n",
    "\n",
    "    def empty(self):\n",
    "        \"\"\"\n",
    "        如果队列为空，返回 True；否则，返回 False\n",
    "        :rtype: bool\n",
    "        \"\"\"\n",
    "        return not self.stack_in and not self.stack_out\n",
    "\n",
    "    def _transfer(self):\n",
    "        \"\"\"\n",
    "        将 stack_in 中的元素转移到 stack_out 中（如果 stack_out 为空）\n",
    "        \"\"\"\n",
    "        if not self.stack_out:\n",
    "            while self.stack_in:\n",
    "                self.stack_out.append(self.stack_in.pop())\n",
    "# param_4 = obj.empty()"
   ]
  },
  {
   "cell_type": "code",
   "execution_count": null,
   "metadata": {},
   "outputs": [],
   "source": []
  }
 ],
 "metadata": {
  "kernelspec": {
   "display_name": "base",
   "language": "python",
   "name": "python3"
  },
  "language_info": {
   "name": "python",
   "version": "3.12.2"
  }
 },
 "nbformat": 4,
 "nbformat_minor": 2
}
