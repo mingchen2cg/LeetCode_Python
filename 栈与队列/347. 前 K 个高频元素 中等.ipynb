{
 "cells": [
  {
   "cell_type": "code",
   "execution_count": 22,
   "metadata": {},
   "outputs": [],
   "source": [
    "class Solution(object):\n",
    "    def topKFrequent(self, nums, k):\n",
    "        \"\"\"\n",
    "        :type nums: List[int]\n",
    "        :type k: int\n",
    "        :rtype: List[int]\n",
    "        \"\"\"\n",
    "        cnt_dict = {}\n",
    "        for num in nums:\n",
    "            cnt_dict[num] = cnt_dict.get(num, 0) + 1 \n",
    "        sorted_keys = sorted(cnt_dict, key=lambda k: cnt_dict[k])\n",
    "\n",
    "        return sorted_keys[-k:]"
   ]
  },
  {
   "cell_type": "code",
   "execution_count": 23,
   "metadata": {},
   "outputs": [
    {
     "name": "stdout",
     "output_type": "stream",
     "text": [
      "[1, 9]\n"
     ]
    }
   ],
   "source": [
    "nums = [1,1,1,2,2,3,9,8,9,9]\n",
    "k = 2\n",
    "Solution_ = Solution()\n",
    "ans = Solution_.topKFrequent(nums, k)\n",
    "print(ans)"
   ]
  }
 ],
 "metadata": {
  "kernelspec": {
   "display_name": "base",
   "language": "python",
   "name": "python3"
  },
  "language_info": {
   "codemirror_mode": {
    "name": "ipython",
    "version": 3
   },
   "file_extension": ".py",
   "mimetype": "text/x-python",
   "name": "python",
   "nbconvert_exporter": "python",
   "pygments_lexer": "ipython3",
   "version": "3.12.2"
  }
 },
 "nbformat": 4,
 "nbformat_minor": 2
}
