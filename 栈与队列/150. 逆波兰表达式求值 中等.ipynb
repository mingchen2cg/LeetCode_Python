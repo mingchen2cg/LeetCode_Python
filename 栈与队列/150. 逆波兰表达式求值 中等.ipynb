{
 "cells": [
  {
   "cell_type": "code",
   "execution_count": 3,
   "metadata": {},
   "outputs": [],
   "source": [
    "class Solution(object):\n",
    "    def evalRPN(self, tokens):\n",
    "        \"\"\"\n",
    "        :type tokens: List[str]\n",
    "        :rtype: int\n",
    "        \"\"\"\n",
    "        operation =['+', '-', '*', '/']\n",
    "        stack = []\n",
    "        def calculate(op, a, b):\n",
    "            if op == '+':\n",
    "                return int(a + b)\n",
    "            elif op == '-':\n",
    "                return int(a - b)\n",
    "            elif op == '*':\n",
    "                return int(a * b)\n",
    "            elif op == '/':\n",
    "                return int(a / b)\n",
    "\n",
    "        for char in tokens:\n",
    "            if char in operation:\n",
    "                op1 = stack.pop()\n",
    "                op2 = stack.pop()\n",
    "                stack.append(calculate(char,op2,op1))\n",
    "            else:\n",
    "                stack.append(int(char))\n",
    "        \n",
    "        return stack[-1]"
   ]
  },
  {
   "cell_type": "code",
   "execution_count": 4,
   "metadata": {},
   "outputs": [
    {
     "name": "stdout",
     "output_type": "stream",
     "text": [
      "22\n"
     ]
    }
   ],
   "source": [
    "tokens = [\"10\",\"6\",\"9\",\"3\",\"+\",\"-11\",\"*\",\"/\",\"*\",\"17\",\"+\",\"5\",\"+\"]\n",
    "Solution_ = Solution()\n",
    "ans = Solution_.evalRPN(tokens)\n",
    "print(ans)"
   ]
  },
  {
   "cell_type": "code",
   "execution_count": 5,
   "metadata": {},
   "outputs": [
    {
     "data": {
      "text/plain": [
       "-1"
      ]
     },
     "execution_count": 5,
     "metadata": {},
     "output_type": "execute_result"
    }
   ],
   "source": []
  }
 ],
 "metadata": {
  "kernelspec": {
   "display_name": "base",
   "language": "python",
   "name": "python3"
  },
  "language_info": {
   "codemirror_mode": {
    "name": "ipython",
    "version": 3
   },
   "file_extension": ".py",
   "mimetype": "text/x-python",
   "name": "python",
   "nbconvert_exporter": "python",
   "pygments_lexer": "ipython3",
   "version": "3.12.2"
  }
 },
 "nbformat": 4,
 "nbformat_minor": 2
}
