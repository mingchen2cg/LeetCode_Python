{
 "cells": [
  {
   "cell_type": "code",
   "execution_count": 1,
   "metadata": {},
   "outputs": [],
   "source": [
    "class Solution(object):\n",
    "    def removeDuplicates(self, s, k):\n",
    "        \"\"\"\n",
    "        :type s: str\n",
    "        :type k: int\n",
    "        :rtype: str\n",
    "        \"\"\"\n",
    "        stack = []\n",
    "        for char in s:\n",
    "            if stack and stack[-1][0] == char:  # 如果栈顶字符与当前字符相同\n",
    "                stack[-1][1] += 1  # 更新计数\n",
    "                if stack[-1][1] == k:  # 如果计数等于 k，删除该字符\n",
    "                    stack.pop()\n",
    "            else:\n",
    "                stack.append([char, 1])  # 否则，将当前字符及其计数压入栈中\n",
    "\n",
    "        # 构建结果字符串\n",
    "        result = []\n",
    "        for char, count in stack:\n",
    "            result.append(char * count)\n",
    "        return ''.join(result)\n",
    "\n"
   ]
  },
  {
   "cell_type": "code",
   "execution_count": 5,
   "metadata": {},
   "outputs": [
    {
     "name": "stdout",
     "output_type": "stream",
     "text": [
      "96151686\n"
     ]
    }
   ],
   "source": [
    "Solution_ = Solution()\n",
    "s = \"deeedbbcccbdaa\"\n",
    "k = 2\n",
    "ans = Solution_.removeDuplicates(s,k)\n",
    "print(ans)"
   ]
  }
 ],
 "metadata": {
  "kernelspec": {
   "display_name": "base",
   "language": "python",
   "name": "python3"
  },
  "language_info": {
   "codemirror_mode": {
    "name": "ipython",
    "version": 3
   },
   "file_extension": ".py",
   "mimetype": "text/x-python",
   "name": "python",
   "nbconvert_exporter": "python",
   "pygments_lexer": "ipython3",
   "version": "3.12.2"
  }
 },
 "nbformat": 4,
 "nbformat_minor": 2
}
