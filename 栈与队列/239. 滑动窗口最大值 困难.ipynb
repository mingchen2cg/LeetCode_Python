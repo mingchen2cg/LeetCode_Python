{
 "cells": [
  {
   "cell_type": "code",
   "execution_count": 10,
   "metadata": {},
   "outputs": [],
   "source": [
    "class Solution(object):\n",
    "    def maxSlidingWindow(self, nums, k):\n",
    "        \"\"\"\n",
    "        :type nums: List[int]\n",
    "        :type k: int\n",
    "        :rtype: List[int]\n",
    "        \"\"\"\n",
    "        from collections import deque\n",
    "        result = []\n",
    "        window = deque()\n",
    "\n",
    "        for i, num in enumerate(nums):\n",
    "            # 移除不在窗口内的元素\n",
    "            while window and window[0] < i - k + 1:\n",
    "                window.popleft()\n",
    "            # 移除所有比当前元素小的元素\n",
    "            while window and nums[window[-1]] < num:\n",
    "                window.pop()\n",
    "            \n",
    "            # 将当前元素加入队列\n",
    "            window.append(i)\n",
    "            \n",
    "            # 当窗口大小达到k时，记录当前窗口的最大值\n",
    "            if i >= k -1:\n",
    "                result.append(nums[window[0]])\n",
    "        \n",
    "        return result\n",
    "\n",
    "\n",
    "\n"
   ]
  },
  {
   "cell_type": "code",
   "execution_count": 11,
   "metadata": {},
   "outputs": [
    {
     "name": "stdout",
     "output_type": "stream",
     "text": [
      "[1]\n"
     ]
    }
   ],
   "source": [
    "nums = [1]\n",
    "k = 1\n",
    "Solution_ = Solution()\n",
    "ans = Solution_.maxSlidingWindow(nums, k)\n",
    "print(ans )"
   ]
  },
  {
   "cell_type": "markdown",
   "metadata": {},
   "source": [
    "### 优化思路：\n",
    "##### 双端队列：我们使用一个双端队列来存储数组元素的索引。队列中的元素按照从大到小的顺序排列，且队列中的元素都在当前窗口内。\n",
    "##### 维护队列：\n",
    "- 当窗口滑动时，移除队列中不在当前窗口内的元素（即队列头部的元素）。\n",
    "- 对于新加入窗口的元素，从队列尾部开始移除所有比它小的元素，然后将它加入队列尾部。\n",
    "- 这样，队列的头部始终是当前窗口的最大值。\n",
    "##### 获取最大值：每次窗口滑动后，队列的头部元素就是当前窗口的最大值。"
   ]
  },
  {
   "cell_type": "code",
   "execution_count": null,
   "metadata": {},
   "outputs": [],
   "source": []
  }
 ],
 "metadata": {
  "kernelspec": {
   "display_name": "base",
   "language": "python",
   "name": "python3"
  },
  "language_info": {
   "codemirror_mode": {
    "name": "ipython",
    "version": 3
   },
   "file_extension": ".py",
   "mimetype": "text/x-python",
   "name": "python",
   "nbconvert_exporter": "python",
   "pygments_lexer": "ipython3",
   "version": "3.12.2"
  }
 },
 "nbformat": 4,
 "nbformat_minor": 2
}
