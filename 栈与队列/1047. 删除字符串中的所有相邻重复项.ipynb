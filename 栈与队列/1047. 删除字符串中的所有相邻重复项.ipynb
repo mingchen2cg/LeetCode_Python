{
 "cells": [
  {
   "cell_type": "code",
   "execution_count": 10,
   "metadata": {},
   "outputs": [],
   "source": [
    "class Solution(object):\n",
    "    def removeDuplicates(self, s):\n",
    "        \"\"\"\n",
    "        :type s: str\n",
    "        :rtype: str\n",
    "        \"\"\"\n",
    "        stack = []\n",
    "\n",
    "        for i in range(0, len(s)):\n",
    "            if len(stack) == 0:\n",
    "                stack.append(s[i])\n",
    "                continue\n",
    "            if s[i] == stack[-1]:\n",
    "                stack.pop()\n",
    "            else:\n",
    "                stack.append(s[i])\n",
    "        \n",
    "        return \"\".join(stack)\n"
   ]
  },
  {
   "cell_type": "code",
   "execution_count": null,
   "metadata": {},
   "outputs": [],
   "source": [
    "class Solution(object):\n",
    "    def removeDuplicates(self, s):\n",
    "        \"\"\"\n",
    "        :type s: str\n",
    "        :rtype: str\n",
    "        \"\"\"\n",
    "        stack = []\n",
    "        for char in s:\n",
    "            if stack and char == stack[-1]:\n",
    "                stack.pop()\n",
    "            else:\n",
    "                stack.append(char)\n",
    "        return \"\".join(stack)"
   ]
  },
  {
   "cell_type": "code",
   "execution_count": 12,
   "metadata": {},
   "outputs": [
    {
     "name": "stdout",
     "output_type": "stream",
     "text": [
      "ay\n"
     ]
    }
   ],
   "source": [
    "Solution_ = Solution()\n",
    "s = \"azxxzy\"\n",
    "ans = Solution_.removeDuplicates(s)\n",
    "print(ans)"
   ]
  }
 ],
 "metadata": {
  "kernelspec": {
   "display_name": "base",
   "language": "python",
   "name": "python3"
  },
  "language_info": {
   "codemirror_mode": {
    "name": "ipython",
    "version": 3
   },
   "file_extension": ".py",
   "mimetype": "text/x-python",
   "name": "python",
   "nbconvert_exporter": "python",
   "pygments_lexer": "ipython3",
   "version": "3.12.2"
  }
 },
 "nbformat": 4,
 "nbformat_minor": 2
}
