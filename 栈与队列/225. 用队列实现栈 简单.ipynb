{
 "cells": [
  {
   "cell_type": "code",
   "execution_count": 5,
   "metadata": {},
   "outputs": [],
   "source": [
    "class MyStack(object):\n",
    "    \n",
    "\n",
    "    def __init__(self):\n",
    "        import collections\n",
    "        self.queue1 = collections.deque()\n",
    "        self.queue2 = collections.deque()\n",
    "\n",
    "    def push(self, x):\n",
    "        \"\"\"\n",
    "        :type x: int\n",
    "        :rtype: None\n",
    "        \"\"\"\n",
    "        # 将元素压入非空队列\n",
    "        if self.queue1:\n",
    "            self.queue1.append(x)\n",
    "        else:\n",
    "            self.queue2.append(x)\n",
    "\n",
    "    def pop(self):\n",
    "        \"\"\"\n",
    "        :rtype: int\n",
    "        \"\"\"\n",
    "        # 确定哪个队列是非空的\n",
    "        if self.queue1:\n",
    "            source = self.queue1\n",
    "            target = self.queue2\n",
    "        else:\n",
    "            source = self.queue2\n",
    "            target = self.queue1\n",
    "        \n",
    "        # 将元素从源队列转移到目标队列，直到只剩下最后一个元素\n",
    "        while len(source) > 1:\n",
    "            target.append(source.popleft())\n",
    "        \n",
    "        # 返回并移除最后一个元素\n",
    "        return source.popleft()\n",
    "\n",
    "    def top(self):\n",
    "        \"\"\"\n",
    "        :rtype: int\n",
    "        \"\"\"\n",
    "        # 确定哪个队列是非空的\n",
    "        if self.queue1:\n",
    "            source = self.queue1\n",
    "            target = self.queue2\n",
    "        else:\n",
    "            source = self.queue2\n",
    "            target = self.queue1\n",
    "        \n",
    "        # 将元素从源队列转移到目标队列，直到只剩下最后一个元素\n",
    "        while len(source) > 1:\n",
    "            target.append(source.popleft())\n",
    "        \n",
    "        # 获取最后一个元素\n",
    "        top_element = source[0]\n",
    "        # 将其转移到目标队列\n",
    "        target.append(source.popleft())\n",
    "        \n",
    "        return top_element\n",
    "\n",
    "    def empty(self):\n",
    "        \"\"\"\n",
    "        :rtype: bool\n",
    "        \"\"\"\n",
    "        return not self.queue1 and not self.queue2"
   ]
  },
  {
   "cell_type": "code",
   "execution_count": 6,
   "metadata": {},
   "outputs": [],
   "source": [
    "stack = MyStack()"
   ]
  }
 ],
 "metadata": {
  "kernelspec": {
   "display_name": "base",
   "language": "python",
   "name": "python3"
  },
  "language_info": {
   "codemirror_mode": {
    "name": "ipython",
    "version": 3
   },
   "file_extension": ".py",
   "mimetype": "text/x-python",
   "name": "python",
   "nbconvert_exporter": "python",
   "pygments_lexer": "ipython3",
   "version": "3.12.2"
  }
 },
 "nbformat": 4,
 "nbformat_minor": 2
}
