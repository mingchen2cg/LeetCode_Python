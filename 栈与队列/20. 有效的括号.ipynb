{
 "cells": [
  {
   "cell_type": "code",
   "execution_count": 3,
   "metadata": {},
   "outputs": [],
   "source": [
    "class Solution(object):\n",
    "    def isValid(self, s):\n",
    "        \"\"\"\n",
    "        :type s: str\n",
    "        :rtype: bool\n",
    "        \"\"\"\n",
    "        right_dict = {')': 0, '}': 1, ']': 2}\n",
    "        left_dict = {'(': 0, '{': 1, '[': 2}\n",
    "\n",
    "        stack = []\n",
    "        for i in range(len(s)):\n",
    "            # 如果是左括号，则入栈\n",
    "            if s[i] in left_dict.keys():\n",
    "                stack.append(s[i])\n",
    "            # 如果是右括号\n",
    "            else:\n",
    "                # 检查栈是否为空\n",
    "                # 如果栈是空的，说明只有右括号，闭合不了\n",
    "                if len(stack) == 0:\n",
    "                    return False\n",
    "                else:\n",
    "                    # 栈不为空，出栈一个左括号，并检查是否配对\n",
    "                    tmp = stack.pop()\n",
    "                    if left_dict[tmp] != right_dict[s[i]]:\n",
    "                        return False\n",
    "\n",
    "        return len(stack) == 0\n",
    "\n",
    "        "
   ]
  },
  {
   "cell_type": "code",
   "execution_count": 6,
   "metadata": {},
   "outputs": [
    {
     "name": "stdout",
     "output_type": "stream",
     "text": [
      "True\n"
     ]
    }
   ],
   "source": [
    "Solution_ = Solution()\n",
    "s = \"()[]{}\"\n",
    "ans = Solution_.isValid(s)\n",
    "print(ans)"
   ]
  }
 ],
 "metadata": {
  "kernelspec": {
   "display_name": "base",
   "language": "python",
   "name": "python3"
  },
  "language_info": {
   "codemirror_mode": {
    "name": "ipython",
    "version": 3
   },
   "file_extension": ".py",
   "mimetype": "text/x-python",
   "name": "python",
   "nbconvert_exporter": "python",
   "pygments_lexer": "ipython3",
   "version": "3.12.2"
  }
 },
 "nbformat": 4,
 "nbformat_minor": 2
}
