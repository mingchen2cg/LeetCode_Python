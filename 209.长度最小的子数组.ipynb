{
 "cells": [
  {
   "cell_type": "code",
   "execution_count": null,
   "metadata": {},
   "outputs": [],
   "source": [
    "class Solution(object):\n",
    "    def minSubArrayLen(self, target, nums):\n",
    "        \"\"\"\n",
    "        :type target: int\n",
    "        :type nums: List[int]\n",
    "        :rtype: int\n",
    "        \"\"\"\n",
    "        if sum(nums)<target:\n",
    "            return 0\n",
    "        \n",
    "        i = 0  # 滑动窗口的起始位置 \n",
    "        sum = 0  # 滑动窗口内的元素和\n",
    "        subLength = 0  # 滑动窗口的长度\n",
    "        ans = 10000+1 # 题目中结果的最大范围  \n",
    "\n",
    "        for j in range(len(nums)):\n",
    "            sum += nums[j] \n",
    "\n",
    "            while sum >= target:\n",
    "                subLength = j - i + 1\n",
    "\n",
    "                ans = ans if ans < subLength else subLength\n",
    "\n",
    "                sum = sum - nums[i]\n",
    "                i += 1\n",
    "\n",
    "                # print(i,j,sum) \n",
    "\n",
    "        ans = ans if ans < 10000+1 else  0 \n",
    "\n",
    "        return ans\n",
    "\n",
    "                \n"
   ]
  },
  {
   "cell_type": "code",
   "execution_count": 6,
   "metadata": {},
   "outputs": [
    {
     "name": "stdout",
     "output_type": "stream",
     "text": [
      "1 3 6\n",
      "2 4 7\n",
      "3 4 6\n",
      "4 5 7\n",
      "5 5 3\n",
      "2\n"
     ]
    }
   ],
   "source": [
    "\n",
    "nums = [2,3,1,2,4,3]\n",
    "target = 7 \n",
    "solution = Solution()  # 实例化 Solution 类\n",
    "ans = solution.minSubArrayLen(target=target, nums=nums)  # 通过实例调用方法\n",
    "print(ans)"
   ]
  },
  {
   "cell_type": "code",
   "execution_count": null,
   "metadata": {},
   "outputs": [],
   "source": [
    "class Solution(object):\n",
    "    def minSubArrayLen(self, target, nums):\n",
    "        \"\"\"\n",
    "        :type target: int\n",
    "        :type nums: List[int]\n",
    "        :rtype: int\n",
    "        \"\"\"\n",
    "        i = 0  # 滑动窗口左指针\n",
    "        summ = 0\n",
    "        ans = 100000 + 1\n",
    "\n",
    "        for j in range(len(nums)):\n",
    "            summ += nums[j]\n",
    "\n",
    "            while summ >= target:\n",
    "                subLength = j - i + 1 \n",
    "                ans = min(ans, j - i + 1 )\n",
    "\n",
    "                summ -= nums[i] \n",
    "                i += 1\n",
    "            \n",
    "        ans = ans if ans < 100000 + 1 else 0\n",
    "\n",
    "        return ans\n",
    "\n",
    "\n",
    "\n"
   ]
  },
  {
   "cell_type": "code",
   "execution_count": 10,
   "metadata": {},
   "outputs": [
    {
     "name": "stdout",
     "output_type": "stream",
     "text": [
      "2\n"
     ]
    }
   ],
   "source": [
    "\n",
    "nums = [2,3,1,2,4,3]\n",
    "target = 7 \n",
    "solution = Solution()  # 实例化 Solution 类\n",
    "ans = solution.minSubArrayLen(target=target, nums=nums)  # 通过实例调用方法\n",
    "print(ans)\n"
   ]
  }
 ],
 "metadata": {
  "kernelspec": {
   "display_name": "base",
   "language": "python",
   "name": "python3"
  },
  "language_info": {
   "codemirror_mode": {
    "name": "ipython",
    "version": 3
   },
   "file_extension": ".py",
   "mimetype": "text/x-python",
   "name": "python",
   "nbconvert_exporter": "python",
   "pygments_lexer": "ipython3",
   "version": "3.12.7"
  }
 },
 "nbformat": 4,
 "nbformat_minor": 2
}
