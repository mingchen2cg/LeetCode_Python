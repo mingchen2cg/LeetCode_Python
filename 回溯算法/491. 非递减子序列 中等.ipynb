{
 "cells": [
  {
   "cell_type": "code",
   "execution_count": 1,
   "metadata": {},
   "outputs": [],
   "source": [
    "class Solution(object):\n",
    "    def findSubsequences(self, nums):\n",
    "        \"\"\"\n",
    "        :type nums: List[int]\n",
    "        :rtype: List[List[int]]\n",
    "        \"\"\"\n",
    "        result = []\n",
    "        n = len(nums)\n",
    "\n",
    "        def backtrack(start, path):\n",
    "            if len(path) >= 2 and path == sorted(path) and path not in result:\n",
    "                result.append(path[:])\n",
    "\n",
    "            for i in range(start, n):\n",
    "                path.append(nums[i])\n",
    "                backtrack(i+1, path)\n",
    "                path.pop()\n",
    "\n",
    "        backtrack(0, [])\n",
    "        return result"
   ]
  },
  {
   "cell_type": "code",
   "execution_count": null,
   "metadata": {},
   "outputs": [],
   "source": [
    "class Solution(object):\n",
    "    def findSubsequences(self, nums):\n",
    "        \"\"\"\n",
    "        :type nums: List[int]\n",
    "        :rtype: List[List[int]]\n",
    "        \"\"\"\n",
    "        def backtrack(start, path):\n",
    "            # 如果当前路径的长度大于等于2，说明找到了一个有效的子序列，将其加入结果集\n",
    "            if len(path) >= 2:\n",
    "                result.append(path[:])\n",
    "\n",
    "            # 用于记录当前层已经使用过的数字，避免重复\n",
    "            used = set()\n",
    "\n",
    "            # 从start位置开始遍历数组\n",
    "            for i in range(start, len(nums)):\n",
    "                # 如果当前数字已经在当前层使用过，跳过\n",
    "                if nums[i] in used:\n",
    "                    continue\n",
    "\n",
    "                # 如果当前路径为空，或者当前数字大于等于路径中的最后一个数字\n",
    "                # 说明可以将其加入路径中，形成一个新的递增子序列\n",
    "                if not path or nums[i] >= path[-1]:\n",
    "                    # 将当前数字标记为已使用\n",
    "                    used.add(nums[i])\n",
    "                    # 将当前数字加入路径\n",
    "                    path.append(nums[i])\n",
    "                    # 递归调用，继续寻找下一个数字\n",
    "                    backtrack(i + 1, path)\n",
    "                    # 回溯，移除最后一个数字，尝试其他可能的组合\n",
    "                    path.pop()\n",
    "\n",
    "        # 用于存储所有符合条件的递增子序列\n",
    "        result = []\n",
    "        # 从数组的第一个位置开始回溯\n",
    "        backtrack(0, [])\n",
    "        # 返回结果\n",
    "        return result"
   ]
  }
 ],
 "metadata": {
  "kernelspec": {
   "display_name": "base",
   "language": "python",
   "name": "python3"
  },
  "language_info": {
   "codemirror_mode": {
    "name": "ipython",
    "version": 3
   },
   "file_extension": ".py",
   "mimetype": "text/x-python",
   "name": "python",
   "nbconvert_exporter": "python",
   "pygments_lexer": "ipython3",
   "version": "3.12.2"
  }
 },
 "nbformat": 4,
 "nbformat_minor": 2
}
