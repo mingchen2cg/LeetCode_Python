{
 "cells": [
  {
   "cell_type": "markdown",
   "metadata": {},
   "source": [
    "分析完过程，回溯算法模板框架如下\n",
    "\n",
    "```c++\n",
    "void backtracking(参数) {\n",
    "    if (终止条件) {\n",
    "        存放结果;\n",
    "        return;\n",
    "    }\n",
    "\n",
    "    for (选择：本层集合中元素（树中节点孩子的数量就是集合的大小）) {\n",
    "        处理节点;\n",
    "        backtracking(路径，选择列表); // 递归\n",
    "        回溯，撤销处理结果\n",
    "    }\n",
    "}\n",
    "```\n",
    "\n"
   ]
  },
  {
   "cell_type": "markdown",
   "metadata": {},
   "source": [
    "![Local Image](/Users/mingchen/Desktop/LeetCode_Python%20/image/77.%20组合%20中等.png)\n"
   ]
  },
  {
   "cell_type": "code",
   "execution_count": null,
   "metadata": {},
   "outputs": [],
   "source": [
    "class Solution(object):\n",
    "    def combine(self, n, k):\n",
    "        \"\"\"\n",
    "        :type n: int\n",
    "        :type k: int\n",
    "        :rtype: List[List[int]]\n",
    "        \"\"\"\n",
    "        def backtrack(start, path):\n",
    "            # 如果当前路径长度等于k，说明找到了一个有效的组合\n",
    "            if len(path) == k:\n",
    "                result.append(path[:])  # 将当前路径的副本加入结果\n",
    "                return\n",
    "            \n",
    "            # 从start开始遍历，避免重复组合\n",
    "            for i in range(start, n + 1):\n",
    "                path.append(i)  # 选择当前数字\n",
    "                backtrack(i + 1, path)  # 递归选择下一个数字\n",
    "                path.pop()  # 撤销选择，回溯\n",
    "        \n",
    "        result = []\n",
    "        backtrack(1, [])\n",
    "        return result"
   ]
  },
  {
   "cell_type": "markdown",
   "metadata": {},
   "source": [
    "## 剪枝优化\n"
   ]
  },
  {
   "cell_type": "code",
   "execution_count": null,
   "metadata": {},
   "outputs": [],
   "source": [
    "class Solution:\n",
    "    def combine(self, n, k):\n",
    "        result = []  # 存储最终结果\n",
    "        path = []    # 存储当前路径\n",
    "\n",
    "        def backtracking(startIndex):\n",
    "            # 如果当前路径长度等于k，说明找到了一个有效的组合\n",
    "            if len(path) == k:\n",
    "                result.append(path[:])  # 将当前路径的副本加入结果\n",
    "                return\n",
    "            \n",
    "            # 从startIndex开始遍历，避免重复组合\n",
    "            # 优化：剪枝，减少不必要的递归\n",
    "            for i in range(startIndex, n - (k - len(path)) + 2):\n",
    "                path.append(i)  # 选择当前数字\n",
    "                backtracking(i + 1)  # 递归选择下一个数字\n",
    "                path.pop()  # 撤销选择，回溯\n",
    "\n",
    "        backtracking(1)  # 从1开始递归\n",
    "        return result\n",
    "\n",
    "        \n",
    "\n",
    "        \n",
    "        "
   ]
  }
 ],
 "metadata": {
  "kernelspec": {
   "display_name": "base",
   "language": "python",
   "name": "python3"
  },
  "language_info": {
   "name": "python",
   "version": "3.12.2"
  }
 },
 "nbformat": 4,
 "nbformat_minor": 2
}
