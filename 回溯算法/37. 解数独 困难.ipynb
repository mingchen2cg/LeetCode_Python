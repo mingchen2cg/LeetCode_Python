{
 "cells": [
  {
   "cell_type": "markdown",
   "metadata": {},
   "source": [
    "### 超时 但是 思路清晰"
   ]
  },
  {
   "cell_type": "code",
   "execution_count": 1,
   "metadata": {},
   "outputs": [],
   "source": [
    "class Solution(object):\n",
    "    def solveSudoku(self, board):\n",
    "        \"\"\"\n",
    "        :type board: List[List[str]]\n",
    "        :rtype: None Do not return anything, modify board in-place instead.\n",
    "        \"\"\"\n",
    "        def is_valid(board, row, col, num):\n",
    "            # Check if num is valid in the row\n",
    "            for i in range(9):\n",
    "                if board[row][i] == num:\n",
    "                    return False\n",
    "            # Check if num is valid in the column\n",
    "            for i in range(9):\n",
    "                if board[i][col] == num:\n",
    "                    return False\n",
    "            # Check if num is valid in the 3x3 subgrid\n",
    "            start_row, start_col = 3 * (row // 3), 3 * (col // 3)\n",
    "            for i in range(start_row, start_row + 3):\n",
    "                for j in range(start_col, start_col + 3):\n",
    "                    if board[i][j] == num:\n",
    "                        return False\n",
    "            return True\n",
    "\n",
    "        def solve(board):\n",
    "            # Try to find an empty spot to fill\n",
    "            for i in range(9):\n",
    "                for j in range(9):\n",
    "                    if board[i][j] == '.':\n",
    "                        # Try digits 1 to 9\n",
    "                        for num in '123456789':\n",
    "                            if is_valid(board, i, j, num):\n",
    "                                board[i][j] = num\n",
    "                                if solve(board):  # Recurse\n",
    "                                    return True\n",
    "                                # Backtrack if no valid number found\n",
    "                                board[i][j] = '.'\n",
    "                        return False  # No valid number found, backtrack\n",
    "            return True  # No empty cells left, solution found\n",
    "\n",
    "        solve(board)\n"
   ]
  },
  {
   "cell_type": "code",
   "execution_count": 5,
   "metadata": {},
   "outputs": [],
   "source": [
    "class Solution(object):\n",
    "    def solveSudoku(self, board):\n",
    "        \"\"\"\n",
    "        :type board: List[List[str]]\n",
    "        :rtype: None Do not return anything, modify board in-place instead.\n",
    "        \"\"\"\n",
    "        def is_valid(board, row, col, num):\n",
    "            # Check if num is valid in the row\n",
    "            for i in range(9):\n",
    "                if board[row][i] == num:\n",
    "                    return False\n",
    "            # Check if num is valid in the column\n",
    "            for i in range(9):\n",
    "                if board[i][col] == num:\n",
    "                    return False\n",
    "            # Check if num is valid in the 3x3 subgird\n",
    "            start_row = (row // 3) * 3\n",
    "            start_col = (col // 3) * 3\n",
    "            for i in range(start_row, start_row+3):\n",
    "                for j in range(start_col, start_col+3):\n",
    "                    if board[i][j] == num:\n",
    "                        return False\n",
    "            return True\n",
    "\n",
    "        def solve(board):\n",
    "            # Find the empty spot with the minimum remaining values\n",
    "            min_pos = None\n",
    "            min_choices = 10\n",
    "            for i in range(9):\n",
    "                for j in range(9):\n",
    "                    if board[i][j] == '.':\n",
    "                        choices = set('123456789')\n",
    "                        # Check row, columm and 3x3 sugird for possible numbers\n",
    "                        for k in range(9):\n",
    "                            if board[i][k] != '.':\n",
    "                                # Remove an element from a set if it is a member.\n",
    "                                choices.discard(board[i][k])\n",
    "                            if board[k][j] != '.':\n",
    "                                choices.discard(board[k][j])\n",
    "                            sub_row = 3 * (i // 3) + k // 3\n",
    "                            sub_col = 3 * (j // 3) + k % 3\n",
    "                            if board[sub_row][sub_col] != '.':\n",
    "                                choices.discard(board[sub_row][sub_col])\n",
    "                        if len(choices) < min_choices:\n",
    "                            min_choices = len(choices)\n",
    "                            min_pos = (i, j, choices)\n",
    "            if not min_pos:\n",
    "                return True\n",
    "            i, j, choices = min_pos\n",
    "            for num in choices:\n",
    "                if is_valid(board, i, j, num):\n",
    "                    board[i][j] = num\n",
    "                    if solve(board):\n",
    "                        return True\n",
    "                    board[i][j] = '.'\n",
    "\n",
    "            return False\n",
    "\n",
    "        solve(board)"
   ]
  },
  {
   "cell_type": "code",
   "execution_count": 6,
   "metadata": {},
   "outputs": [
    {
     "name": "stdout",
     "output_type": "stream",
     "text": [
      "[['7', '2', '1', '8', '5', '3', '9', '4', '6'], ['4', '9', '5', '6', '1', '7', '8', '3', '2'], ['8', '3', '6', '4', '2', '9', '7', '5', '1'], ['9', '6', '7', '3', '8', '4', '1', '2', '5'], ['2', '1', '4', '7', '6', '5', '3', '9', '8'], ['3', '5', '8', '2', '9', '1', '6', '7', '4'], ['1', '7', '2', '5', '3', '6', '4', '8', '9'], ['6', '8', '3', '9', '4', '2', '5', '1', '7'], ['5', '4', '9', '1', '7', '8', '2', '6', '3']]\n"
     ]
    }
   ],
   "source": [
    "board = [[\".\",\".\",\".\",\".\",\".\",\".\",\".\",\".\",\".\"],[\".\",\"9\",\".\",\".\",\"1\",\".\",\".\",\"3\",\".\"],\n",
    "         [\".\",\".\",\"6\",\".\",\"2\",\".\",\"7\",\".\",\".\"],[\".\",\".\",\".\",\"3\",\".\",\"4\",\".\",\".\",\".\"],\n",
    "         [\"2\",\"1\",\".\",\".\",\".\",\".\",\".\",\"9\",\"8\"],[\".\",\".\",\".\",\".\",\".\",\".\",\".\",\".\",\".\"],\n",
    "         [\".\",\".\",\"2\",\"5\",\".\",\"6\",\"4\",\".\",\".\"],[\".\",\"8\",\".\",\".\",\".\",\".\",\".\",\"1\",\".\"],\n",
    "         [\".\",\".\",\".\",\".\",\".\",\".\",\".\",\".\",\".\"]]\n",
    "\n",
    "Solution_ = Solution()\n",
    "ans = Solution_.solveSudoku(board)\n",
    "print(board)"
   ]
  }
 ],
 "metadata": {
  "kernelspec": {
   "display_name": "base",
   "language": "python",
   "name": "python3"
  },
  "language_info": {
   "codemirror_mode": {
    "name": "ipython",
    "version": 3
   },
   "file_extension": ".py",
   "mimetype": "text/x-python",
   "name": "python",
   "nbconvert_exporter": "python",
   "pygments_lexer": "ipython3",
   "version": "3.12.2"
  }
 },
 "nbformat": 4,
 "nbformat_minor": 2
}
