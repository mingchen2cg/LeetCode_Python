{
 "cells": [
  {
   "cell_type": "code",
   "execution_count": null,
   "metadata": {},
   "outputs": [],
   "source": [
    "class Solution(object):\n",
    "    def subsetsWithDup(self, nums):\n",
    "        \"\"\"\n",
    "        :type nums: List[int]\n",
    "        :rtype: List[List[int]]\n",
    "        \"\"\"\n",
    "        result = []\n",
    "        nums.sort()\n",
    "        n = len(nums)\n",
    "\n",
    "        def backtrack(start, path):\n",
    "            result.append(path[:])\n",
    "\n",
    "            for i in range(start, n):\n",
    "                # 跳过重复元素\n",
    "                if i > start and nums[i] == nums[i - 1]:\n",
    "                    continue\n",
    "\n",
    "                path.append(nums[i])\n",
    "                backtrack(i+1, path)\n",
    "                path.pop()\n",
    "\n",
    "        backtrack(0, [])\n",
    "        return result"
   ]
  }
 ],
 "metadata": {
  "kernelspec": {
   "display_name": "base",
   "language": "python",
   "name": "python3"
  },
  "language_info": {
   "name": "python",
   "version": "3.12.2"
  }
 },
 "nbformat": 4,
 "nbformat_minor": 2
}
