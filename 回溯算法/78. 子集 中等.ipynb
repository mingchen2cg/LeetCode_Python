{
 "cells": [
  {
   "cell_type": "code",
   "execution_count": null,
   "metadata": {},
   "outputs": [],
   "source": [
    "class Solution(object):\n",
    "    def subsets(self, nums):\n",
    "        \"\"\"\n",
    "        :type nums: List[int]\n",
    "        :rtype: List[List[int]]\n",
    "        \"\"\"\n",
    "        n = len(nums)\n",
    "        result = []\n",
    "\n",
    "        def backtrack(start, path):\n",
    "            result.append(path[:])\n",
    "\n",
    "            for i in range(start, n):\n",
    "                path.append(nums[i])\n",
    "                backtrack(i + 1, path)\n",
    "                path.pop()\n",
    "\n",
    "        backtrack(0, [])\n",
    "        return result"
   ]
  },
  {
   "cell_type": "code",
   "execution_count": null,
   "metadata": {},
   "outputs": [],
   "source": [
    "class Solution(object):\n",
    "    def subsets(self, nums):\n",
    "        \"\"\"\n",
    "        :type nums: List[int]\n",
    "        :rtype: List[List[int]]\n",
    "        \"\"\"\n",
    "        def backtrack(start, path):\n",
    "            # 将当前路径加入结果集\n",
    "            result.append(path[:])\n",
    "            # 遍历数组中的每个元素\n",
    "            for i in range(start, len(nums)):\n",
    "                # 选择当前元素\n",
    "                path.append(nums[i])\n",
    "                # 递归处理下一个元素\n",
    "                backtrack(i + 1, path)\n",
    "                # 回溯，撤销选择\n",
    "                path.pop()\n",
    "        \n",
    "        result = []\n",
    "        backtrack(0, [])\n",
    "        return result\n"
   ]
  }
 ],
 "metadata": {
  "kernelspec": {
   "display_name": "base",
   "language": "python",
   "name": "python3"
  },
  "language_info": {
   "name": "python",
   "version": "3.12.2"
  }
 },
 "nbformat": 4,
 "nbformat_minor": 2
}
