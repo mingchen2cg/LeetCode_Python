{
 "cells": [
  {
   "cell_type": "code",
   "execution_count": 5,
   "metadata": {},
   "outputs": [],
   "source": [
    "class Solution(object):\n",
    "    def combinationSum3(self, k, n):\n",
    "        \"\"\"\n",
    "        :type k: int\n",
    "        :type n: int\n",
    "        :rtype: List[List[int]]\n",
    "        \"\"\"\n",
    "        nums = [1, 2, 3, 4, 5, 6, 7, 8, 9]\n",
    "\n",
    "        def backtracking(path, nums):\n",
    "            if len(path) == k and sum(path) == n:\n",
    "                result.append(sorted(path[:]))\n",
    "                return\n",
    "            elif len(path) > k or sum(path) > n:\n",
    "                return\n",
    "            \n",
    "            for i in range(len(nums)):\n",
    "                path.append(nums[i])\n",
    "                backtracking(path, nums[:i] + nums[i+1:])\n",
    "                path.pop()\n",
    "\n",
    "        result = []\n",
    "        backtracking([],nums)\n",
    "        unique_lists = [list(t) for t in set(tuple(lst) for lst in result)]\n",
    "        return unique_lists"
   ]
  },
  {
   "cell_type": "code",
   "execution_count": 6,
   "metadata": {},
   "outputs": [
    {
     "name": "stdout",
     "output_type": "stream",
     "text": [
      "[[1, 2, 4]]\n"
     ]
    }
   ],
   "source": [
    "k = 3\n",
    "n = 7\n",
    "Solution_ = Solution()\n",
    "ans = Solution_.combinationSum3(k, n)\n",
    "print(ans)"
   ]
  },
  {
   "cell_type": "markdown",
   "metadata": {},
   "source": [
    "# 剪枝之后"
   ]
  },
  {
   "cell_type": "code",
   "execution_count": 7,
   "metadata": {},
   "outputs": [],
   "source": [
    "class Solution(object):\n",
    "    def combinationSum3(self, k, n):\n",
    "        \"\"\"\n",
    "        :type k: int\n",
    "        :type n: int\n",
    "        :rtype: List[List[int]]\n",
    "        \"\"\"\n",
    "        nums = [1, 2, 3, 4, 5, 6, 7, 8, 9]\n",
    "\n",
    "        def backtracking(path, nums):\n",
    "            if len(path) == k and sum(path) == n:\n",
    "                result.append(path[:])\n",
    "                return\n",
    "            elif len(path) > k or sum(path) > n:\n",
    "                return\n",
    "            \n",
    "            for i in range(len(nums)):\n",
    "                path.append(nums[i])\n",
    "                backtracking(path, nums[i+1:])\n",
    "                path.pop()\n",
    "\n",
    "        result = []\n",
    "        backtracking([],nums)\n",
    "        \n",
    "        return result"
   ]
  },
  {
   "cell_type": "code",
   "execution_count": 8,
   "metadata": {},
   "outputs": [
    {
     "name": "stdout",
     "output_type": "stream",
     "text": [
      "[[1, 2, 4]]\n"
     ]
    }
   ],
   "source": [
    "k = 3\n",
    "n = 7\n",
    "Solution_ = Solution()\n",
    "ans = Solution_.combinationSum3(k, n)\n",
    "print(ans)"
   ]
  }
 ],
 "metadata": {
  "kernelspec": {
   "display_name": "base",
   "language": "python",
   "name": "python3"
  },
  "language_info": {
   "codemirror_mode": {
    "name": "ipython",
    "version": 3
   },
   "file_extension": ".py",
   "mimetype": "text/x-python",
   "name": "python",
   "nbconvert_exporter": "python",
   "pygments_lexer": "ipython3",
   "version": "3.12.2"
  }
 },
 "nbformat": 4,
 "nbformat_minor": 2
}
