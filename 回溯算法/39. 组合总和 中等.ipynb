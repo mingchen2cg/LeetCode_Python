{
 "cells": [
  {
   "cell_type": "code",
   "execution_count": 9,
   "metadata": {},
   "outputs": [],
   "source": [
    "class Solution(object):\n",
    "    def combinationSum(self, candidates, target):\n",
    "        \"\"\"\n",
    "        :type candidates: List[int]\n",
    "        :type target: int\n",
    "        :rtype: List[List[int]]\n",
    "        \"\"\"\n",
    "\n",
    "        def backtrack(combination, candidates):\n",
    "            if sum(combination) == target:\n",
    "                result.append(sorted(combination[:]))\n",
    "                return\n",
    "\n",
    "            if sum(combination) > target:\n",
    "                return\n",
    "\n",
    "            for element in candidates:\n",
    "                combination.append(element)\n",
    "                backtrack(combination, candidates)\n",
    "                combination.pop()\n",
    "\n",
    "        result = []  # 返回的结果\n",
    "        backtrack([], candidates)\n",
    "        unique_lists = [list(t) for t in set(tuple(lst) for lst in result)]\n",
    "        return unique_lists"
   ]
  },
  {
   "cell_type": "code",
   "execution_count": 10,
   "metadata": {},
   "outputs": [
    {
     "name": "stdout",
     "output_type": "stream",
     "text": [
      "[[2, 2, 3], [7]]\n"
     ]
    }
   ],
   "source": [
    "candidates = [2, 3, 6, 7]\n",
    "target = 7\n",
    "Solution_ = Solution()\n",
    "ans = Solution_.combinationSum(candidates, target)\n",
    "print(ans)"
   ]
  },
  {
   "cell_type": "code",
   "execution_count": null,
   "metadata": {},
   "outputs": [],
   "source": [
    "class Solution(object):\n",
    "    def combinationSum(self, candidates, target):\n",
    "        \"\"\"\n",
    "        :type candidates: List[int]\n",
    "        :type target: int\n",
    "        :rtype: List[List[int]]\n",
    "        \"\"\"\n",
    "        def backtrack(start, path, remaining):\n",
    "            # 如果剩余目标为0，说明找到了一个有效的组合\n",
    "            if remaining == 0:\n",
    "                result.append(path)\n",
    "                return\n",
    "            # 遍历候选数字\n",
    "            for i in range(start, len(candidates)):\n",
    "                # 如果当前数字大于剩余目标，直接跳过\n",
    "                if candidates[i] > remaining:\n",
    "                    break\n",
    "                # 选择当前数字，并继续递归\n",
    "                backtrack(i, path + [candidates[i]], remaining - candidates[i])\n",
    "\n",
    "        # 对候选数组进行排序\n",
    "        candidates.sort()\n",
    "        result = []\n",
    "        backtrack(0, [], target)\n",
    "        return result\n"
   ]
  }
 ],
 "metadata": {
  "kernelspec": {
   "display_name": "base",
   "language": "python",
   "name": "python3"
  },
  "language_info": {
   "codemirror_mode": {
    "name": "ipython",
    "version": 3
   },
   "file_extension": ".py",
   "mimetype": "text/x-python",
   "name": "python",
   "nbconvert_exporter": "python",
   "pygments_lexer": "ipython3",
   "version": "3.12.2"
  }
 },
 "nbformat": 4,
 "nbformat_minor": 2
}
