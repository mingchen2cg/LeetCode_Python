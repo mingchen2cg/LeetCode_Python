{
 "cells": [
  {
   "cell_type": "markdown",
   "metadata": {},
   "source": [
    "# 超时"
   ]
  },
  {
   "cell_type": "code",
   "execution_count": 20,
   "metadata": {},
   "outputs": [],
   "source": [
    "class Solution(object):\n",
    "    def combinationSum2(self, candidates, target):\n",
    "        \"\"\"\n",
    "        :type candidates: List[int]\n",
    "        :type target: int\n",
    "        :rtype: List[List[int]]\n",
    "        \"\"\"\n",
    "\n",
    "        def backtrack(path, candidates, remain):\n",
    "\n",
    "            if remain == 0:\n",
    "                if path[:] not in result:  # 这里慢了\n",
    "                    result.append(path[:])\n",
    "                return\n",
    "            if remain < 0:\n",
    "                return\n",
    "\n",
    "            for i in range(len(candidates)):  # 缺少剪枝\n",
    "                path.append(candidates[i])\n",
    "                backtrack(path, candidates[i+1:], remain - candidates[i])\n",
    "                path.pop()\n",
    "\n",
    "        candidates.sort()\n",
    "        result = []\n",
    "        backtrack([], candidates, target)\n",
    "        return result"
   ]
  },
  {
   "cell_type": "code",
   "execution_count": 21,
   "metadata": {},
   "outputs": [
    {
     "name": "stdout",
     "output_type": "stream",
     "text": [
      "25\n",
      "[]\n"
     ]
    }
   ],
   "source": [
    "candidates =[1,1,1,1,1,1,1,1,1,1,1,1,1,1,1,1,1,1,1,1,1,1,1,1,1]\n",
    "print(sum(candidates))\n",
    "target = 27\n",
    "Solution_ = Solution()\n",
    "ans = Solution_.combinationSum2(candidates, target)\n",
    "print(ans)"
   ]
  },
  {
   "cell_type": "code",
   "execution_count": null,
   "metadata": {},
   "outputs": [],
   "source": [
    "class Solution(object):\n",
    "    def combinationSum2(self, candidates, target):\n",
    "        \"\"\"\n",
    "        :type candidates: List[int]\n",
    "        :type target: int\n",
    "        :rtype: List[List[int]]\n",
    "        \"\"\"\n",
    "        def backtrack(start, path, remain):\n",
    "            if remain == 0:\n",
    "                result.append(path[:])  # 添加当前组合\n",
    "                return\n",
    "            if remain < 0:\n",
    "                return\n",
    "\n",
    "            for i in range(start, len(candidates)):\n",
    "                # 跳过重复元素\n",
    "                if i > start and candidates[i] == candidates[i - 1]:\n",
    "                    continue\n",
    "                # 剪枝：如果当前元素已经大于 remain，后面的元素更大，直接退出\n",
    "                if candidates[i] > remain:\n",
    "                    break\n",
    "                # 选择当前元素\n",
    "                path.append(candidates[i])\n",
    "                # 递归到下一层，注意 start 从 i+1 开始，避免重复使用元素\n",
    "                backtrack(i + 1, path, remain - candidates[i])\n",
    "                # 撤销选择\n",
    "                path.pop()\n",
    "\n",
    "        candidates.sort()  # 排序，方便去重和剪枝\n",
    "        result = []\n",
    "        backtrack(0, [], target)\n",
    "        return result"
   ]
  }
 ],
 "metadata": {
  "kernelspec": {
   "display_name": "base",
   "language": "python",
   "name": "python3"
  },
  "language_info": {
   "codemirror_mode": {
    "name": "ipython",
    "version": 3
   },
   "file_extension": ".py",
   "mimetype": "text/x-python",
   "name": "python",
   "nbconvert_exporter": "python",
   "pygments_lexer": "ipython3",
   "version": "3.12.2"
  }
 },
 "nbformat": 4,
 "nbformat_minor": 2
}
