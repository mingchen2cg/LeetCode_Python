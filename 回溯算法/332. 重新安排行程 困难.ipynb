{
 "cells": [
  {
   "cell_type": "code",
   "execution_count": null,
   "metadata": {},
   "outputs": [],
   "source": [
    "class Solution(object):\n",
    "    def findItinerary(self, tickets):\n",
    "\n",
    "        self.result = []\n",
    "\n",
    "        # 定义邻接表\n",
    "        self.AdjacencyList = {}\n",
    "        # 按照 目的地的字母顺序 进行排序，确保字典序最小的行程优先被访问。\n",
    "        tickets.sort(key=lambda x: x[1])\n",
    "\n",
    "        # 构建邻接表\n",
    "        for start, end in tickets:\n",
    "            if start in self.AdjacencyList:\n",
    "                self.AdjacencyList[start].append(end)\n",
    "            else:\n",
    "                self.AdjacencyList[start] = [end]\n",
    "\n",
    "        self.DFS(\"JFK\")\n",
    "\n",
    "        # 先递归深入，再记录结果，保证 逆序存入\n",
    "        # 因此，需要翻转才能得到正确结果\n",
    "        return self.result[::-1]\n",
    "\n",
    "    def DFS(self, s):\n",
    "        while s in self.AdjacencyList and len(self.AdjacencyList[s]) > 0:\n",
    "            # 选字典序最小的机场\n",
    "            v = self.AdjacencyList[s][0]\n",
    "            # 删除已经使用的航线\n",
    "            self.AdjacencyList[s].pop(0)\n",
    "            # 递归访问V机场\n",
    "            self.DFS(v)\n",
    "        # 逆序存入最终结果\n",
    "        self.result.append(s)"
   ]
  },
  {
   "cell_type": "code",
   "execution_count": null,
   "metadata": {},
   "outputs": [],
   "source": [
    "class Solution(object):\n",
    "    def findItinerary(self, tickets):\n",
    "        from collections import defaultdict\n",
    "        graph = defaultdict(list)\n",
    "        # 构建邻接表并按字典序逆序排列（便于pop末尾）\n",
    "        for u, v in sorted(tickets, reverse=True):\n",
    "            graph[u].append(v)\n",
    "        \n",
    "        route = []\n",
    "        def dfs(node):\n",
    "            # 贪心遍历最小字典序路径\n",
    "            while graph[node]:\n",
    "                next_node = graph[node].pop()\n",
    "                dfs(next_node)\n",
    "            route.append(node)\n",
    "        \n",
    "        dfs(\"JFK\")\n",
    "        return route[::-1]"
   ]
  },
  {
   "cell_type": "code",
   "execution_count": null,
   "metadata": {},
   "outputs": [],
   "source": [
    "tickets = [[\"MUC\",\"LHR\"],[\"JFK\",\"MUC\"],[\"SFO\",\"SJC\"],[\"LHR\",\"SFO\"]]\n",
    "Solution_ = Solution()\n",
    "ans = Solution_.findItinerary(tickets)\n",
    "print(ans)"
   ]
  },
  {
   "cell_type": "code",
   "execution_count": null,
   "metadata": {},
   "outputs": [],
   "source": []
  }
 ],
 "metadata": {
  "kernelspec": {
   "display_name": "base",
   "language": "python",
   "name": "python3"
  },
  "language_info": {
   "codemirror_mode": {
    "name": "ipython",
    "version": 3
   },
   "file_extension": ".py",
   "mimetype": "text/x-python",
   "name": "python",
   "nbconvert_exporter": "python",
   "pygments_lexer": "ipython3",
   "version": "3.12.2"
  }
 },
 "nbformat": 4,
 "nbformat_minor": 2
}
