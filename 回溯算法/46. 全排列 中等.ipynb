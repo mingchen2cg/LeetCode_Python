{
 "cells": [
  {
   "cell_type": "code",
   "execution_count": 14,
   "metadata": {},
   "outputs": [],
   "source": [
    "class Solution(object):\n",
    "    def permute(self, nums):\n",
    "        \"\"\"\n",
    "        :type nums: List[int]\n",
    "        :rtype: List[List[int]]\n",
    "        \"\"\"\n",
    "        n = len(nums)\n",
    "\n",
    "        def backtrack(path, nums):\n",
    "            if len(path) == n:\n",
    "                result.append(path[:])\n",
    "                return\n",
    "            # 遍历 nums 中的每个元素\n",
    "            for i in range(len(nums)):\n",
    "                # 选择当前元素\n",
    "                path.append(nums[i])\n",
    "                # 递归调用，传入新的 nums 列表（排除当前元素）\n",
    "                backtrack(path, nums[:i] + nums[i+1:])\n",
    "                # 回溯，撤销选择\n",
    "                path.pop()\n",
    "\n",
    "        result = []\n",
    "        backtrack([], nums)\n",
    "\n",
    "        return result"
   ]
  },
  {
   "cell_type": "code",
   "execution_count": 15,
   "metadata": {},
   "outputs": [
    {
     "name": "stdout",
     "output_type": "stream",
     "text": [
      "[[1, 2, 3], [1, 3, 2], [2, 1, 3], [2, 3, 1], [3, 1, 2], [3, 2, 1]]\n"
     ]
    }
   ],
   "source": [
    "nums = [1,2,3]\n",
    "Solution_ = Solution()\n",
    "ans = Solution_.permute(nums)\n",
    "print(ans)"
   ]
  },
  {
   "cell_type": "markdown",
   "metadata": {},
   "source": [
    "> 这个错误是由于 `nums[:].remove(element)` 返回的是 `None`，而不是一个新的列表。`remove` 方法会直接修改列表并返回 `None`，因此当你尝试在 `backtrack` 函数中迭代 `nums[:].remove(element)` 时，会抛出 `TypeError`，因为 `None` 是不可迭代的。\n",
    "> \n",
    "> ### 问题分析\n",
    "> - `nums[:].remove(element)` 返回 `None`，而不是一个新的列表。\n",
    "> - 你需要在递归调用时传递一个新的列表，而不是直接修改原始列表。\n",
    "> \n",
    "> ### 解决方法\n",
    "> 你可以使用列表推导式来创建一个新的列表，排除当前选择的元素 `element`，而不是使用 `remove` 方法。即 ` nums[:i] + nums[i+1:]) `"
   ]
  }
 ],
 "metadata": {
  "kernelspec": {
   "display_name": "base",
   "language": "python",
   "name": "python3"
  },
  "language_info": {
   "codemirror_mode": {
    "name": "ipython",
    "version": 3
   },
   "file_extension": ".py",
   "mimetype": "text/x-python",
   "name": "python",
   "nbconvert_exporter": "python",
   "pygments_lexer": "ipython3",
   "version": "3.12.2"
  }
 },
 "nbformat": 4,
 "nbformat_minor": 2
}
