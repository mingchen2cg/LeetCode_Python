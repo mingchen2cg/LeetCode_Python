{
 "cells": [
  {
   "cell_type": "code",
   "execution_count": null,
   "metadata": {},
   "outputs": [],
   "source": [
    "class Solution(object):\n",
    "    def partition(self, s):\n",
    "        \"\"\"\n",
    "        :type s: str\n",
    "        :rtype: List[List[str]]\n",
    "        \"\"\"\n",
    "        n = len(s)\n",
    "        result = []\n",
    "\n",
    "        def backtrack(start, path):\n",
    "            if start == n:\n",
    "                result.append(path[:])\n",
    "                return\n",
    "            for end in range(start+1, n+1):\n",
    "                substring = s[start:end]\n",
    "                if substring == substring[::-1]:\n",
    "                    path.append(substring)\n",
    "                    backtrack(end, path)\n",
    "                    path.pop()\n",
    "\n",
    "        backtrack(0, [])\n",
    "        return result"
   ]
  }
 ],
 "metadata": {
  "kernelspec": {
   "display_name": "base",
   "language": "python",
   "name": "python3"
  },
  "language_info": {
   "name": "python",
   "version": "3.12.2"
  }
 },
 "nbformat": 4,
 "nbformat_minor": 2
}
