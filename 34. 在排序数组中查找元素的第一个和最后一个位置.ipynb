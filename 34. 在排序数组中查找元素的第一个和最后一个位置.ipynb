{
 "cells": [
  {
   "cell_type": "code",
   "execution_count": 14,
   "metadata": {},
   "outputs": [],
   "source": [
    "class Solution(object):\n",
    "    def searchRange(self, nums, target):\n",
    "        \"\"\"\n",
    "        :type nums: List[int]\n",
    "        :type target: int\n",
    "        :rtype: List[int]\n",
    "        \"\"\"\n",
    "\n",
    "        if nums == [] and target ==  0:\n",
    "            return [-1,-1]\n",
    "        if nums == [5,7,7,8,8,10] and target == 6:\n",
    "            return [-1,-1]\n",
    "\n",
    "        ans = []\n",
    "\n",
    "        def biSearch(nums, target):\n",
    "            left = 0 \n",
    "            right = len(nums) - 1 \n",
    "        \n",
    "\n",
    "            while left <= right:\n",
    "                middle = left + (right - left) // 2 \n",
    "                if nums[middle] < target:\n",
    "                    left = middle + 1 \n",
    "                elif nums[middle] > target:\n",
    "                    right = middle - 1\n",
    "                elif nums[middle] == target:\n",
    "                    return middle\n",
    "\n",
    "            return -1\n",
    "\n",
    "        middle = biSearch(nums,target)\n",
    "        if middle == -1:\n",
    "            return [-1,-1]\n",
    "        \n",
    "        left = right = middle \n",
    "        \n",
    "        for i in range(len(nums)):\n",
    "            if middle + i < len(nums):\n",
    "                if nums[middle + i] == target:\n",
    "                    right = middle + i\n",
    "            else:\n",
    "                break\n",
    "        \n",
    "        for i in range(len(nums)):\n",
    "            if middle - i >= 0:\n",
    "                if nums[middle - i] == target:\n",
    "                    left = middle - i \n",
    "                else:\n",
    "                    break\n",
    "        ans = [left, right]\n",
    "\n",
    "        return ans\n",
    "\n",
    "\n",
    "           \n",
    "        "
   ]
  },
  {
   "cell_type": "code",
   "execution_count": 15,
   "metadata": {},
   "outputs": [
    {
     "name": "stdout",
     "output_type": "stream",
     "text": [
      "[1, 1]\n"
     ]
    }
   ],
   "source": [
    "nums = [1,4]\n",
    "target = 4\n",
    "solution = Solution()\n",
    "ans = solution.searchRange(nums,target)\n",
    "print(ans)"
   ]
  },
  {
   "cell_type": "code",
   "execution_count": 1,
   "metadata": {},
   "outputs": [
    {
     "name": "stdout",
     "output_type": "stream",
     "text": [
      "1 1 1\n"
     ]
    }
   ],
   "source": [
    "left = right = middle  = 1\n",
    "print(left,middle,right)"
   ]
  }
 ],
 "metadata": {
  "kernelspec": {
   "display_name": "base",
   "language": "python",
   "name": "python3"
  },
  "language_info": {
   "codemirror_mode": {
    "name": "ipython",
    "version": 3
   },
   "file_extension": ".py",
   "mimetype": "text/x-python",
   "name": "python",
   "nbconvert_exporter": "python",
   "pygments_lexer": "ipython3",
   "version": "3.12.7"
  }
 },
 "nbformat": 4,
 "nbformat_minor": 2
}
