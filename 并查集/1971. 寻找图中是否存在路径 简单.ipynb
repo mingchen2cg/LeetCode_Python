{
 "cells": [
  {
   "cell_type": "code",
   "execution_count": null,
   "id": "9bacdef1",
   "metadata": {},
   "outputs": [],
   "source": [
    "class Solution(object):\n",
    "    def validPath(self, n, edges, source, destination):\n",
    "        \"\"\"\n",
    "        :type n: int\n",
    "        :type edges: List[List[int]]\n",
    "        :type source: int\n",
    "        :type destination: int\n",
    "        :rtype: bool\n",
    "        \"\"\"\n",
    "        from collections import deque\n",
    "\n",
    "        adj = [[] for _ in range(n)]\n",
    "        for s,e in edges:\n",
    "            adj[s].append(e)\n",
    "            adj[e].append(s)\n",
    "        queue = deque()\n",
    "        queue.append(source)\n",
    "        visited = [False] * n\n",
    "        visited[source] = True\n",
    "        \n",
    "        while queue:\n",
    "            current = queue.popleft()\n",
    "            if current == destination:\n",
    "                return True\n",
    "            for neighbor in adj[current]:\n",
    "                if not visited[neighbor]:\n",
    "                    if neighbor == destination:\n",
    "                        return True\n",
    "                    queue.append(neighbor)\n",
    "                    visited[neighbor] = True\n",
    "                \n",
    "        return False\n",
    "            \n",
    "        \n",
    "        \n",
    "        "
   ]
  },
  {
   "cell_type": "code",
   "execution_count": 6,
   "id": "c2788dc3",
   "metadata": {},
   "outputs": [],
   "source": [
    "class Solution(object):\n",
    "    def validPath(self, n, edges, source, destination):\n",
    "        \"\"\"\n",
    "        :type n: int\n",
    "        :type edges: List[List[int]]\n",
    "        :type source: int\n",
    "        :type destination: int\n",
    "        :rtype: bool\n",
    "        \"\"\"\n",
    "        def find(x):\n",
    "            if p[x] != x:\n",
    "                p[x] = find(p[x])\n",
    "            return p[x]\n",
    "\n",
    "        p = list(range(n))\n",
    "        for u, v in edges:\n",
    "            p[find(v)] = find(u)\n",
    "            print(p)\n",
    "\n",
    "        return find(source) == find(destination)"
   ]
  },
  {
   "cell_type": "code",
   "execution_count": 7,
   "id": "b8b438da",
   "metadata": {},
   "outputs": [
    {
     "name": "stdout",
     "output_type": "stream",
     "text": [
      "[0, 0, 2, 3, 4, 5]\n",
      "[0, 0, 0, 3, 4, 5]\n",
      "[0, 0, 0, 3, 4, 3]\n",
      "[0, 0, 0, 3, 3, 3]\n",
      "[0, 0, 0, 3, 3, 3]\n"
     ]
    },
    {
     "data": {
      "text/plain": [
       "False"
      ]
     },
     "execution_count": 7,
     "metadata": {},
     "output_type": "execute_result"
    }
   ],
   "source": [
    "n = 6\n",
    "edges = [[0,1],[0,2],[3,5],[5,4],[4,3]]\n",
    "source = 0\n",
    "destination = 5\n",
    "\n",
    "mysoluition = Solution()\n",
    "ans = mysoluition.validPath(n,edges,source,destination)\n",
    "ans"
   ]
  }
 ],
 "metadata": {
  "kernelspec": {
   "display_name": "base",
   "language": "python",
   "name": "python3"
  },
  "language_info": {
   "codemirror_mode": {
    "name": "ipython",
    "version": 3
   },
   "file_extension": ".py",
   "mimetype": "text/x-python",
   "name": "python",
   "nbconvert_exporter": "python",
   "pygments_lexer": "ipython3",
   "version": "3.12.9"
  }
 },
 "nbformat": 4,
 "nbformat_minor": 5
}
