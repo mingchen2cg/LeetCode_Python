{
 "cells": [
  {
   "cell_type": "code",
   "execution_count": null,
   "id": "b94911ad",
   "metadata": {},
   "outputs": [],
   "source": [
    "from typing import List\n",
    "\n",
    "\n",
    "class Solution:\n",
    "    def longestConsecutive(self, nums: List[int]) -> int:\n",
    "        res = 0\n",
    "        if not nums:\n",
    "            return res\n",
    "\n",
    "        num_set = set(nums)\n",
    "        parent = {}\n",
    "        size = {}\n",
    "\n",
    "        for num in num_set:\n",
    "            parent[num] = num\n",
    "            size[num] = 1\n",
    "\n",
    "        def find(x):\n",
    "            if parent[x] == x:\n",
    "                return x\n",
    "            parent[x] = find(parent[x])\n",
    "            return parent[x]\n",
    "\n",
    "        def unite(x, y):\n",
    "            rootx = find(x)\n",
    "            rooty = find(y)\n",
    "\n",
    "            if rootx != rooty:\n",
    "                # 按大小合并 小的往大的上面合并\n",
    "                if size[rootx] < size[rooty]:\n",
    "                    rootx, rooty = rooty, rootx\n",
    "                parent[rooty] = rootx\n",
    "                size[rootx] += size[rooty]\n",
    "\n",
    "        for num in num_set:\n",
    "            if (num + 1) in num_set:\n",
    "                unite(num, num + 1)\n",
    "                \n",
    "        for num in num_set:\n",
    "            # 只有根节点的 sz 才代表整个集合的大小\n",
    "            if parent[num] == num: # 如果 num 是根节点\n",
    "                res = max(res, size[num])\n",
    "        \n",
    "        # print(parent)\n",
    "        return res"
   ]
  },
  {
   "cell_type": "code",
   "execution_count": 9,
   "id": "7d14b646",
   "metadata": {},
   "outputs": [],
   "source": [
    "from typing import List\n",
    "\n",
    "\n",
    "class Solution:\n",
    "    def longestConsecutive(self, nums: List[int]) -> int:\n",
    "        if not nums: \n",
    "            return 0\n",
    "        \n",
    "        nums.sort()\n",
    "        \n",
    "        res = 1\n",
    "        curr_len = 1\n",
    "        for i in range(1,len(nums)):\n",
    "            if nums[i] == nums[i-1]:\n",
    "                continue\n",
    "            elif nums[i-1] == nums[i] - 1:\n",
    "                curr_len += 1\n",
    "                res = max(res,curr_len)\n",
    "            else:\n",
    "                curr_len = 1 \n",
    "        return res"
   ]
  },
  {
   "cell_type": "code",
   "execution_count": null,
   "id": "6f85d20f",
   "metadata": {},
   "outputs": [
    {
     "name": "stdout",
     "output_type": "stream",
     "text": [
      "[-9, -8, -7, -4, -4, -4, -3, -2, -1, 0, 1, 1, 3, 5, 6, 7]\n"
     ]
    },
    {
     "data": {
      "text/plain": [
       "6"
      ]
     },
     "execution_count": 10,
     "metadata": {},
     "output_type": "execute_result"
    }
   ],
   "source": [
    "nums = [1,-8,7,-2,-4,-4,6,3,-4,0,-7,-1,5,1,-9,-3]\n",
    "mysolution = Solution()\n",
    "ans = mysolution.longestConsecutive(nums)\n",
    "ans"
   ]
  }
 ],
 "metadata": {
  "kernelspec": {
   "display_name": "base",
   "language": "python",
   "name": "python3"
  },
  "language_info": {
   "codemirror_mode": {
    "name": "ipython",
    "version": 3
   },
   "file_extension": ".py",
   "mimetype": "text/x-python",
   "name": "python",
   "nbconvert_exporter": "python",
   "pygments_lexer": "ipython3",
   "version": "3.12.9"
  }
 },
 "nbformat": 4,
 "nbformat_minor": 5
}
