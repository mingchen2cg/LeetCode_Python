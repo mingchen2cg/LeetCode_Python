{
 "cells": [
  {
   "cell_type": "code",
   "execution_count": null,
   "metadata": {},
   "outputs": [],
   "source": [
    "# Definition for singly-linked list.\n",
    "class ListNode(object):\n",
    "    def __init__(self, x):\n",
    "        self.val = x\n",
    "        self.next = None\n",
    "\n",
    "class Solution(object):\n",
    "    def bianli(self,head):\n",
    "        tmp = head\n",
    "        None_list = []\n",
    "        while tmp is not None:\n",
    "            None_list.append(tmp)\n",
    "            tmp = tmp.next\n",
    "        return None_list\n",
    "\n",
    "    def getIntersectionNode(self, headA, headB):\n",
    "        \"\"\"\n",
    "        :type head1, head1: ListNode\n",
    "        :rtype: ListNode\n",
    "        \"\"\"\n",
    "        None_list_A = self.bianli(headA)\n",
    "\n",
    "        tmp = headB\n",
    "        while tmp is not None:\n",
    "            if tmp in None_list_A:\n",
    "                return tmp\n",
    "            tmp = tmp.next\n",
    "        return None\n"
   ]
  },
  {
   "cell_type": "code",
   "execution_count": null,
   "metadata": {},
   "outputs": [],
   "source": [
    "class Solution(object):\n",
    "    def get_length(self,head):\n",
    "        length = 0\n",
    "        tmp = head \n",
    "        while tmp is not None:\n",
    "            length += 1 \n",
    "            tmp = tmp.next \n",
    "        return length \n",
    "\n",
    "    def getIntersectionNode(self, headA, headB):\n",
    "        \"\"\"\n",
    "        :type head1, head1: ListNode\n",
    "        :rtype: ListNode\n",
    "        \"\"\"\n",
    "        lenghtA = self.get_length(headA)\n",
    "        lenghtB = self.get_length(headB)\n",
    "\n",
    "        cha = lenghtA - lenghtB\n",
    "\n",
    "        curA = headA\n",
    "        curB = headB\n",
    "\n",
    "        if cha >= 0:\n",
    "            for _ in range(cha):\n",
    "                curA = curA.next\n",
    "        else:\n",
    "            for _ in range(abs(cha)):\n",
    "                curB = curB.next\n",
    "        \n",
    "        while curA is not None:\n",
    "            if curA == curB:\n",
    "                return curA\n",
    "            curA = curA.next \n",
    "            curB = curB.next\n",
    "\n",
    "        return None\n"
   ]
  }
 ],
 "metadata": {
  "kernelspec": {
   "display_name": "base",
   "language": "python",
   "name": "python3"
  },
  "language_info": {
   "name": "python",
   "version": "3.12.7"
  }
 },
 "nbformat": 4,
 "nbformat_minor": 2
}
