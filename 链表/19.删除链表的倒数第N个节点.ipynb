{
 "cells": [
  {
   "cell_type": "code",
   "execution_count": null,
   "metadata": {},
   "outputs": [],
   "source": [
    "# Definition for singly-linked list.\n",
    "class ListNode(object):\n",
    "    def __init__(self, val=0, next=None):\n",
    "        self.val = val\n",
    "        self.next = next\n",
    "\n",
    "\n",
    "class Solution(object):\n",
    "    def removeNthFromEnd(self, head, n):\n",
    "        \"\"\"\n",
    "        :type head: Optional[ListNode]\n",
    "        :type n: int\n",
    "        :rtype: Optional[ListNode]\n",
    "        \"\"\"\n",
    "        unrealNode = ListNode(next=head)\n",
    "        kuai = man = unrealNode\n",
    "\n",
    "        for _ in range(n):\n",
    "            kuai = kuai.next\n",
    "        while kuai.next is not None:\n",
    "            kuai = kuai.next \n",
    "            man = man.next \n",
    "        man.next = man.next.next\n",
    "\n",
    "        return unrealNode.next\n",
    "\n"
   ]
  },
  {
   "cell_type": "markdown",
   "metadata": {},
   "source": []
  }
 ],
 "metadata": {
  "kernelspec": {
   "display_name": "base",
   "language": "python",
   "name": "python3"
  },
  "language_info": {
   "name": "python",
   "version": "3.12.7"
  }
 },
 "nbformat": 4,
 "nbformat_minor": 2
}
