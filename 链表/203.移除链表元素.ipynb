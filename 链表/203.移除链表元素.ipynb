{
 "cells": [
  {
   "cell_type": "code",
   "execution_count": null,
   "metadata": {},
   "outputs": [],
   "source": [
    "# Definition for singly-linked list.\n",
    "class ListNode(object):\n",
    "    def __init__(self, val=0, next=None):\n",
    "        self.val = val\n",
    "        self.next = next\n",
    "\n",
    "class Solution(object):\n",
    "    def removeElements(self, head, val):\n",
    "        \"\"\"\n",
    "        :type head: Optional[ListNode]\n",
    "        :type val: int\n",
    "        :rtype: Optional[ListNode]\n",
    "        \"\"\"\n",
    "        unrealHead = ListNode(next=head)\n",
    "        cur = unrealHead\n",
    "\n",
    "        while cur.next is not None:\n",
    "            if cur.next.val == val:\n",
    "                cur.next = cur.next.next\n",
    "            else:\n",
    "                cur = cur.next\n",
    "        \n",
    "        return unrealHead.next"
   ]
  },
  {
   "cell_type": "code",
   "execution_count": null,
   "metadata": {},
   "outputs": [],
   "source": [
    "\n"
   ]
  }
 ],
 "metadata": {
  "kernelspec": {
   "display_name": "base",
   "language": "python",
   "name": "python3"
  },
  "language_info": {
   "name": "python",
   "version": "3.12.7"
  }
 },
 "nbformat": 4,
 "nbformat_minor": 2
}
