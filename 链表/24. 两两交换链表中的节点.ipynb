{
 "cells": [
  {
   "cell_type": "code",
   "execution_count": 1,
   "metadata": {},
   "outputs": [],
   "source": [
    "# Definition for singly-linked list.\n",
    "\n",
    "class ListNode(object):\n",
    "    def __init__(self, val=0, next=None):\n",
    "        self.val = val\n",
    "        self.next = next\n",
    "\n",
    "class Solution(object):\n",
    "\n",
    "    def swapPairs(self, head):\n",
    "        \"\"\"\n",
    "        :type head: Optional[ListNode]\n",
    "        :rtype: Optional[ListNode]\n",
    "        \"\"\"\n",
    "        point = head\n",
    "        while point is not None:\n",
    "            if point == None or point.next == None:\n",
    "                return head\n",
    "            else:\n",
    "                val = point.val\n",
    "                point.val = point.next.val\n",
    "                point.next.val = val\n",
    "                point = point.next.next\n",
    "        return head\n",
    "        "
   ]
  },
  {
   "cell_type": "code",
   "execution_count": null,
   "metadata": {},
   "outputs": [],
   "source": [
    "class Solution(object):\n",
    "\n",
    "    def swap(self,head):\n",
    "        if head == None or head.next == None:\n",
    "            return head\n",
    "        else:\n",
    "            tmp = head.next\n",
    "            head.next = tmp.next\n",
    "            tmp.next = head\n",
    "        return tmp\n",
    "\n",
    "    def swapPairs(self, head):\n",
    "        \"\"\"\n",
    "        :type head: Optional[ListNode]\n",
    "        :rtype: Optional[ListNode]\n",
    "        \"\"\"\n",
    "        if head == None or head.next == None:\n",
    "            return head\n",
    "        ans = head.next\n",
    "        cur = head \n",
    "\n",
    "        while cur is not None:\n",
    "            tmp = self.swap(cur)\n",
    "            cur = tmp.next.next\n",
    "            if cur == None or cur.next == None:\n",
    "                return ans\n",
    "            else:\n",
    "                tmp.next.next = cur.next \n",
    "        return ans\n",
    "        \n",
    "\n",
    "        "
   ]
  }
 ],
 "metadata": {
  "kernelspec": {
   "display_name": "base",
   "language": "python",
   "name": "python3"
  },
  "language_info": {
   "codemirror_mode": {
    "name": "ipython",
    "version": 3
   },
   "file_extension": ".py",
   "mimetype": "text/x-python",
   "name": "python",
   "nbconvert_exporter": "python",
   "pygments_lexer": "ipython3",
   "version": "3.12.7"
  }
 },
 "nbformat": 4,
 "nbformat_minor": 2
}
