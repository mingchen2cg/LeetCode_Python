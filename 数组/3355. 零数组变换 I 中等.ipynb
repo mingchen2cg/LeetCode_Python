{
 "cells": [
  {
   "cell_type": "code",
   "execution_count": null,
   "id": "c6839bf1",
   "metadata": {},
   "outputs": [],
   "source": [
    "class Solution(object):\n",
    "    def isZeroArray(self, nums, queries):\n",
    "        \"\"\"\n",
    "        :type nums: List[int]\n",
    "        :type queries: List[List[int]]\n",
    "        :rtype: bool\n",
    "        \"\"\"\n",
    "        n = len(nums)\n",
    "        ops = [0] * (n + 1)  # 差分数组\n",
    "\n",
    "        # 差分记录每个查询对应的可减次数\n",
    "        for l, r in queries:\n",
    "            ops[l] += 1\n",
    "            if r + 1 < n:\n",
    "                ops[r + 1] -= 1\n",
    "\n",
    "        # 前缀和恢复每个位置能被减的总次数\n",
    "        for i in range(1, n):\n",
    "            ops[i] += ops[i - 1]\n",
    "\n",
    "        # 判断每个位置的值是否能被减为0\n",
    "        for i in range(n):\n",
    "            if nums[i] > ops[i]:\n",
    "                return False\n",
    "        return True\n"
   ]
  },
  {
   "cell_type": "code",
   "execution_count": 3,
   "id": "51130eaa",
   "metadata": {},
   "outputs": [
    {
     "data": {
      "text/plain": [
       "False"
      ]
     },
     "execution_count": 3,
     "metadata": {},
     "output_type": "execute_result"
    }
   ],
   "source": [
    "nums = [4,3,2,1]\n",
    "queries = [[1,3],[0,2]]\n",
    "mysolution = Solution()\n",
    "ans = mysolution.isZeroArray(nums,queries)\n",
    "ans"
   ]
  }
 ],
 "metadata": {
  "kernelspec": {
   "display_name": "base",
   "language": "python",
   "name": "python3"
  },
  "language_info": {
   "codemirror_mode": {
    "name": "ipython",
    "version": 3
   },
   "file_extension": ".py",
   "mimetype": "text/x-python",
   "name": "python",
   "nbconvert_exporter": "python",
   "pygments_lexer": "ipython3",
   "version": "3.12.9"
  }
 },
 "nbformat": 4,
 "nbformat_minor": 5
}
