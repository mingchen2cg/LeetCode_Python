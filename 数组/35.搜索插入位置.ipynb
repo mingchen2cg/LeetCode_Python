{
 "cells": [
  {
   "cell_type": "code",
   "execution_count": 17,
   "metadata": {},
   "outputs": [],
   "source": [
    "class Solution(object):\n",
    "    def searchInsert(self, nums, target):\n",
    "        \"\"\"\n",
    "        :type nums: List[int]\n",
    "        :type target: int\n",
    "        :rtype: int\n",
    "        \"\"\"\n",
    "        if nums[0] > target:\n",
    "            return 0 \n",
    "        if nums[len(nums) - 1 ] < target:\n",
    "            return len(nums)\n",
    "\n",
    "        def bisearch(nums, target):\n",
    "            left = 0\n",
    "            right = len(nums) - 1\n",
    "\n",
    "            while left <= right:\n",
    "                flag = 0\n",
    "\n",
    "                middle = left + (right - left) // 2\n",
    "                if nums[middle] > target:\n",
    "                    right = middle - 1 \n",
    "                elif nums[middle] < target:\n",
    "                    left = middle + 1 \n",
    "                elif nums[middle] == target:\n",
    "                    return 1, middle\n",
    "            return flag, middle\n",
    "\n",
    "        flag, middle = bisearch(nums, target)\n",
    "        print(flag,middle)\n",
    "        if flag == 1:\n",
    "            return middle\n",
    "        elif nums[middle] < target:\n",
    "            return middle + 1\n",
    "        else:\n",
    "             return middle \n",
    "\n"
   ]
  },
  {
   "cell_type": "code",
   "execution_count": 18,
   "metadata": {},
   "outputs": [
    {
     "name": "stdout",
     "output_type": "stream",
     "text": [
      "0 1\n",
      "0\n"
     ]
    }
   ],
   "source": [
    "nums = [1,3]\n",
    "target = 2\n",
    "solution = Solution()\n",
    "ans = solution.searchInsert(nums,target)\n",
    "print(ans)"
   ]
  }
 ],
 "metadata": {
  "kernelspec": {
   "display_name": "base",
   "language": "python",
   "name": "python3"
  },
  "language_info": {
   "codemirror_mode": {
    "name": "ipython",
    "version": 3
   },
   "file_extension": ".py",
   "mimetype": "text/x-python",
   "name": "python",
   "nbconvert_exporter": "python",
   "pygments_lexer": "ipython3",
   "version": "3.12.7"
  }
 },
 "nbformat": 4,
 "nbformat_minor": 2
}
