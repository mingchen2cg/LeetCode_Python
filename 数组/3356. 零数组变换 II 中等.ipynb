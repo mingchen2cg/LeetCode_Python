{
 "cells": [
  {
   "cell_type": "code",
   "execution_count": null,
   "id": "c40089f1",
   "metadata": {},
   "outputs": [],
   "source": [
    "class Solution(object):\n",
    "    def minZeroArray(self, nums, queries):\n",
    "        \"\"\"\n",
    "        :type nums: List[int]\n",
    "        :type queries: List[List[int]]\n",
    "        :rtype: int\n",
    "        \"\"\"\n",
    "        if all(x == 0 for x in nums):\n",
    "            return 0\n",
    "\n",
    "        zerolithx = nums[:]  # 创建 nums 的副本\n",
    "\n",
    "        # n = len(zerolithx)\n",
    "        for k, (l, r, val) in enumerate(queries):\n",
    "            for i in range(l, r + 1):\n",
    "                zerolithx[i] = max(0, zerolithx[i] - val)  # 每个位置最多减少 val\n",
    "            if all(x == 0 for x in zerolithx):  # 判断是否是零数组\n",
    "                return k + 1  # 因为 k 是从 0 开始的，所以返回 k+1\n",
    "\n",
    "        return -1  # 如果无法变成零数组"
   ]
  },
  {
   "cell_type": "code",
   "execution_count": null,
   "id": "44c453ee",
   "metadata": {},
   "outputs": [],
   "source": [
    "class Solution(object):\n",
    "    def minZeroArray(self, nums, queries):\n",
    "        \"\"\"\n",
    "        :type nums: List[int]\n",
    "        :type queries: List[List[int]]\n",
    "        :rtype: int\n",
    "        \"\"\"\n",
    "        def check(nums, queries, k):\n",
    "            deltaArray = [0] * (len(nums) + 1)\n",
    "            for left, right, value in queries[:k]:\n",
    "                deltaArray[left] += value\n",
    "                if right + 1 < len(deltaArray):\n",
    "                    deltaArray[right + 1] -= value\n",
    "            operationCounts = []\n",
    "            currentOperations = 0\n",
    "            for delta in deltaArray[:-1]:  # 忽略最后一个辅助位\n",
    "                currentOperations += delta\n",
    "                operationCounts.append(currentOperations)\n",
    "            for i in range(len(nums)):\n",
    "                if operationCounts[i] < nums[i]:\n",
    "                    return False\n",
    "            return True\n",
    "\n",
    "        left, right = 0, len(queries)\n",
    "        if not check(nums, queries, right):\n",
    "            return -1\n",
    "        while left < right:\n",
    "            mid = (left + right) // 2\n",
    "            if check(nums, queries, mid):\n",
    "                right = mid\n",
    "            else:\n",
    "                left = mid + 1\n",
    "        return left\n"
   ]
  },
  {
   "cell_type": "code",
   "execution_count": 6,
   "id": "aa35f311",
   "metadata": {},
   "outputs": [
    {
     "data": {
      "text/plain": [
       "2"
      ]
     },
     "execution_count": 6,
     "metadata": {},
     "output_type": "execute_result"
    }
   ],
   "source": [
    "nums = [2, 0, 2]\n",
    "queries = [[0, 2, 1], [0, 2, 1], [1, 1, 3]]\n",
    "\n",
    "mysolution = Solution()\n",
    "ans = mysolution.minZeroArray(nums, queries)\n",
    "ans"
   ]
  }
 ],
 "metadata": {
  "kernelspec": {
   "display_name": "base",
   "language": "python",
   "name": "python3"
  },
  "language_info": {
   "codemirror_mode": {
    "name": "ipython",
    "version": 3
   },
   "file_extension": ".py",
   "mimetype": "text/x-python",
   "name": "python",
   "nbconvert_exporter": "python",
   "pygments_lexer": "ipython3",
   "version": "3.12.9"
  }
 },
 "nbformat": 4,
 "nbformat_minor": 5
}
