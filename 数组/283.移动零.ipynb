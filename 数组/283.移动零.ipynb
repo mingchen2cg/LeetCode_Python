{
 "cells": [
  {
   "cell_type": "code",
   "execution_count": null,
   "id": "60a8da58",
   "metadata": {},
   "outputs": [],
   "source": [
    "from typing import List\n",
    "\n",
    "\n",
    "class Solution:\n",
    "    def moveZeroes(self, nums: List[int]) -> None:\n",
    "        \"\"\"\n",
    "        Do not return anything, modify nums in-place instead.\n",
    "        \"\"\"\n",
    "        if len(nums) == 1:\n",
    "            return\n",
    "        slow, fast = 0, 0\n",
    "        count = 0\n",
    "        \n",
    "        while fast < len(nums):\n",
    "            if nums[fast] != 0 :\n",
    "                nums[slow] = nums[fast]\n",
    "                slow += 1\n",
    "            fast += 1\n",
    "            \n",
    "        nums[slow:] = [0] * len(nums[slow:])\n",
    "            \n",
    "        \n",
    "        "
   ]
  }
 ],
 "metadata": {
  "language_info": {
   "name": "python"
  }
 },
 "nbformat": 4,
 "nbformat_minor": 5
}
