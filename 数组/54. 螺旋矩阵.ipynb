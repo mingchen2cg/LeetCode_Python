{
 "cells": [
  {
   "cell_type": "code",
   "execution_count": 73,
   "metadata": {},
   "outputs": [],
   "source": [
    "class Solution(object):\n",
    "    def spiralOrder(self, matrix):\n",
    "        \"\"\"\n",
    "        :type matrix: List[List[int]]\n",
    "        :rtype: List[int]\n",
    "        \"\"\"\n",
    "      \n",
    "        m = len(matrix)\n",
    "        n = len(matrix[0])\n",
    "\n",
    "        ans = [0] * (n * m)\n",
    "        r_loop = m - 1 \n",
    "        c_loop = n - 1\n",
    "        i = j = 0 # index\n",
    "        cnt = 0\n",
    "        if m == 1:\n",
    "            return matrix[0]\n",
    "        if n == 1:\n",
    "            for i in range(m):\n",
    "                ans[i] = matrix[i][0]\n",
    "            return ans\n",
    "        \n",
    "        while cnt < m * n:\n",
    "            if c_loop >= 1 and r_loop == 0: # 只剩一行\n",
    "                while cnt < m * n:\n",
    "                    ans[cnt] = matrix[i][j]\n",
    "                    j += 1\n",
    "                    cnt += 1\n",
    "                return ans\n",
    "\n",
    "            if r_loop >= 1 and c_loop == 0: # 只剩一列\n",
    "                while cnt < m * n:\n",
    "                    ans[cnt] = matrix[i][j]\n",
    "                    i += 1\n",
    "                    cnt += 1\n",
    "                return ans\n",
    "            \n",
    "            if c_loop == 0 and r_loop == 0: # 只剩一个数 方针中心\n",
    "                center = m // 2\n",
    "                ans[cnt] = matrix[center][center]\n",
    "                return ans\n",
    "            \n",
    "            # 向右遍历\n",
    "            for k in range(c_loop):\n",
    "                ans[cnt] = matrix[i][j]\n",
    "                j += 1 \n",
    "                cnt += 1\n",
    "            # 向下遍历\n",
    "            for k in range(r_loop):\n",
    "                ans[cnt] = matrix[i][j]\n",
    "                i += 1\n",
    "                cnt += 1\n",
    "            # 向左遍历\n",
    "            for k in range(c_loop):\n",
    "                ans[cnt] = matrix[i][j]\n",
    "                j -= 1 \n",
    "                cnt += 1\n",
    "            # 向上遍历\n",
    "            for k in range(r_loop):\n",
    "              \n",
    "                ans[cnt] = matrix[i][j]\n",
    "                i -= 1\n",
    "                cnt += 1\n",
    "\n",
    "            i += 1\n",
    "            j += 1 \n",
    "            r_loop -= 2\n",
    "            c_loop -= 2\n",
    "        return ans \n",
    "\n"
   ]
  },
  {
   "cell_type": "code",
   "execution_count": 74,
   "metadata": {},
   "outputs": [
    {
     "name": "stdout",
     "output_type": "stream",
     "text": [
      "[2, 3, 4, 7, 10, 13, 16, 15, 14, 11, 8, 5, 6, 9, 12]\n"
     ]
    }
   ],
   "source": [
    "matrix = [[2,3,4],[5,6,7],[8,9,10],[11,12,13],[14,15,16]]\n",
    "\n",
    "solution = Solution()  \n",
    "ans = solution.spiralOrder(matrix)\n",
    "print(ans)"
   ]
  },
  {
   "cell_type": "code",
   "execution_count": 50,
   "metadata": {},
   "outputs": [
    {
     "name": "stdout",
     "output_type": "stream",
     "text": [
      "[[False, False, False, False], [False, False, False, False], [False, False, False, False]]\n"
     ]
    }
   ],
   "source": [
    "matrix = [[1,2,3,4],[5,6,7,8],[9,10,11,12]]\n",
    "m = len(matrix)\n",
    "n = len(matrix[0])\n",
    "visited = [[False] * n] * m\n",
    "print(visited)"
   ]
  },
  {
   "cell_type": "code",
   "execution_count": 26,
   "metadata": {},
   "outputs": [],
   "source": [
    "for i in range(-1):\n",
    "    print(i)"
   ]
  }
 ],
 "metadata": {
  "kernelspec": {
   "display_name": "base",
   "language": "python",
   "name": "python3"
  },
  "language_info": {
   "codemirror_mode": {
    "name": "ipython",
    "version": 3
   },
   "file_extension": ".py",
   "mimetype": "text/x-python",
   "name": "python",
   "nbconvert_exporter": "python",
   "pygments_lexer": "ipython3",
   "version": "3.12.7"
  }
 },
 "nbformat": 4,
 "nbformat_minor": 2
}
