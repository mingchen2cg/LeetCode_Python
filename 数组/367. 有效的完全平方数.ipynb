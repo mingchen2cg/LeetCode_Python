{
 "cells": [
  {
   "cell_type": "code",
   "execution_count": 17,
   "metadata": {},
   "outputs": [],
   "source": [
    "class Solution(object):\n",
    "    def isPerfectSquare(self, num):\n",
    "        \"\"\"\n",
    "        :type num: int\n",
    "        :rtype: bool\n",
    "        \"\"\"\n",
    "        def mySqrt(x):\n",
    "            # x 平方根的整数部分\n",
    "            left = 0\n",
    "            right = 2 ** 32\n",
    "            while left <= right:\n",
    "                middle = left + (right - left) // 2\n",
    "\n",
    "                if middle * middle > x: # middle 太大 在左边\n",
    "                    right = middle\n",
    "                elif (middle + 1) ** 2 <= x:\n",
    "                    left = middle\n",
    "                else: \n",
    "                    return middle\n",
    "        intpart = mySqrt(num)\n",
    "        if intpart ** 2 == num:\n",
    "            return True\n",
    "        else:\n",
    "            return False"
   ]
  },
  {
   "cell_type": "code",
   "execution_count": 18,
   "metadata": {},
   "outputs": [
    {
     "name": "stdout",
     "output_type": "stream",
     "text": [
      "True\n"
     ]
    }
   ],
   "source": [
    "x = 1\n",
    " \n",
    "solution = Solution()\n",
    "ans = solution.isPerfectSquare(x)\n",
    "print(ans)"
   ]
  }
 ],
 "metadata": {
  "kernelspec": {
   "display_name": "base",
   "language": "python",
   "name": "python3"
  },
  "language_info": {
   "codemirror_mode": {
    "name": "ipython",
    "version": 3
   },
   "file_extension": ".py",
   "mimetype": "text/x-python",
   "name": "python",
   "nbconvert_exporter": "python",
   "pygments_lexer": "ipython3",
   "version": "3.12.7"
  }
 },
 "nbformat": 4,
 "nbformat_minor": 2
}
