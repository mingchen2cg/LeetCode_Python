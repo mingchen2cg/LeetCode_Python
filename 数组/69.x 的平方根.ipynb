{
 "cells": [
  {
   "cell_type": "code",
   "execution_count": 8,
   "metadata": {},
   "outputs": [],
   "source": [
    "class Solution(object):\n",
    "    def mySqrt(self, x):\n",
    "        \"\"\"\n",
    "        :type x: int\n",
    "        :rtype: int\n",
    "        \"\"\"\n",
    "        if x == 0:\n",
    "            return 0 \n",
    "        if x < 4:\n",
    "            return 1 \n",
    "        if x < 9:\n",
    "            return 2\n",
    "\n",
    "        left = 2\n",
    "        right = 46341\n",
    "        while left <= right:\n",
    "            middle = left + (right - left) // 2\n",
    "            # print(left,middle,right)\n",
    "            if middle * middle > x:\n",
    "                right = middle \n",
    "            elif (middle + 1)  * (middle + 1)  < x:\n",
    "                left = middle \n",
    "            else:\n",
    "                return middle\n",
    "\n",
    "\n"
   ]
  },
  {
   "cell_type": "code",
   "execution_count": 11,
   "metadata": {},
   "outputs": [
    {
     "name": "stdout",
     "output_type": "stream",
     "text": [
      "4\n"
     ]
    }
   ],
   "source": [
    "x = 25\n",
    " \n",
    "solution = Solution()\n",
    "ans = solution.mySqrt(x)\n",
    "print(ans)"
   ]
  }
 ],
 "metadata": {
  "kernelspec": {
   "display_name": "base",
   "language": "python",
   "name": "python3"
  },
  "language_info": {
   "codemirror_mode": {
    "name": "ipython",
    "version": 3
   },
   "file_extension": ".py",
   "mimetype": "text/x-python",
   "name": "python",
   "nbconvert_exporter": "python",
   "pygments_lexer": "ipython3",
   "version": "3.12.7"
  }
 },
 "nbformat": 4,
 "nbformat_minor": 2
}
