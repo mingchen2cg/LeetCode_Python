{
 "cells": [
  {
   "cell_type": "code",
   "execution_count": null,
   "metadata": {},
   "outputs": [],
   "source": [
    "class Solution(object):\n",
    "    def sortedSquares(self, nums):\n",
    "        \"\"\"\n",
    "        :type nums: List[int]\n",
    "        :rtype: List[int]\n",
    "        \"\"\"\n",
    "        n = len(nums)\n",
    "        result = [0] * n\n",
    "        left = 0\n",
    "        right = n - 1\n",
    "        for i in range(1, n + 1):\n",
    "            if nums[left] ** 2 >= nums[right] ** 2:\n",
    "                result[n-i] = nums[left] ** 2\n",
    "                left += 1 \n",
    "            else:\n",
    "                result[n-i] = nums[right] ** 2\n",
    "                right = right -1 \n",
    "        \n",
    "        return result\n",
    "    \n"
   ]
  },
  {
   "cell_type": "code",
   "execution_count": null,
   "metadata": {},
   "outputs": [],
   "source": [
    "\n",
    "nums = [-4,-1,0,3,10]\n",
    "solution = Solution()  # 实例化 Solution 类\n",
    "a = solution.sortedSquares(nums=nums)  # 通过实例调用方法\n",
    "print(a)"
   ]
  }
 ],
 "metadata": {
  "kernelspec": {
   "display_name": "base",
   "language": "python",
   "name": "python3"
  },
  "language_info": {
   "name": "python",
   "version": "3.12.7"
  }
 },
 "nbformat": 4,
 "nbformat_minor": 2
}
