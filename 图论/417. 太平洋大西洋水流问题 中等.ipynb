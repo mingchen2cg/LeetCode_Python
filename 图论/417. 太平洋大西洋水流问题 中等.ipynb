{
 "cells": [
  {
   "cell_type": "code",
   "execution_count": null,
   "id": "8c32a6b3",
   "metadata": {},
   "outputs": [],
   "source": [
    "class Solution(object):\n",
    "    def pacificAtlantic(self, heights):\n",
    "        \"\"\"\n",
    "        :type heights: List[List[int]]\n",
    "        :rtype: List[List[int]]\n",
    "        \"\"\"\n",
    "        m, n = len(heights), len(heights[0])\n",
    "        if m == 1 and n == 1:\n",
    "            if heights[0][0] > 0:\n",
    "                return [[0, 0]]\n",
    "\n",
    "        visited = [[False] * n for _ in range(m)]\n",
    "        pacific = []\n",
    "        atlantic = []\n",
    "        direction = [[0, -1], [0, 1], [-1, 0], [1, 0]]\n",
    "\n",
    "        def dfs(x, y, ocean, height):\n",
    "            if x < 0 or x >= m or y < 0 or y >= n or heights[x][y] < height or visited[x][y] == True:\n",
    "                return\n",
    "            else:\n",
    "                visited[x][y] = True\n",
    "                ocean.append([x, y])\n",
    "                for a, b in direction:\n",
    "                    dfs(x+a, y+b, ocean, heights[x][y])\n",
    "\n",
    "        for j in range(n):\n",
    "            if not visited[0][j]:\n",
    "                dfs(0, j, pacific, 0)\n",
    "\n",
    "        for i in range(m):\n",
    "            if not visited[i][0]:\n",
    "                dfs(i, 0, pacific, 0)\n",
    "\n",
    "        visited = [[False] * n for _ in range(m)]\n",
    "\n",
    "        for j in range(n):\n",
    "            if not visited[m-1][j]:\n",
    "                dfs(m-1, j, atlantic, 0)\n",
    "\n",
    "        for i in range(m):\n",
    "            if not visited[i][n-1]:\n",
    "                dfs(i, n-1, atlantic, 0)\n",
    "\n",
    "        set1 = {tuple(sublist) for sublist in pacific}\n",
    "        set2 = {tuple(sublist) for sublist in atlantic}\n",
    "        intersection_tuples = set1.intersection(set2)\n",
    "        intersection = [list(t) for t in intersection_tuples]\n",
    "\n",
    "        return intersection"
   ]
  },
  {
   "cell_type": "code",
   "execution_count": 2,
   "id": "b01e68ad",
   "metadata": {},
   "outputs": [
    {
     "data": {
      "text/plain": [
       "[[0, 1], [1, 2], [2, 1], [0, 0], [2, 0], [0, 2], [2, 2], [1, 0]]"
      ]
     },
     "execution_count": 2,
     "metadata": {},
     "output_type": "execute_result"
    }
   ],
   "source": [
    "heights = [[3,3,3],[3,1,3],[0,2,4]]\n",
    "mysolution = Solution()\n",
    "ans = mysolution.pacificAtlantic(heights)\n",
    "ans"
   ]
  }
 ],
 "metadata": {
  "kernelspec": {
   "display_name": "base",
   "language": "python",
   "name": "python3"
  },
  "language_info": {
   "codemirror_mode": {
    "name": "ipython",
    "version": 3
   },
   "file_extension": ".py",
   "mimetype": "text/x-python",
   "name": "python",
   "nbconvert_exporter": "python",
   "pygments_lexer": "ipython3",
   "version": "3.12.9"
  }
 },
 "nbformat": 4,
 "nbformat_minor": 5
}
