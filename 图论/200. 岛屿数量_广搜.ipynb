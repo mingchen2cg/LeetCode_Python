{
 "cells": [
  {
   "cell_type": "code",
   "execution_count": null,
   "id": "53981483",
   "metadata": {},
   "outputs": [],
   "source": [
    "class Solution(object):\n",
    "    def numIslands(self, grid):\n",
    "        \"\"\"\n",
    "        :type grid: List[List[str]]\n",
    "        :rtype: int\n",
    "        \"\"\"\n",
    "        from collections import deque\n",
    "\n",
    "        count = 0\n",
    "        m, n = len(grid), len(grid[0])\n",
    "        direction = [[0, 1], [1, 0], [-1, 0], [0, -1]]\n",
    "        queue = deque()\n",
    "\n",
    "        def bfs(x, y):\n",
    "            queue.append((x, y))\n",
    "            grid[x][y] = \"0\"\n",
    "\n",
    "            while queue:\n",
    "                r, c = queue.popleft()\n",
    "                for a, b in direction:\n",
    "                    nr, nc = r + a, c + b\n",
    "                    if 0 <= nr < m and 0 <= nc < n and grid[nr][nc] == '1':\n",
    "                        queue.append((nr, nc))\n",
    "                        grid[nr][nc] = \"0\"\n",
    "\n",
    "        for i in range(m):\n",
    "            for j in range(n):\n",
    "                if grid[i][j] == '1':\n",
    "                    count += 1\n",
    "                    bfs(i, j)\n",
    "\n",
    "        return count"
   ]
  }
 ],
 "metadata": {
  "language_info": {
   "name": "python"
  }
 },
 "nbformat": 4,
 "nbformat_minor": 5
}
