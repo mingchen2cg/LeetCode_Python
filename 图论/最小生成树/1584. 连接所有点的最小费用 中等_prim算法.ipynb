{
 "cells": [
  {
   "cell_type": "code",
   "execution_count": null,
   "id": "9081495e",
   "metadata": {},
   "outputs": [],
   "source": [
    "class Solution(object):\n",
    "    def minCostConnectPoints(self, points):\n",
    "        \"\"\"\n",
    "        :type points: List[List[int]]\n",
    "        :rtype: int\n",
    "        prim 选的是 点 \n",
    "        \"\"\"\n",
    "        n = len(points)\n",
    "        if n == 1:\n",
    "            return 0\n",
    "        \n",
    "        minCost = []\n",
    "        ans = 0\n",
    "        # 选择一个点作为最小生成树的根节点， 创建minCost\n",
    "        for i in range(1, n):\n",
    "            minCost.append(\n",
    "                abs(points[i][0] - points[0][0]) + abs(points[i][1] - points[0][1]))\n",
    "\n",
    "        \n",
    "        for i in range(n-1):\n",
    "            minCostEdge = float(\"inf\")\n",
    "            idx = 0\n",
    "            for j in range(n-1):\n",
    "                if minCost[j] > 0 and minCost[j] < minCostEdge:\n",
    "                    minCostEdge = minCost[j]\n",
    "                    idx = j\n",
    "            ans += minCostEdge\n",
    "            minCost[idx] = -1\n",
    "            for k in range(n-1):\n",
    "                if minCost[k] > 0:\n",
    "                    minCost[k] = min(minCost[k], abs(points[idx+1][0] - points[k+1][0]) + abs(points[idx+1][1] - points[k+1][1]))\n",
    "\n",
    "        \n",
    "        return ans"
   ]
  },
  {
   "cell_type": "code",
   "execution_count": 42,
   "id": "995bfb41",
   "metadata": {},
   "outputs": [
    {
     "data": {
      "text/plain": [
       "4"
      ]
     },
     "execution_count": 42,
     "metadata": {},
     "output_type": "execute_result"
    }
   ],
   "source": [
    "points = [[0,0],[1,1],[1,0],[-1,1]]\n",
    "mysolution = Solution()\n",
    "ans= mysolution.minCostConnectPoints(points)\n",
    "ans"
   ]
  },
  {
   "cell_type": "code",
   "execution_count": 43,
   "id": "b22cad6c",
   "metadata": {},
   "outputs": [
    {
     "data": {
      "text/plain": [
       "inf"
      ]
     },
     "execution_count": 43,
     "metadata": {},
     "output_type": "execute_result"
    }
   ],
   "source": [
    "float(\"inf\") "
   ]
  }
 ],
 "metadata": {
  "kernelspec": {
   "display_name": "base",
   "language": "python",
   "name": "python3"
  },
  "language_info": {
   "codemirror_mode": {
    "name": "ipython",
    "version": 3
   },
   "file_extension": ".py",
   "mimetype": "text/x-python",
   "name": "python",
   "nbconvert_exporter": "python",
   "pygments_lexer": "ipython3",
   "version": "3.12.9"
  }
 },
 "nbformat": 4,
 "nbformat_minor": 5
}
