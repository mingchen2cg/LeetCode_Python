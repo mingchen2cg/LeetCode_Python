{
 "cells": [
  {
   "cell_type": "code",
   "execution_count": null,
   "id": "dd1dd5d4",
   "metadata": {},
   "outputs": [],
   "source": [
    "class Solution(object):\n",
    "    def minCostConnectPoints(self, points):\n",
    "        \"\"\"\n",
    "        :type points: List[List[int]]\n",
    "        :rtype: int\n",
    "        Kruskal 选的是 边\n",
    "        \"\"\"\n",
    "        n = len(points)\n",
    "        if n <= 1: # If 0 or 1 point, cost is 0\n",
    "            return 0\n",
    "\n",
    "        # 1. Create all edges with their weights\n",
    "        all_edges = []\n",
    "        for i in range(n):\n",
    "            for j in range(i + 1, n): # Avoid duplicate edges and self-loops\n",
    "                dist = abs(points[i][0] - points[j][0]) + abs(points[i][1] - points[j][1])\n",
    "                all_edges.append((dist, i, j))\n",
    "\n",
    "        # 2. Sort edges by weight\n",
    "        all_edges.sort()\n",
    "\n",
    "        # 3. Initialize Disjoint Set Union (DSU)\n",
    "        parent = list(range(n)) # Each node is its own parent initially\n",
    "        # Rank can be used for optimization (union by rank/size), but not strictly necessary for correctness\n",
    "        # rank = [0] * n\n",
    "\n",
    "        def find(i):\n",
    "            if parent[i] == i:\n",
    "                return i\n",
    "            parent[i] = find(parent[i]) # Path compression\n",
    "            return parent[i]\n",
    "\n",
    "        def union(i, j):\n",
    "            root_i = find(i)\n",
    "            root_j = find(j)\n",
    "            if root_i != root_j:\n",
    "                # Simple union: make root_i's parent root_j\n",
    "                # Could be optimized with union by rank or size\n",
    "                parent[root_i] = root_j\n",
    "                return True # Return True if a merge happened\n",
    "            return False # Return False if already in the same set\n",
    "\n",
    "        min_cost = 0\n",
    "        edges_count = 0\n",
    "\n",
    "        # 4. Iterate through sorted edges and build MST\n",
    "        for cost, u, v in all_edges:\n",
    "            if union(u, v): # If u and v are not already connected\n",
    "                min_cost += cost\n",
    "                edges_count += 1\n",
    "                if edges_count == n - 1: # MST is complete\n",
    "                    break\n",
    "        \n",
    "        return min_cost"
   ]
  },
  {
   "cell_type": "code",
   "execution_count": null,
   "id": "326d630a",
   "metadata": {},
   "outputs": [],
   "source": [
    "points = [[0,0],[1,1],[1,0],[-1,1]]\n",
    "mysolution = Solution()\n",
    "ans= mysolution.minCostConnectPoints(points)\n",
    "ans"
   ]
  }
 ],
 "metadata": {
  "language_info": {
   "name": "python"
  }
 },
 "nbformat": 4,
 "nbformat_minor": 5
}
