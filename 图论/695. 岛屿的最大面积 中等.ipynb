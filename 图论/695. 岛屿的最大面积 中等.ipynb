{
 "cells": [
  {
   "cell_type": "code",
   "execution_count": null,
   "id": "65705a4f",
   "metadata": {},
   "outputs": [],
   "source": [
    "class Solution(object):\n",
    "    def maxAreaOfIsland(self, grid):\n",
    "        \"\"\"\n",
    "        :type grid: List[List[int]]\n",
    "        :rtype: int\n",
    "        \"\"\"\n",
    "        from collections import deque\n",
    "        m, n = len(grid), len(grid[0])\n",
    "        direction = [[0, 1], [1, 0], [-1, 0], [0, -1]]\n",
    "        queue = deque()\n",
    "        max_area = 0\n",
    "\n",
    "        def bfs(x, y):\n",
    "            queue.append((x, y))\n",
    "            grid[x][y] = \"0\"\n",
    "            single_area = 1\n",
    "\n",
    "            while queue:\n",
    "                r, c = queue.popleft()\n",
    "                for a, b in direction:\n",
    "                    nr, nc = r+a, c+b\n",
    "                    if 0 <= nr < m and 0 <= nc < n and grid[nr][nc] == 1:\n",
    "                        queue.append((nr, nc))\n",
    "                        grid[nr][nc] = \"0\"\n",
    "                        single_area += 1\n",
    "\n",
    "            return single_area\n",
    "\n",
    "        for i in range(m):\n",
    "            for j in range(n):\n",
    "                if grid[i][j] == 1:\n",
    "                    # print(i,j)\n",
    "                    area = bfs(i, j)\n",
    "                    max_area = max(max_area, area)\n",
    "\n",
    "        return max_area"
   ]
  },
  {
   "cell_type": "code",
   "execution_count": 12,
   "id": "c97db211",
   "metadata": {},
   "outputs": [
    {
     "data": {
      "text/plain": [
       "6"
      ]
     },
     "execution_count": 12,
     "metadata": {},
     "output_type": "execute_result"
    }
   ],
   "source": [
    "grid = [[0, 0, 1, 0, 0, 0, 0, 1, 0, 0, 0, 0, 0], [0, 0, 0, 0, 0, 0, 0, 1, 1, 1, 0, 0, 0], [0, 1, 1, 0, 1, 0, 0, 0, 0, 0, 0, 0, 0], [0, 1, 0, 0, 1, 1, 0, 0, 1, 0, 1, 0, 0], [\n",
    "    0, 1, 0, 0, 1, 1, 0, 0, 1, 1, 1, 0, 0], [0, 0, 0, 0, 0, 0, 0, 0, 0, 0, 1, 0, 0], [0, 0, 0, 0, 0, 0, 0, 1, 1, 1, 0, 0, 0], [0, 0, 0, 0, 0, 0, 0, 1, 1, 0, 0, 0, 0]]\n",
    "\n",
    "mysolution = Solution()\n",
    "ans = mysolution.maxAreaOfIsland(grid)\n",
    "ans"
   ]
  }
 ],
 "metadata": {
  "kernelspec": {
   "display_name": "base",
   "language": "python",
   "name": "python3"
  },
  "language_info": {
   "codemirror_mode": {
    "name": "ipython",
    "version": 3
   },
   "file_extension": ".py",
   "mimetype": "text/x-python",
   "name": "python",
   "nbconvert_exporter": "python",
   "pygments_lexer": "ipython3",
   "version": "3.12.9"
  }
 },
 "nbformat": 4,
 "nbformat_minor": 5
}
