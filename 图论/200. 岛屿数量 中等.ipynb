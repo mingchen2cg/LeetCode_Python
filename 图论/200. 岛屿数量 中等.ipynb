{
 "cells": [
  {
   "cell_type": "code",
   "execution_count": 1,
   "id": "275fef14",
   "metadata": {},
   "outputs": [],
   "source": [
    "class Solution(object):\n",
    "    def numIslands(self, grid):\n",
    "        \"\"\"\n",
    "        :type grid: List[List[str]]\n",
    "        :rtype: int\n",
    "        \"\"\"\n",
    "        count = 0\n",
    "        m, n = len(grid), len(grid[0])\n",
    "        visited = [[False] * n for _ in range(m)]\n",
    "        direction = [[0, 1], [1, 0], [-1, 0], [0, -1]]\n",
    "\n",
    "        def dfs(x, y):\n",
    "            if x < 0 or x >= m or y < 0 or y >= n or grid[x][y] == \"0\" or visited[x][y] == True:\n",
    "                return\n",
    "            else:\n",
    "                visited[x][y] = True\n",
    "                for a, b in direction:\n",
    "                    dfs(x+a, y+b)\n",
    "\n",
    "        for i in range(m):\n",
    "            for j in range(n):\n",
    "                if grid[i][j] == \"0\" or visited[i][j]:\n",
    "                    continue\n",
    "                else:\n",
    "                    count += 1\n",
    "                    dfs(i, j)\n",
    "        \n",
    "        return count"
   ]
  },
  {
   "cell_type": "code",
   "execution_count": null,
   "id": "a8de33b2",
   "metadata": {},
   "outputs": [],
   "source": [
    "class Solution(object):\n",
    "    def numIslands(self, grid):\n",
    "        \"\"\"\n",
    "        :type grid: List[List[str]]\n",
    "        :rtype: int\n",
    "        \"\"\"\n",
    "        count = 0\n",
    "        m, n = len(grid), len(grid[0])\n",
    "        # visited = [[False] * n for _ in range(m)]\n",
    "        direction = [[0, 1], [1, 0], [-1, 0], [0, -1]]\n",
    "        \n",
    "        def dfs(x,y):\n",
    "            if x < 0 or x >= m or y < 0 or y >= n or grid[x][y] == \"0\":\n",
    "                return\n",
    "            else:\n",
    "                grid[x][y] = \"0\"\n",
    "                for a,b in direction:\n",
    "                    dfs(x+a,y+b)\n",
    "                    \n",
    "        for i in range(m):\n",
    "            for j in range(n):\n",
    "                if grid[i][j] == \"1\":\n",
    "                    count += 1\n",
    "                    dfs(i, j)\n",
    "        return count"
   ]
  },
  {
   "cell_type": "code",
   "execution_count": 3,
   "id": "d6b64506",
   "metadata": {},
   "outputs": [
    {
     "data": {
      "text/plain": [
       "3"
      ]
     },
     "execution_count": 3,
     "metadata": {},
     "output_type": "execute_result"
    }
   ],
   "source": [
    "grid = [\n",
    "  [\"1\",\"1\",\"0\",\"0\",\"0\"],\n",
    "  [\"1\",\"1\",\"0\",\"0\",\"0\"],\n",
    "  [\"0\",\"0\",\"1\",\"0\",\"0\"],\n",
    "  [\"0\",\"0\",\"0\",\"1\",\"1\"]\n",
    "]\n",
    "mysolution = Solution()\n",
    "ans = mysolution.numIslands(grid)\n",
    "ans\n"
   ]
  },
  {
   "cell_type": "code",
   "execution_count": 2,
   "id": "5cacc728",
   "metadata": {},
   "outputs": [
    {
     "name": "stdout",
     "output_type": "stream",
     "text": [
      "0 1\n",
      "1 0\n",
      "-1 0\n",
      "0 -1\n"
     ]
    }
   ],
   "source": [
    "direction = [[0, 1], [1, 0], [-1, 0], [0, -1]]\n",
    "\n",
    "for a,b in direction:\n",
    "    print(a,b)"
   ]
  }
 ],
 "metadata": {
  "kernelspec": {
   "display_name": "base",
   "language": "python",
   "name": "python3"
  },
  "language_info": {
   "codemirror_mode": {
    "name": "ipython",
    "version": 3
   },
   "file_extension": ".py",
   "mimetype": "text/x-python",
   "name": "python",
   "nbconvert_exporter": "python",
   "pygments_lexer": "ipython3",
   "version": "3.12.9"
  }
 },
 "nbformat": 4,
 "nbformat_minor": 5
}
