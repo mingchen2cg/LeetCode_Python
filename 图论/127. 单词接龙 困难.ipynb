{
 "cells": [
  {
   "cell_type": "code",
   "execution_count": 8,
   "id": "f088805a",
   "metadata": {},
   "outputs": [],
   "source": [
    "class Solution(object):\n",
    "    def ladderLength(self, beginWord, endWord, wordList):\n",
    "        \"\"\"\n",
    "        :type beginWord: str\n",
    "        :type endWord: str\n",
    "        :type wordList: List[str]\n",
    "        :rtype: int\n",
    "        \"\"\"\n",
    "        if endWord not in wordList:\n",
    "            return 0\n",
    "        \n",
    "        from collections import deque\n",
    "        word_set = set(wordList)  # Use a set for faster lookups\n",
    "        queue = deque([(beginWord, 1)])  # Store (word, distance) pairs\n",
    "        visited = {beginWord}\n",
    "\n",
    "        while queue:\n",
    "            current_word, distance = queue.popleft()\n",
    "\n",
    "            if current_word == endWord:\n",
    "                return distance\n",
    "\n",
    "            for i in range(len(current_word)):\n",
    "                for char_code in range(ord('a'), ord('z') + 1):\n",
    "                    next_word = current_word[:i] + chr(char_code) + current_word[i+1:]\n",
    "\n",
    "                    if next_word in word_set and next_word not in visited:\n",
    "                        visited.add(next_word)\n",
    "                        queue.append((next_word, distance + 1))\n",
    "\n",
    "        return 0"
   ]
  },
  {
   "cell_type": "code",
   "execution_count": 9,
   "id": "d08d9649",
   "metadata": {},
   "outputs": [
    {
     "data": {
      "text/plain": [
       "5"
      ]
     },
     "execution_count": 9,
     "metadata": {},
     "output_type": "execute_result"
    }
   ],
   "source": [
    "beginWord = \"hit\"\n",
    "endWord = \"cog\"\n",
    "wordList = [\"hot\", \"dot\", \"dog\", \"lot\", \"log\", \"cog\"]\n",
    "mysolution = Solution()\n",
    "ans = mysolution.ladderLength(beginWord, endWord, wordList)\n",
    "ans"
   ]
  },
  {
   "cell_type": "code",
   "execution_count": 11,
   "id": "0d2acf43",
   "metadata": {},
   "outputs": [
    {
     "name": "stdout",
     "output_type": "stream",
     "text": [
      "<class 'set'>\n",
      "<class 'dict'>\n"
     ]
    }
   ],
   "source": [
    "visited = {beginWord}\n",
    "print(type(visited))\n",
    "dict = {}\n",
    "print(type(dict))"
   ]
  },
  {
   "cell_type": "code",
   "execution_count": null,
   "id": "7f66c2c9",
   "metadata": {},
   "outputs": [],
   "source": [
    "word1 = \"dig\"\n",
    "word2 = \"dig\"\n",
    "\n",
    "for char_code in range(ord('a'), ord('z') + 1):\n",
    "    if chr(char_code) != word1[1]:\n",
    "        print(chr(char_code))\n",
    "    \n",
    "print(word1 == word2)"
   ]
  }
 ],
 "metadata": {
  "kernelspec": {
   "display_name": "base",
   "language": "python",
   "name": "python3"
  },
  "language_info": {
   "codemirror_mode": {
    "name": "ipython",
    "version": 3
   },
   "file_extension": ".py",
   "mimetype": "text/x-python",
   "name": "python",
   "nbconvert_exporter": "python",
   "pygments_lexer": "ipython3",
   "version": "3.12.9"
  }
 },
 "nbformat": 4,
 "nbformat_minor": 5
}
