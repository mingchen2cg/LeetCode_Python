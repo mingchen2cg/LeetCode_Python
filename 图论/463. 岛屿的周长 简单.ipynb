{
 "cells": [
  {
   "cell_type": "code",
   "execution_count": null,
   "id": "76a423d4",
   "metadata": {},
   "outputs": [],
   "source": [
    "class Solution(object):\n",
    "    def islandPerimeter(self, grid):\n",
    "        rows = len(grid)\n",
    "        cols = len(grid[0])\n",
    "        perimeter = 0\n",
    "\n",
    "        for i in range(rows):\n",
    "            for j in range(cols):\n",
    "                if grid[i][j] == 1:\n",
    "                    # 检查上方\n",
    "                    if i == 0 or grid[i - 1][j] == 0:\n",
    "                        perimeter += 1\n",
    "                    # 检查下方\n",
    "                    if i == rows - 1 or grid[i + 1][j] == 0:\n",
    "                        perimeter += 1\n",
    "                    # 检查左方\n",
    "                    if j == 0 or grid[i][j - 1] == 0:\n",
    "                        perimeter += 1\n",
    "                    # 检查右方\n",
    "                    if j == cols - 1 or grid[i][j + 1] == 0:\n",
    "                        perimeter += 1\n",
    "        return perimeter\n"
   ]
  },
  {
   "cell_type": "code",
   "execution_count": null,
   "id": "cbe8e1e8",
   "metadata": {},
   "outputs": [],
   "source": [
    "class Solution(object):\n",
    "    def islandPerimeter(self, grid):\n",
    "        rows = len(grid)\n",
    "        cols = len(grid[0])\n",
    "        perimeter = 0\n",
    "\n",
    "        def dfs(i, j):\n",
    "            if i < 0 or i >= rows or j < 0 or j >= cols or grid[i][j] == 0:\n",
    "                return 1  # 遇到水域或边界，周长加 1\n",
    "            if grid[i][j] == -1:  # 已访问\n",
    "                return 0\n",
    "\n",
    "            grid[i][j] = -1  # 标记为已访问\n",
    "            p = 0\n",
    "            p += dfs(i + 1, j)\n",
    "            p += dfs(i - 1, j)\n",
    "            p += dfs(i, j + 1)\n",
    "            p += dfs(i, j - 1)\n",
    "            return p\n",
    "\n",
    "        for i in range(rows):\n",
    "            for j in range(cols):\n",
    "                if grid[i][j] == 1:\n",
    "                    perimeter = dfs(i, j) # 从任意一个陆地单元格开始 DFS\n",
    "                    return perimeter # 由于只有一个岛屿，找到一个就可以停止\n",
    "\n",
    "        return perimeter"
   ]
  },
  {
   "cell_type": "code",
   "execution_count": 2,
   "id": "e429cad3",
   "metadata": {},
   "outputs": [
    {
     "data": {
      "text/plain": [
       "16"
      ]
     },
     "execution_count": 2,
     "metadata": {},
     "output_type": "execute_result"
    }
   ],
   "source": [
    "grid = [[0,1,0,0],[1,1,1,0],[0,1,0,0],[1,1,0,0]]\n",
    "mysolution = Solution()\n",
    "ans = mysolution.islandPerimeter(grid)\n",
    "ans"
   ]
  }
 ],
 "metadata": {
  "kernelspec": {
   "display_name": "base",
   "language": "python",
   "name": "python3"
  },
  "language_info": {
   "codemirror_mode": {
    "name": "ipython",
    "version": 3
   },
   "file_extension": ".py",
   "mimetype": "text/x-python",
   "name": "python",
   "nbconvert_exporter": "python",
   "pygments_lexer": "ipython3",
   "version": "3.12.9"
  }
 },
 "nbformat": 4,
 "nbformat_minor": 5
}
