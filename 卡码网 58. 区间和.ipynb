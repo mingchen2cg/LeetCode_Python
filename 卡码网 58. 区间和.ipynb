{
 "cells": [
  {
   "cell_type": "code",
   "execution_count": null,
   "id": "d758c408",
   "metadata": {},
   "outputs": [],
   "source": [
    "import sys \n",
    "input = sys.stdin.read\n",
    "\n",
    "def main():\n",
    "    data = input().split()\n",
    "    index = 0 \n",
    "    n = int(data[index])  #整数数组 Array 的长度 n\n",
    "    index += 1 \n",
    "    vec = []\n",
    "    for i in range(n):    #数组的元素\n",
    "        vec.append(int(data[index + i]))\n",
    "    index += n \n",
    "    \n",
    "    tempSum = [0] * n\n",
    "    presum = 0    # 前缀和 \n",
    "    for i in range(n):\n",
    "        presum += vec[i]\n",
    "        tempSum[i] = presum\n",
    "    \n",
    "    result = []\n",
    "    while index < len(data):\n",
    "        a = int(data[index])\n",
    "        b = int(data[index + 1])\n",
    "        index += 2 \n",
    "\n",
    "        if a == 0:\n",
    "            sum_value = tempSum[b]\n",
    "        else:\n",
    "            sum_value = tempSum[b] - tempSum[a - 1]\n",
    "        \n",
    "        result.append(sum_value)\n",
    "\n",
    "    for res in result:\n",
    "        print(res)\n",
    "\n",
    "\n",
    "if __name__ == \"__main__\":\n",
    "    main()"
   ]
  }
 ],
 "metadata": {
  "kernelspec": {
   "display_name": "Python 3",
   "language": "python",
   "name": "python3"
  },
  "language_info": {
   "codemirror_mode": {
    "name": "ipython",
    "version": 2
   },
   "file_extension": ".py",
   "mimetype": "text/x-python",
   "name": "python",
   "nbconvert_exporter": "python",
   "pygments_lexer": "ipython2",
   "version": "2.7.6"
  }
 },
 "nbformat": 4,
 "nbformat_minor": 5
}
