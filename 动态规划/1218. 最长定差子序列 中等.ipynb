{
 "cells": [
  {
   "cell_type": "markdown",
   "id": "ef6ce56c",
   "metadata": {},
   "source": [
    "\n",
    "\n",
    "length[i]: 以 nums[i] 结尾的最长子序列的长度\n"
   ]
  },
  {
   "cell_type": "code",
   "execution_count": null,
   "id": "f5a71e80",
   "metadata": {},
   "outputs": [],
   "source": [
    "# class Solution(object):\n",
    "#     def longestSubsequence(self, arr, difference):\n",
    "#         \"\"\"\n",
    "#         :type arr: List[int]\n",
    "#         :type difference: int\n",
    "#         :rtype: int\n",
    "#         \"\"\"\n",
    "#         n = len(arr)\n",
    "#         length = [1] * n\n",
    "        \n",
    "#         for i in range(n):\n",
    "#             for j in range(i):\n",
    "#                 if arr[i] - arr[j] == difference:\n",
    "#                     if length[j] + 1 > length[i]:\n",
    "#                         length[i] = length[j] + 1\n",
    "#         # print(length)               \n",
    "#         return max(length)"
   ]
  },
  {
   "cell_type": "code",
   "execution_count": 5,
   "id": "82cd1d90",
   "metadata": {},
   "outputs": [],
   "source": [
    "class Solution(object):\n",
    "    def longestSubsequence(self, arr, difference):\n",
    "        \"\"\"\n",
    "        :type arr: List[int]\n",
    "        :type difference: int\n",
    "        :rtype: int\n",
    "        \"\"\"\n",
    "        dp = {}\n",
    "        maxlen = 0\n",
    "\n",
    "        for num in arr:\n",
    "            if dp.get(num-difference,0) > 0:\n",
    "                dp[num] = dp.get(num-difference,0) + 1 \n",
    "                if dp[num] > maxlen:\n",
    "                    maxlen = dp[num]\n",
    "            else:\n",
    "                dp[num] = 1\n",
    "                if dp[num] > maxlen:\n",
    "                    maxlen = dp[num]\n",
    "                    \n",
    "        return maxlen\n"
   ]
  },
  {
   "cell_type": "code",
   "execution_count": 3,
   "id": "b251240a",
   "metadata": {},
   "outputs": [],
   "source": [
    "class Solution(object):\n",
    "    def longestSubsequence(self, arr, difference):\n",
    "        \"\"\"\n",
    "        :type arr: List[int]\n",
    "        :type difference: int\n",
    "        :rtype: int\n",
    "        \"\"\"\n",
    "        from collections import defaultdict\n",
    "        \n",
    "        dp = defaultdict(int)\n",
    "        for v in arr:\n",
    "            dp[v] = dp[v - difference] + 1\n",
    "        return max(dp.values())"
   ]
  },
  {
   "cell_type": "code",
   "execution_count": 4,
   "id": "7a10b28d",
   "metadata": {},
   "outputs": [
    {
     "data": {
      "text/plain": [
       "4"
      ]
     },
     "execution_count": 4,
     "metadata": {},
     "output_type": "execute_result"
    }
   ],
   "source": [
    "arr = [1,5,7,8,5,3,4,2,1]\n",
    "\n",
    "difference = -2\n",
    "mysolution = Solution()\n",
    "ans = mysolution.longestSubsequence(arr, difference)\n",
    "ans"
   ]
  }
 ],
 "metadata": {
  "kernelspec": {
   "display_name": "base",
   "language": "python",
   "name": "python3"
  },
  "language_info": {
   "codemirror_mode": {
    "name": "ipython",
    "version": 3
   },
   "file_extension": ".py",
   "mimetype": "text/x-python",
   "name": "python",
   "nbconvert_exporter": "python",
   "pygments_lexer": "ipython3",
   "version": "3.12.9"
  }
 },
 "nbformat": 4,
 "nbformat_minor": 5
}
