{
 "cells": [
  {
   "cell_type": "code",
   "execution_count": null,
   "id": "7571ca42",
   "metadata": {},
   "outputs": [],
   "source": [
    "class Solution(object):\n",
    "    def findLengthOfLCIS(self, nums):\n",
    "        \"\"\"\n",
    "        :type nums: List[int]\n",
    "        :rtype: int\n",
    "        \"\"\"\n",
    "        n = len(nums)\n",
    "        if n == 0 or n == 1:\n",
    "            return n\n",
    "        # dp[i] 表示以 下标为i的数字结尾的最长连续递增序列长度\n",
    "        dp = [1] * n\n",
    "\n",
    "        for i in range(1, n):\n",
    "            if nums[i] > nums[i-1]:\n",
    "                dp[i] = dp[i-1] + 1\n",
    "        \n",
    "        return max(dp)"
   ]
  }
 ],
 "metadata": {
  "language_info": {
   "name": "python"
  }
 },
 "nbformat": 4,
 "nbformat_minor": 5
}
