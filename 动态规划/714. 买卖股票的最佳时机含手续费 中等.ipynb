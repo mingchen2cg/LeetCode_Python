{
 "cells": [
  {
   "cell_type": "code",
   "execution_count": null,
   "id": "2df0a079",
   "metadata": {},
   "outputs": [],
   "source": [
    "class Solution(object):\n",
    "    def maxProfit(self, prices, fee):\n",
    "        \"\"\"\n",
    "        :type prices: List[int]\n",
    "        :type fee: int\n",
    "        :rtype: int\n",
    "        \"\"\"\n",
    "        n = len(prices)\n",
    "        if n == 1:\n",
    "            return 0\n",
    "\n",
    "        hold = [0] * n\n",
    "        unhold = [0] * n\n",
    "\n",
    "        hold[0] = -prices[0]\n",
    "        unhold[0] = 0\n",
    "\n",
    "        for i in range(1, n):\n",
    "            hold[i] = max(hold[i-1], unhold[i-1] - prices[i])\n",
    "            unhold[i] = max(unhold[i-1], hold[i-1] + prices[i] - fee)\n",
    "\n",
    "        return max(hold[-1], unhold[-1])"
   ]
  },
  {
   "cell_type": "code",
   "execution_count": null,
   "id": "c911b4eb",
   "metadata": {},
   "outputs": [],
   "source": [
    "class Solution(object):\n",
    "    def maxProfit(self, prices, fee):\n",
    "        \"\"\"\n",
    "        计算买卖股票的最大利润，每次交易（卖出时）需支付手续费。\n",
    "        这里采用一种贪心算法来解决此问题。\n",
    "\n",
    "        :type prices: List[int]  # 股票每日价格列表，prices[i] 是第 i 天的价格\n",
    "        :type fee: int           # 每笔交易需要支付的手续费\n",
    "        :rtype: int              # 通过多次交易（含手续费）能获得的最大总利润\n",
    "        \"\"\"\n",
    "        n = len(prices)\n",
    "\n",
    "        # 边界条件：如果价格列表为空或只有一个价格，无法进行任何交易，利润为0\n",
    "        if n <= 1:\n",
    "            return 0\n",
    "\n",
    "        # total_profit: 记录到目前为止，通过交易获得的最大总利润。初始时利润为0。\n",
    "        total_profit = 0\n",
    "\n",
    "        # min_effective_buy_cost: 这是一个关键变量，它代表了我们为了持有股票\n",
    "        # 所愿意接受的最低“有效”买入成本。这个成本是实际买入价格加上手续费。\n",
    "        # 我们总是希望能以最低的有效成本买入，并在高价卖出。\n",
    "        # 初始时，我们假设在第一天以 prices[0] 买入。那么为了回本（不计未来卖出时的手续费），\n",
    "        # 有效成本就是 prices[0] 加上卖出时需要支付的手续费 fee。\n",
    "        # 这里的逻辑是将手续费 fee 预先加到买入成本上，这样我们在比较卖出价格时，\n",
    "        # 就可以直接用 (卖出价格 - 有效买入成本) 来计算净利润。\n",
    "        min_effective_buy_cost = prices[0] + fee\n",
    "\n",
    "        # 遍历后续的每一天价格\n",
    "        # 从 prices[0] 开始遍历，并尝试更新 min_effective_buy_cost 或累积利润\n",
    "        for price in prices:\n",
    "            # 情况 1: 当前价格 price 高于我们的“最低有效买入成本”。\n",
    "            # 这意味着如果在 min_effective_buy_cost 对应的实际买入价格\n",
    "            # (即 min_effective_buy_cost - fee) 买入，\n",
    "            # 然后在当前 price 卖出，就可以获得利润。\n",
    "            # 获得的净利润是 price - (实际买入价格) - fee\n",
    "            # 因为 min_effective_buy_cost = 实际买入价格 + fee，\n",
    "            # 所以 price - min_effective_buy_cost = price - (实际买入价格 + fee) = price - 实际买入价格 - fee。\n",
    "            # 这正好是这笔交易的净利润。我们将这笔利润加到总利润中。\n",
    "            # 完成这次“卖出”并获得利润后，我们当前手里没有股票。\n",
    "            # 为了寻找下一笔盈利机会，我们需要确定新的“最低有效买入成本”门槛。\n",
    "            # 贪心的策略是，将当前卖出价格 price 设为新的门槛。\n",
    "            # 这意味着从现在开始，我们需要找到一个高于 price 的未来价格才能产生新的利润积累\n",
    "            # （因为有效买入成本门槛被提高到了 price）。\n",
    "            if price > min_effective_buy_cost:\n",
    "                total_profit += price - min_effective_buy_cost\n",
    "                # 更新门槛：将当前卖出价格设为新的“最低有效买入成本”的基准点\n",
    "                min_effective_buy_cost = price\n",
    "\n",
    "            # 情况 2: 当前价格 price 提供了一个更好的潜在“有效买入机会”。\n",
    "            # 如果在当前 price 买入并支付手续费 fee，总的有效成本是 price + fee。\n",
    "            # 如果这个新的有效成本 price + fee 比当前的 min_effective_buy_cost 更低，\n",
    "            # 那么我们就找到了一个更好的买入时机，将 min_effective_buy_cost 更新为这个更低的值。\n",
    "            # 这样未来的利润计算就会基于这个更低的有效成本进行。\n",
    "            elif price + fee < min_effective_buy_cost:\n",
    "                min_effective_buy_cost = price + fee\n",
    "                \n",
    "            # else: # price <= min_effective_buy_cost 且 price + fee >= min_effective_buy_cost\n",
    "            #       # 当前价格不足以盈利，也没有找到更低的有效买入成本，保持当前状态不变。\n",
    "\n",
    "        # 循环结束后，total_profit 就是我们可以获得的最大总利润\n",
    "        return total_profit"
   ]
  },
  {
   "cell_type": "code",
   "execution_count": 13,
   "id": "3e847aaa",
   "metadata": {},
   "outputs": [
    {
     "name": "stdout",
     "output_type": "stream",
     "text": [
      "[-1, -1, -1, -1, -1, 3]\n",
      "[0, 0, 3, 3, 6, 6]\n"
     ]
    },
    {
     "data": {
      "text/plain": [
       "6"
      ]
     },
     "execution_count": 13,
     "metadata": {},
     "output_type": "execute_result"
    }
   ],
   "source": [
    "prices = [1,3,7,5,10,3]\n",
    "fee = 3\n",
    "mysolution  = Solution()\n",
    "ans = mysolution.maxProfit(prices,fee)\n",
    "ans"
   ]
  }
 ],
 "metadata": {
  "kernelspec": {
   "display_name": "base",
   "language": "python",
   "name": "python3"
  },
  "language_info": {
   "codemirror_mode": {
    "name": "ipython",
    "version": 3
   },
   "file_extension": ".py",
   "mimetype": "text/x-python",
   "name": "python",
   "nbconvert_exporter": "python",
   "pygments_lexer": "ipython3",
   "version": "3.12.9"
  }
 },
 "nbformat": 4,
 "nbformat_minor": 5
}
