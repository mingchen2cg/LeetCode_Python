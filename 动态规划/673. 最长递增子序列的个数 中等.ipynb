{
 "cells": [
  {
   "cell_type": "markdown",
   "id": "8b6aa7b0",
   "metadata": {},
   "source": [
    "我们需要维护两个数组：\n",
    "\n",
    "length[i]: 以 nums[i] 结尾的最长递增子序列的长度\n",
    "\n",
    "count[i]: 以 nums[i] 结尾的、长度为 length[i] 的子序列个数"
   ]
  },
  {
   "cell_type": "code",
   "execution_count": null,
   "id": "67714ad9",
   "metadata": {},
   "outputs": [],
   "source": [
    "class Solution(object):\n",
    "    def findNumberOfLIS(self, nums):\n",
    "        \"\"\"\n",
    "        :type nums: List[int]\n",
    "        :rtype: int\n",
    "        \"\"\"\n",
    "        n = len(nums)\n",
    "        length = [1] * n\n",
    "        count = [1] * n\n",
    "\n",
    "        for i in range(n):\n",
    "            for j in range(i):\n",
    "                if nums[j] < nums[i]:\n",
    "                    if length[j] + 1 > length[i]:\n",
    "                        length[i] = length[j] + 1\n",
    "                        count[i] = count[j]\n",
    "                    elif length[j] + 1 == length[i]:\n",
    "                        count[i] += count[j]\n",
    "        \n",
    "        max_len = max(length)\n",
    "        return sum(c for l, c in zip(length,count) if l == max_len)"
   ]
  },
  {
   "cell_type": "code",
   "execution_count": 3,
   "id": "36969fa4",
   "metadata": {},
   "outputs": [
    {
     "data": {
      "text/plain": [
       "12"
      ]
     },
     "execution_count": 3,
     "metadata": {},
     "output_type": "execute_result"
    }
   ],
   "source": [
    "nums = [1,3,5,4,7]\n",
    "mysolution = Solution()\n",
    "ans = mysolution.findNumberOfLIS(nums)\n",
    "ans "
   ]
  }
 ],
 "metadata": {
  "kernelspec": {
   "display_name": "base",
   "language": "python",
   "name": "python3"
  },
  "language_info": {
   "codemirror_mode": {
    "name": "ipython",
    "version": 3
   },
   "file_extension": ".py",
   "mimetype": "text/x-python",
   "name": "python",
   "nbconvert_exporter": "python",
   "pygments_lexer": "ipython3",
   "version": "3.12.9"
  }
 },
 "nbformat": 4,
 "nbformat_minor": 5
}
