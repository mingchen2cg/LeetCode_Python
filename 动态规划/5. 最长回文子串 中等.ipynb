{
 "cells": [
  {
   "cell_type": "markdown",
   "id": "25f5edd9",
   "metadata": {},
   "source": [
    "![状态转移方程](./截屏2025-04-17%2015.00.57.png)"
   ]
  },
  {
   "cell_type": "code",
   "execution_count": null,
   "id": "ab65c647",
   "metadata": {},
   "outputs": [],
   "source": [
    "class Solution(object):\n",
    "    def longestPalindrome(self, s):\n",
    "        \"\"\"\n",
    "        :type s: str\n",
    "        :rtype: str\n",
    "        \"\"\"\n",
    "        # dp[i][j] 来表示字符串从第 i 个字符到第 j 个字符是否是回文串\n",
    "        n = len(s)\n",
    "        dp = [[False] * n for _ in range(n)]\n",
    "\n",
    "        # 所有的 dp[i][i] = True，因为单个字符一定是回文串。\n",
    "        for i in range(n):\n",
    "            dp[i][i] = True\n",
    "\n",
    "        start = 0  # 最长回文子串的起始位置\n",
    "        max_len = 1  # 最长长度至少是1\n",
    "\n",
    "        for length in range(2, n+1):\n",
    "            for i in range(n-length+1):\n",
    "                j = i + length - 1\n",
    "                if s[i] == s[j]:\n",
    "                    if length <= 3:\n",
    "                        dp[i][j] = True\n",
    "                    elif dp[i+1][j-1] == True:\n",
    "                        dp[i][j] = True\n",
    "                if dp[i][j] and length > max_len:\n",
    "                    max_len = length\n",
    "                    start = i\n",
    "\n",
    "        return s[start:start+max_len]"
   ]
  },
  {
   "cell_type": "code",
   "execution_count": 8,
   "id": "a251ebbb",
   "metadata": {},
   "outputs": [
    {
     "name": "stdout",
     "output_type": "stream",
     "text": [
      "[[True, False, False, False, False], [False, True, False, False, False], [False, False, True, False, False], [False, False, False, True, False], [False, False, False, False, True]]\n"
     ]
    }
   ],
   "source": [
    "s = \"babad\"\n",
    "mysolution =Solution()\n",
    "ans =mysolution.longestPalindrome(s)\n",
    "ans"
   ]
  }
 ],
 "metadata": {
  "kernelspec": {
   "display_name": "base",
   "language": "python",
   "name": "python3"
  },
  "language_info": {
   "codemirror_mode": {
    "name": "ipython",
    "version": 3
   },
   "file_extension": ".py",
   "mimetype": "text/x-python",
   "name": "python",
   "nbconvert_exporter": "python",
   "pygments_lexer": "ipython3",
   "version": "3.12.9"
  }
 },
 "nbformat": 4,
 "nbformat_minor": 5
}
