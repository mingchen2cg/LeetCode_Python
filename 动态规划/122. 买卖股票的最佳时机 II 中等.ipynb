{
 "cells": [
  {
   "cell_type": "code",
   "execution_count": null,
   "id": "ec2b7c03",
   "metadata": {},
   "outputs": [],
   "source": [
    "class Solution(object):\n",
    "    def maxProfit(self, prices):\n",
    "        \"\"\"\n",
    "        :type prices: List[int]\n",
    "        :rtype: int\n",
    "        \"\"\"\n",
    "        n = len(prices)\n",
    "        # 表示在第i天 持有或卖出的收益\n",
    "        hold = [0] * n\n",
    "        unhold = [0] * n\n",
    "\n",
    "        hold[0] = -prices[0]\n",
    "        unhold[0] = 0\n",
    "\n",
    "        for i in range(1, n):\n",
    "            hold[i] = max(hold[i-1], unhold[i-1] - prices[i])\n",
    "            unhold[i] = max(unhold[i-1], hold[i-1] + prices[i])\n",
    "            \n",
    "        return max(unhold[-1],hold[-1] + prices[-1])"
   ]
  },
  {
   "cell_type": "code",
   "execution_count": null,
   "id": "88024fb7",
   "metadata": {},
   "outputs": [],
   "source": [
    "class Solution(object):\n",
    "    def maxProfit(self, prices):\n",
    "        \"\"\"\n",
    "        :type prices: List[int]\n",
    "        :rtype: int\n",
    "        \"\"\"\n",
    "        max_pprofit = 0\n",
    "        for i in range(1,len(prices)):\n",
    "            if prices[i] > prices[i-1]:\n",
    "                max_pprofit += prices[i] - prices[i - 1]\n",
    "                \n",
    "        return max_pprofit"
   ]
  }
 ],
 "metadata": {
  "language_info": {
   "name": "python"
  }
 },
 "nbformat": 4,
 "nbformat_minor": 5
}
