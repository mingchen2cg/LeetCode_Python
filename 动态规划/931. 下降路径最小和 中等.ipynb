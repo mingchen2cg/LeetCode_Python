{
 "cells": [
  {
   "cell_type": "code",
   "execution_count": null,
   "id": "747653a9",
   "metadata": {},
   "outputs": [],
   "source": [
    "class Solution(object):\n",
    "    def minFallingPathSum(self, matrix):\n",
    "        \"\"\"\n",
    "        :type matrix: List[List[int]]\n",
    "        :rtype: int\n",
    "        \"\"\"\n",
    "        n = len(matrix)\n",
    "        if n  == 1:\n",
    "            return matrix[0][0]\n",
    "        \n",
    "        for index, line in enumerate(matrix):\n",
    "            if index >= 1:\n",
    "                line[0] += min(matrix[index-1][0], matrix[index-1][1])\n",
    "                for i in range(1, n-1):\n",
    "                    line[i] += min(matrix[index-1][i-1],matrix[index-1][i+1],matrix[index-1][i])\n",
    "                line[n-1] += min(matrix[index-1][n-1],matrix[index-1][n-2])\n",
    "        \n",
    "        print(matrix)"
   ]
  },
  {
   "cell_type": "code",
   "execution_count": 10,
   "id": "4823293d",
   "metadata": {},
   "outputs": [
    {
     "name": "stdout",
     "output_type": "stream",
     "text": [
      "[[2, 1, 3], [7, 6, 4], [13, 12, 9]]\n"
     ]
    }
   ],
   "source": [
    "matrix = [[2,1,3],[6,5,4],[7,8,9]]\n",
    "mysolution = Solution()\n",
    "ans = mysolution.minFallingPathSum(matrix)\n",
    "ans "
   ]
  }
 ],
 "metadata": {
  "kernelspec": {
   "display_name": "base",
   "language": "python",
   "name": "python3"
  },
  "language_info": {
   "codemirror_mode": {
    "name": "ipython",
    "version": 3
   },
   "file_extension": ".py",
   "mimetype": "text/x-python",
   "name": "python",
   "nbconvert_exporter": "python",
   "pygments_lexer": "ipython3",
   "version": "3.12.9"
  }
 },
 "nbformat": 4,
 "nbformat_minor": 5
}
