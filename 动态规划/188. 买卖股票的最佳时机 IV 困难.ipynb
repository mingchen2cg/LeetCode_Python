{
 "cells": [
  {
   "cell_type": "code",
   "execution_count": null,
   "id": "ce73b74c",
   "metadata": {},
   "outputs": [],
   "source": [
    "class Solution(object):\n",
    "    def maxProfit(self, k, prices):\n",
    "        \"\"\"\n",
    "        :type k: int\n",
    "        :type prices: List[int]\n",
    "        :rtype: int\n",
    "        \"\"\"\n",
    "        # buy1 = float('-inf')\n",
    "        # buy2 = float('-inf')\n",
    "        \n",
    "        buy = [float('-inf')] * k\n",
    "        sell = [0] * k\n",
    "\n",
    "\n",
    "        for price in prices:\n",
    "            for i in range(k - 1, -1,-1):\n",
    "                sell[i] = max(sell[i], buy[i] + price)\n",
    "                # 更新 buy[i]：\n",
    "                #   选择1: 保持前一天第 (i+1) 次购买后的状态 buy[i] (即继续持有)\n",
    "                #   选择2: 今天买入第 (i+1) 笔交易的股票。这要求“前一天”是完成了第 i 次交易的状态。\n",
    "                #          - 如果 i > 0, 则“前一天”完成了 i 次交易后的利润是 sell[i-1]。\n",
    "                #          - 如果 i = 0 (即这是第1次购买), 则之前没有交易，利润为 0。\n",
    "                profit_before_this_buy = sell[i-1] if i > 0 else 0\n",
    "                buy[i] = max(buy[i], profit_before_this_buy - price)\n",
    "                \n",
    "        return sell[-1]"
   ]
  }
 ],
 "metadata": {
  "language_info": {
   "name": "python"
  }
 },
 "nbformat": 4,
 "nbformat_minor": 5
}
