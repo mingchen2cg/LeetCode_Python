{
 "cells": [
  {
   "cell_type": "code",
   "execution_count": 54,
   "id": "4ae480a8",
   "metadata": {},
   "outputs": [],
   "source": [
    "class Solution(object):\n",
    "    def uniquePathsWithObstacles(self, obstacleGrid):\n",
    "        \"\"\"\n",
    "        :type obstacleGrid: List[List[int]]\n",
    "        :rtype: int\n",
    "        \"\"\"\n",
    "\n",
    "        if obstacleGrid[0][0] == 1:\n",
    "            return 0\n",
    "\n",
    "        m = len(obstacleGrid)\n",
    "        n = len(obstacleGrid[0])\n",
    "\n",
    "        firstline = [1] * n\n",
    "\n",
    "        # 确定第一行的状态 某个位置有障碍物，则该位置及其之后的位置全部不可到达 设为0\n",
    "        index = None\n",
    "        for i in range(n):\n",
    "            if obstacleGrid[0][i] == 1:\n",
    "                index = i\n",
    "                break\n",
    "        if index:\n",
    "            for i in range(index, n):\n",
    "                firstline[i] = 0\n",
    "\n",
    "        ans_arr = []\n",
    "        ans_arr.append(firstline)\n",
    "        for _ in range(m-1):\n",
    "            ans_arr.append([1]+[0]*(n-1))\n",
    "\n",
    "         # 确定第0列的状态 某个位置有障碍物，则该位置及其之后的位置全部不可到达 设为0\n",
    "\n",
    "        row = None\n",
    "        for i in range(m):\n",
    "            if obstacleGrid[i][0] == 1:\n",
    "                row = i\n",
    "                break\n",
    "\n",
    "        if row:\n",
    "            for i in range(row, m):\n",
    "                ans_arr[i][0] = 0\n",
    "\n",
    "        for i in range(1, m):\n",
    "            for j in range(1, n):\n",
    "                if obstacleGrid[i][j] == 1:\n",
    "                    ans_arr[i][j] = 0\n",
    "                else:\n",
    "                    ans_arr[i][j] = ans_arr[i-1][j] + ans_arr[i][j-1]\n",
    "\n",
    "        return ans_arr[m-1][n-1]"
   ]
  },
  {
   "cell_type": "code",
   "execution_count": 55,
   "id": "a86574a0",
   "metadata": {},
   "outputs": [
    {
     "data": {
      "text/plain": [
       "0"
      ]
     },
     "execution_count": 55,
     "metadata": {},
     "output_type": "execute_result"
    }
   ],
   "source": [
    "obstacleGrid = [[0,0],[1,1],[0,0]]\n",
    "# print(obstacleGrid)\n",
    "\n",
    "mysolution = Solution()\n",
    "ans = mysolution.uniquePathsWithObstacles(obstacleGrid)\n",
    "\n",
    "ans"
   ]
  }
 ],
 "metadata": {
  "kernelspec": {
   "display_name": "base",
   "language": "python",
   "name": "python3"
  },
  "language_info": {
   "codemirror_mode": {
    "name": "ipython",
    "version": 3
   },
   "file_extension": ".py",
   "mimetype": "text/x-python",
   "name": "python",
   "nbconvert_exporter": "python",
   "pygments_lexer": "ipython3",
   "version": "3.12.9"
  }
 },
 "nbformat": 4,
 "nbformat_minor": 5
}
