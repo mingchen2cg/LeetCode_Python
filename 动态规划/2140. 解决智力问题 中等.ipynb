{
 "cells": [
  {
   "cell_type": "code",
   "execution_count": null,
   "id": "8840799b",
   "metadata": {},
   "outputs": [],
   "source": [
    "class Solution(object):\n",
    "    def mostPoints(self, questions):\n",
    "        \"\"\"\n",
    "        :type questions: List[List[int]]\n",
    "        :rtype: int\n",
    "        \"\"\"\n",
    "        n = len(questions)\n",
    "        points = [0] * n\n",
    "        points[n-1] = questions[-1][0]\n",
    "\n",
    "        for i in range(n - 2, -1, -1):\n",
    "            # 选择跳过当前问题\n",
    "            pass_question = points[i+1]\n",
    "\n",
    "            # 选择解决这个问题\n",
    "            # 1. 如果解决这个问题之后，下一个能解决的问题不会越界\n",
    "            if i + questions[i][1] + 1 < n:\n",
    "                solve = questions[i][0] + points[i + questions[i][1] + 1]\n",
    "            # 2.如果越界\n",
    "            else:\n",
    "                solve = questions[i][0]\n",
    "\n",
    "            points[i] = max(pass_question, solve)\n",
    "\n",
    "        # print(points)\n",
    "\n",
    "        return points[0]"
   ]
  },
  {
   "cell_type": "code",
   "execution_count": 8,
   "id": "75baced1",
   "metadata": {},
   "outputs": [
    {
     "name": "stdout",
     "output_type": "stream",
     "text": [
      "[5, 4, 4, 2]\n"
     ]
    },
    {
     "data": {
      "text/plain": [
       "5"
      ]
     },
     "execution_count": 8,
     "metadata": {},
     "output_type": "execute_result"
    }
   ],
   "source": [
    "questions = [[3,2],[4,3],[4,4],[2,5]]\n",
    "mysolution = Solution()\n",
    "ans = mysolution.mostPoints(questions)\n",
    "ans "
   ]
  }
 ],
 "metadata": {
  "kernelspec": {
   "display_name": "base",
   "language": "python",
   "name": "python3"
  },
  "language_info": {
   "codemirror_mode": {
    "name": "ipython",
    "version": 3
   },
   "file_extension": ".py",
   "mimetype": "text/x-python",
   "name": "python",
   "nbconvert_exporter": "python",
   "pygments_lexer": "ipython3",
   "version": "3.12.9"
  }
 },
 "nbformat": 4,
 "nbformat_minor": 5
}
