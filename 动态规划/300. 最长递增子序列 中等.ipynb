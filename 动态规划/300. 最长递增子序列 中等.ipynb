{
 "cells": [
  {
   "cell_type": "markdown",
   "id": "fbc98a72",
   "metadata": {},
   "source": [
    "<!-- 定义 dp[i] 表示以 nums[i] 结尾的最长递增子序列长度。 -->\n",
    "\n",
    "<!-- 初始化所有 dp[i] = 1，因为每个元素本身就是一个递增子序列。 -->"
   ]
  },
  {
   "cell_type": "code",
   "execution_count": null,
   "id": "b5deabb2",
   "metadata": {},
   "outputs": [],
   "source": [
    "class Solution(object):\n",
    "    def lengthOfLIS(self, nums):\n",
    "        \"\"\"\n",
    "        :type nums: List[int]\n",
    "        :rtype: int\n",
    "        \"\"\"\n",
    "        if not nums:\n",
    "            return 0\n",
    "        \n",
    "        n = len(nums)\n",
    "        # dp[i] 代表的是以索引 i 结尾的最长递增子序列的长度。\n",
    "        dp= [1] * n\n",
    "        \n",
    "        for i in range(n):\n",
    "            for j in range(i):\n",
    "                if nums[j] < nums[i]:\n",
    "                    dp[i] = max(dp[i], dp[j] + 1)\n",
    "        \n",
    "        return max(dp)"
   ]
  },
  {
   "cell_type": "code",
   "execution_count": null,
   "id": "ba443a69",
   "metadata": {},
   "outputs": [],
   "source": [
    "import bisect\n",
    "class Solution(object):\n",
    "    def lengthOfLIS(self, nums):\n",
    "        list = []\n",
    "        for num in nums:\n",
    "            idx = bisect.bisect_left(list, num)\n",
    "            if idx == len(list):\n",
    "                list.append(num)\n",
    "            else:\n",
    "                list[idx] = num\n",
    "        return len(list)"
   ]
  }
 ],
 "metadata": {
  "language_info": {
   "name": "python"
  }
 },
 "nbformat": 4,
 "nbformat_minor": 5
}
