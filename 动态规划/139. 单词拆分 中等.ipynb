{
 "cells": [
  {
   "cell_type": "markdown",
   "id": "ecc7029d",
   "metadata": {},
   "source": [
    "动态规划思路：\n",
    "- dp[0] = True 表示空字符串可以被拼接出来。\n",
    "\n",
    "- 对于每个位置 i，我们遍历 0~i 的每一个 j，如果 dp[j] == True 且 s[j:i] 是字典中的单词，那么就说明 dp[i] 也可以是 True。"
   ]
  },
  {
   "cell_type": "code",
   "execution_count": null,
   "id": "d06dc2df",
   "metadata": {},
   "outputs": [],
   "source": [
    "class Solution(object):\n",
    "    def wordBreak(self, s, wordDict):\n",
    "        \"\"\"\n",
    "        :type s: str\n",
    "        :type wordDict: List[str]\n",
    "        :rtype: bool\n",
    "        \"\"\"\n",
    "        n = len(s)\n",
    "        dp = [False] * (n + 1)\n",
    "        dp[0] = True\n",
    "        last = 0\n",
    "        word_set = set(wordDict)  # 为了更快查找\n",
    "        for i in range(1, n + 1):\n",
    "            for j in range(i):\n",
    "                if dp[j] and s[j:i] in word_set:\n",
    "                    dp[i] = True\n",
    "                    break\n",
    "                \n",
    "        return dp[n]"
   ]
  },
  {
   "cell_type": "code",
   "execution_count": null,
   "id": "0b90d400",
   "metadata": {},
   "outputs": [],
   "source": [
    "s = \"leetcode\" * 10000\n",
    "wordDict = [\"leet\", \"code\"]\n",
    "mysolution = Solution()\n",
    "ans = mysolution.wordBreak(s,wordDict)\n",
    "ans"
   ]
  }
 ],
 "metadata": {
  "kernelspec": {
   "display_name": "base",
   "language": "python",
   "name": "python3"
  },
  "language_info": {
   "codemirror_mode": {
    "name": "ipython",
    "version": 3
   },
   "file_extension": ".py",
   "mimetype": "text/x-python",
   "name": "python",
   "nbconvert_exporter": "python",
   "pygments_lexer": "ipython3",
   "version": "3.12.9"
  }
 },
 "nbformat": 4,
 "nbformat_minor": 5
}
