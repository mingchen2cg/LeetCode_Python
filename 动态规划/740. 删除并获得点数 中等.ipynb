{
 "cells": [
  {
   "cell_type": "markdown",
   "id": "02a5cddf",
   "metadata": {},
   "source": [
    "# 转换成 打家劫舍 "
   ]
  },
  {
   "cell_type": "code",
   "execution_count": null,
   "id": "ae3fc249",
   "metadata": {},
   "outputs": [],
   "source": [
    "class Solution(object):\n",
    "    def deleteAndEarn(self, nums):\n",
    "        \"\"\"\n",
    "        :type nums: List[int]\n",
    "        :rtype: int\n",
    "        \"\"\"\n",
    "        if len(nums) == 1:\n",
    "            return nums[0]\n",
    "        \n",
    "        nums.sort()\n",
    "        max_count = nums[-1]\n",
    "        \n",
    "        nums_count = [0] * (max_count + 1)\n",
    "        \n",
    "        for num in nums:\n",
    "            nums_count[num] += num\n",
    "            \n",
    "        dp = [0] * (max_count + 2)\n",
    "        dp[1] = nums_count[0]\n",
    "        \n",
    "        for i in range(2,len(nums_count)+1):\n",
    "            dp[i] = max(dp[i-1],dp[i-2] + nums_count[i-1])\n",
    "            \n",
    "        return dp[-1]"
   ]
  },
  {
   "cell_type": "code",
   "execution_count": 18,
   "id": "6803c82f",
   "metadata": {},
   "outputs": [
    {
     "data": {
      "text/plain": [
       "9"
      ]
     },
     "execution_count": 18,
     "metadata": {},
     "output_type": "execute_result"
    }
   ],
   "source": [
    "nums = [2,2,3,3,3,4]\n",
    "mysolution = Solution()\n",
    "ans = mysolution.deleteAndEarn(nums)\n",
    "ans"
   ]
  }
 ],
 "metadata": {
  "kernelspec": {
   "display_name": "base",
   "language": "python",
   "name": "python3"
  },
  "language_info": {
   "codemirror_mode": {
    "name": "ipython",
    "version": 3
   },
   "file_extension": ".py",
   "mimetype": "text/x-python",
   "name": "python",
   "nbconvert_exporter": "python",
   "pygments_lexer": "ipython3",
   "version": "3.12.9"
  }
 },
 "nbformat": 4,
 "nbformat_minor": 5
}
