{
 "cells": [
  {
   "cell_type": "markdown",
   "id": "6b64512c",
   "metadata": {},
   "source": [
    "# 把石头分为两堆 求这两堆石头的重量和的最小差值\n"
   ]
  },
  {
   "cell_type": "code",
   "execution_count": null,
   "id": "a63398fc",
   "metadata": {},
   "outputs": [],
   "source": [
    "class Solution(object):\n",
    "    def lastStoneWeightII(self, stones):\n",
    "        \"\"\"\n",
    "        :type stones: List[int]\n",
    "        :rtype: int\n",
    "        \"\"\"\n",
    "        target = sum(stones) // 2\n",
    "        n = len(stones)\n",
    "        \n",
    "        dp = [False] * (target + 1)\n",
    "        dp[0] = True\n",
    "        \n",
    "        for stone in stones:\n",
    "            for j in range(target, stone - 1, -1):\n",
    "                dp[j] = dp[j] or dp[j - stone]\n",
    "                \n",
    "        for s1 in range(target, -1, -1):\n",
    "            if dp[s1]:\n",
    "                return sum(stones) - 2 * s1"
   ]
  },
  {
   "cell_type": "code",
   "execution_count": null,
   "id": "1f1bdcea",
   "metadata": {},
   "outputs": [],
   "source": []
  }
 ],
 "metadata": {
  "kernelspec": {
   "display_name": "base",
   "language": "python",
   "name": "python3"
  },
  "language_info": {
   "codemirror_mode": {
    "name": "ipython",
    "version": 3
   },
   "file_extension": ".py",
   "mimetype": "text/x-python",
   "name": "python",
   "nbconvert_exporter": "python",
   "pygments_lexer": "ipython3",
   "version": "3.12.9"
  }
 },
 "nbformat": 4,
 "nbformat_minor": 5
}
