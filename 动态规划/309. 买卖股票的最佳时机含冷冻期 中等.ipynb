{
 "cells": [
  {
   "cell_type": "code",
   "execution_count": null,
   "id": "c63450e7",
   "metadata": {},
   "outputs": [],
   "source": [
    "class Solution(object):\n",
    "    def maxProfit(self, prices):\n",
    "        \"\"\"\n",
    "        :type prices: List[int]\n",
    "        :rtype: int\n",
    "        \"\"\"\n",
    "        n = len(prices)\n",
    "        if n == 1:\n",
    "            return 0\n",
    "\n",
    "        hold = [0] * n\n",
    "        unhold = [0] * n\n",
    "        cooldown = [0] * n\n",
    "\n",
    "        hold[0] = -prices[0]\n",
    "        unhold[0] = 0\n",
    "        cooldown[0] = float('-inf')\n",
    "        for i in range(1, n):\n",
    "            hold[i] = max(hold[i-1], unhold[i-1]-prices[i])\n",
    "            unhold[i] = max(unhold[i-1], cooldown[i-1])\n",
    "            cooldown[i] = hold[i-1] + prices[i]\n",
    "\n",
    "        return max(unhold[-1], cooldown[-1])"
   ]
  },
  {
   "cell_type": "code",
   "execution_count": 5,
   "id": "ff33b596",
   "metadata": {},
   "outputs": [
    {
     "data": {
      "text/plain": [
       "3"
      ]
     },
     "execution_count": 5,
     "metadata": {},
     "output_type": "execute_result"
    }
   ],
   "source": [
    "prices = [1,2,3,0,2]\n",
    "mysolution = Solution()\n",
    "ans = mysolution.maxProfit(prices)\n",
    "ans\n"
   ]
  }
 ],
 "metadata": {
  "kernelspec": {
   "display_name": "base",
   "language": "python",
   "name": "python3"
  },
  "language_info": {
   "codemirror_mode": {
    "name": "ipython",
    "version": 3
   },
   "file_extension": ".py",
   "mimetype": "text/x-python",
   "name": "python",
   "nbconvert_exporter": "python",
   "pygments_lexer": "ipython3",
   "version": "3.12.9"
  }
 },
 "nbformat": 4,
 "nbformat_minor": 5
}
