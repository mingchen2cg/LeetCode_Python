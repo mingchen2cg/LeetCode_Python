{
 "cells": [
  {
   "cell_type": "markdown",
   "id": "094ad2e2",
   "metadata": {},
   "source": [
    "- 转化为子集和问题：\n",
    "你需要找出一个子集 P，使得 P 的和等于 (target + sum(nums)) / 2。\n",
    "\n"
   ]
  },
  {
   "cell_type": "code",
   "execution_count": null,
   "id": "a6c4438e",
   "metadata": {},
   "outputs": [],
   "source": [
    "class Solution(object):\n",
    "    def findTargetSumWays(self, nums, target):\n",
    "        \"\"\"\n",
    "        :type nums: List[int]\n",
    "        :type target: int\n",
    "        :rtype: int\n",
    "        \"\"\"\n",
    "        if (target + sum(nums)) % 2 == 1 or abs(target) > sum(nums):\n",
    "            return 0\n",
    "        \n",
    "        bag_size = (target + sum(nums)) // 2\n",
    "        dp = [0] * (bag_size + 1 )\n",
    "        dp[0] = 1  # 和为0 的子集，只有一个空集\n",
    "        \n",
    "        for num in nums:\n",
    "            for j in range(bag_size, num-1, -1):\n",
    "                dp[j] += dp[j- num]\n",
    "        \n",
    "        \n",
    "        return dp[bag_size]"
   ]
  },
  {
   "cell_type": "code",
   "execution_count": 11,
   "id": "d8522275",
   "metadata": {},
   "outputs": [
    {
     "data": {
      "text/plain": [
       "5"
      ]
     },
     "execution_count": 11,
     "metadata": {},
     "output_type": "execute_result"
    }
   ],
   "source": [
    "nums = [1,1,1,1,1]\n",
    "target = 3\n",
    "mysolution = Solution()\n",
    "ans =mysolution.findTargetSumWays(nums,target)\n",
    "ans"
   ]
  },
  {
   "cell_type": "code",
   "execution_count": 1,
   "id": "b7ad8866",
   "metadata": {},
   "outputs": [
    {
     "data": {
      "text/plain": [
       "1"
      ]
     },
     "execution_count": 1,
     "metadata": {},
     "output_type": "execute_result"
    }
   ],
   "source": [
    "-1 % 2 "
   ]
  }
 ],
 "metadata": {
  "kernelspec": {
   "display_name": "base",
   "language": "python",
   "name": "python3"
  },
  "language_info": {
   "codemirror_mode": {
    "name": "ipython",
    "version": 3
   },
   "file_extension": ".py",
   "mimetype": "text/x-python",
   "name": "python",
   "nbconvert_exporter": "python",
   "pygments_lexer": "ipython3",
   "version": "3.12.9"
  }
 },
 "nbformat": 4,
 "nbformat_minor": 5
}
