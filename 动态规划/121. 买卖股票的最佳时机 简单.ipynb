{
 "cells": [
  {
   "cell_type": "code",
   "execution_count": null,
   "id": "69a2f3f9",
   "metadata": {},
   "outputs": [],
   "source": [
    "class Solution(object):\n",
    "    def maxProfit(self, prices):\n",
    "        \"\"\"\n",
    "        :type prices: List[int]\n",
    "        :rtype: int\n",
    "        暴力求解\n",
    "        \"\"\"\n",
    "        profit = 0\n",
    "        for i in range(len(prices)-1):\n",
    "            for j in range(i+1, len(prices)):\n",
    "                profit = max(profit, prices[j] - prices[i])\n",
    "                \n",
    "        return profit"
   ]
  },
  {
   "cell_type": "code",
   "execution_count": null,
   "id": "909bcc14",
   "metadata": {},
   "outputs": [],
   "source": [
    "class Solution(object):\n",
    "    def maxProfit(self, prices):\n",
    "        \"\"\"\n",
    "        :type prices: List[int]\n",
    "        :rtype: int\n",
    "        \"\"\"\n",
    "        min_price = float('inf')\n",
    "        maxProfit = 0\n",
    "\n",
    "        for price in prices:\n",
    "            if price < min_price:\n",
    "                min_price = price\n",
    "            elif price - min_price > maxProfit:\n",
    "                maxProfit = price - min_price\n",
    "\n",
    "        return maxProfit"
   ]
  },
  {
   "cell_type": "code",
   "execution_count": null,
   "id": "105a030a",
   "metadata": {},
   "outputs": [],
   "source": [
    "class Solution(object):\n",
    "    def maxProfit(self, prices):\n",
    "        \"\"\"\n",
    "        :type prices: List[int]\n",
    "        :rtype: int\n",
    "        错误，这道题限制了只能买卖一次\n",
    "        \"\"\"\n",
    "        n = len(prices)\n",
    "        # 表示在第i天 持有或卖出的收益\n",
    "        hold = [0] * n\n",
    "        unhold = [0] * n\n",
    "\n",
    "        hold[0] = -prices[0]\n",
    "        unhold[0] = 0\n",
    "\n",
    "        for i in range(1, n):\n",
    "            hold[i] = max(hold[i-1], unhold[i-1] - prices[i])\n",
    "            unhold[i] = max(unhold[i-1], hold[i-1] + prices[i])\n",
    "\n",
    "        print(hold)\n",
    "        print(unhold)"
   ]
  },
  {
   "cell_type": "code",
   "execution_count": null,
   "id": "b8fc8b04",
   "metadata": {},
   "outputs": [],
   "source": []
  },
  {
   "cell_type": "code",
   "execution_count": 13,
   "id": "259ce8cf",
   "metadata": {},
   "outputs": [
    {
     "name": "stdout",
     "output_type": "stream",
     "text": [
      "0 1\n",
      "0 2\n",
      "0 3\n",
      "0 4\n",
      "0 5\n",
      "1 2\n",
      "1 3\n",
      "1 4\n",
      "1 5\n",
      "2 3\n",
      "2 4\n",
      "2 5\n",
      "3 4\n",
      "3 5\n",
      "4 5\n"
     ]
    },
    {
     "data": {
      "text/plain": [
       "5"
      ]
     },
     "execution_count": 13,
     "metadata": {},
     "output_type": "execute_result"
    }
   ],
   "source": [
    "prices = [7,1,5,3,6,4]\n",
    "mysolution = Solution()\n",
    "ans = mysolution.maxProfit(prices)\n",
    "ans"
   ]
  }
 ],
 "metadata": {
  "kernelspec": {
   "display_name": "base",
   "language": "python",
   "name": "python3"
  },
  "language_info": {
   "codemirror_mode": {
    "name": "ipython",
    "version": 3
   },
   "file_extension": ".py",
   "mimetype": "text/x-python",
   "name": "python",
   "nbconvert_exporter": "python",
   "pygments_lexer": "ipython3",
   "version": "3.12.9"
  }
 },
 "nbformat": 4,
 "nbformat_minor": 5
}
