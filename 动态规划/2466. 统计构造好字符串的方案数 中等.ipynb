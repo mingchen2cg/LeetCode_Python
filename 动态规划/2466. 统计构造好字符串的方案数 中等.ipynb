{
 "cells": [
  {
   "cell_type": "code",
   "execution_count": null,
   "id": "f3f8df0e",
   "metadata": {},
   "outputs": [],
   "source": [
    "class Solution(object):\n",
    "    def countGoodStrings(self, low, high, zero, one):\n",
    "        \"\"\"\n",
    "        :type low: int\n",
    "        :type high: int\n",
    "        :type zero: int\n",
    "        :type one: int\n",
    "        :rtype: int\n",
    "        \"\"\"\n",
    "        # dp[i] 表示长度为i的好字符串的方案数\n",
    "        dp = [0] * (high + 1)\n",
    "        dp[0] = 1\n",
    "        MOD = int(1e9 + 7)\n",
    "\n",
    "        for i in range(1, high+1):\n",
    "            ways = 0\n",
    "            if i >= zero:\n",
    "                ways = (ways + dp[i-zero]) % MOD\n",
    "\n",
    "            if i >= one:\n",
    "                ways = (ways + dp[i-one]) % MOD\n",
    "\n",
    "            dp[i] = ways\n",
    "\n",
    "        return sum(dp[low:]) % MOD"
   ]
  },
  {
   "cell_type": "code",
   "execution_count": 7,
   "id": "dd4c4bc8",
   "metadata": {},
   "outputs": [
    {
     "name": "stdout",
     "output_type": "stream",
     "text": [
      "[1, 2, 4, 8]\n"
     ]
    },
    {
     "data": {
      "text/plain": [
       "8"
      ]
     },
     "execution_count": 7,
     "metadata": {},
     "output_type": "execute_result"
    }
   ],
   "source": [
    "low = 3\n",
    "high = 3\n",
    "zero = 1\n",
    "one = 1\n",
    "\n",
    "mysolution = Solution()\n",
    "ans = mysolution.countGoodStrings(low,high,zero,one)\n",
    "ans \n"
   ]
  }
 ],
 "metadata": {
  "kernelspec": {
   "display_name": "base",
   "language": "python",
   "name": "python3"
  },
  "language_info": {
   "codemirror_mode": {
    "name": "ipython",
    "version": 3
   },
   "file_extension": ".py",
   "mimetype": "text/x-python",
   "name": "python",
   "nbconvert_exporter": "python",
   "pygments_lexer": "ipython3",
   "version": "3.12.9"
  }
 },
 "nbformat": 4,
 "nbformat_minor": 5
}
