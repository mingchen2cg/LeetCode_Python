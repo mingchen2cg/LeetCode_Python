{
 "cells": [
  {
   "cell_type": "markdown",
   "id": "9bb91bda",
   "metadata": {},
   "source": [
    "![本地图片](./截屏2025-04-10%2014.44.00.png)"
   ]
  },
  {
   "cell_type": "code",
   "execution_count": null,
   "id": "92b3dbea",
   "metadata": {},
   "outputs": [],
   "source": [
    "class Solution(object):\n",
    "    def canPartition(self, nums):\n",
    "        \"\"\"\n",
    "        :type nums: List[int]\n",
    "        :rtype: bool\n",
    "        \"\"\"\n",
    "        if sum(nums) % 2 != 0:\n",
    "            return False\n",
    "        target = sum(nums) / 2\n",
    "        \n",
    "        nums.sort()\n",
    "        path = []\n",
    "        \n",
    "        def backtrack(start,path):\n",
    "            if sum(path) == target:\n",
    "                return True\n",
    "            for i in range(start,len(nums)):\n",
    "                if nums[i] + sum(path) <= target:\n",
    "                    path.append(nums[i])\n",
    "                    if backtrack(i+1,path):\n",
    "                        return True\n",
    "                    path.pop()\n",
    "                else:\n",
    "                    return False\n",
    "        \n",
    "        ans =  backtrack(0,path)\n",
    "        return ans\n",
    "\n",
    "                "
   ]
  },
  {
   "cell_type": "code",
   "execution_count": null,
   "id": "73975fe4",
   "metadata": {},
   "outputs": [],
   "source": [
    "# class Solution(object):\n",
    "#     def canPartition(self, nums):\n",
    "#         if sum(nums) % 2 != 0:\n",
    "#             return False\n",
    "#         target = sum(nums) // 2  # 使用整数除法\n",
    "#         nums.sort(reverse=True)  # 降序排序有助于提前找到解\n",
    "        \n",
    "#         def backtrack(start, current_sum):\n",
    "#             if current_sum == target:\n",
    "#                 return True\n",
    "#             for i in range(start, len(nums)):\n",
    "#                 if current_sum + nums[i] <= target:\n",
    "#                     if backtrack(i+1, current_sum + nums[i]):\n",
    "#                         return True  # 如果找到解就立即返回\n",
    "#             return False\n",
    "        \n",
    "#         return backtrack(0, 0)\n"
   ]
  },
  {
   "cell_type": "markdown",
   "id": "70041c23",
   "metadata": {},
   "source": [
    "# 倒序的原因：保证每个 num 只被使用一次（0-1 背包）。"
   ]
  },
  {
   "cell_type": "code",
   "execution_count": null,
   "id": "66b4aad7",
   "metadata": {},
   "outputs": [],
   "source": [
    "class Solution:\n",
    "    def canPartition(self, nums):\n",
    "        total = sum(nums)\n",
    "        # 如果总和是奇数，不可能平分\n",
    "        if total % 2 != 0:\n",
    "            return False\n",
    "        target = total // 2\n",
    "        \n",
    "        # 一维 DP 数组，长度 target+1\n",
    "        dp = [False] * (target + 1)\n",
    "        dp[0] = True\n",
    "        \n",
    "        for num in nums:\n",
    "            # 倒序遍历，确保每个 num 只用一次\n",
    "            for j in range(target, num - 1, -1):\n",
    "                dp[j] = dp[j] or dp[j - num]\n",
    "        \n",
    "        return dp[target]\n"
   ]
  },
  {
   "cell_type": "code",
   "execution_count": null,
   "id": "1e3e02c2",
   "metadata": {},
   "outputs": [],
   "source": [
    "nums = [1,5,11,5]\n",
    "mysolution = Solution()\n",
    "ans = mysolution.canPartition(nums)\n",
    "\n",
    "print(ans)\n"
   ]
  },
  {
   "cell_type": "markdown",
   "id": "f3d40b2a",
   "metadata": {},
   "source": [
    "![本地图片](./截屏2025-04-11%2016.07.19.png)"
   ]
  },
  {
   "cell_type": "code",
   "execution_count": null,
   "id": "327a624e",
   "metadata": {},
   "outputs": [],
   "source": [
    "class Solution(object):\n",
    "    def canPartition(self, nums):\n",
    "        \"\"\"\n",
    "        :type nums: List[int]\n",
    "        :rtype: bool\n",
    "        \"\"\"\n",
    "        total = sum(nums)\n",
    "        if total % 2 != 0:\n",
    "            return False\n",
    "        target = total // 2\n",
    "        \n",
    "        n = len(nums)\n",
    "        dp = [[False] * (target + 1) for _ in range(n + 1)]\n",
    "        dp[0][0] = True\n",
    "        \n",
    "        for i in range(1, n+1):\n",
    "            for j in range(target+1):\n",
    "                if j < nums[i-1]:\n",
    "                    dp[i][j] = dp[i-1][j]\n",
    "                else:\n",
    "                    dp[i][j] = dp[i-1][j] or dp[i-1][j - nums[i-1]]\n",
    "                \n",
    "        return dp[n][target]\n"
   ]
  },
  {
   "cell_type": "code",
   "execution_count": 35,
   "id": "389c9c6a",
   "metadata": {},
   "outputs": [
    {
     "name": "stdout",
     "output_type": "stream",
     "text": [
      "True\n"
     ]
    }
   ],
   "source": [
    "nums = [1,5,11,5]\n",
    "mysolution = Solution()\n",
    "ans = mysolution.canPartition(nums)\n",
    "\n",
    "print(ans)"
   ]
  }
 ],
 "metadata": {
  "kernelspec": {
   "display_name": "base",
   "language": "python",
   "name": "python3"
  },
  "language_info": {
   "codemirror_mode": {
    "name": "ipython",
    "version": 3
   },
   "file_extension": ".py",
   "mimetype": "text/x-python",
   "name": "python",
   "nbconvert_exporter": "python",
   "pygments_lexer": "ipython3",
   "version": "3.12.9"
  }
 },
 "nbformat": 4,
 "nbformat_minor": 5
}
