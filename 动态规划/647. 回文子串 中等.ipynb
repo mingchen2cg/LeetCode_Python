{
 "cells": [
  {
   "cell_type": "code",
   "execution_count": 15,
   "id": "94cdabf5",
   "metadata": {},
   "outputs": [],
   "source": [
    "class Solution(object):\n",
    "    def countSubstrings(self, s):\n",
    "        \"\"\"\n",
    "        :type s: str\n",
    "        :rtype: int\n",
    "        \"\"\"\n",
    "        n = len(s)\n",
    "        if n == 1:\n",
    "            return 1\n",
    "\n",
    "        dp = [[0] * n for _ in range(n)]\n",
    "        dp[0][0] = 1\n",
    "\n",
    "        for i in range(1, n):\n",
    "            dp[i][i] = 1\n",
    "            if s[i] == s[i-1]:\n",
    "                dp[i-1][i] = 1\n",
    "            for j in range(i-2, -1, -1):\n",
    "                if s[j] == s[i]:\n",
    "                    dp[j][i] = dp[j+1][i-1]\n",
    "\n",
    "        return sum(element for row in dp for element in row)"
   ]
  },
  {
   "cell_type": "code",
   "execution_count": 16,
   "id": "04764faf",
   "metadata": {},
   "outputs": [
    {
     "data": {
      "text/plain": [
       "7"
      ]
     },
     "execution_count": 16,
     "metadata": {},
     "output_type": "execute_result"
    }
   ],
   "source": [
    "s = \"aaab\"\n",
    "mysolution = Solution()\n",
    "ans = mysolution.countSubstrings(s)\n",
    "ans"
   ]
  },
  {
   "cell_type": "code",
   "execution_count": null,
   "id": "3e58bf66",
   "metadata": {},
   "outputs": [],
   "source": []
  }
 ],
 "metadata": {
  "kernelspec": {
   "display_name": "base",
   "language": "python",
   "name": "python3"
  },
  "language_info": {
   "codemirror_mode": {
    "name": "ipython",
    "version": 3
   },
   "file_extension": ".py",
   "mimetype": "text/x-python",
   "name": "python",
   "nbconvert_exporter": "python",
   "pygments_lexer": "ipython3",
   "version": "3.12.9"
  }
 },
 "nbformat": 4,
 "nbformat_minor": 5
}
