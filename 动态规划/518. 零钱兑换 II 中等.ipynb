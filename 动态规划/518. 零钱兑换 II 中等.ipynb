{
 "cells": [
  {
   "cell_type": "code",
   "execution_count": 1,
   "id": "b7a146cd",
   "metadata": {},
   "outputs": [],
   "source": [
    "class Solution(object):\n",
    "    def change(self, amount, coins):\n",
    "        \"\"\"\n",
    "        :type amount: int\n",
    "        :type coins: List[int]\n",
    "        :rtype: int\n",
    "        \"\"\"\n",
    "        dp = [0] * (amount+1)\n",
    "        dp[0] = 1\n",
    "        \"\"\"\n",
    "        计算组合数时，为了避免重复计算不同排列但相同组合的情况\n",
    "        （例如 1+2 和 2+1 算同一种），标准的 DP 做法是\n",
    "        先遍历硬币，再遍历金额。转移方程是 dp[i] += dp[i - coin]。\n",
    "        \"\"\"\n",
    "\n",
    "        for coin in coins:\n",
    "            for i in range(coin, amount+1):\n",
    "                dp[i] += dp[i-coin]\n",
    "\n",
    "        return dp[amount]"
   ]
  },
  {
   "cell_type": "code",
   "execution_count": 6,
   "id": "7cff14ae",
   "metadata": {},
   "outputs": [
    {
     "data": {
      "text/plain": [
       "1667458465842516895001"
      ]
     },
     "execution_count": 6,
     "metadata": {},
     "output_type": "execute_result"
    }
   ],
   "source": [
    "amount = 1000000\n",
    "coins = [1, 5,10,20,50,100]\n",
    "mysolution = Solution()\n",
    "ans = mysolution.change(amount,coins)\n",
    "ans"
   ]
  }
 ],
 "metadata": {
  "kernelspec": {
   "display_name": "base",
   "language": "python",
   "name": "python3"
  },
  "language_info": {
   "codemirror_mode": {
    "name": "ipython",
    "version": 3
   },
   "file_extension": ".py",
   "mimetype": "text/x-python",
   "name": "python",
   "nbconvert_exporter": "python",
   "pygments_lexer": "ipython3",
   "version": "3.12.9"
  }
 },
 "nbformat": 4,
 "nbformat_minor": 5
}
