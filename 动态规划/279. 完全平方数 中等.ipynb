{
 "cells": [
  {
   "cell_type": "code",
   "execution_count": 3,
   "id": "1d90aac9",
   "metadata": {},
   "outputs": [],
   "source": [
    "class Solution(object):\n",
    "    def numSquares(self, n):\n",
    "        \"\"\"\n",
    "        :type n: int\n",
    "        :rtype: int\n",
    "        \"\"\"\n",
    "        dp = [1e8] * (n+1)\n",
    "        dp[0] = 0\n",
    "        dp[1] = 1\n",
    "\n",
    "        for i in range(2, n+1):\n",
    "            j = 1\n",
    "            while j * j <= i:\n",
    "                square = j * j\n",
    "                dp[i] = min(dp[i], dp[i-square] + 1)\n",
    "                j += 1\n",
    "\n",
    "        return dp[n]"
   ]
  },
  {
   "cell_type": "code",
   "execution_count": null,
   "id": "675dfdd3",
   "metadata": {},
   "outputs": [],
   "source": [
    "class Solution(object):\n",
    "    # _dp 是一个类变量，它存储了已经计算过的 dp 数组。\n",
    "    # 初始只包含 dp[0] = 0。\n",
    "    # 这个类变量使得多次调用 numSquares 函数时，可以复用之前计算的结果。\n",
    "    _dp = [0]\n",
    "\n",
    "    def numSquares(self, n):\n",
    "        \"\"\"\n",
    "        :type n: int\n",
    "        :rtype: int\n",
    "        \"\"\"\n",
    "        # 获取类变量 _dp 的引用，方便在方法内部使用\n",
    "        dp = self._dp\n",
    "\n",
    "        # 如果 _dp 数组的长度不足以包含 n 的结果（即 len(dp) <= n），\n",
    "        # 就继续计算并扩展 dp 数组，直到 dp[n] 可以被计算出来。\n",
    "        # len(dp) 在这里代表了下一个需要计算的数字 i 的值 (dp[len(dp)] 就是 dp[i])。\n",
    "        while len(dp) <= n:\n",
    "            # 计算 dp[len(dp)] (即 dp[i]) 的值。\n",
    "            # i 所需的最少完全平方数数量等于 1 加上\n",
    "            # min(dp[i - j*j]) 对于所有使得 i - j*j >= 0 的完全平方数 j*j。\n",
    "            # 这里的 len(dp) 就是当前的 i。\n",
    "            # dp[-j*j] 利用了 Python 负索引的特性，\n",
    "            # dp[-k] 等价于 dp[len(dp) - k]。\n",
    "            # 所以 dp[-j*j] 就是 dp[len(dp) - j*j]，正好是我们需要的 dp[i - j*j]。\n",
    "            # 我们找到所有 j*j <= len(dp) 的 j。\n",
    "            # min(...) + 1: 在所有可能的 dp[i - j*j] + 1 中取最小值。\n",
    "            # 这是一个单元素的元组 (...,)，通过 += 添加到列表中，实现 append 的效果。\n",
    "            dp += min(dp[-i*i] for i in range(1, int(len(dp)**0.5+1))) + 1,\n",
    "\n",
    "        # 当 while 循环结束时，dp 数组的长度至少是 n+1，包含了 dp[n] 的结果。\n",
    "        # 返回存储在 dp[n] 中的结果。\n",
    "        return dp[n]"
   ]
  },
  {
   "cell_type": "code",
   "execution_count": 4,
   "id": "8821886d",
   "metadata": {},
   "outputs": [
    {
     "data": {
      "text/plain": [
       "3"
      ]
     },
     "execution_count": 4,
     "metadata": {},
     "output_type": "execute_result"
    }
   ],
   "source": [
    "n = 12\n",
    "mysolution = Solution()\n",
    "ans = mysolution.numSquares(n)\n",
    "ans"
   ]
  }
 ],
 "metadata": {
  "kernelspec": {
   "display_name": "base",
   "language": "python",
   "name": "python3"
  },
  "language_info": {
   "codemirror_mode": {
    "name": "ipython",
    "version": 3
   },
   "file_extension": ".py",
   "mimetype": "text/x-python",
   "name": "python",
   "nbconvert_exporter": "python",
   "pygments_lexer": "ipython3",
   "version": "3.12.9"
  }
 },
 "nbformat": 4,
 "nbformat_minor": 5
}
