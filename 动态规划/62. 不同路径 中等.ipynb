{
 "cells": [
  {
   "cell_type": "code",
   "execution_count": 16,
   "id": "b19552a9",
   "metadata": {},
   "outputs": [],
   "source": [
    "class Solution(object):\n",
    "    def uniquePaths(self, m, n):\n",
    "        \"\"\"\n",
    "        :type m: int\n",
    "        :type n: int\n",
    "        :rtype: int\n",
    "        \"\"\"\n",
    "        firstline = [1] * n\n",
    "        ans_arr = []\n",
    "        ans_arr.append(firstline)\n",
    "        for _ in range(m-1):\n",
    "            ans_arr.append([1]+[0]*(n-1))\n",
    "            \n",
    "        for i in range(1,m):\n",
    "            for j in range(1,n):\n",
    "                ans_arr[i][j] = ans_arr[i-1][j] + ans_arr[i][j-1]\n",
    "        \n",
    "        return ans_arr[m-1][n-1]"
   ]
  },
  {
   "cell_type": "code",
   "execution_count": 17,
   "id": "5016819e",
   "metadata": {},
   "outputs": [
    {
     "data": {
      "text/plain": [
       "28"
      ]
     },
     "execution_count": 17,
     "metadata": {},
     "output_type": "execute_result"
    }
   ],
   "source": [
    "\n",
    "m = 3\n",
    "n = 7\n",
    "\n",
    "mysolution = Solution()\n",
    "ans = mysolution.uniquePaths(m,n)\n",
    "\n",
    "ans"
   ]
  }
 ],
 "metadata": {
  "kernelspec": {
   "display_name": "base",
   "language": "python",
   "name": "python3"
  },
  "language_info": {
   "codemirror_mode": {
    "name": "ipython",
    "version": 3
   },
   "file_extension": ".py",
   "mimetype": "text/x-python",
   "name": "python",
   "nbconvert_exporter": "python",
   "pygments_lexer": "ipython3",
   "version": "3.12.9"
  }
 },
 "nbformat": 4,
 "nbformat_minor": 5
}
