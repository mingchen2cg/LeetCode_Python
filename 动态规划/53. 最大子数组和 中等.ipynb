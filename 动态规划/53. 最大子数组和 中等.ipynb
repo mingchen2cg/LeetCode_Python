{
 "cells": [
  {
   "cell_type": "code",
   "execution_count": 27,
   "id": "aafeb92d",
   "metadata": {},
   "outputs": [],
   "source": [
    "class Solution(object):\n",
    "    def maxSubArray(self, nums):\n",
    "        \"\"\"\n",
    "        :type nums: List[int]\n",
    "        :rtype: int\n",
    "        \"\"\"\n",
    "        n = len(nums)\n",
    "        if n == 1:\n",
    "            return nums[0]\n",
    "\n",
    "        dp = [0] * n\n",
    "        dp[0] = nums[0]\n",
    "        current_max = dp[0]\n",
    "\n",
    "        for i in range(1, n):\n",
    "            dp[i] = max(nums[i]+dp[i-1], nums[i])\n",
    "\n",
    "            if dp[i] > current_max:\n",
    "                current_max = dp[i]\n",
    "\n",
    "        return current_max"
   ]
  },
  {
   "cell_type": "code",
   "execution_count": 28,
   "id": "8b6ba0f4",
   "metadata": {},
   "outputs": [
    {
     "data": {
      "text/plain": [
       "23"
      ]
     },
     "execution_count": 28,
     "metadata": {},
     "output_type": "execute_result"
    }
   ],
   "source": [
    "nums = [5, 4, -1, 7, 8]\n",
    "mysolution = Solution()\n",
    "ans = mysolution.maxSubArray(nums)\n",
    "\n",
    "ans"
   ]
  }
 ],
 "metadata": {
  "kernelspec": {
   "display_name": "base",
   "language": "python",
   "name": "python3"
  },
  "language_info": {
   "codemirror_mode": {
    "name": "ipython",
    "version": 3
   },
   "file_extension": ".py",
   "mimetype": "text/x-python",
   "name": "python",
   "nbconvert_exporter": "python",
   "pygments_lexer": "ipython3",
   "version": "3.12.9"
  }
 },
 "nbformat": 4,
 "nbformat_minor": 5
}
