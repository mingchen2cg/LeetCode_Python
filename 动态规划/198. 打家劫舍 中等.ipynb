{
 "cells": [
  {
   "cell_type": "code",
   "execution_count": 8,
   "id": "2d99be3c",
   "metadata": {},
   "outputs": [],
   "source": [
    "class Solution(object):\n",
    "    def rob(self, nums):\n",
    "        \"\"\"\n",
    "        :type nums: List[int]\n",
    "        :rtype: int\n",
    "        \"\"\"\n",
    "        if len(nums) == 1:\n",
    "            return nums[0]\n",
    "        \n",
    "        # dp[i]表示，只考虑前面i家， 能获得的最大收益\n",
    "        dp = [0] * (len(nums) + 1)\n",
    "        dp[1] = nums[0]\n",
    "\n",
    "        for i in range(2, len(nums)+1):\n",
    "            dp[i] = max(dp[i-1],dp[i-2] + nums[i-1])\n",
    "        \n",
    "        return dp[-1]"
   ]
  },
  {
   "cell_type": "code",
   "execution_count": 2,
   "id": "f69253e1",
   "metadata": {},
   "outputs": [
    {
     "data": {
      "text/plain": [
       "12"
      ]
     },
     "execution_count": 2,
     "metadata": {},
     "output_type": "execute_result"
    }
   ],
   "source": [
    "nums = [2,7,9,3,1]\n",
    "\n",
    "\n",
    "mysolution = Solution()\n",
    "ans = mysolution.rob(nums)\n",
    "ans"
   ]
  }
 ],
 "metadata": {
  "kernelspec": {
   "display_name": "base",
   "language": "python",
   "name": "python3"
  },
  "language_info": {
   "codemirror_mode": {
    "name": "ipython",
    "version": 3
   },
   "file_extension": ".py",
   "mimetype": "text/x-python",
   "name": "python",
   "nbconvert_exporter": "python",
   "pygments_lexer": "ipython3",
   "version": "3.12.9"
  }
 },
 "nbformat": 4,
 "nbformat_minor": 5
}
