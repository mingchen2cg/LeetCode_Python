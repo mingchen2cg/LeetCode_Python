{
 "cells": [
  {
   "cell_type": "code",
   "execution_count": null,
   "id": "4040d844",
   "metadata": {},
   "outputs": [],
   "source": [
    "class Solution(object):\n",
    "    def numberOfWays(self, n, x):\n",
    "        \"\"\"\n",
    "        :type n: int\n",
    "        :type x: int\n",
    "        :rtype: int\n",
    "        \"\"\"\n",
    "        MOD = 10**9 + 7\n",
    "        dp = [0] * (n + 1)\n",
    "        dp[0] = 1  # 0只能表示成（0，0....)的次幂和\n",
    "\n",
    "        nums = []\n",
    "        for i in range(n, 0, -1):\n",
    "            if i ** x <= n:\n",
    "                nums.append(i ** x)\n",
    "\n",
    "        nums.reverse()\n",
    "\n",
    "        for num in nums:\n",
    "            for j in range(n, num - 1, -1):\n",
    "                dp[j] = (dp[j] + dp[j - num]) % MOD\n",
    "\n",
    "        return dp[-1]"
   ]
  },
  {
   "cell_type": "code",
   "execution_count": 14,
   "id": "7b050c1f",
   "metadata": {},
   "outputs": [
    {
     "data": {
      "text/plain": [
       "1"
      ]
     },
     "execution_count": 14,
     "metadata": {},
     "output_type": "execute_result"
    }
   ],
   "source": [
    "n = 10\n",
    "x = 2\n",
    "mysolution = Solution()\n",
    "ans = mysolution.numberOfWays(n,x)\n",
    "ans"
   ]
  }
 ],
 "metadata": {
  "kernelspec": {
   "display_name": "base",
   "language": "python",
   "name": "python3"
  },
  "language_info": {
   "codemirror_mode": {
    "name": "ipython",
    "version": 3
   },
   "file_extension": ".py",
   "mimetype": "text/x-python",
   "name": "python",
   "nbconvert_exporter": "python",
   "pygments_lexer": "ipython3",
   "version": "3.12.9"
  }
 },
 "nbformat": 4,
 "nbformat_minor": 5
}
