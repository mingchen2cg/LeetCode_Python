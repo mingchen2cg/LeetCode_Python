{
 "cells": [
  {
   "cell_type": "code",
   "execution_count": null,
   "id": "12565a7b",
   "metadata": {},
   "outputs": [],
   "source": [
    "class Solution(object):\n",
    "    def isSubsequence(self, s, t):\n",
    "        \"\"\"\n",
    "        :type s: str\n",
    "        :type t: str\n",
    "        :rtype: bool\n",
    "        \"\"\"\n",
    "        # 最长公共子序列的长度 是否等于 较短的字符串的长度\n",
    "        m = len(s)\n",
    "        n = len(t)\n",
    "        if m == 0 and n ==0:\n",
    "            return True\n",
    "        \n",
    "        if m > n :\n",
    "            return False\n",
    "        \n",
    "        dp = [[0] * (n + 1) for _ in range(m+1)]\n",
    "\n",
    "        for i in range(1, m+1):\n",
    "            for j in range(1, n+1):\n",
    "                if s[i-1] == t[j-1]:\n",
    "                    dp[i][j] = dp[i-1][j-1] + 1\n",
    "                else:\n",
    "                    dp[i][j] = max(dp[i][j-1], dp[i-1][j-1])\n",
    "\n",
    "        return dp[m][n] == min(m, n)"
   ]
  },
  {
   "cell_type": "code",
   "execution_count": null,
   "id": "f7fd7df6",
   "metadata": {},
   "outputs": [],
   "source": [
    "class Solution(object):\n",
    "    def isSubsequence(self, s, t):\n",
    "        \"\"\"\n",
    "        :type s: str\n",
    "        :type t: str\n",
    "        :rtype: bool\n",
    "        \"\"\"\n",
    "        i = 0  # 指向 s 的指针\n",
    "        j = 0  # 指向 t 的指针\n",
    "        while i < len(s) and j < len(t):\n",
    "            if s[i] == t[j]:\n",
    "                i += 1\n",
    "            j += 1\n",
    "        return i == len(s)\n"
   ]
  }
 ],
 "metadata": {
  "language_info": {
   "name": "python"
  }
 },
 "nbformat": 4,
 "nbformat_minor": 5
}
