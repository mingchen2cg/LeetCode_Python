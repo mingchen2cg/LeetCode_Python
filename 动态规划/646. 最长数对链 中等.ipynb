{
 "cells": [
  {
   "cell_type": "markdown",
   "id": "22cb0d70",
   "metadata": {},
   "source": [
    "# 贪心法 "
   ]
  },
  {
   "cell_type": "code",
   "execution_count": null,
   "id": "7fcf731f",
   "metadata": {},
   "outputs": [],
   "source": [
    "class Solution(object):\n",
    "    def findLongestChain(self, pairs):\n",
    "        \"\"\"\n",
    "        :type pairs: List[List[int]]\n",
    "        :rtype: int\n",
    "        \"\"\"\n",
    "        pairs.sort(key=lambda x: x[1])\n",
    "        cur = float('-inf')\n",
    "        res = 0\n",
    "\n",
    "        for pair in pairs:\n",
    "            if pair[0] > cur:\n",
    "                cur = pair[1]\n",
    "                res += 1\n",
    "\n",
    "        return res"
   ]
  },
  {
   "cell_type": "markdown",
   "id": "7d5dafcf",
   "metadata": {},
   "source": [
    "步骤：\n",
    "先按左端点排序（也可以按右端点，但排序策略和状态转移略有不同）\n",
    "\n",
    "定义：\n",
    "dp[i] 表示以第 i 个 pair 结尾的最长数对链的长度\n",
    "\n",
    "状态转移：\n",
    "for j in range(i):\n",
    "    if pairs[j][1] < pairs[i][0]:  # j 可以连到 i\n",
    "        dp[i] = max(dp[i], dp[j] + 1)\n",
    "初始：每个 pair 自成一链，所以 dp[i] = 1\n",
    "\n",
    "最后返回 max(dp)\n",
    "\n"
   ]
  },
  {
   "cell_type": "code",
   "execution_count": null,
   "id": "4eebc592",
   "metadata": {},
   "outputs": [],
   "source": [
    "class Solution(object):\n",
    "    def findLongestChain(self, pairs):\n",
    "        \"\"\"\n",
    "        :type pairs: List[List[int]]\n",
    "        :rtype: int\n",
    "        \"\"\"\n",
    "        pairs.sort()\n",
    "\n",
    "        n = len(pairs)\n",
    "        dp = [1] * n\n",
    "\n",
    "        for i in range(n):\n",
    "            for j in range(i):\n",
    "                if pairs[j][1] < pairs[i][0]:\n",
    "                    dp[i] = max(dp[i], dp[j] + 1)\n",
    "\n",
    "        return max(dp)"
   ]
  },
  {
   "cell_type": "code",
   "execution_count": 2,
   "id": "73abbd88",
   "metadata": {},
   "outputs": [
    {
     "name": "stdout",
     "output_type": "stream",
     "text": [
      "[[1, 2], [2, 3], [3, 4]]\n"
     ]
    }
   ],
   "source": [
    "pairs = [[1,2], [2,3], [3,4]]\n",
    "mysolution = Solution()\n",
    "ans =mysolution.findLongestChain(pairs)\n",
    "ans"
   ]
  }
 ],
 "metadata": {
  "kernelspec": {
   "display_name": "base",
   "language": "python",
   "name": "python3"
  },
  "language_info": {
   "codemirror_mode": {
    "name": "ipython",
    "version": 3
   },
   "file_extension": ".py",
   "mimetype": "text/x-python",
   "name": "python",
   "nbconvert_exporter": "python",
   "pygments_lexer": "ipython3",
   "version": "3.12.9"
  }
 },
 "nbformat": 4,
 "nbformat_minor": 5
}
