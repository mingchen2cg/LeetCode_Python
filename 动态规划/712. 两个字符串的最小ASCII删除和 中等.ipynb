{
 "cells": [
  {
   "cell_type": "markdown",
   "id": "68789f9a",
   "metadata": {},
   "source": [
    "<!-- 保留两个字符串中公共的部分（子序列），其 ASCII 总和尽可能大； -->\n",
    "<!-- 然后，从两个字符串总的 ASCII 值中减去两倍的公共部分的 ASCII 值。 -->\n",
    "\n",
    "<!-- 设 dp[i][j] 表示 s1[0:i] 和 s2[0:j] 这两个前缀字符串的 最长公共子序列的 ASCII 和； -->"
   ]
  },
  {
   "cell_type": "code",
   "execution_count": 13,
   "id": "c151fc07",
   "metadata": {},
   "outputs": [],
   "source": [
    "class Solution(object):\n",
    "    def minimumDeleteSum(self, s1, s2):\n",
    "        \"\"\"\n",
    "        :type s1: str\n",
    "        :type s2: str\n",
    "        :rtype: int\n",
    "        \"\"\"\n",
    "        m, n = len(s1), len(s2)\n",
    "\n",
    "        dp = [[0] * (n+1) for _ in range(m + 1)]\n",
    "        total = 0\n",
    "        for char in s1 + s2:\n",
    "            total += ord(char)\n",
    "\n",
    "        for i in range(1, len(s1)+1):\n",
    "            for j in range(1, len(s2)+1):\n",
    "                if s1[i-1] == s2[j-1]:\n",
    "                    dp[i][j] = dp[i-1][j-1] + ord(s1[i-1])\n",
    "                else:\n",
    "\n",
    "                    dp[i][j] = max(dp[i-1][j], dp[i][j-1])\n",
    "\n",
    "        return total - 2 * dp[m][n]"
   ]
  },
  {
   "cell_type": "code",
   "execution_count": 14,
   "id": "18aa0632",
   "metadata": {},
   "outputs": [
    {
     "data": {
      "text/plain": [
       "231"
      ]
     },
     "execution_count": 14,
     "metadata": {},
     "output_type": "execute_result"
    }
   ],
   "source": [
    "s1 = \"sea\"\n",
    "s2 = \"eat\"\n",
    "mysolution = Solution()\n",
    "ans = mysolution.minimumDeleteSum(s1,s2)\n",
    "ans"
   ]
  }
 ],
 "metadata": {
  "kernelspec": {
   "display_name": "base",
   "language": "python",
   "name": "python3"
  },
  "language_info": {
   "codemirror_mode": {
    "name": "ipython",
    "version": 3
   },
   "file_extension": ".py",
   "mimetype": "text/x-python",
   "name": "python",
   "nbconvert_exporter": "python",
   "pygments_lexer": "ipython3",
   "version": "3.12.9"
  }
 },
 "nbformat": 4,
 "nbformat_minor": 5
}
