{
 "cells": [
  {
   "cell_type": "code",
   "execution_count": null,
   "id": "d991a476",
   "metadata": {},
   "outputs": [],
   "source": [
    "class Solution(object):\n",
    "    def longestCommonSubsequence(self, text1, text2):\n",
    "        \"\"\"\n",
    "        :type text1: str\n",
    "        :type text2: str\n",
    "        :rtype: int\n",
    "        \"\"\"\n",
    "        m = len(text1)\n",
    "        n = len(text2)\n",
    "\n",
    "        dp = [[0] * (n+1) for _ in range(m+1)]\n",
    "\n",
    "        for i in range(1, m+1):\n",
    "            for j in range(1, n+1):\n",
    "                if text1[i-1] == text2[j-1]:\n",
    "                    dp[i][j] = dp[i-1][j-1] + 1\n",
    "                else:\n",
    "                    dp[i][j] = max(dp[i-1][j], dp[i][j-1])\n",
    "        return dp[m][n]"
   ]
  }
 ],
 "metadata": {
  "language_info": {
   "name": "python"
  }
 },
 "nbformat": 4,
 "nbformat_minor": 5
}
