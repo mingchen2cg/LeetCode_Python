{
 "cells": [
  {
   "cell_type": "code",
   "execution_count": null,
   "id": "088bcd00",
   "metadata": {},
   "outputs": [],
   "source": [
    "class Solution(object):\n",
    "    def findLength(self, nums1, nums2):\n",
    "        \"\"\"\n",
    "        :type nums1: List[int]\n",
    "        :type nums2: List[int]\n",
    "        :rtype: int\n",
    "        \"\"\"\n",
    "        \n",
    "        m = len(nums1)\n",
    "        n = len(nums2)\n",
    "        # 创建一个二维的 DP 数组 dp，\n",
    "        # 其中 dp[i][j] 表示以 nums1 的第 i 个元素\n",
    "        # 和 nums2 的第 j 个元素结尾的最长公共子数组的长度。\n",
    "        dp = [[0] * (n+1) for _ in range(m+1)]\n",
    "        \n",
    "        max_length = 0\n",
    "        \n",
    "        for i in range(1,m+1):\n",
    "            for j in range(1, n+1):\n",
    "                if nums1[i-1] == nums2[j-1]:\n",
    "                    dp[i][j] = dp[i - 1][j - 1] + 1\n",
    "                    max_length = max(max_length, dp[i][j])\n",
    "                else:\n",
    "                    dp[i][j] = 0\n",
    "        # max(dp): 当你直接对一个二维列表（列表的列表）使用 max() 函数时，\n",
    "        # 它会返回其中最大的子列表。这里的比较是基于子列表的第一个元素，\n",
    "        # 如果第一个元素相同，则比较第二个，以此类推。\n",
    "        # return max(max(dp))\n",
    "        return max_length"
   ]
  },
  {
   "cell_type": "code",
   "execution_count": 4,
   "id": "d08b6762",
   "metadata": {},
   "outputs": [
    {
     "name": "stdout",
     "output_type": "stream",
     "text": [
      "[[0, 0, 0, 0, 0, 0], [0, 0, 0, 1, 0, 0], [0, 0, 1, 0, 0, 0], [0, 1, 0, 0, 0, 0], [0, 0, 2, 0, 0, 0], [0, 0, 0, 3, 0, 0]]\n"
     ]
    },
    {
     "data": {
      "text/plain": [
       "1"
      ]
     },
     "execution_count": 4,
     "metadata": {},
     "output_type": "execute_result"
    }
   ],
   "source": [
    "nums1 = [1,2,3,2,1]\n",
    "nums2 = [3,2,1,4,7]\n",
    "mysolution = Solution()\n",
    "ans = mysolution.findLength(nums1,nums2)\n",
    "ans"
   ]
  }
 ],
 "metadata": {
  "kernelspec": {
   "display_name": "base",
   "language": "python",
   "name": "python3"
  },
  "language_info": {
   "codemirror_mode": {
    "name": "ipython",
    "version": 3
   },
   "file_extension": ".py",
   "mimetype": "text/x-python",
   "name": "python",
   "nbconvert_exporter": "python",
   "pygments_lexer": "ipython3",
   "version": "3.12.9"
  }
 },
 "nbformat": 4,
 "nbformat_minor": 5
}
