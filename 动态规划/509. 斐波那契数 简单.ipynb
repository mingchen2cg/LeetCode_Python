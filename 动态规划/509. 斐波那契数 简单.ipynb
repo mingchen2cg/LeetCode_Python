{
 "cells": [
  {
   "cell_type": "code",
   "execution_count": 5,
   "id": "b68f746c",
   "metadata": {},
   "outputs": [],
   "source": [
    "class Solution(object):\n",
    "    def fib(self, n):\n",
    "        \"\"\"\n",
    "        :type n: int\n",
    "        :rtype: int\n",
    "        \"\"\"\n",
    "        self.count = 0\n",
    "        def subfib(n):\n",
    "            if n == 0 :\n",
    "                self.count += 1\n",
    "                return 0\n",
    "            elif n == 1:\n",
    "                self.count += 1\n",
    "                return 1 \n",
    "            else:\n",
    "                self.count += 1\n",
    "                return subfib(n-1) + subfib(n-2)\n",
    "            \n",
    "        return subfib(n), self.count"
   ]
  },
  {
   "cell_type": "code",
   "execution_count": 8,
   "id": "4c9b383a",
   "metadata": {},
   "outputs": [
    {
     "data": {
      "text/plain": [
       "(102334155, 331160281)"
      ]
     },
     "execution_count": 8,
     "metadata": {},
     "output_type": "execute_result"
    }
   ],
   "source": [
    "Solution_ = Solution()\n",
    "ans = Solution_.fib(40)\n",
    "ans"
   ]
  },
  {
   "cell_type": "code",
   "execution_count": 9,
   "id": "12e1ef4d",
   "metadata": {},
   "outputs": [],
   "source": [
    "class Solution(object):\n",
    "    def fib(self, n):\n",
    "        \"\"\"\n",
    "        :type n: int\n",
    "        :rtype: int\n",
    "        \"\"\"\n",
    "        ans_list = [0, 1]\n",
    "        for i in range(2, n+1):\n",
    "            ans_list.append(ans_list[i-1]+ans_list[i-2])\n",
    "            \n",
    "        return ans_list[n]"
   ]
  },
  {
   "cell_type": "code",
   "execution_count": 10,
   "id": "56af000a",
   "metadata": {},
   "outputs": [
    {
     "data": {
      "text/plain": [
       "102334155"
      ]
     },
     "execution_count": 10,
     "metadata": {},
     "output_type": "execute_result"
    }
   ],
   "source": [
    "Solution_ = Solution()\n",
    "ans = Solution_.fib(40)\n",
    "ans"
   ]
  }
 ],
 "metadata": {
  "kernelspec": {
   "display_name": "base",
   "language": "python",
   "name": "python3"
  },
  "language_info": {
   "codemirror_mode": {
    "name": "ipython",
    "version": 3
   },
   "file_extension": ".py",
   "mimetype": "text/x-python",
   "name": "python",
   "nbconvert_exporter": "python",
   "pygments_lexer": "ipython3",
   "version": "3.12.9"
  }
 },
 "nbformat": 4,
 "nbformat_minor": 5
}
