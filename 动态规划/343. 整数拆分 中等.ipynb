{
 "cells": [
  {
   "cell_type": "markdown",
   "id": "96805cb1",
   "metadata": {},
   "source": [
    "其实可以从1遍历j，然后有两种渠道得到dp[i].\n",
    "\n",
    "一个是j * (i - j) 直接相乘。\n",
    "\n",
    "一个是j * dp[i - j]，相当于是拆分(i - j)，对这个拆分不理解的话，可以回想dp数组的定义。"
   ]
  },
  {
   "cell_type": "code",
   "execution_count": 1,
   "id": "142fd6b1",
   "metadata": {},
   "outputs": [],
   "source": [
    "class Solution(object):\n",
    "    def integerBreak(self, n):\n",
    "        \"\"\"\n",
    "        :type n: int\n",
    "        :rtype: int\n",
    "        \"\"\"\n",
    "        dp = [0,1,1]\n",
    "        \n",
    "        for i in range(3, n+1):\n",
    "            tmp = 0\n",
    "            for j in range(1, i):\n",
    "                biger = max(j* (i-j), j * dp[i-j])\n",
    "                tmp = max(biger,tmp)\n",
    "            dp.append(tmp)\n",
    "            \n",
    "        return dp[n]"
   ]
  },
  {
   "cell_type": "code",
   "execution_count": 5,
   "id": "b05d554a",
   "metadata": {},
   "outputs": [
    {
     "data": {
      "text/plain": [
       "27"
      ]
     },
     "execution_count": 5,
     "metadata": {},
     "output_type": "execute_result"
    }
   ],
   "source": [
    "n = 9\n",
    "mysolution = Solution()\n",
    "ans = mysolution.integerBreak(n)\n",
    "ans"
   ]
  }
 ],
 "metadata": {
  "kernelspec": {
   "display_name": "base",
   "language": "python",
   "name": "python3"
  },
  "language_info": {
   "codemirror_mode": {
    "name": "ipython",
    "version": 3
   },
   "file_extension": ".py",
   "mimetype": "text/x-python",
   "name": "python",
   "nbconvert_exporter": "python",
   "pygments_lexer": "ipython3",
   "version": "3.12.9"
  }
 },
 "nbformat": 4,
 "nbformat_minor": 5
}
