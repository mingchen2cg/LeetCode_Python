{
 "cells": [
  {
   "cell_type": "code",
   "execution_count": null,
   "id": "a48014ee",
   "metadata": {},
   "outputs": [],
   "source": [
    "class Solution(object):\n",
    "    def rob(self, nums):\n",
    "        \"\"\"\n",
    "        :type nums: List[int]\n",
    "        :rtype: int\n",
    "        \"\"\"\n",
    "        n = len(nums)\n",
    "        if n == 1:\n",
    "            return nums[0]\n",
    "        if n == 2:\n",
    "            return max(nums)\n",
    "\n",
    "        # 1. 偷定第一家 就不能偷最后一家\n",
    "        dpA = [0] * n\n",
    "        dpA[1] = nums[0]\n",
    "        dpA[2] = nums[0]\n",
    "        for i in range(3, n):\n",
    "            dpA[i] = max(dpA[i-1], dpA[i-2]+nums[i-1])\n",
    "\n",
    "        # print(dpA)\n",
    "        # 2. 坚决不偷第一家\n",
    "        dpB = [0] * (n+1)\n",
    "        dpB[1] = 0\n",
    "        for i in range(2, n+1):\n",
    "            dpB[i] = max(dpB[i-1], dpB[i-2] + nums[i-1])\n",
    "        # print(dpB)\n",
    "\n",
    "        return max(dpA[-1], dpB[-1])"
   ]
  },
  {
   "cell_type": "code",
   "execution_count": null,
   "id": "e95110ce",
   "metadata": {},
   "outputs": [
    {
     "name": "stdout",
     "output_type": "stream",
     "text": [
      "[0, 1, 1]\n",
      "[0, 0, 2, 3]\n"
     ]
    },
    {
     "data": {
      "text/plain": [
       "3"
      ]
     },
     "execution_count": 19,
     "metadata": {},
     "output_type": "execute_result"
    }
   ],
   "source": [
    "nums = [1,2,3]\n",
    "mysolution = Solution()\n",
    "ans = mysolution.rob(nums)\n",
    "ans"
   ]
  }
 ],
 "metadata": {
  "kernelspec": {
   "display_name": "base",
   "language": "python",
   "name": "python3"
  },
  "language_info": {
   "codemirror_mode": {
    "name": "ipython",
    "version": 3
   },
   "file_extension": ".py",
   "mimetype": "text/x-python",
   "name": "python",
   "nbconvert_exporter": "python",
   "pygments_lexer": "ipython3",
   "version": "3.12.9"
  }
 },
 "nbformat": 4,
 "nbformat_minor": 5
}
