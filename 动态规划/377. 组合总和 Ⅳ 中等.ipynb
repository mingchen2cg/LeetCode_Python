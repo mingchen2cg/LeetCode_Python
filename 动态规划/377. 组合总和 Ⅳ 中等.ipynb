{
 "cells": [
  {
   "cell_type": "code",
   "execution_count": null,
   "id": "17489d3e",
   "metadata": {},
   "outputs": [],
   "source": [
    "class Solution(object):\n",
    "    def combinationSum4(self, nums, target):\n",
    "        \"\"\"\n",
    "        :type nums: List[int]\n",
    "        :type target: int\n",
    "        :rtype: int\n",
    "        \"\"\"\n",
    "        dp = [0] * (target+1)\n",
    "        dp[0] = 1\n",
    "\n",
    "        for i in range(1, target+1):\n",
    "            for j in nums:\n",
    "                if i - j >= 0:\n",
    "                    dp[i] += dp[i-j]\n",
    "                else:\n",
    "                    continue\n",
    "\n",
    "        return dp[target]"
   ]
  },
  {
   "cell_type": "code",
   "execution_count": 2,
   "id": "61bcc2aa",
   "metadata": {},
   "outputs": [
    {
     "data": {
      "text/plain": [
       "7"
      ]
     },
     "execution_count": 2,
     "metadata": {},
     "output_type": "execute_result"
    }
   ],
   "source": [
    "nums = [1,2,3]\n",
    "target = 4\n",
    "mysolution = Solution()\n",
    "ans = mysolution.combinationSum4(nums,target)\n",
    "ans"
   ]
  }
 ],
 "metadata": {
  "kernelspec": {
   "display_name": "base",
   "language": "python",
   "name": "python3"
  },
  "language_info": {
   "codemirror_mode": {
    "name": "ipython",
    "version": 3
   },
   "file_extension": ".py",
   "mimetype": "text/x-python",
   "name": "python",
   "nbconvert_exporter": "python",
   "pygments_lexer": "ipython3",
   "version": "3.12.9"
  }
 },
 "nbformat": 4,
 "nbformat_minor": 5
}
