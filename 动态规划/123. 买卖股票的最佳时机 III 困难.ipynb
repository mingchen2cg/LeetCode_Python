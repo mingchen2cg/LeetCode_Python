{
 "cells": [
  {
   "cell_type": "code",
   "execution_count": null,
   "id": "566ffe81",
   "metadata": {},
   "outputs": [],
   "source": [
    "class Solution(object):\n",
    "    def maxProfit(self, prices):\n",
    "        \"\"\"\n",
    "        :type prices: List[int]\n",
    "        :rtype: int\n",
    "        \"\"\"\n",
    "        buy1 = float('-inf')\n",
    "        buy2 = float('-inf')\n",
    "        sell1 = 0\n",
    "        sell2 = 0\n",
    "\n",
    "        for price in prices:\n",
    "            sell2 = max(sell2, buy2 + price)\n",
    "            buy2 = max(buy2, sell1 - price)\n",
    "\n",
    "            sell1 = max(sell1, buy1 + price)\n",
    "            buy1 = max(buy1, -price)\n",
    "\n",
    "        return sell2"
   ]
  }
 ],
 "metadata": {
  "kernelspec": {
   "display_name": "base",
   "language": "python",
   "name": "python3"
  },
  "language_info": {
   "codemirror_mode": {
    "name": "ipython",
    "version": 3
   },
   "file_extension": ".py",
   "mimetype": "text/x-python",
   "name": "python",
   "nbconvert_exporter": "python",
   "pygments_lexer": "ipython3",
   "version": "3.12.9"
  }
 },
 "nbformat": 4,
 "nbformat_minor": 5
}
