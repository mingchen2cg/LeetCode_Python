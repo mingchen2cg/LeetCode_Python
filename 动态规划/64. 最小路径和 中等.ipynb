{
 "cells": [
  {
   "cell_type": "code",
   "execution_count": 17,
   "id": "0d50da6e",
   "metadata": {},
   "outputs": [],
   "source": [
    "class Solution(object):\n",
    "    def minPathSum(self, grid):\n",
    "        \"\"\"\n",
    "        :type grid: List[List[int]]\n",
    "        :rtype: int\n",
    "        \"\"\"\n",
    "        m = len(grid)\n",
    "        n = len(grid[0])\n",
    "        dp = [[0] * (n+1) for _ in range(m+1)]\n",
    "        \n",
    "        for i in range(1, m+1):\n",
    "            for j in range(1,n+1):\n",
    "                \n",
    "                if i == 1:\n",
    "                    dp[i][j] = dp[i][j-1] + grid[i-1][j-1]\n",
    "                    \n",
    "                elif j == 1:\n",
    "                    dp[i][j] = dp[i-1][j] + grid[i-1][j-1]\n",
    "                    \n",
    "                else:\n",
    "                    dp[i][j] = min(dp[i-1][j], dp[i][j-1]) + grid[i-1][j-1]\n",
    "                    \n",
    "\n",
    "        return dp[-1][-1]"
   ]
  },
  {
   "cell_type": "code",
   "execution_count": 19,
   "id": "6f73fa5a",
   "metadata": {},
   "outputs": [
    {
     "data": {
      "text/plain": [
       "1"
      ]
     },
     "execution_count": 19,
     "metadata": {},
     "output_type": "execute_result"
    }
   ],
   "source": [
    "grid = [[1]]\n",
    "\n",
    "mysolution = Solution()\n",
    "ans = mysolution.minPathSum(grid)\n",
    "ans"
   ]
  }
 ],
 "metadata": {
  "kernelspec": {
   "display_name": "base",
   "language": "python",
   "name": "python3"
  },
  "language_info": {
   "codemirror_mode": {
    "name": "ipython",
    "version": 3
   },
   "file_extension": ".py",
   "mimetype": "text/x-python",
   "name": "python",
   "nbconvert_exporter": "python",
   "pygments_lexer": "ipython3",
   "version": "3.12.9"
  }
 },
 "nbformat": 4,
 "nbformat_minor": 5
}
