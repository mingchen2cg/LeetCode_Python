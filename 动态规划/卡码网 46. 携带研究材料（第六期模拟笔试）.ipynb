{
 "cells": [
  {
   "cell_type": "code",
   "execution_count": null,
   "id": "76cc8dc2",
   "metadata": {},
   "outputs": [
    {
     "name": "stdout",
     "output_type": "stream",
     "text": [
      "6 1\n",
      "[2, 2, 3, 1, 5, 2]\n",
      "[2, 3, 1, 5, 4, 3]\n"
     ]
    }
   ],
   "source": [
    "import sys\n",
    "\n",
    "\n",
    "def package01(m, n, cost, value):\n",
    "    \"\"\"\n",
    "    :type coat: List\n",
    "    :type value: List\n",
    "    :type n: int\n",
    "    :rtype: int\n",
    "    dp[j] 表示在容量为 j 时能达到的最大价值。\n",
    "    \"\"\"\n",
    "    dp = [0] * (n + 1)\n",
    "    for i in range(m):\n",
    "        for j in range(n, cost[i] - 1, -1):\n",
    "            dp[j] = max(dp[j], dp[j - cost[i]] + value[i])\n",
    "    return dp[n]\n",
    "\n",
    "\n",
    "def main():\n",
    "    m, n = map(int, input().split())\n",
    "    # print(m, n)\n",
    "\n",
    "    cost = list(map(int, input().split()))\n",
    "    value = list(map(int, input().split()))\n",
    "\n",
    "    ans = package01(m, n, cost, value)\n",
    "\n",
    "    print(ans)\n",
    "\n",
    "    # print(cost)\n",
    "    # print(value)\n",
    "\n",
    "\n",
    "if __name__ == \"__main__\":\n",
    "    main()"
   ]
  }
 ],
 "metadata": {
  "kernelspec": {
   "display_name": "base",
   "language": "python",
   "name": "python3"
  },
  "language_info": {
   "codemirror_mode": {
    "name": "ipython",
    "version": 3
   },
   "file_extension": ".py",
   "mimetype": "text/x-python",
   "name": "python",
   "nbconvert_exporter": "python",
   "pygments_lexer": "ipython3",
   "version": "3.12.9"
  }
 },
 "nbformat": 4,
 "nbformat_minor": 5
}
