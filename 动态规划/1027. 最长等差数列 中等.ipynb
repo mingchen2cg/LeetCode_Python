{
 "cells": [
  {
   "cell_type": "code",
   "execution_count": null,
   "id": "c32d4f9f",
   "metadata": {},
   "outputs": [],
   "source": [
    "class Solution(object):\n",
    "    def longestArithSeqLength(self, nums):\n",
    "        \"\"\"\n",
    "        :type nums: List[int]\n",
    "        :rtype: int\n",
    "        \"\"\"\n",
    "        n = len(nums)\n",
    "        if n <= 2:\n",
    "            return n\n",
    "\n",
    "        dp = {}\n",
    "        max_len = 2\n",
    "        for i in range(n):\n",
    "            for j in range(i):\n",
    "                diff = nums[i] - nums[j]\n",
    "                if (j, diff) in dp:\n",
    "                    dp[(i, diff)] = dp[(j, diff)] + 1\n",
    "                else:\n",
    "                    dp[(i, diff)] = 2\n",
    "                max_len = max(max_len, dp[(i, diff)])\n",
    "\n",
    "        return max_len"
   ]
  },
  {
   "cell_type": "markdown",
   "id": "8075ce0a",
   "metadata": {},
   "source": [
    "我们可以使用一个哈希映射的数组 `dp`，其中 `dp[i]` 是一个哈希映射，用于存储以 `nums[i]` 结尾的等差子序列的长度，键是公差，值是长度。\n",
    "\n",
    "遍历数组 `nums`，对于每个 `nums[i]`：\n",
    "初始化 `dp[i]` 为一个空哈希映射。\n",
    "对于每个 `j` 从 0 到 `i-1`：\n",
    "计算公差 `diff = nums[i] - nums[j]`。\n",
    "如果 `diff` 已经在 `dp[j]` 中，说明存在一个以 `nums[j]` 结尾，公差为 `diff` 的等差子序列，那么以 `nums[i]` 结尾，公差为 `diff` 的等差子序列的长度就是 `dp[j][diff] + 1`。\n",
    "如果 `diff` 不在 `dp[j]` 中，那么以 `nums[i]` 和 `nums[j]` 结尾的等差子序列的长度至少为 2。\n",
    "\n",
    "我们可以这样更新 `dp[i][diff]`：\n",
    "`dp[i][diff] = max(dp[i].get(diff, 1), dp[j].get(diff, 1) + 1)`\n",
    "\n",
    "在遍历的过程中，我们维护一个全局的最大长度 `max_len`，并在每次更新 `dp[i][diff]` 时更新 `max_len`。\n",
    "\n"
   ]
  },
  {
   "cell_type": "code",
   "execution_count": null,
   "id": "5e899eaf",
   "metadata": {},
   "outputs": [],
   "source": [
    "class Solution(object):\n",
    "    def longestArithSeqLength(self, nums):\n",
    "        \"\"\"\n",
    "        :type nums: List[int]\n",
    "        :rtype: int\n",
    "        \"\"\"\n",
    "        n = len(nums)\n",
    "        if n <= 2:\n",
    "            return n\n",
    "\n",
    "        dp = [{} for _ in range(n)]\n",
    "        max_len = 2\n",
    "\n",
    "        for i in range(1, n):\n",
    "            for j in range(i):\n",
    "                diff = nums[i] - nums[j]\n",
    "                if diff in dp[j]:\n",
    "                    dp[i][diff] = dp[j][diff] + 1\n",
    "                else:\n",
    "                    dp[i][diff] = 2\n",
    "                max_len = max(max_len, dp[i][diff])\n",
    "\n",
    "        return max_len"
   ]
  },
  {
   "cell_type": "markdown",
   "id": "6ee8d64b",
   "metadata": {},
   "source": [
    "考虑到数字的范围是 0 到 500，公差的范围是 -500 到 500。我们可以尝试使用一个二维数组 dp[i][diff + offset] 来存储以 nums[i] 结尾，公差为 diff 的最长等差子序列的长度，其中 offset = 500。"
   ]
  },
  {
   "cell_type": "code",
   "execution_count": null,
   "id": "16fe7661",
   "metadata": {},
   "outputs": [],
   "source": [
    "class Solution(object):\n",
    "    def longestArithSeqLength(self, nums):\n",
    "        \"\"\"\n",
    "        :type nums: List[int]\n",
    "        :rtype: int\n",
    "        \"\"\"\n",
    "        n = len(nums)\n",
    "        if n <= 2:\n",
    "            return n\n",
    "\n",
    "        offset = 500\n",
    "        dp = [[1] * 1001 for _ in range(n)]\n",
    "        max_len = 2\n",
    "        for i in range(1, n):\n",
    "            for j in range(i):\n",
    "                diff = nums[i] - nums[j]\n",
    "                dp[i][diff +\n",
    "                      offset] = max(dp[i][diff + offset], dp[j][diff+offset] + 1)\n",
    "                max_len = max(max_len, dp[i][diff + offset])\n",
    "\n",
    "        return max_len"
   ]
  },
  {
   "cell_type": "code",
   "execution_count": 8,
   "id": "0686d05a",
   "metadata": {},
   "outputs": [
    {
     "name": "stdout",
     "output_type": "stream",
     "text": [
      "1\n"
     ]
    }
   ],
   "source": [
    "nums = [3,6,9,12]\n",
    "mysolution = Solution()\n",
    "ans = mysolution.longestArithSeqLength(nums)\n",
    "ans"
   ]
  }
 ],
 "metadata": {
  "kernelspec": {
   "display_name": "base",
   "language": "python",
   "name": "python3"
  },
  "language_info": {
   "codemirror_mode": {
    "name": "ipython",
    "version": 3
   },
   "file_extension": ".py",
   "mimetype": "text/x-python",
   "name": "python",
   "nbconvert_exporter": "python",
   "pygments_lexer": "ipython3",
   "version": "3.12.9"
  }
 },
 "nbformat": 4,
 "nbformat_minor": 5
}
