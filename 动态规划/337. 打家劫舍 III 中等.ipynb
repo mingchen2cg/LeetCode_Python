{
 "cells": [
  {
   "cell_type": "code",
   "execution_count": null,
   "id": "f9c4003e",
   "metadata": {},
   "outputs": [],
   "source": [
    "# class TreeNode(object):\n",
    "#     def __init__(self, val=0, left=None, right=None):\n",
    "#         self.val = val\n",
    "#         self.left = left\n",
    "#         self.right = right\n",
    "\n",
    "\n",
    "class Solution(object):\n",
    "    def rob(self, root):\n",
    "        \"\"\"\n",
    "        :type root: Optional[TreeNode]\n",
    "        :rtype: int\n",
    "        \"\"\"\n",
    "        def dfs(node):\n",
    "            if not node:\n",
    "                return (0, 0)\n",
    "            left = dfs(node.left)\n",
    "            right = dfs(node.right)\n",
    "            # 偷当前节点，则不能偷左右子节点\n",
    "            rob_val = node.val + left[1] + right[1]\n",
    "            # 不偷当前节点，则可以偷或不偷左右子节点，取最大值\n",
    "            not_rob_val = max(left)+max(right)\n",
    "            \n",
    "            return (rob_val,not_rob_val)\n",
    "        \n",
    "        res = dfs(root)\n",
    "        return res "
   ]
  }
 ],
 "metadata": {
  "language_info": {
   "name": "python"
  }
 },
 "nbformat": 4,
 "nbformat_minor": 5
}
