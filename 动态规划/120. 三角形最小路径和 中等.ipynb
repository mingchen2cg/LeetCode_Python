{
 "cells": [
  {
   "cell_type": "code",
   "execution_count": null,
   "id": "7e5fe591",
   "metadata": {},
   "outputs": [],
   "source": [
    "class Solution(object):\n",
    "    def minimumTotal(self, triangle):\n",
    "        \"\"\"\n",
    "        :type triangle: List[List[int]]\n",
    "        :rtype: int\n",
    "        \"\"\"\n",
    "        for index, line in enumerate(triangle):\n",
    "            if index >= 1:\n",
    "                triangle[index][0] += triangle[index-1][0]\n",
    "                for i in range(1, len(line)-1):\n",
    "                    triangle[index][i] += min(triangle[index-1]\n",
    "                                              [i],  triangle[index-1][i-1])\n",
    "                triangle[index][index] += triangle[index-1][index-1]\n",
    "        return min(triangle[-1])"
   ]
  },
  {
   "cell_type": "code",
   "execution_count": 10,
   "id": "c2231cb9",
   "metadata": {},
   "outputs": [
    {
     "name": "stdout",
     "output_type": "stream",
     "text": [
      "1 1 -3 -4\n",
      "[[-1], [-3, -4]]\n"
     ]
    },
    {
     "data": {
      "text/plain": [
       "-4"
      ]
     },
     "execution_count": 10,
     "metadata": {},
     "output_type": "execute_result"
    }
   ],
   "source": [
    "triangle = [[-1],[-2,-3]]\n",
    "\n",
    "mysolution = Solution()\n",
    "ans = mysolution.minimumTotal(triangle)\n",
    "ans"
   ]
  }
 ],
 "metadata": {
  "kernelspec": {
   "display_name": "base",
   "language": "python",
   "name": "python3"
  },
  "language_info": {
   "codemirror_mode": {
    "name": "ipython",
    "version": 3
   },
   "file_extension": ".py",
   "mimetype": "text/x-python",
   "name": "python",
   "nbconvert_exporter": "python",
   "pygments_lexer": "ipython3",
   "version": "3.12.9"
  }
 },
 "nbformat": 4,
 "nbformat_minor": 5
}
