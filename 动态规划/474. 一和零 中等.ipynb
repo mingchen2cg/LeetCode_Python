{
 "cells": [
  {
   "cell_type": "code",
   "execution_count": null,
   "id": "010b5d26",
   "metadata": {},
   "outputs": [],
   "source": [
    "class Solution(object):\n",
    "    def findMaxForm(self, strs, m, n):\n",
    "        \"\"\"\n",
    "        :type strs: List[str]\n",
    "        :type m: int\n",
    "        :type n: int\n",
    "        :rtype: int\n",
    "        \"\"\"\n",
    "        dp = [[0] * (n+1) for _ in range(m+1)]\n",
    "\n",
    "        for s in strs:\n",
    "            zeros = s.count('0')\n",
    "            ones = s.count('1')\n",
    "\n",
    "            for i in range(m, zeros-1, -1):\n",
    "                for j in range(n, ones-1, -1):\n",
    "                    dp[i][j] = max(dp[i][j], dp[i-zeros][j-ones] + 1)\n",
    "\n",
    "        return dp[m][n]"
   ]
  },
  {
   "cell_type": "code",
   "execution_count": null,
   "id": "391a398a",
   "metadata": {},
   "outputs": [],
   "source": [
    "class Solution(object):\n",
    "    def findMaxForm(self, strs, m, n):\n",
    "        \"\"\"\n",
    "        :type strs: List[str]\n",
    "        :type m: int\n",
    "        :type n: int\n",
    "        :rtype: int\n",
    "        \"\"\"\n",
    "        # 预处理：筛选出不会超过 m 和 n 的字符串\n",
    "        zero_one = []\n",
    "        for s in strs:\n",
    "            z = s.count('0')\n",
    "            o = len(s) - z  # 因为字符串只有 '0' 和 '1'\n",
    "            if z <= m and o <= n:\n",
    "                zero_one.append((z, o))\n",
    "\n",
    "        # DP 初始化\n",
    "        dp = [[0] * (n + 1) for _ in range(m + 1)]\n",
    "\n",
    "        # 遍历每个字符串的 (0 的数量, 1 的数量)\n",
    "        for z, o in zero_one:\n",
    "            # 倒序更新 DP 表，避免重复使用同一个字符串\n",
    "            for i in range(m, z - 1, -1):\n",
    "                for j in range(n, o - 1, -1):\n",
    "                    dp[i][j] = max(dp[i][j], dp[i - z][j - o] + 1)\n",
    "\n",
    "        return dp[m][n]\n"
   ]
  },
  {
   "cell_type": "code",
   "execution_count": 6,
   "id": "0df098fe",
   "metadata": {},
   "outputs": [
    {
     "name": "stdout",
     "output_type": "stream",
     "text": [
      "[[0, 0, 0, 0], [0, 0, 0, 0], [0, 0, 0, 0], [0, 0, 0, 0], [0, 0, 0, 0], [0, 0, 0, 0]]\n"
     ]
    }
   ],
   "source": [
    "strs = [\"10\", \"0001\", \"111001\", \"1\", \"0\"]\n",
    "m = 5\n",
    "n = 3\n",
    "\n",
    "mysolution = Solution()\n",
    "ans = mysolution.findMaxForm(strs, m, n)"
   ]
  }
 ],
 "metadata": {
  "kernelspec": {
   "display_name": "base",
   "language": "python",
   "name": "python3"
  },
  "language_info": {
   "codemirror_mode": {
    "name": "ipython",
    "version": 3
   },
   "file_extension": ".py",
   "mimetype": "text/x-python",
   "name": "python",
   "nbconvert_exporter": "python",
   "pygments_lexer": "ipython3",
   "version": "3.12.9"
  }
 },
 "nbformat": 4,
 "nbformat_minor": 5
}
