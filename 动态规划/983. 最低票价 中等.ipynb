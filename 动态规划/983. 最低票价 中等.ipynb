{
 "cells": [
  {
   "cell_type": "code",
   "execution_count": 1,
   "id": "ba78fd65",
   "metadata": {},
   "outputs": [],
   "source": [
    "class Solution(object):\n",
    "    def mincostTickets(self, days, costs):\n",
    "        \"\"\"\n",
    "        :type days: List[int]\n",
    "        :type costs: List[int]\n",
    "        :rtype: int\n",
    "        \"\"\"\n",
    "        last_day = days[-1]\n",
    "        dp = [0] * (last_day + 1)\n",
    "\n",
    "        travel_days_set = set(days)\n",
    "\n",
    "        for d in range(1, last_day + 1):\n",
    "            if d not in travel_days_set:\n",
    "                dp[d] = dp[d-1]\n",
    "            else:\n",
    "                cost_option1 = costs[0] + dp[d-1]\n",
    "\n",
    "                idx_before_7_day_coverage = max(0, d - 7)\n",
    "                cost_option2 = costs[1] + dp[idx_before_7_day_coverage]\n",
    "\n",
    "                idx_before_30_day_coverage = max(0, d-30)\n",
    "                cost_option3 = costs[2] + dp[idx_before_30_day_coverage]\n",
    "\n",
    "                dp[d] = min(cost_option1, cost_option2, cost_option3)\n",
    "        \n",
    "        return dp[last_day]"
   ]
  },
  {
   "cell_type": "code",
   "execution_count": 3,
   "id": "f9a47404",
   "metadata": {},
   "outputs": [
    {
     "data": {
      "text/plain": [
       "17"
      ]
     },
     "execution_count": 3,
     "metadata": {},
     "output_type": "execute_result"
    }
   ],
   "source": [
    "days = [1,2,3,4,5,6,7,8,9,10,30,31]\n",
    "costs = [2,7,15]\n",
    "mysolution = Solution()\n",
    "ans = mysolution.mincostTickets(days,costs)\n",
    "ans "
   ]
  }
 ],
 "metadata": {
  "kernelspec": {
   "display_name": "base",
   "language": "python",
   "name": "python3"
  },
  "language_info": {
   "codemirror_mode": {
    "name": "ipython",
    "version": 3
   },
   "file_extension": ".py",
   "mimetype": "text/x-python",
   "name": "python",
   "nbconvert_exporter": "python",
   "pygments_lexer": "ipython3",
   "version": "3.12.9"
  }
 },
 "nbformat": 4,
 "nbformat_minor": 5
}
