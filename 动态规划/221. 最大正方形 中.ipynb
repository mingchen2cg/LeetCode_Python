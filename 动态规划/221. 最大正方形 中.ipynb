{
 "cells": [
  {
   "cell_type": "code",
   "execution_count": 1,
   "id": "2c723ab4",
   "metadata": {},
   "outputs": [],
   "source": [
    "class Solution(object):\n",
    "    def maximalSquare(self, matrix):\n",
    "        \"\"\"\n",
    "        :type matrix: List[List[str]]\n",
    "        :rtype: int\n",
    "        \"\"\"\n",
    "        if not matrix or not matrix[0]:\n",
    "            return 0\n",
    "        \n",
    "        rows, cols = len(matrix), len(matrix[0])\n",
    "        dp = [[0] * cols for _ in range(rows)]\n",
    "        max_len = 0\n",
    "\n",
    "        for i in range(rows):\n",
    "            for j in range(cols):\n",
    "                if matrix[i][j] == '1':\n",
    "                    if i == 0 or j == 0:\n",
    "                        dp[i][j] = 1  # 边界上只能是 1\n",
    "                    else:\n",
    "                        dp[i][j] = min(\n",
    "                            dp[i-1][j],\n",
    "                            dp[i][j-1],\n",
    "                            dp[i-1][j-1]\n",
    "                        ) + 1\n",
    "                    max_len = max(max_len, dp[i][j])\n",
    "        \n",
    "        return max_len * max_len  # 面积 = 边长²\n"
   ]
  },
  {
   "cell_type": "code",
   "execution_count": 2,
   "id": "75649a29",
   "metadata": {},
   "outputs": [
    {
     "data": {
      "text/plain": [
       "9"
      ]
     },
     "execution_count": 2,
     "metadata": {},
     "output_type": "execute_result"
    }
   ],
   "source": [
    "matrix = [[\"0\",\"0\",\"0\",\"1\"],[\"1\",\"1\",\"0\",\"1\"],[\"1\",\"1\",\"1\",\"1\"],[\"0\",\"1\",\"1\",\"1\"],[\"0\",\"1\",\"1\",\"1\"]]\n",
    "mysolution = Solution()\n",
    "ans = mysolution.maximalSquare(matrix)\n",
    "ans"
   ]
  }
 ],
 "metadata": {
  "kernelspec": {
   "display_name": "base",
   "language": "python",
   "name": "python3"
  },
  "language_info": {
   "codemirror_mode": {
    "name": "ipython",
    "version": 3
   },
   "file_extension": ".py",
   "mimetype": "text/x-python",
   "name": "python",
   "nbconvert_exporter": "python",
   "pygments_lexer": "ipython3",
   "version": "3.12.9"
  }
 },
 "nbformat": 4,
 "nbformat_minor": 5
}
