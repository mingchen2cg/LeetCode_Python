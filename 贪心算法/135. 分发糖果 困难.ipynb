{
 "cells": [
  {
   "cell_type": "markdown",
   "metadata": {},
   "source": [
    "### 解题思路\n",
    "这个问题可以分解为两个独立的规则：\n",
    "\n",
    "- 从左到右规则：如果右边的孩子评分比左边高，那么右边的孩子的糖果数应该比左边多。\n",
    "- 从右到左规则：如果左边的孩子评分比右边高，那么左边的孩子的糖果数应该比右边多。\n",
    "为了满足这两个规则，我们可以：\n",
    "\n",
    "初始化一个糖果数组 candies，每个孩子至少 1 个糖果。\n",
    "从左到右遍历：如果 ratings[i] > ratings[i-1]，则 candies[i] = candies[i-1] + 1。\n",
    "从右到左遍历：如果 ratings[i] > ratings[i+1]，则 candies[i] 应该至少为 candies[i+1] + 1（需要取当前值和 candies[i+1] + 1 的较大值）。\n",
    "最后，candies 数组的和就是最少需要的糖果数目。"
   ]
  },
  {
   "cell_type": "code",
   "execution_count": 7,
   "metadata": {},
   "outputs": [],
   "source": [
    "class Solution(object):\n",
    "    def candy(self, ratings):\n",
    "        \"\"\"\n",
    "        :type ratings: List[int]\n",
    "        :rtype: int\n",
    "        \"\"\"\n",
    "        candies = [1] * len(ratings)\n",
    "\n",
    "        # loop from left to right\n",
    "        for i in range(1, len(ratings)):\n",
    "            if ratings[i] > ratings[i-1]:\n",
    "                candies[i] = candies[i-1] + 1\n",
    "\n",
    "        # loop from right to left\n",
    "        for i in range(len(ratings)-2 , -1,-1):\n",
    "            if ratings[i] > ratings[i+1]:\n",
    "                candies[i] = max(candies[i], candies[i+1] + 1)\n",
    "        \n",
    "        return sum(candies)"
   ]
  },
  {
   "cell_type": "code",
   "execution_count": 8,
   "metadata": {},
   "outputs": [
    {
     "data": {
      "text/plain": [
       "13"
      ]
     },
     "execution_count": 8,
     "metadata": {},
     "output_type": "execute_result"
    }
   ],
   "source": [
    "ratings = [1,2,87,87,87,2,1]\n",
    "Solution_ = Solution()\n",
    "ans = Solution_.candy(ratings)\n",
    "ans"
   ]
  }
 ],
 "metadata": {
  "kernelspec": {
   "display_name": "base",
   "language": "python",
   "name": "python3"
  },
  "language_info": {
   "codemirror_mode": {
    "name": "ipython",
    "version": 3
   },
   "file_extension": ".py",
   "mimetype": "text/x-python",
   "name": "python",
   "nbconvert_exporter": "python",
   "pygments_lexer": "ipython3",
   "version": "3.12.9"
  }
 },
 "nbformat": 4,
 "nbformat_minor": 2
}
