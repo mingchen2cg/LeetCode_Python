{
 "cells": [
  {
   "cell_type": "code",
   "execution_count": 22,
   "id": "74fca30b",
   "metadata": {},
   "outputs": [],
   "source": [
    "from typing import List\n",
    "\n",
    "\n",
    "class Solution:\n",
    "    def minimizeMax(self, nums: List[int], p: int) -> int:\n",
    "        nums.sort()\n",
    "        n = len(nums)\n",
    "        \n",
    "        \n",
    "        # 判断是否可以在差值 <= mid 的限制下，构造 p 个不重叠的对\n",
    "        def can_form_pairs(mid):\n",
    "            count = 0 \n",
    "            i = 0 \n",
    "            while i < n -1 :\n",
    "                if nums[i+1] - nums[i] <= mid:\n",
    "                    count += 1 \n",
    "                    i += 2 \n",
    "                else:\n",
    "                    i += 1 \n",
    "                    \n",
    "            return count >= p\n",
    "        \n",
    "        \n",
    "        # 二分最大差值 \n",
    "        left , right = 0, nums[-1] - nums[0]\n",
    "        \n",
    "        while left <= right:\n",
    "            mid = (left + right) // 2 \n",
    "            if can_form_pairs(mid):\n",
    "                ans = mid \n",
    "                right = mid - 1 \n",
    "            else:\n",
    "                left = mid + 1 \n",
    "                \n",
    "        return ans\n",
    "        "
   ]
  },
  {
   "cell_type": "code",
   "execution_count": 23,
   "id": "73911e54",
   "metadata": {},
   "outputs": [
    {
     "data": {
      "text/plain": [
       "1"
      ]
     },
     "execution_count": 23,
     "metadata": {},
     "output_type": "execute_result"
    }
   ],
   "source": [
    "nums = [3,0,5,0,0,1,6]\n",
    "p = 3\n",
    "mysolution = Solution()\n",
    "ans = mysolution.minimizeMax(nums,p)\n",
    "ans"
   ]
  }
 ],
 "metadata": {
  "kernelspec": {
   "display_name": "base",
   "language": "python",
   "name": "python3"
  },
  "language_info": {
   "codemirror_mode": {
    "name": "ipython",
    "version": 3
   },
   "file_extension": ".py",
   "mimetype": "text/x-python",
   "name": "python",
   "nbconvert_exporter": "python",
   "pygments_lexer": "ipython3",
   "version": "3.12.9"
  }
 },
 "nbformat": 4,
 "nbformat_minor": 5
}
