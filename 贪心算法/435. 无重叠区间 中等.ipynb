{
 "cells": [
  {
   "cell_type": "markdown",
   "metadata": {},
   "source": [
    "![解题思路](./截屏2025-04-02%2016.15.51.png)"
   ]
  },
  {
   "cell_type": "code",
   "execution_count": null,
   "metadata": {},
   "outputs": [],
   "source": [
    "class Solution(object):\n",
    "    def eraseOverlapIntervals(self, intervals):\n",
    "        \"\"\"\n",
    "        :type intervals: List[List[int]]\n",
    "        :rtype: int\n",
    "        \"\"\"\n",
    "        intervals.sort(key=lambda x: x[1])\n",
    "        # print(intervals)\n",
    "        xend = intervals[0][1]\n",
    "        \n",
    "        count = 0\n",
    "        \n",
    "        for i in range(1, len(intervals)):\n",
    "            if intervals[i][0] < xend:\n",
    "                count += 1 \n",
    "            else:\n",
    "                xend = intervals[i][1]\n",
    "                \n",
    "        return count"
   ]
  },
  {
   "cell_type": "code",
   "execution_count": 30,
   "metadata": {},
   "outputs": [
    {
     "name": "stdout",
     "output_type": "stream",
     "text": [
      "[[-62, -49], [-73, -26], [-40, -26], [-65, -11], [-63, 2], [-52, 31], [30, 47], [-31, 49], [58, 95], [82, 97], [66, 98], [95, 99]]\n"
     ]
    },
    {
     "data": {
      "text/plain": [
       "7"
      ]
     },
     "execution_count": 30,
     "metadata": {},
     "output_type": "execute_result"
    }
   ],
   "source": [
    "intervals = [[-52,31],[-73,-26],[82,97],[-65,-11],[-62,-49],[95,99],[58,95],[-31,49],[66,98],[-63,2],[30,47],[-40,-26]]\n",
    "Solution_ = Solution()\n",
    "ans = Solution_.eraseOverlapIntervals(intervals)\n",
    "ans"
   ]
  }
 ],
 "metadata": {
  "kernelspec": {
   "display_name": "base",
   "language": "python",
   "name": "python3"
  },
  "language_info": {
   "codemirror_mode": {
    "name": "ipython",
    "version": 3
   },
   "file_extension": ".py",
   "mimetype": "text/x-python",
   "name": "python",
   "nbconvert_exporter": "python",
   "pygments_lexer": "ipython3",
   "version": "3.12.9"
  }
 },
 "nbformat": 4,
 "nbformat_minor": 2
}
