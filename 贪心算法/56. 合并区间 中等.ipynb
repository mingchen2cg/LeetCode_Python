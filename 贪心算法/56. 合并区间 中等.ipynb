{
 "cells": [
  {
   "cell_type": "code",
   "execution_count": 26,
   "metadata": {},
   "outputs": [],
   "source": [
    "class Solution(object):\n",
    "    def merge(self, intervals):\n",
    "        \"\"\"\n",
    "        :type intervals: List[List[int]]\n",
    "        :rtype: List[List[int]]\n",
    "        \"\"\"\n",
    "        intervals.sort(key=lambda x: x[0])\n",
    "        merged = []\n",
    "        \n",
    "        # print(intervals)\n",
    "        \n",
    "        x = intervals[0][0]\n",
    "        y = intervals[0][1]\n",
    "        for start, end in intervals:\n",
    "            # print(start,end)\n",
    "            \n",
    "            if start<= y:\n",
    "                # 重叠\n",
    "                y= max(y,end)\n",
    "                \n",
    "            else:\n",
    "                merged.append([x,y])\n",
    "                x = start\n",
    "                y = end\n",
    "                \n",
    "        merged.append([x,max(y,intervals[-1][1])])\n",
    "                \n",
    "        return merged"
   ]
  },
  {
   "cell_type": "code",
   "execution_count": 27,
   "metadata": {},
   "outputs": [
    {
     "data": {
      "text/plain": [
       "[[1, 4]]"
      ]
     },
     "execution_count": 27,
     "metadata": {},
     "output_type": "execute_result"
    }
   ],
   "source": [
    "intervals = [[1,4],[2,3]]\n",
    "Solution_ = Solution()\n",
    "ans = Solution_.merge(intervals)\n",
    "ans"
   ]
  }
 ],
 "metadata": {
  "kernelspec": {
   "display_name": "base",
   "language": "python",
   "name": "python3"
  },
  "language_info": {
   "codemirror_mode": {
    "name": "ipython",
    "version": 3
   },
   "file_extension": ".py",
   "mimetype": "text/x-python",
   "name": "python",
   "nbconvert_exporter": "python",
   "pygments_lexer": "ipython3",
   "version": "3.12.9"
  }
 },
 "nbformat": 4,
 "nbformat_minor": 2
}
