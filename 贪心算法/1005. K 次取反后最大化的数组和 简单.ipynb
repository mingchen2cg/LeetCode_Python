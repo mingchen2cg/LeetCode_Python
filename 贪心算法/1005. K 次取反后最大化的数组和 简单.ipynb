{
 "cells": [
  {
   "cell_type": "code",
   "execution_count": null,
   "metadata": {},
   "outputs": [],
   "source": [
    "class Solution(object):\n",
    "    def largestSumAfterKNegations(self, nums, k):\n",
    "        nums.sort()  # 先排序\n",
    "        for i in range(len(nums)):\n",
    "            if nums[i] < 0 and k > 0:\n",
    "                nums[i] = -nums[i]  # 取反负数\n",
    "                k -= 1\n",
    "        \n",
    "        # 如果 k 还有剩余且是奇数，取反最小值\n",
    "        if k % 2 == 1:\n",
    "            nums.sort()  # 重新排序，找到最小值\n",
    "            nums[0] = -nums[0]\n",
    "        \n",
    "        return sum(nums)\n"
   ]
  }
 ],
 "metadata": {
  "kernelspec": {
   "display_name": "base",
   "language": "python",
   "name": "python3"
  },
  "language_info": {
   "name": "python",
   "version": "3.12.2"
  }
 },
 "nbformat": 4,
 "nbformat_minor": 2
}
