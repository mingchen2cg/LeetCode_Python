{
 "cells": [
  {
   "cell_type": "code",
   "execution_count": null,
   "metadata": {},
   "outputs": [],
   "source": [
    "class Solution(object):\n",
    "    def largestSumAfterKNegations(self, nums, k):\n",
    "        nums.sort()\n",
    "        for i in range(len(nums)):\n",
    "            if nums[i] < 0 and k > 0:\n",
    "                nums[i] = -nums[i]\n",
    "                k -= 1\n",
    "            else:\n",
    "                break\n",
    "\n",
    "        if k % 2 == 1:\n",
    "            nums.sort()\n",
    "            nums[0] = -nums[0]\n",
    "        return sum(nums)"
   ]
  }
 ],
 "metadata": {
  "kernelspec": {
   "display_name": "base",
   "language": "python",
   "name": "python3"
  },
  "language_info": {
   "codemirror_mode": {
    "name": "ipython",
    "version": 3
   },
   "file_extension": ".py",
   "mimetype": "text/x-python",
   "name": "python",
   "nbconvert_exporter": "python",
   "pygments_lexer": "ipython3",
   "version": "3.12.2"
  }
 },
 "nbformat": 4,
 "nbformat_minor": 2
}
