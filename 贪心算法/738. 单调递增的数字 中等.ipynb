{
 "cells": [
  {
   "cell_type": "markdown",
   "metadata": {},
   "source": [
    "![解题思路](./截屏2025-04-03%2021.47.13.png)"
   ]
  },
  {
   "cell_type": "code",
   "execution_count": 32,
   "metadata": {},
   "outputs": [],
   "source": [
    "class Solution(object):\n",
    "    def monotoneIncreasingDigits(self, n):\n",
    "        \"\"\"\n",
    "        :type n: int\n",
    "        :rtype: int\n",
    "        \"\"\"\n",
    "        \n",
    "        strn = list(str(n))\n",
    "        \n",
    "        index = None\n",
    "        for i in range(1,len(str(n))):\n",
    "            if strn[i-1] > strn[i]:\n",
    "                index = i\n",
    "                break\n",
    "            \n",
    "        if index == None:\n",
    "            return n\n",
    "        \n",
    "        strn[index - 1] = str(int(strn[index - 1]) - 1)\n",
    "        \n",
    "        \n",
    "        for i in range(index,len(strn)):\n",
    "            strn[i] = '9'\n",
    "        \n",
    "        num = int(''.join(strn)) \n",
    "        \n",
    "        return self.monotoneIncreasingDigits(num)"
   ]
  },
  {
   "cell_type": "code",
   "execution_count": 34,
   "metadata": {},
   "outputs": [
    {
     "data": {
      "text/plain": [
       "1234"
      ]
     },
     "execution_count": 34,
     "metadata": {},
     "output_type": "execute_result"
    }
   ],
   "source": [
    "\n",
    "n = 1234\n",
    "Solution_= Solution()\n",
    "ans = Solution_.monotoneIncreasingDigits(n)\n",
    "ans"
   ]
  }
 ],
 "metadata": {
  "kernelspec": {
   "display_name": "base",
   "language": "python",
   "name": "python3"
  },
  "language_info": {
   "codemirror_mode": {
    "name": "ipython",
    "version": 3
   },
   "file_extension": ".py",
   "mimetype": "text/x-python",
   "name": "python",
   "nbconvert_exporter": "python",
   "pygments_lexer": "ipython3",
   "version": "3.12.9"
  }
 },
 "nbformat": 4,
 "nbformat_minor": 2
}
