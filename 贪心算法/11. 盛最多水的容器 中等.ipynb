{
 "cells": [
  {
   "cell_type": "code",
   "execution_count": null,
   "id": "421e8251",
   "metadata": {},
   "outputs": [],
   "source": [
    "from typing import List\n",
    "\n",
    "class Solution:\n",
    "    def maxArea(self, height: List[int]) -> int:\n",
    "        left, right = 0, len(height) - 1\n",
    "        max_area = 0\n",
    "\n",
    "        while left < right:\n",
    "            h = min(height[left], height[right])\n",
    "            w = right - left\n",
    "            max_area = max(max_area, h * w)\n",
    "\n",
    "            # 移动较小的一侧，并跳过不比当前高的柱子\n",
    "            if height[left] < height[right]:\n",
    "                curr = height[left]\n",
    "                while left < right and height[left] <= curr:\n",
    "                    left += 1\n",
    "            else:\n",
    "                curr = height[right]\n",
    "                while left < right and height[right] <= curr:\n",
    "                    right -= 1\n",
    "\n",
    "        return max_area\n",
    "\n"
   ]
  },
  {
   "cell_type": "code",
   "execution_count": 3,
   "id": "eeac1c77",
   "metadata": {},
   "outputs": [
    {
     "data": {
      "text/plain": [
       "49"
      ]
     },
     "execution_count": 3,
     "metadata": {},
     "output_type": "execute_result"
    }
   ],
   "source": [
    "heights = [1,8,6,2,5,4,8,3,7]\n",
    "# mysolution = Solution()\n",
    "ans = maxArea(heights)\n",
    "ans"
   ]
  }
 ],
 "metadata": {
  "kernelspec": {
   "display_name": "base",
   "language": "python",
   "name": "python3"
  },
  "language_info": {
   "codemirror_mode": {
    "name": "ipython",
    "version": 3
   },
   "file_extension": ".py",
   "mimetype": "text/x-python",
   "name": "python",
   "nbconvert_exporter": "python",
   "pygments_lexer": "ipython3",
   "version": "3.12.9"
  }
 },
 "nbformat": 4,
 "nbformat_minor": 5
}
