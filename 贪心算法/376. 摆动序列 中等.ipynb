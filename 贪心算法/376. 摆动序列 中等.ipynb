{
 "cells": [
  {
   "cell_type": "code",
   "execution_count": null,
   "metadata": {},
   "outputs": [],
   "source": [
    "class Solution(object):\n",
    "    def wiggleMaxLength(self, nums):\n",
    "        \"\"\"\n",
    "        :type nums: List[int]\n",
    "        :rtype: int\n",
    "        \"\"\"\n",
    "        if len(nums) <= 2:\n",
    "            return len(set(nums))\n",
    "        \n",
    "        count = 1 \n",
    "        prev_diff = 0  #前一个相邻元素的差值\n",
    "        \n",
    "        for i in range(1, len(nums)):\n",
    "            diff = nums[i] - nums[i-1]\n",
    "            \n",
    "            if diff > 0 and prev_diff <= 0:\n",
    "                count += 1\n",
    "                prev_diff = 1 \n",
    "            \n",
    "            elif diff < 0 and prev_diff >= 0:\n",
    "                count += 1 \n",
    "                prev_diff = -1 \n",
    "                \n",
    "        return count\n",
    "                \n",
    "            "
   ]
  },
  {
   "cell_type": "code",
   "execution_count": null,
   "metadata": {},
   "outputs": [],
   "source": [
    "class Solution(object):\n",
    "    def wiggleMaxLength(self, nums):\n",
    "        \"\"\"\n",
    "        :type nums: List[int]\n",
    "        :rtype: int\n",
    "        \"\"\"\n",
    "        # 1. 处理特殊情况：数组长度小于等于 2 时，直接返回结果\n",
    "        if len(nums) <= 2:\n",
    "            return len(set(nums))  # 如果只有两个或更少元素，返回不同元素的数量\n",
    "        \n",
    "        count = 1  # 初始化摆动序列的长度为 1\n",
    "        prev_diff = 0  # 前一个相邻元素的差值，初始化为 0（没有差值）\n",
    "        \n",
    "        for i in range(1, len(nums)):\n",
    "            diff = nums[i] - nums[i-1]\n",
    "            \n",
    "            if diff == 0:\n",
    "                continue  # 如果当前元素和前一个元素相等，跳过，避免无意义的操作\n",
    "            \n",
    "            # 当差值大于 0 并且前一个差值小于等于 0，或者差值小于 0 并且前一个差值大于等于 0\n",
    "            if (diff > 0 and prev_diff <= 0) or (diff < 0 and prev_diff >= 0):\n",
    "                count += 1  # 说明找到了一个有效的摆动序列\n",
    "                prev_diff = 1 if diff > 0 else -1  # 更新前一个差值的符号\n",
    "        \n",
    "        return count\n"
   ]
  }
 ],
 "metadata": {
  "kernelspec": {
   "display_name": "base",
   "language": "python",
   "name": "python3"
  },
  "language_info": {
   "name": "python",
   "version": "3.12.2"
  }
 },
 "nbformat": 4,
 "nbformat_minor": 2
}
