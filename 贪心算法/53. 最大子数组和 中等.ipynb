{
 "cells": [
  {
   "cell_type": "markdown",
   "metadata": {},
   "source": [
    "### 暴力"
   ]
  },
  {
   "cell_type": "code",
   "execution_count": 7,
   "metadata": {},
   "outputs": [],
   "source": [
    "class Solution(object):\n",
    "    def maxSubArray(self, nums):\n",
    "        \"\"\"\n",
    "        :type nums: List[int]\n",
    "        :rtype: int\n",
    "        \"\"\"\n",
    "        result = -100000\n",
    "        for i in range(len(nums)):\n",
    "            for j in range(i, len(nums)):\n",
    "                if sum(nums[i:j+1]) > result:\n",
    "                    result = sum(nums[i:j+1])\n",
    "\n",
    "        return result"
   ]
  },
  {
   "cell_type": "markdown",
   "metadata": {},
   "source": [
    "### 贪心算法\n",
    "##### 思路 \n",
    "\n",
    "- 遍历数组时，维护一个current_sum。\n",
    "- 如果 current_sum 变成负数，就放弃当前子数组（即重新从当前元素开始）。\n",
    "- 维护一个全局最大值 max_sum，每次 current_sum 更新时，都检查是否需要更新 max_sum"
   ]
  },
  {
   "cell_type": "code",
   "execution_count": 2,
   "metadata": {},
   "outputs": [],
   "source": [
    "class Solution(object):\n",
    "    def maxSubArray(self, nums):\n",
    "        \"\"\"\n",
    "        :type nums: List[int]\n",
    "        :rtype: int\n",
    "        \"\"\"\n",
    "        if len(nums) == 1:\n",
    "            return nums[0]\n",
    "\n",
    "        current_sum = 0\n",
    "        max_sum = nums[0]\n",
    "\n",
    "        for num in nums:\n",
    "            if current_sum < 0:\n",
    "                current_sum = num\n",
    "            else:\n",
    "                current_sum += num\n",
    "            \n",
    "            if max_sum < current_sum:\n",
    "                max_sum = current_sum\n",
    "                \n",
    "        return max_sum\n",
    "                "
   ]
  },
  {
   "cell_type": "code",
   "execution_count": 4,
   "metadata": {},
   "outputs": [
    {
     "name": "stdout",
     "output_type": "stream",
     "text": [
      "87\n"
     ]
    }
   ],
   "source": [
    "nums = [-57,9,-72,-72,-62,45,-97,24,-39,35,-82,-4,-63,1,-93,42,44,1]\n",
    "\n",
    "ans = Solution().maxSubArray(nums)\n",
    "print(ans)"
   ]
  }
 ],
 "metadata": {
  "kernelspec": {
   "display_name": "base",
   "language": "python",
   "name": "python3"
  },
  "language_info": {
   "codemirror_mode": {
    "name": "ipython",
    "version": 3
   },
   "file_extension": ".py",
   "mimetype": "text/x-python",
   "name": "python",
   "nbconvert_exporter": "python",
   "pygments_lexer": "ipython3",
   "version": "3.12.2"
  }
 },
 "nbformat": 4,
 "nbformat_minor": 2
}
