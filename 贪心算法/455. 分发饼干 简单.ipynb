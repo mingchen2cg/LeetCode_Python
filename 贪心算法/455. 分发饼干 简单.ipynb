{
 "cells": [
  {
   "cell_type": "code",
   "execution_count": null,
   "metadata": {},
   "outputs": [],
   "source": [
    "class Solution(object):\n",
    "    def findContentChildren(self, g, s):\n",
    "        \"\"\"\n",
    "        :type g: List[int]      每个孩子 i，都有一个胃口值 g[i]\n",
    "        :type s: List[int]      每块饼干 j，都有一个尺寸 s[j]\n",
    "        :rtype: int\n",
    "        \"\"\"\n",
    "        result = 0 \n",
    "        g,s = [], []\n",
    "        g.sort()\n",
    "        s.sort()\n",
    "\n",
    "        if s:\n",
    "            min_j = 0\n",
    "            for i in range(len(g)):\n",
    "                for  j in range(min_j,len(s)):\n",
    "                    if s[j] >= g[i]:\n",
    "                        result += 1\n",
    "                        min_j = j + 1\n",
    "\n",
    "        return result"
   ]
  },
  {
   "cell_type": "code",
   "execution_count": 9,
   "metadata": {},
   "outputs": [],
   "source": [
    "class Solution(object):\n",
    "    def findContentChildren(self, g, s):\n",
    "        \"\"\"\n",
    "        :type g: List[int]      每个孩子 i，都有一个胃口值 g[i]  --> Child\n",
    "        :type s: List[int]      每块饼干 j，都有一个尺寸 s[j]    --> Cookie\n",
    "        :rtype: int\n",
    "        \"\"\"\n",
    "        chilid_point = 0\n",
    "        cookie_point = 0\n",
    "        \n",
    "        m = len(g)\n",
    "        n = len(s)\n",
    "        \n",
    "        g.sort()\n",
    "        s.sort()\n",
    "        \n",
    "        while cookie_point < n and chilid_point < m:\n",
    "            print(s[cookie_point] , g[chilid_point])\n",
    "            if s[cookie_point] >= g[chilid_point]:\n",
    "                chilid_point +=1 \n",
    "            \n",
    "            cookie_point +=1 \n",
    "            \n",
    "        return chilid_point"
   ]
  },
  {
   "cell_type": "code",
   "execution_count": null,
   "metadata": {},
   "outputs": [],
   "source": [
    "class Solution(object):\n",
    "    def findContentChildren(self, g, s):\n",
    "        \"\"\"\n",
    "        :type g: List[int]  # 孩子的胃口值数组\n",
    "        :type s: List[int]  # 饼干的尺寸数组\n",
    "        :rtype: int         # 返回满足的孩子数量\n",
    "        \"\"\"\n",
    "        g.sort()  # 胃口值升序排序\n",
    "        s.sort()  # 饼干尺寸升序排序\n",
    "\n",
    "        result = 0  # 记录满足的孩子数量\n",
    "        index = len(s) - 1  # 从最大尺寸的饼干开始分配\n",
    "\n",
    "        # 从最大的孩子胃口开始尝试分配饼干\n",
    "        for i in range(len(g)-1, -1, -1):  # 倒序遍历孩子胃口数组\n",
    "            if index >= 0 and s[index] >= g[i]:  # 当前最大的饼干能满足当前孩子\n",
    "                result += 1  # 满足一个孩子\n",
    "                index -= 1  # 继续尝试下一块较小的饼干\n",
    "\n",
    "        return result  # 返回最多能满足的孩子数量"
   ]
  },
  {
   "cell_type": "code",
   "execution_count": 10,
   "metadata": {},
   "outputs": [
    {
     "name": "stdout",
     "output_type": "stream",
     "text": [
      "5 7\n",
      "6 7\n",
      "7 7\n",
      "8 8\n",
      "2\n"
     ]
    }
   ],
   "source": [
    "g = [10,9,8,7]\n",
    "s = [5,6,7,8]\n",
    "\n",
    "ans = Solution().findContentChildren(g,s)\n",
    "\n",
    "print(ans)"
   ]
  },
  {
   "cell_type": "code",
   "execution_count": null,
   "metadata": {},
   "outputs": [],
   "source": []
  }
 ],
 "metadata": {
  "kernelspec": {
   "display_name": "base",
   "language": "python",
   "name": "python3"
  },
  "language_info": {
   "codemirror_mode": {
    "name": "ipython",
    "version": 3
   },
   "file_extension": ".py",
   "mimetype": "text/x-python",
   "name": "python",
   "nbconvert_exporter": "python",
   "pygments_lexer": "ipython3",
   "version": "3.12.2"
  }
 },
 "nbformat": 4,
 "nbformat_minor": 2
}
