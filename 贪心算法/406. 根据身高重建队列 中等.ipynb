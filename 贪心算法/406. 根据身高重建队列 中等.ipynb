{
 "cells": [
  {
   "cell_type": "markdown",
   "metadata": {},
   "source": [
    "![解题思路](./截屏2025-03-31%2014.25.27.png)"
   ]
  },
  {
   "cell_type": "code",
   "execution_count": 3,
   "metadata": {},
   "outputs": [],
   "source": [
    "class Solution(object):\n",
    "    def reconstructQueue(self, people):\n",
    "        \"\"\"\n",
    "        :type people: List[List[int]]\n",
    "        :rtype: List[List[int]]\n",
    "        \"\"\"\n",
    "        people.sort(key=lambda x: (-x[0], x[1]))\n",
    "        print(people)\n",
    "        \n",
    "        queue = []\n",
    "        for person in people:\n",
    "            queue.insert(person[1], person)\n",
    "        \n",
    "        return queue"
   ]
  },
  {
   "cell_type": "code",
   "execution_count": 4,
   "metadata": {},
   "outputs": [
    {
     "name": "stdout",
     "output_type": "stream",
     "text": [
      "[[7, 0], [7, 1], [6, 1], [5, 0], [5, 2], [4, 4]]\n"
     ]
    },
    {
     "data": {
      "text/plain": [
       "[[5, 0], [7, 0], [5, 2], [6, 1], [4, 4], [7, 1]]"
      ]
     },
     "execution_count": 4,
     "metadata": {},
     "output_type": "execute_result"
    }
   ],
   "source": [
    "people = [[7,0],[4,4],[7,1],[5,0],[6,1],[5,2]]\n",
    "Solution_ = Solution()\n",
    "ans = Solution_.reconstructQueue(people)\n",
    "ans"
   ]
  },
  {
   "cell_type": "code",
   "execution_count": null,
   "metadata": {},
   "outputs": [
    {
     "data": {
      "text/plain": [
       "[2, 1, 0, 0]"
      ]
     },
     "execution_count": 8,
     "metadata": {},
     "output_type": "execute_result"
    }
   ],
   "source": [
    "queue = [0]\n",
    "\n",
    "for i in range(3):\n",
    "    queue.insert(0,i)\n",
    "    \n",
    "queue"
   ]
  }
 ],
 "metadata": {
  "kernelspec": {
   "display_name": "base",
   "language": "python",
   "name": "python3"
  },
  "language_info": {
   "codemirror_mode": {
    "name": "ipython",
    "version": 3
   },
   "file_extension": ".py",
   "mimetype": "text/x-python",
   "name": "python",
   "nbconvert_exporter": "python",
   "pygments_lexer": "ipython3",
   "version": "3.12.9"
  }
 },
 "nbformat": 4,
 "nbformat_minor": 2
}
