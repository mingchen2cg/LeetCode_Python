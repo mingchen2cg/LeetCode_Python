{
 "cells": [
  {
   "cell_type": "markdown",
   "metadata": {},
   "source": [
    "5元 --- 不需要\n",
    "10元 --- 需要一个5元\n",
    "20元 --- 需要一个10元 或者 三个5元\n",
    "\n",
    "优先给出去10元的"
   ]
  },
  {
   "cell_type": "code",
   "execution_count": null,
   "metadata": {},
   "outputs": [],
   "source": [
    "class Solution(object):\n",
    "    def lemonadeChange(self, bills):\n",
    "        \"\"\"\n",
    "        :type bills: List[int]\n",
    "        :rtype: bool\n",
    "        \"\"\"\n",
    "        count = {}\n",
    "        \n",
    "        count['10'] = 0\n",
    "        count['5'] = 0\n",
    "        \n",
    "        \n",
    "        for i in range(len(bills)):\n",
    "            if bills[i] == 5:\n",
    "                count['5'] = count['5'] + 1\n",
    "            elif bills[i] == 10:\n",
    "                if count['5'] == 0:\n",
    "                    return False\n",
    "                else:\n",
    "                    count['5'] -= 1\n",
    "                    count['10'] = count['10'] + 1\n",
    "            else:\n",
    "                if count['10'] * 10 + count['5'] * 5 < 15:\n",
    "                    return False\n",
    "                if count['10'] >= 1 and count['5'] >=1 :\n",
    "                    count['10'] -= 1\n",
    "                    count['5'] -= 1\n",
    "                elif count['5'] >= 3:\n",
    "                    count['5'] -= 3\n",
    "                else:\n",
    "                    return False\n",
    "        \n",
    "        # print(count) \n",
    "        return True\n",
    "        \n"
   ]
  },
  {
   "cell_type": "code",
   "execution_count": 7,
   "metadata": {},
   "outputs": [
    {
     "data": {
      "text/plain": [
       "False"
      ]
     },
     "execution_count": 7,
     "metadata": {},
     "output_type": "execute_result"
    }
   ],
   "source": [
    "bills = [5,5,10,10,20]\n",
    "Solution_ = Solution()\n",
    "ans = Solution_.lemonadeChange(bills)\n",
    "ans"
   ]
  }
 ],
 "metadata": {
  "kernelspec": {
   "display_name": "base",
   "language": "python",
   "name": "python3"
  },
  "language_info": {
   "codemirror_mode": {
    "name": "ipython",
    "version": 3
   },
   "file_extension": ".py",
   "mimetype": "text/x-python",
   "name": "python",
   "nbconvert_exporter": "python",
   "pygments_lexer": "ipython3",
   "version": "3.12.9"
  }
 },
 "nbformat": 4,
 "nbformat_minor": 2
}
