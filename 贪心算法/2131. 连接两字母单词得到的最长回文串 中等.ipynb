{
 "cells": [
  {
   "cell_type": "code",
   "execution_count": null,
   "id": "351edd88",
   "metadata": {},
   "outputs": [],
   "source": [
    "from typing import List\n",
    "from collections import defaultdict\n",
    "\n",
    "\n",
    "class Solution:\n",
    "    def longestPalindrome(self, words: List[str]) -> int:\n",
    "        count = defaultdict(int)\n",
    "\n",
    "        for str in words:\n",
    "            count[str] += 1\n",
    "\n",
    "        AA = []\n",
    "        res = 0\n",
    "        for str in words:\n",
    "            if str[0] == str[1]:\n",
    "                AA.append(str)\n",
    "            else:\n",
    "                res += min(count[str], count[str[::-1]]) * 4\n",
    "                count[str] = 0\n",
    "                count[str[::-1]] = 0\n",
    "\n",
    "        centerAAcount = 0\n",
    "        center = ''\n",
    "        AA = set(AA)\n",
    "        for aa in AA:\n",
    "            if count[aa] % 2 == 1 and count[aa] > centerAAcount:\n",
    "                centerAAcount = count[aa]\n",
    "                center = aa\n",
    "\n",
    "        res += centerAAcount * 2\n",
    "        # print(res)\n",
    "        if center != '':\n",
    "            AA.remove(center)\n",
    "\n",
    "        for aa in AA:\n",
    "            # print(aa)\n",
    "            if count[aa] % 2 == 0:\n",
    "                res += count[aa] * 2\n",
    "            else:\n",
    "                res += (count[aa] - 1) * 2\n",
    "\n",
    "            # print(res)\n",
    "\n",
    "        # print(count)\n",
    "        return res"
   ]
  },
  {
   "cell_type": "code",
   "execution_count": null,
   "id": "0b909911",
   "metadata": {},
   "outputs": [],
   "source": [
    "from typing import List\n",
    "from collections import Counter\n",
    "\n",
    "class Solution:\n",
    "    def longestPalindrome(self, words: List[str]) -> int:\n",
    "        count = Counter(words)\n",
    "        res = 0\n",
    "        has_center = False\n",
    "\n",
    "        for word in list(count.keys()):\n",
    "            rev = word[::-1]\n",
    "            if word == rev:\n",
    "                pairs = count[word] // 2\n",
    "                res += pairs * 4\n",
    "                count[word] -= pairs * 2\n",
    "                if count[word] > 0:\n",
    "                    has_center = True\n",
    "            else:\n",
    "                if rev in count:\n",
    "                    pairs = min(count[word], count[rev])\n",
    "                    res += pairs * 4\n",
    "                    count[word] -= pairs\n",
    "                    count[rev] -= pairs\n",
    "\n",
    "        if has_center:\n",
    "            res += 2\n",
    "\n",
    "        return res\n"
   ]
  },
  {
   "cell_type": "code",
   "execution_count": 20,
   "id": "59826a1d",
   "metadata": {},
   "outputs": [
    {
     "data": {
      "text/plain": [
       "14"
      ]
     },
     "execution_count": 20,
     "metadata": {},
     "output_type": "execute_result"
    }
   ],
   "source": [
    "words = [\"nn\",\"nn\",\"hg\",\"gn\",\"nn\",\"hh\",\"gh\",\"nn\",\"nh\",\"nh\"]\n",
    "mysolution = Solution()\n",
    "ans = mysolution.longestPalindrome(words)\n",
    "ans"
   ]
  }
 ],
 "metadata": {
  "kernelspec": {
   "display_name": "base",
   "language": "python",
   "name": "python3"
  },
  "language_info": {
   "codemirror_mode": {
    "name": "ipython",
    "version": 3
   },
   "file_extension": ".py",
   "mimetype": "text/x-python",
   "name": "python",
   "nbconvert_exporter": "python",
   "pygments_lexer": "ipython3",
   "version": "3.12.9"
  }
 },
 "nbformat": 4,
 "nbformat_minor": 5
}
