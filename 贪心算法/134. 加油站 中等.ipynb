{
 "cells": [
  {
   "cell_type": "code",
   "execution_count": null,
   "metadata": {},
   "outputs": [],
   "source": [
    "class Solution(object):\n",
    "    def canCompleteCircuit(self, gas, cost):\n",
    "        \"\"\"\n",
    "        :type gas: List[int]\n",
    "        :type cost: List[int]\n",
    "        :rtype: int\n",
    "        \"\"\"\n",
    "        if sum(cost) > sum(gas):\n",
    "            return -1 \n",
    "        \n",
    "        total_tank = 0  # 总油量\n",
    "        curr_tank = 0   # 当前油量\n",
    "        start_index = 0 # 起点索引\n",
    "        \n",
    "        for i in range(len(gas)):\n",
    "            balance = gas[i] - cost[i]\n",
    "            curr_tank += balance\n",
    "            total_tank += balance\n",
    "            \n",
    "            if curr_tank < 0:\n",
    "                start_index = i + 1\n",
    "                curr_tank = 0  \n",
    "        return start_index if total_tank >= 0 else -1"
   ]
  }
 ],
 "metadata": {
  "kernelspec": {
   "display_name": "base",
   "language": "python",
   "name": "python3"
  },
  "language_info": {
   "codemirror_mode": {
    "name": "ipython",
    "version": 3
   },
   "file_extension": ".py",
   "mimetype": "text/x-python",
   "name": "python",
   "nbconvert_exporter": "python",
   "pygments_lexer": "ipython3",
   "version": "3.12.9"
  }
 },
 "nbformat": 4,
 "nbformat_minor": 2
}
