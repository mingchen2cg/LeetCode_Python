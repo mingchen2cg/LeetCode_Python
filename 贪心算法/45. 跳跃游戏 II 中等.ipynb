{
 "cells": [
  {
   "cell_type": "code",
   "execution_count": null,
   "metadata": {},
   "outputs": [],
   "source": [
    "class Solution(object):\n",
    "    def jump(self, nums):\n",
    "        \"\"\"\n",
    "        :type nums: List[int]\n",
    "        :rtype: int\n",
    "        \"\"\"\n",
    "        if len(nums) == 1:\n",
    "            return 0\n",
    "        \n",
    "        jumps = 0\n",
    "        current_end = 0\n",
    "        farthest = 0\n",
    "        \n",
    "        for i in range(len(nums) - 1):\n",
    "            farthest = max(farthest, i + nums[i])\n",
    "            \n",
    "            if i == current_end:\n",
    "                jumps += 1\n",
    "                current_end = farthest\n",
    "        \n",
    "        return jumps\n"
   ]
  },
  {
   "cell_type": "code",
   "execution_count": null,
   "metadata": {},
   "outputs": [],
   "source": [
    "nums = [1,1,1,1]\n",
    "ans = Solution().jump(nums)\n",
    "print(ans)"
   ]
  }
 ],
 "metadata": {
  "kernelspec": {
   "display_name": "base",
   "language": "python",
   "name": "python3"
  },
  "language_info": {
   "codemirror_mode": {
    "name": "ipython",
    "version": 3
   },
   "file_extension": ".py",
   "mimetype": "text/x-python",
   "name": "python",
   "nbconvert_exporter": "python",
   "pygments_lexer": "ipython3",
   "version": "3.12.2"
  }
 },
 "nbformat": 4,
 "nbformat_minor": 2
}
