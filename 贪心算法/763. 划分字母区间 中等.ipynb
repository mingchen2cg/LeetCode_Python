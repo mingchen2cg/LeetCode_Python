{
 "cells": [
  {
   "cell_type": "markdown",
   "metadata": {},
   "source": [
    "![解题思路](./截屏2025-04-02%2016.25.19.png)"
   ]
  },
  {
   "cell_type": "code",
   "execution_count": 8,
   "metadata": {},
   "outputs": [],
   "source": [
    "class Solution(object):\n",
    "    def partitionLabels(self, s):\n",
    "        \"\"\"\n",
    "        :type s: str\n",
    "        :rtype: List[int]\n",
    "        \"\"\"\n",
    "        # 1. 记录每个字符的最后出现位置\n",
    "        last_occurrence = {char: idx for idx, char in enumerate(s)}\n",
    "        \n",
    "        partitions = []\n",
    "        start, end = 0, 0\n",
    "        \n",
    "        # 2. 遍历字符串，确定划分点\n",
    "        for i, char in enumerate(s):\n",
    "            end = max(end, last_occurrence[char])  # 更新当前片段的边界\n",
    "            if i == end:  # 当遍历到当前片段的最远边界时，完成一个划分\n",
    "                partitions.append(end - start + 1)\n",
    "                start = i + 1  # 更新下一个片段的起始位置\n",
    "        \n",
    "        return partitions\n"
   ]
  },
  {
   "cell_type": "code",
   "execution_count": 9,
   "metadata": {},
   "outputs": [
    {
     "data": {
      "text/plain": [
       "[9, 7, 8]"
      ]
     },
     "execution_count": 9,
     "metadata": {},
     "output_type": "execute_result"
    }
   ],
   "source": [
    "s = \"ababcbacadefegdehijhklij\"\n",
    "Solution_ = Solution()\n",
    "ans = Solution_.partitionLabels(s)\n",
    "ans"
   ]
  }
 ],
 "metadata": {
  "kernelspec": {
   "display_name": "base",
   "language": "python",
   "name": "python3"
  },
  "language_info": {
   "codemirror_mode": {
    "name": "ipython",
    "version": 3
   },
   "file_extension": ".py",
   "mimetype": "text/x-python",
   "name": "python",
   "nbconvert_exporter": "python",
   "pygments_lexer": "ipython3",
   "version": "3.12.9"
  }
 },
 "nbformat": 4,
 "nbformat_minor": 2
}
