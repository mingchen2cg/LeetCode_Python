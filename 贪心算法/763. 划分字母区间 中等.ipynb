{
 "cells": [
  {
   "cell_type": "markdown",
   "metadata": {},
   "source": [
    "![解题思路](./截屏2025-04-02%2016.25.19.png)"
   ]
  },
  {
   "cell_type": "code",
   "execution_count": null,
   "metadata": {},
   "outputs": [],
   "source": [
    "class Solution(object):\n",
    "    def partitionLabels(self, s):\n",
    "        \"\"\"\n",
    "        :type s: str\n",
    "        :rtype: List[int]\n",
    "        \"\"\"\n",
    "        positionIndex = {}\n",
    "        \n",
    "        for i in range(len(s)):\n",
    "            positionIndex[s[i]] = max(positionIndex.get(s[i],i), i)\n",
    "            \n",
    "        print(positionIndex)"
   ]
  },
  {
   "cell_type": "code",
   "execution_count": 2,
   "metadata": {},
   "outputs": [
    {
     "name": "stdout",
     "output_type": "stream",
     "text": [
      "{'a': 0, 'b': 1, 'c': 4, 'd': 9, 'e': 10, 'f': 11, 'g': 13, 'h': 16, 'i': 17, 'j': 18, 'k': 20, 'l': 21}\n"
     ]
    }
   ],
   "source": [
    "s = \"ababcbacadefegdehijhklij\"\n",
    "Solution_ = Solution()\n",
    "ans = Solution_.partitionLabels(s)"
   ]
  }
 ],
 "metadata": {
  "kernelspec": {
   "display_name": "base",
   "language": "python",
   "name": "python3"
  },
  "language_info": {
   "codemirror_mode": {
    "name": "ipython",
    "version": 3
   },
   "file_extension": ".py",
   "mimetype": "text/x-python",
   "name": "python",
   "nbconvert_exporter": "python",
   "pygments_lexer": "ipython3",
   "version": "3.12.9"
  }
 },
 "nbformat": 4,
 "nbformat_minor": 2
}
