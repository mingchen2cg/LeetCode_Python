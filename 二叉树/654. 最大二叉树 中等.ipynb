{
 "cells": [
  {
   "cell_type": "code",
   "execution_count": null,
   "metadata": {},
   "outputs": [],
   "source": [
    "# Definition for a binary tree node.\n",
    "class TreeNode(object):\n",
    "    def __init__(self, val=0, left=None, right=None):\n",
    "        self.val = val\n",
    "        self.left = left\n",
    "        self.right = right\n",
    "        \n",
    "class Solution(object):\n",
    "    def constructMaximumBinaryTree(self, nums):\n",
    "        \"\"\"\n",
    "        :type nums: List[int]\n",
    "        :rtype: Optional[TreeNode]\n",
    "        \"\"\"\n",
    "        \n",
    "        if not nums:\n",
    "            return None\n",
    "        max_index, max_val = max(enumerate(nums), key=lambda x: x[1])\n",
    "\n",
    "        root = TreeNode(max_val)\n",
    "        \n",
    "        sublist_left = nums[:max_index]\n",
    "        root.left = self.constructMaximumBinaryTree(sublist_left)\n",
    "        \n",
    "        sublist_right = nums[max_index+1:]\n",
    "        root.right = self.constructMaximumBinaryTree(sublist_right)\n",
    "        \n",
    "        return root"
   ]
  },
  {
   "cell_type": "code",
   "execution_count": null,
   "metadata": {},
   "outputs": [],
   "source": [
    "class Solution(object):\n",
    "    def constructMaximumBinaryTree(self, nums):\n",
    "        \"\"\"\n",
    "        :type nums: List[int]\n",
    "        :rtype: TreeNode\n",
    "        \"\"\"\n",
    "        \n",
    "        if not nums:\n",
    "            return None\n",
    "        \n",
    "        # 找到最大值及其索引\n",
    "        max_index, max_val = max(enumerate(nums), key=lambda x: x[1])\n",
    "        \n",
    "        # 创建根节点\n",
    "        root = TreeNode(max_val)\n",
    "        \n",
    "        # 递归构建左子树\n",
    "        sublist_left = nums[:max_index]\n",
    "        root.left = self.constructMaximumBinaryTree(sublist_left)\n",
    "        \n",
    "        # 递归构建右子树\n",
    "        sublist_right = nums[max_index+1:]\n",
    "        root.right = self.constructMaximumBinaryTree(sublist_right)\n",
    "        \n",
    "        return root"
   ]
  }
 ],
 "metadata": {
  "kernelspec": {
   "display_name": "base",
   "language": "python",
   "name": "python3"
  },
  "language_info": {
   "name": "python",
   "version": "3.12.2"
  }
 },
 "nbformat": 4,
 "nbformat_minor": 2
}
