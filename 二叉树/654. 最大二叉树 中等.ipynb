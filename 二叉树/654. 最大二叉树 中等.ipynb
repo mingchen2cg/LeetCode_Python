{
 "cells": [
  {
   "cell_type": "code",
   "execution_count": null,
   "metadata": {},
   "outputs": [],
   "source": [
    "# Definition for a binary tree node.\n",
    "class TreeNode(object):\n",
    "    def __init__(self, val=0, left=None, right=None):\n",
    "        self.val = val\n",
    "        self.left = left\n",
    "        self.right = right\n",
    "        \n",
    "class Solution(object):\n",
    "    def constructMaximumBinaryTree(self, nums):\n",
    "        \"\"\"\n",
    "        :type nums: List[int]\n",
    "        :rtype: Optional[TreeNode]\n",
    "        \"\"\"\n",
    "        \n",
    "        if not nums:\n",
    "            return None\n",
    "        \n",
    "        max_index, max_val = max(enumerate(nums), key=lambda x: x[1])\n",
    "\n",
    "        root = TreeNode(max_val)\n",
    "        \n",
    "        sublist_left = nums[:max_index]\n",
    "        root.left = self.constructMaximumBinaryTree(sublist_left)\n",
    "        \n",
    "        sublist_right = nums[max_index+1:]\n",
    "        root.right = self.constructMaximumBinaryTree(sublist_right)\n",
    "        \n",
    "        return root"
   ]
  },
  {
   "cell_type": "markdown",
   "metadata": {},
   "source": [
    "# 高效方法"
   ]
  },
  {
   "cell_type": "code",
   "execution_count": 1,
   "metadata": {},
   "outputs": [],
   "source": [
    "class Solution:\n",
    "    def constructMaximumBinaryTree(self, nums):\n",
    "        \"\"\"\n",
    "        :type nums: List[int]\n",
    "        :rtype: TreeNode\n",
    "        \"\"\"\n",
    "        stack = []  # 单调栈，存储节点\n",
    "        \n",
    "        for num in nums:\n",
    "            node = TreeNode(num)  # 创建当前节点\n",
    "            \n",
    "            # 如果栈不为空且当前值大于栈顶节点的值\n",
    "            while stack and num > stack[-1].val:\n",
    "                node.left = stack.pop()  # 将栈顶节点作为当前节点的左子树\n",
    "            \n",
    "            # 如果栈不为空，当前节点是栈顶节点的右子树\n",
    "            if stack:\n",
    "                stack[-1].right = node\n",
    "            \n",
    "            # 将当前节点压入栈\n",
    "            stack.append(node)\n",
    "        \n",
    "        # 栈底节点是根节点\n",
    "        return stack[0]"
   ]
  }
 ],
 "metadata": {
  "kernelspec": {
   "display_name": "base",
   "language": "python",
   "name": "python3"
  },
  "language_info": {
   "codemirror_mode": {
    "name": "ipython",
    "version": 3
   },
   "file_extension": ".py",
   "mimetype": "text/x-python",
   "name": "python",
   "nbconvert_exporter": "python",
   "pygments_lexer": "ipython3",
   "version": "3.12.2"
  }
 },
 "nbformat": 4,
 "nbformat_minor": 2
}
