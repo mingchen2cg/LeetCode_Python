{
 "cells": [
  {
   "cell_type": "code",
   "execution_count": null,
   "metadata": {},
   "outputs": [],
   "source": [
    "class TreeNode(object):\n",
    "    def __init__(self, val=0, left=None, right=None):\n",
    "        self.val = val\n",
    "        self.left = left\n",
    "        self.right = right"
   ]
  },
  {
   "cell_type": "code",
   "execution_count": null,
   "metadata": {},
   "outputs": [],
   "source": [
    "class Solution(object):\n",
    "    def insertIntoBST(self, root, val):\n",
    "        \"\"\"\n",
    "        :type root: Optional[TreeNode]\n",
    "        :type val: int\n",
    "        :rtype: Optional[TreeNode]\n",
    "        \"\"\"\n",
    "        \n",
    "        node = TreeNode(val)\n",
    "        if not root:\n",
    "            return node\n",
    "        \n",
    "        place = root \n",
    "        \n",
    "        while place:\n",
    "            if val < place.val:\n",
    "                if not place.left:\n",
    "                    place.left = node\n",
    "                    break\n",
    "                place = place.left\n",
    "                \n",
    "            if place.val < val:\n",
    "                if not place.right:\n",
    "                    place.right = node\n",
    "                    break\n",
    "                place = place.right \n",
    "        \n",
    "        return root"
   ]
  }
 ],
 "metadata": {
  "kernelspec": {
   "display_name": "base",
   "language": "python",
   "name": "python3"
  },
  "language_info": {
   "codemirror_mode": {
    "name": "ipython",
    "version": 3
   },
   "file_extension": ".py",
   "mimetype": "text/x-python",
   "name": "python",
   "nbconvert_exporter": "python",
   "pygments_lexer": "ipython3",
   "version": "3.12.2"
  }
 },
 "nbformat": 4,
 "nbformat_minor": 2
}
