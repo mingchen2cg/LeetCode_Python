{
 "cells": [
  {
   "cell_type": "markdown",
   "metadata": {},
   "source": [
    "# 遍历所有节点 统计数量"
   ]
  },
  {
   "cell_type": "code",
   "execution_count": null,
   "metadata": {},
   "outputs": [],
   "source": [
    "# Definition for a binary tree node.\n",
    "# class TreeNode(object):\n",
    "#     def __init__(self, val=0, left=None, right=None):\n",
    "#         self.val = val\n",
    "#         self.left = left\n",
    "#         self.right = right\n",
    "class Solution(object):\n",
    "    def countNodes(self, root):\n",
    "        \"\"\"\n",
    "        :type root: Optional[TreeNode]\n",
    "        :rtype: int\n",
    "        \"\"\"\n",
    "        result = []\n",
    "        self._preorder(root, result)\n",
    "        return len(result)\n",
    "    \n",
    "    def _preorder(self, node, result):\n",
    "        if not node:\n",
    "            return\n",
    "        result.append(node.val)  # 访问根节点\n",
    "        self._preorder(node.left, result)  # 遍历左子树\n",
    "        self._preorder(node.right, result)  # 遍历右子树"
   ]
  },
  {
   "cell_type": "markdown",
   "metadata": {},
   "source": [
    "# 结合完全二叉树的性质"
   ]
  },
  {
   "cell_type": "code",
   "execution_count": null,
   "metadata": {},
   "outputs": [],
   "source": [
    "# Definition for a binary tree node.\n",
    "# class TreeNode(object):\n",
    "#     def __init__(self, val=0, left=None, right=None):\n",
    "#         self.val = val\n",
    "#         self.left = left\n",
    "#         self.right = right\n",
    "\n",
    "class Solution(object):\n",
    "    def countNodes(self, root):\n",
    "        \"\"\"\n",
    "        :type root: Optional[TreeNode]\n",
    "        :rtype: int\n",
    "        \"\"\"\n",
    "        if not root:\n",
    "            return 0\n",
    "        \n",
    "        # 计算左子树的高度\n",
    "        left_height = self.get_height(root.left)\n",
    "        # 计算右子树的高度\n",
    "        right_height = self.get_height(root.right)\n",
    "        \n",
    "        # 如果左子树高度等于右子树高度，说明左子树是满的\n",
    "        if left_height == right_height:\n",
    "            # 左子树的节点数为 2^left_height - 1，加上根节点，然后递归计算右子树\n",
    "            return (1 << left_height) + self.countNodes(root.right)\n",
    "        else:\n",
    "            # 右子树的节点数为 2^right_height - 1，加上根节点，然后递归计算左子树\n",
    "            return (1 << right_height) + self.countNodes(root.left)\n",
    "    \n",
    "    def get_height(self, node):\n",
    "        \"\"\"\n",
    "        计算树的高度\n",
    "        \"\"\"\n",
    "        height = 0\n",
    "        while node:\n",
    "            height += 1\n",
    "            node = node.left\n",
    "        return height\n"
   ]
  }
 ],
 "metadata": {
  "kernelspec": {
   "display_name": "base",
   "language": "python",
   "name": "python3"
  },
  "language_info": {
   "name": "python",
   "version": "3.12.2"
  }
 },
 "nbformat": 4,
 "nbformat_minor": 2
}
