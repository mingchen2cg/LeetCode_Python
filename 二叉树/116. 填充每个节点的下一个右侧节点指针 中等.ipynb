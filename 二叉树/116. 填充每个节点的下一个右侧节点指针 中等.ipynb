{
 "cells": [
  {
   "cell_type": "code",
   "execution_count": null,
   "metadata": {},
   "outputs": [],
   "source": [
    "\"\"\"\n",
    "# Definition for a Node.\n",
    "class Node(object):\n",
    "    def __init__(self, val=0, left=None, right=None, next=None):\n",
    "        self.val = val\n",
    "        self.left = left\n",
    "        self.right = right\n",
    "        self.next = next\n",
    "\"\"\"\n",
    "\n",
    "class Solution(object):\n",
    "    def connect(self, root):\n",
    "        \"\"\"\n",
    "        :type root: Node\n",
    "        :rtype: Node\n",
    "        \"\"\"\n",
    "        if not root:\n",
    "            return None\n",
    "\n",
    "        from collections import deque\n",
    "\n",
    "\n",
    "        queue = deque()\n",
    "        queue.append(root)\n",
    "\n",
    "        while queue:\n",
    "            level_size = len(queue)\n",
    "\n",
    "            for _ in range(level_size - 1):\n",
    "                current_node = queue.popleft()\n",
    "                next_node = queue.popleft()\n",
    "                queue.appendleft(next_node)\n",
    "                current_node.next = next_node\n",
    "\n",
    "                if current_node.left:\n",
    "                    queue.append(current_node.left)\n",
    "\n",
    "                if current_node.right:\n",
    "                    queue.append(current_node.right)\n",
    "\n",
    "\n",
    "            current_node = queue.popleft()\n",
    "            current_node.next = None\n",
    "            if current_node.left:\n",
    "                queue.append(current_node.left)\n",
    "\n",
    "            if current_node.right:\n",
    "                queue.append(current_node.right)\n",
    "\n",
    "\n",
    "\n"
   ]
  }
 ],
 "metadata": {
  "kernelspec": {
   "display_name": "base",
   "language": "python",
   "name": "python3"
  },
  "language_info": {
   "name": "python",
   "version": "3.12.2"
  }
 },
 "nbformat": 4,
 "nbformat_minor": 2
}
