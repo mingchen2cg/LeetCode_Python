{
 "cells": [
  {
   "cell_type": "code",
   "execution_count": null,
   "metadata": {},
   "outputs": [],
   "source": [
    "# Definition for a binary tree node.\n",
    "class TreeNode(object):\n",
    "    def __init__(self, val=0, left=None, right=None):\n",
    "        self.val = val\n",
    "        self.left = left\n",
    "        self.right = right"
   ]
  },
  {
   "cell_type": "markdown",
   "metadata": {},
   "source": [
    "### 二叉搜索树的中序遍历是严格递增的"
   ]
  },
  {
   "cell_type": "code",
   "execution_count": null,
   "metadata": {},
   "outputs": [],
   "source": [
    "class Solution(object):\n",
    "    def isValidBST(self, root):\n",
    "        \"\"\"\n",
    "        :type root: Optional[TreeNode]\n",
    "        :rtype: bool\n",
    "        \"\"\"\n",
    "        result = []\n",
    "        self.inorder(root, result)\n",
    "\n",
    "        return self.is_strictly_increasing(result)\n",
    "\n",
    "    def inorder(self, node, result):\n",
    "        if not node:\n",
    "            return\n",
    "        self.inorder(node.left, result)\n",
    "        result.append(node.val)\n",
    "        self.inorder(node.right, result)\n",
    "\n",
    "    def is_strictly_increasing(self, lst):\n",
    "        # 遍历列表，检查每个元素是否小于下一个元素\n",
    "        for i in range(len(lst) - 1):\n",
    "            if lst[i] >= lst[i + 1]:\n",
    "                return False\n",
    "        return True"
   ]
  },
  {
   "cell_type": "markdown",
   "metadata": {},
   "source": [
    "## 边遍历边检查 如果不是 中途就能得到结果 会更快"
   ]
  },
  {
   "cell_type": "code",
   "execution_count": null,
   "metadata": {},
   "outputs": [],
   "source": [
    "class Solution(object):\n",
    "    def isValidBST(self, root):\n",
    "        \"\"\"\n",
    "        :type root: TreeNode\n",
    "        :rtype: bool\n",
    "        \"\"\"\n",
    "        stack = []\n",
    "        prev = None  # 用于记录前一个节点的值\n",
    "\n",
    "        while stack or root:\n",
    "            # 遍历到最左节点\n",
    "            while root:\n",
    "                stack.append(root)\n",
    "                root = root.left\n",
    "\n",
    "            # 弹出当前节点\n",
    "            root = stack.pop()\n",
    "\n",
    "            # 检查当前节点是否大于前一个节点\n",
    "            if prev is not None and root.val <= prev:\n",
    "                return False\n",
    "\n",
    "            # 更新 prev 为当前节点的值\n",
    "            prev = root.val\n",
    "\n",
    "            # 转向右子树\n",
    "            root = root.right\n",
    "\n",
    "        return True"
   ]
  },
  {
   "cell_type": "markdown",
   "metadata": {},
   "source": [
    "# 递归"
   ]
  },
  {
   "cell_type": "markdown",
   "metadata": {},
   "source": [
    "### 错误典型\n",
    "> ####  问题分析：\n",
    "> 1. **叶子节点的处理**：你的代码在叶子节点时直接返回 `True`，这是正确的。\n",
    "> 2. **只有右子树的情况**：你只检查了当前节点的值是否小于右子节点的值，但没有检查右子树中的所有节点是否都大于当前节点的值。\n",
    "> 3. **只有左子树的情况**：你只检查了当前节点的值是否大于左子节点的值，但没有检查左子树中的所有节点是否都小于当前节点的值。\n",
    "> 4. **有左右子树的情况**：你只检查了当前节点的值是否大于左子节点的值且小于右子节点的值，但没有检查整个左子树和右子树的范围。"
   ]
  },
  {
   "cell_type": "code",
   "execution_count": null,
   "metadata": {},
   "outputs": [],
   "source": [
    "class Solution(object):\n",
    "    def isValidBST(self, root):\n",
    "        \"\"\"\n",
    "        :type root: Optional[TreeNode]\n",
    "        :rtype: bool\n",
    "        \"\"\"\n",
    "        # 叶子节点 是递归终止条件\n",
    "        if not root.left and not root.right:\n",
    "            return True\n",
    "        # 没有左子树 但有右子树\n",
    "        if not root.left:\n",
    "            return root.val < root.right.val and self.isValidBST(root.right)\n",
    "        # 有左子树，但是没有右子树\n",
    "        elif not root.right:\n",
    "            return root.left.val < root.val and self.isValidBST(root.left)\n",
    "\n",
    "        # 有左右子树\n",
    "        else:\n",
    "            return root.val > root.left.val and root.val < root.right.val and self.isValidBST(root.left) and self.isValidBST(root.right)"
   ]
  },
  {
   "cell_type": "markdown",
   "metadata": {},
   "source": [
    "# 正确的递归"
   ]
  },
  {
   "cell_type": "code",
   "execution_count": null,
   "metadata": {},
   "outputs": [],
   "source": [
    "class Solution(object):\n",
    "    def isValidBST(self, root):\n",
    "        \"\"\"\n",
    "        :type root: TreeNode\n",
    "        :rtype: bool\n",
    "        \"\"\"\n",
    "        def helper(node, lower=float('-inf'), upper=float('inf')):\n",
    "            if not node:\n",
    "                return True\n",
    "            \n",
    "            val = node.val\n",
    "            if val <= lower or val >= upper:\n",
    "                return False\n",
    "            \n",
    "            # 递归检查左子树，更新上界为当前节点的值\n",
    "            if not helper(node.left, lower, val):\n",
    "                return False\n",
    "            \n",
    "            # 递归检查右子树，更新下界为当前节点的值\n",
    "            if not helper(node.right, val, upper):\n",
    "                return False\n",
    "            \n",
    "            return True\n",
    "        \n",
    "        return helper(root)"
   ]
  }
 ],
 "metadata": {
  "kernelspec": {
   "display_name": "base",
   "language": "python",
   "name": "python3"
  },
  "language_info": {
   "codemirror_mode": {
    "name": "ipython",
    "version": 3
   },
   "file_extension": ".py",
   "mimetype": "text/x-python",
   "name": "python",
   "nbconvert_exporter": "python",
   "pygments_lexer": "ipython3",
   "version": "3.12.2"
  }
 },
 "nbformat": 4,
 "nbformat_minor": 2
}
