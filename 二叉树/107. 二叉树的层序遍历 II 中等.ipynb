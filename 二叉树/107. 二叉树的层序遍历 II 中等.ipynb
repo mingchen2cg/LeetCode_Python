{
 "cells": [
  {
   "cell_type": "code",
   "execution_count": null,
   "metadata": {},
   "outputs": [],
   "source": [
    "# Definition for a binary tree node.\n",
    "# class TreeNode(object):\n",
    "#     def __init__(self, val=0, left=None, right=None):\n",
    "#         self.val = val\n",
    "#         self.left = left\n",
    "#         self.right = right\n",
    "\n",
    "\n",
    "# 层序遍历然后反转\n",
    "class Solution(object):\n",
    "    def levelOrderBottom(self, root):\n",
    "        \"\"\"\n",
    "        :type root: Optional[TreeNode]\n",
    "        :rtype: List[List[int]]\n",
    "        \"\"\"\n",
    "        if not root:\n",
    "            return []\n",
    "        \n",
    "        from collections import deque\n",
    "\n",
    "        result = []\n",
    "        queue = deque()\n",
    "        queue.append(root)\n",
    "\n",
    "        while queue:\n",
    "            current_level_size = len(queue)\n",
    "            current_level_vals = []\n",
    "\n",
    "            for _ in range(current_level_size):\n",
    "                current_node = queue.popleft()\n",
    "                current_level_vals.append(current_node.val)\n",
    "\n",
    "                if current_node.left:\n",
    "                    queue.append(current_node.left)\n",
    "\n",
    "                if current_node.right:\n",
    "                    queue.append(current_node.right)\n",
    "\n",
    "            result.append(current_level_vals)\n",
    "\n",
    "        return list(reversed(result))\n"
   ]
  },
  {
   "cell_type": "code",
   "execution_count": null,
   "metadata": {},
   "outputs": [],
   "source": []
  }
 ],
 "metadata": {
  "kernelspec": {
   "display_name": "base",
   "language": "python",
   "name": "python3"
  },
  "language_info": {
   "name": "python",
   "version": "3.12.2"
  }
 },
 "nbformat": 4,
 "nbformat_minor": 2
}
