{
 "cells": [
  {
   "cell_type": "code",
   "execution_count": null,
   "metadata": {},
   "outputs": [],
   "source": [
    "class Solution(object):\n",
    "    def searchBST(self, root, val):\n",
    "        \"\"\"\n",
    "        :type root: Optional[TreeNode]\n",
    "        :type val: int\n",
    "        :rtype: Optional[TreeNode]\n",
    "        \"\"\"\n",
    "        if not root:\n",
    "            return None\n",
    "        \n",
    "        if root.val == val:\n",
    "            return root\n",
    "        \n",
    "        elif root.val > val:\n",
    "            return self.searchBST(root.left, val)\n",
    "        \n",
    "        else: return self.searchBST(root.rigth)"
   ]
  }
 ],
 "metadata": {
  "kernelspec": {
   "display_name": "base",
   "language": "python",
   "name": "python3"
  },
  "language_info": {
   "name": "python",
   "version": "3.12.2"
  }
 },
 "nbformat": 4,
 "nbformat_minor": 2
}
