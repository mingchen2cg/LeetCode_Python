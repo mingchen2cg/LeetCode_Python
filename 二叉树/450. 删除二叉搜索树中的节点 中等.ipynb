{
 "cells": [
  {
   "cell_type": "code",
   "execution_count": 1,
   "metadata": {},
   "outputs": [],
   "source": [
    "class TreeNode(object):\n",
    "    def __init__(self, val=0, left=None, right=None):\n",
    "        self.val = val\n",
    "        self.left = left\n",
    "        self.right = right"
   ]
  },
  {
   "cell_type": "markdown",
   "metadata": {},
   "source": [
    "## 笨方法：重建整棵树"
   ]
  },
  {
   "cell_type": "code",
   "execution_count": null,
   "metadata": {},
   "outputs": [],
   "source": [
    "class Solution(object):\n",
    "    def deleteNode(self, root, key):\n",
    "        \"\"\"\n",
    "        :type root: Optional[TreeNode]\n",
    "        :type key: int\n",
    "        :rtype: Optional[TreeNode]\n",
    "        \"\"\"\n",
    "\n",
    "        result = []\n",
    "        self._preorder(root, result)\n",
    "        if key in result:\n",
    "            result.remove(key)\n",
    "        # result.sort()\n",
    "        newRoot = None\n",
    "        for val in result:\n",
    "            newRoot = self.insertIntoBST(newRoot,val)\n",
    "        \n",
    "        return newRoot\n",
    "        \n",
    "    def _preorder(self, node, result):\n",
    "        if not node:\n",
    "            return\n",
    "        result.append(node.val)  # 访问根节点\n",
    "        self._preorder(node.left, result)  # 遍历左子树\n",
    "        self._preorder(node.right, result)  # 遍历右子树\n",
    "        \n",
    "    def insertIntoBST(self, root, val):\n",
    "        \"\"\"\n",
    "        :type root: Optional[TreeNode]\n",
    "        :type val: int\n",
    "        :rtype: Optional[TreeNode]\n",
    "        \"\"\"\n",
    "        \n",
    "        node = TreeNode(val)\n",
    "        if not root:\n",
    "            return node\n",
    "        \n",
    "        place = root \n",
    "        \n",
    "        while place:\n",
    "            if val < place.val:\n",
    "                if not place.left:\n",
    "                    place.left = node\n",
    "                    break\n",
    "                place = place.left\n",
    "                \n",
    "            if place.val < val:\n",
    "                if not place.right:\n",
    "                    place.right = node\n",
    "                    break\n",
    "                place = place.right \n",
    "        \n",
    "        return root"
   ]
  },
  {
   "cell_type": "markdown",
   "metadata": {},
   "source": [
    "# 正确的删除"
   ]
  },
  {
   "cell_type": "code",
   "execution_count": null,
   "metadata": {},
   "outputs": [],
   "source": [
    "class Solution(object):\n",
    "    def deleteNode(self, root, key):\n",
    "        \"\"\"\n",
    "        :type root: Optional[TreeNode]\n",
    "        :type key: int\n",
    "        :rtype: Optional[TreeNode]\n",
    "        \"\"\"\n",
    "        if not root:\n",
    "            return None\n",
    "        \n",
    "        # 如果要删除的节点值小于当前节点值，递归到左子树\n",
    "        if key < root.val:\n",
    "            root.left = self.deleteNode(root.left, key)\n",
    "        # 如果要删除的节点值大于当前节点值，递归到右子树\n",
    "        elif key > root.val:\n",
    "            root.right = self.deleteNode(root.right, key)\n",
    "        # 找到要删除的节点\n",
    "        else:\n",
    "            # 情况1：节点没有左子树\n",
    "            if not root.left:\n",
    "                return root.right\n",
    "            # 情况2：节点没有右子树\n",
    "            elif not root.right:\n",
    "                return root.left\n",
    "            # 情况3：节点有左右子树\n",
    "            else:\n",
    "                # 找到右子树中的最小节点\n",
    "                min_node = self.findMin(root.right)\n",
    "                # 用最小节点的值替换当前节点的值\n",
    "                root.val = min_node.val\n",
    "                # 删除右子树中的最小节点\n",
    "                root.right = self.deleteNode(root.right, min_node.val)\n",
    "        \n",
    "        return root\n",
    "    \n",
    "    def findMin(self, node):\n",
    "        \"\"\"\n",
    "        找到以node为根的树中的最小节点\n",
    "        \"\"\"\n",
    "        while node.left:\n",
    "            node = node.left\n",
    "        return node"
   ]
  }
 ],
 "metadata": {
  "kernelspec": {
   "display_name": "base",
   "language": "python",
   "name": "python3"
  },
  "language_info": {
   "codemirror_mode": {
    "name": "ipython",
    "version": 3
   },
   "file_extension": ".py",
   "mimetype": "text/x-python",
   "name": "python",
   "nbconvert_exporter": "python",
   "pygments_lexer": "ipython3",
   "version": "3.12.2"
  }
 },
 "nbformat": 4,
 "nbformat_minor": 2
}
