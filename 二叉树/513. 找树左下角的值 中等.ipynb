{
 "cells": [
  {
   "cell_type": "code",
   "execution_count": 29,
   "metadata": {},
   "outputs": [],
   "source": [
    "# Definition for a binary tree node.\n",
    "# class TreeNode(object):\n",
    "#     def __init__(self, val=0, left=None, right=None):\n",
    "#         self.val = val\n",
    "#         self.left = left\n",
    "#         self.right = right\n",
    "class Solution(object):\n",
    "    def findBottomLeftValue(self, root):\n",
    "        \"\"\"\n",
    "        :type root: Optional[TreeNode]\n",
    "        :rtype: int\n",
    "        \"\"\"\n",
    "        if not root.left and not root.right:\n",
    "            return root.val\n",
    "        \n",
    "        from collections import deque\n",
    "\n",
    "        result = 0\n",
    "        queue = deque()\n",
    "        queue.append(root)\n",
    "\n",
    "        while queue:\n",
    "            level_size = len(queue)\n",
    "            \n",
    "            current = queue.popleft()\n",
    "\n",
    "            if current.left:\n",
    "                queue.append(current.left)\n",
    "\n",
    "            if current.right:\n",
    "                queue.append(current.right)\n",
    "                \n",
    "            result = current.val\n",
    "            \n",
    "            for i in range(level_size - 1):\n",
    "                current = queue.popleft()\n",
    "                if current.left:\n",
    "                    queue.append(current.left)\n",
    "                if current.right:\n",
    "                    queue.append(current.right)\n",
    "\n",
    "\n",
    "        return result\n",
    "            \n",
    "                 \n",
    "        "
   ]
  },
  {
   "cell_type": "code",
   "execution_count": 30,
   "metadata": {},
   "outputs": [],
   "source": [
    "# 定义二叉树节点类\n",
    "class TreeNode:\n",
    "    def __init__(self, val=0, left=None, right=None):\n",
    "        self.val = val\n",
    "        self.left = left\n",
    "        self.right = right\n",
    "        \n",
    "# 辅助函数：根据列表构建二叉树\n",
    "def build_tree(nodes, index=0):\n",
    "    if index >= len(nodes) or nodes[index] == 'null':\n",
    "        return None\n",
    "    root = TreeNode(nodes[index])\n",
    "    root.left = build_tree(nodes, 2 * index + 1)\n",
    "    root.right = build_tree(nodes, 2 * index + 2)\n",
    "    return root"
   ]
  },
  {
   "cell_type": "code",
   "execution_count": 31,
   "metadata": {},
   "outputs": [
    {
     "name": "stdout",
     "output_type": "stream",
     "text": [
      "1\n"
     ]
    }
   ],
   "source": [
    "root = [9,\"null\",2,0,\"null\",-7,\"null\",-1]\n",
    "root = [2,1,3]\n",
    "root1 = build_tree(root)\n",
    "Solution_ = Solution()\n",
    "ans = Solution_.findBottomLeftValue(root1) \n",
    "print(ans) "
   ]
  }
 ],
 "metadata": {
  "kernelspec": {
   "display_name": "base",
   "language": "python",
   "name": "python3"
  },
  "language_info": {
   "codemirror_mode": {
    "name": "ipython",
    "version": 3
   },
   "file_extension": ".py",
   "mimetype": "text/x-python",
   "name": "python",
   "nbconvert_exporter": "python",
   "pygments_lexer": "ipython3",
   "version": "3.12.2"
  }
 },
 "nbformat": 4,
 "nbformat_minor": 2
}
