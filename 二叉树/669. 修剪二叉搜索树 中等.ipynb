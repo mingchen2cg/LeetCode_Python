{
 "cells": [
  {
   "cell_type": "code",
   "execution_count": null,
   "metadata": {},
   "outputs": [],
   "source": [
    "# Definition for a binary tree node.\n",
    "class TreeNode(object):\n",
    "    def __init__(self, val=0, left=None, right=None):\n",
    "        self.val = val\n",
    "        self.left = left\n",
    "        self.right = right\n",
    "        \n",
    "class Solution(object):\n",
    "    def trimBST(self, root, low, high):\n",
    "        \"\"\"\n",
    "        :type root: Optional[TreeNode]\n",
    "        :type low: int\n",
    "        :type high: int\n",
    "        :rtype: Optional[TreeNode]\n",
    "        \"\"\"\n",
    "        if not root:\n",
    "            return None\n",
    "        \n",
    "        if root.val >= low and root.val <= high:\n",
    "            root.left = self.trimBST(root.left, low, high)\n",
    "            root.right = self.trimBST(root.right, low, high)\n",
    "        else:\n",
    "            # 情况1：节点没有左子树\n",
    "            if not root.left:\n",
    "                root.right = self.trimBST(root.right, low, high)\n",
    "                return root.right\n",
    "            # 情况2：节点没有右子树\n",
    "            elif not root.right:\n",
    "                root.left = self.trimBST(root.left, low, high)\n",
    "                return root.left\n",
    "            # 情况3：节点有左右子树\n",
    "            else:\n",
    "                # 情况一 root.val > high 则整个root及其右子树都超大\n",
    "                if root.val > high:\n",
    "                    root.left = self.trimBST(root.left, low, high)\n",
    "                    return root.left\n",
    "                # 情况二 root.val < low 则整个root及其左子树都超小\n",
    "                else:\n",
    "                    root.right = self.trimBST(root.right, low, high)\n",
    "                    return root.right\n",
    "                \n",
    "        return root"
   ]
  },
  {
   "cell_type": "markdown",
   "metadata": {},
   "source": [
    "# 独立完成 下面是优化代码"
   ]
  },
  {
   "cell_type": "code",
   "execution_count": null,
   "metadata": {},
   "outputs": [],
   "source": [
    "class Solution(object):\n",
    "    def trimBST(self, root, low, high):\n",
    "        \"\"\"\n",
    "        :type root: Optional[TreeNode]\n",
    "        :type low: int\n",
    "        :type high: int\n",
    "        :rtype: Optional[TreeNode]\n",
    "        \"\"\"\n",
    "        if not root:\n",
    "            return None\n",
    "        if root.val >= low and root.val <= high:\n",
    "            root.left = self.trimBST(root.left, low, high)\n",
    "            root.right = self.trimBST(root.right, low, high)\n",
    "        else:\n",
    "            # 情况1：节点没有有效左子树\n",
    "            if not root.left or root.val < low:\n",
    "                root.right = self.trimBST(root.right, low, high)\n",
    "                return root.right\n",
    "            # 情况2：节点没有有效右子树 \n",
    "            elif not root.right or root.val > high:\n",
    "                root.left = self.trimBST(root.left, low, high)\n",
    "                return root.left\n",
    "        return root"
   ]
  },
  {
   "cell_type": "code",
   "execution_count": 2,
   "metadata": {},
   "outputs": [
    {
     "data": {
      "text/plain": [
       "True"
      ]
     },
     "execution_count": 2,
     "metadata": {},
     "output_type": "execute_result"
    }
   ],
   "source": [
    "low = 1\n",
    "high = 3\n",
    "\n",
    "3 in range(low, high + 1)"
   ]
  }
 ],
 "metadata": {
  "kernelspec": {
   "display_name": "base",
   "language": "python",
   "name": "python3"
  },
  "language_info": {
   "codemirror_mode": {
    "name": "ipython",
    "version": 3
   },
   "file_extension": ".py",
   "mimetype": "text/x-python",
   "name": "python",
   "nbconvert_exporter": "python",
   "pygments_lexer": "ipython3",
   "version": "3.12.2"
  }
 },
 "nbformat": 4,
 "nbformat_minor": 2
}
