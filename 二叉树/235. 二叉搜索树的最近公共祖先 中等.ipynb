{
 "cells": [
  {
   "cell_type": "code",
   "execution_count": 42,
   "metadata": {},
   "outputs": [],
   "source": [
    "# Definition for a binary tree node.\n",
    "class TreeNode(object):\n",
    "    def __init__(self, x):\n",
    "        self.val = x\n",
    "        self.left = None\n",
    "        self.right = None"
   ]
  },
  {
   "cell_type": "code",
   "execution_count": 43,
   "metadata": {},
   "outputs": [],
   "source": [
    "class Solution(object):\n",
    "    def lowestCommonAncestor(self, root, p, q):\n",
    "        \"\"\"\n",
    "        :type root: TreeNode\n",
    "        :type p: TreeNode\n",
    "        :type q: TreeNode\n",
    "        :rtype: TreeNode\n",
    "        \"\"\"\n",
    "        \n",
    "        if root in (None, p, q):\n",
    "            return root\n",
    "        \n",
    "        path1 = []\n",
    "        path2 = []\n",
    "        target1 = p.val\n",
    "        target2 = q.val\n",
    "        \n",
    "        self.isInTree(root, target1, path1)\n",
    "        self.isInTree(root, target2, path2)\n",
    "        \n",
    "        # self.display(path1)\n",
    "        # self.display(path2)\n",
    "    \n",
    "        set1 = set(path1)\n",
    "        for value in path2:\n",
    "            if value in set1:\n",
    "                return value\n",
    "        \n",
    "        \n",
    "    def isInTree(self, root, target, path):\n",
    "        if not root:\n",
    "            return False\n",
    "        # print((root.val, target))\n",
    "        if root.val == target:\n",
    "            path.append(root)\n",
    "            return True\n",
    "        \n",
    "        if root.val < target:\n",
    "            flag = self.isInTree(root.right, target, path)\n",
    "            if flag:\n",
    "                path.append(root) \n",
    "        else:\n",
    "            flag = self.isInTree(root.left, target, path)\n",
    "            if flag:\n",
    "                path.append(root) \n",
    "\n",
    "        return flag\n",
    "    \n",
    "    \n",
    "    def display(self, path):\n",
    "        for node in path:\n",
    "            print(node.val)\n",
    "        \n",
    "        print(\"**\" * 20)"
   ]
  },
  {
   "cell_type": "code",
   "execution_count": 44,
   "metadata": {},
   "outputs": [],
   "source": [
    "# 辅助函数：根据列表构建二叉树\n",
    "def build_tree(nodes, index=0):\n",
    "    if index >= len(nodes) or nodes[index] is None:\n",
    "        return None\n",
    "    root = TreeNode(nodes[index])\n",
    "    root.left = build_tree(nodes, 2 * index + 1)\n",
    "    root.right = build_tree(nodes, 2 * index + 2)\n",
    "    return root"
   ]
  },
  {
   "cell_type": "code",
   "execution_count": 45,
   "metadata": {},
   "outputs": [
    {
     "name": "stdout",
     "output_type": "stream",
     "text": [
      "6\n"
     ]
    }
   ],
   "source": [
    "root = [6,2,8,0,4,7,9,None,None,3,5]\n",
    "p = 2\n",
    "q = 8\n",
    "\n",
    "root1 = build_tree(root)\n",
    "Solution_ = Solution()\n",
    "ans = Solution_.lowestCommonAncestor(root1, TreeNode(p), TreeNode(q)) \n",
    "print(ans.val)"
   ]
  }
 ],
 "metadata": {
  "kernelspec": {
   "display_name": "base",
   "language": "python",
   "name": "python3"
  },
  "language_info": {
   "codemirror_mode": {
    "name": "ipython",
    "version": 3
   },
   "file_extension": ".py",
   "mimetype": "text/x-python",
   "name": "python",
   "nbconvert_exporter": "python",
   "pygments_lexer": "ipython3",
   "version": "3.12.2"
  }
 },
 "nbformat": 4,
 "nbformat_minor": 2
}
