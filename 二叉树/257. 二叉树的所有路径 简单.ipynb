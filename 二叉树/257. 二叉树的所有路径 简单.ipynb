{
 "cells": [
  {
   "cell_type": "code",
   "execution_count": 55,
   "metadata": {},
   "outputs": [],
   "source": [
    "# Definition for a binary tree node.\n",
    "# class TreeNode(object):\n",
    "#     def __init__(self, val=0, left=None, right=None):\n",
    "#         self.val = val\n",
    "#         self.left = left\n",
    "#         self.right = right\n",
    "class Solution(object):\n",
    "    def binaryTreePaths(self, root):\n",
    "        \"\"\"\n",
    "        :type root: Optional[TreeNode]\n",
    "        :rtype: List[str]\n",
    "        \"\"\"\n",
    "        if not root:\n",
    "            return []\n",
    "        \n",
    "        if not root.left and not root.right:\n",
    "            return [str(root.val)]\n",
    "        \n",
    "        result = []\n",
    "        path = str(root.val)\n",
    "        self.preOrder(root.left, path, result)\n",
    "        self.preOrder(root.right, path, result)\n",
    "        return result\n",
    "    \n",
    "    def preOrder(self, node, path, result):\n",
    "        if not node:\n",
    "            return\n",
    "        \n",
    "        if not node.left and not node.right:\n",
    "            tmp_path = path + \"->\" + str(node.val)\n",
    "            result.append(tmp_path)\n",
    "            \n",
    "        tmp_path = path + \"->\" + str(node.val)\n",
    "        self.preOrder(node.left, tmp_path, result)\n",
    "        self.preOrder(node.right, tmp_path, result)\n",
    "        "
   ]
  },
  {
   "cell_type": "code",
   "execution_count": 56,
   "metadata": {},
   "outputs": [],
   "source": [
    "# 定义二叉树节点类\n",
    "class TreeNode:\n",
    "    def __init__(self, val=0, left=None, right=None):\n",
    "        self.val = val\n",
    "        self.left = left\n",
    "        self.right = right\n",
    "        \n",
    "# 辅助函数：根据列表构建二叉树\n",
    "def build_tree(nodes, index=0):\n",
    "    if index >= len(nodes) or nodes[index] is None:\n",
    "        return None\n",
    "    root = TreeNode(nodes[index])\n",
    "    root.left = build_tree(nodes, 2 * index + 1)\n",
    "    root.right = build_tree(nodes, 2 * index + 2)\n",
    "    return root"
   ]
  },
  {
   "cell_type": "code",
   "execution_count": 57,
   "metadata": {},
   "outputs": [
    {
     "name": "stdout",
     "output_type": "stream",
     "text": [
      "['1']\n"
     ]
    }
   ],
   "source": [
    "root = [1]\n",
    "\n",
    "root1 = build_tree(root)\n",
    "\n",
    "Solution_ = Solution()\n",
    "ans = Solution_.binaryTreePaths(root1) \n",
    "print(ans) \n"
   ]
  }
 ],
 "metadata": {
  "kernelspec": {
   "display_name": "base",
   "language": "python",
   "name": "python3"
  },
  "language_info": {
   "codemirror_mode": {
    "name": "ipython",
    "version": 3
   },
   "file_extension": ".py",
   "mimetype": "text/x-python",
   "name": "python",
   "nbconvert_exporter": "python",
   "pygments_lexer": "ipython3",
   "version": "3.12.2"
  }
 },
 "nbformat": 4,
 "nbformat_minor": 2
}
