{
 "cells": [
  {
   "cell_type": "code",
   "execution_count": 1,
   "id": "d92ddf4f",
   "metadata": {},
   "outputs": [],
   "source": [
    "from typing import List\n",
    "\n",
    "\n",
    "class Solution:\n",
    "    def findKthNumber(self, n: int, k: int) -> int:\n",
    "        res = []\n",
    "\n",
    "        def dfs(curr):\n",
    "            if len(res) >= k:\n",
    "                return\n",
    "            \n",
    "            if curr > n:\n",
    "                return\n",
    "            \n",
    "            res.append(curr)\n",
    "\n",
    "            \n",
    "            for i in range(0, 10):\n",
    "                next_num = curr * 10 + i\n",
    "                if next_num > n :\n",
    "                    break \n",
    "                dfs(next_num)\n",
    "\n",
    "        for i in range(1,10):\n",
    "            dfs(i)\n",
    "        # print(res)\n",
    "        return res[-1]"
   ]
  },
  {
   "cell_type": "code",
   "execution_count": null,
   "id": "02062753",
   "metadata": {},
   "outputs": [],
   "source": [
    "from typing import List\n",
    "\n",
    "class Solution:\n",
    "    def findKthNumber(self, n: int, k: int) -> int:\n",
    "        count = 0\n",
    "        result = -1\n",
    "\n",
    "        def dfs(curr):\n",
    "            nonlocal count, result\n",
    "            if curr > n:\n",
    "                return\n",
    "            count += 1\n",
    "            if count == k:\n",
    "                result = curr\n",
    "                return\n",
    "            for i in range(10):\n",
    "                next_num = curr * 10 + i\n",
    "                if next_num > n:\n",
    "                    break\n",
    "                dfs(next_num)\n",
    "                if result != -1:\n",
    "                    return\n",
    "\n",
    "        for i in range(1, 10):\n",
    "            dfs(i)\n",
    "            if result != -1:\n",
    "                break\n",
    "\n",
    "        return result\n"
   ]
  },
  {
   "cell_type": "code",
   "execution_count": null,
   "id": "e2d33ef4",
   "metadata": {},
   "outputs": [],
   "source": [
    "class Solution:\n",
    "    def findKthNumber(self, n: int, k: int) -> int:\n",
    "        def calc_steps(n, curr, next_):\n",
    "            steps = 0\n",
    "            while curr <= n:\n",
    "                steps += min(n + 1, next_) - curr\n",
    "                curr *= 10\n",
    "                next_ *= 10\n",
    "            return steps\n",
    "\n",
    "        curr = 1\n",
    "        k -= 1  # 因为我们已经从 1 开始了\n",
    "\n",
    "        while k > 0:\n",
    "            steps = calc_steps(n, curr, curr + 1)\n",
    "            if steps <= k:\n",
    "                # 跳到下一个兄弟节点\n",
    "                curr += 1\n",
    "                k -= steps\n",
    "            else:\n",
    "                # 进入子树\n",
    "                curr *= 10\n",
    "                k -= 1\n",
    "\n",
    "        return curr\n"
   ]
  },
  {
   "cell_type": "code",
   "execution_count": 2,
   "id": "adb0c151",
   "metadata": {},
   "outputs": [
    {
     "data": {
      "text/plain": [
       "1"
      ]
     },
     "execution_count": 2,
     "metadata": {},
     "output_type": "execute_result"
    }
   ],
   "source": [
    "n = 1\n",
    "k = 1\n",
    "mysolution = Solution()\n",
    "ans = mysolution.findKthNumber(n,k)\n",
    "ans"
   ]
  }
 ],
 "metadata": {
  "kernelspec": {
   "display_name": "base",
   "language": "python",
   "name": "python3"
  },
  "language_info": {
   "codemirror_mode": {
    "name": "ipython",
    "version": 3
   },
   "file_extension": ".py",
   "mimetype": "text/x-python",
   "name": "python",
   "nbconvert_exporter": "python",
   "pygments_lexer": "ipython3",
   "version": "3.12.9"
  }
 },
 "nbformat": 4,
 "nbformat_minor": 5
}
