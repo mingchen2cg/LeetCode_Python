{
 "cells": [
  {
   "cell_type": "code",
   "execution_count": null,
   "metadata": {},
   "outputs": [],
   "source": [
    "class TreeNode(object):\n",
    "    def __init__(self, val=0, left=None, right=None):\n",
    "        self.val = val\n",
    "        self.left = left\n",
    "        self.right = right"
   ]
  },
  {
   "cell_type": "code",
   "execution_count": null,
   "metadata": {},
   "outputs": [],
   "source": [
    "class Solution(object):\n",
    "    def findMode(self, root):\n",
    "        \"\"\"\n",
    "        :type root: Optional[TreeNode]\n",
    "        :rtype: List[int]\n",
    "        \"\"\"\n",
    "        value_list = []\n",
    "        self.inOrder(root, value_list)\n",
    "        if len(value_list) == 1 :\n",
    "            return value_list\n",
    "        \n",
    "        ans = []\n",
    "        cnt = 1\n",
    "        maxcnt = 1\n",
    "        for i in range(1, len(value_list)):\n",
    "            if value_list[i] == value_list[i - 1]: \n",
    "                cnt += 1\n",
    "            else:\n",
    "                cnt = 1\n",
    "                \n",
    "            if cnt > maxcnt:\n",
    "                ans = [].append(value_list[i])\n",
    "                maxcnt = cnt\n",
    "            \n",
    "            elif cnt == maxcnt:\n",
    "                ans.append(value_list[i])\n",
    "                \n",
    "        return value_list\n",
    "\n",
    "        \n",
    "    def inOrder(self, root, value_list):\n",
    "        if not root:\n",
    "            return \n",
    "        self.inOrder(root.left, value_list)\n",
    "        value_list.append(root.val)\n",
    "        self.inOrder(root.right, value_list)"
   ]
  },
  {
   "cell_type": "code",
   "execution_count": 6,
   "metadata": {},
   "outputs": [],
   "source": [
    "class Solution(object):\n",
    "    def findMode(self, value_list):\n",
    "        ans = []\n",
    "        cnt = 1\n",
    "        maxcnt = 1\n",
    "               \n",
    "        for i in range(1, len(value_list)):\n",
    "            if value_list[i] == value_list[i - 1]: \n",
    "                cnt += 1\n",
    "            else:\n",
    "                cnt = 1\n",
    "                \n",
    "            if cnt > maxcnt:\n",
    "                ans = [value_list[i]] \n",
    "                maxcnt = cnt\n",
    "            \n",
    "            elif cnt == maxcnt:\n",
    "                ans.append(value_list[i])\n",
    "                \n",
    "        return ans"
   ]
  },
  {
   "cell_type": "code",
   "execution_count": 7,
   "metadata": {},
   "outputs": [
    {
     "name": "stdout",
     "output_type": "stream",
     "text": [
      "[7, 8]\n"
     ]
    }
   ],
   "source": [
    "nums = [5,7,7,8,8,10]\n",
    "target = 7\n",
    "solution = Solution()\n",
    "ans = solution.findMode(nums)\n",
    "print(ans)"
   ]
  }
 ],
 "metadata": {
  "kernelspec": {
   "display_name": "base",
   "language": "python",
   "name": "python3"
  },
  "language_info": {
   "codemirror_mode": {
    "name": "ipython",
    "version": 3
   },
   "file_extension": ".py",
   "mimetype": "text/x-python",
   "name": "python",
   "nbconvert_exporter": "python",
   "pygments_lexer": "ipython3",
   "version": "3.12.2"
  }
 },
 "nbformat": 4,
 "nbformat_minor": 2
}
