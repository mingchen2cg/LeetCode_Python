{
 "cells": [
  {
   "cell_type": "code",
   "execution_count": 19,
   "metadata": {},
   "outputs": [],
   "source": [
    "# Definition for a binary tree node.\n",
    "# class TreeNode(object):\n",
    "#     def __init__(self, val=0, left=None, right=None):\n",
    "#         self.val = val\n",
    "#         self.left = left\n",
    "#         self.right = right\n",
    "class Solution(object):\n",
    "    def sumOfLeftLeaves(self, root):\n",
    "        \"\"\"\n",
    "        :type root: Optional[TreeNode]\n",
    "        :rtype: int\n",
    "        \"\"\"\n",
    "        if not root:\n",
    "            return 0\n",
    "        \n",
    "        result = [0]  # 使用列表存储结果\n",
    "        self._preorder(root, result)\n",
    "        return result[0]\n",
    "    \n",
    "    def _preorder(self, node, result):\n",
    "        if not node:\n",
    "            return\n",
    "        \n",
    "        # 检查左子节点是否是叶子节点\n",
    "        if node.left:\n",
    "            if not node.left.left and not node.left.right:\n",
    "                result[0] += node.left.val  # 更新结果\n",
    "            self._preorder(node.left, result)  # 遍历左子树\n",
    "        \n",
    "        self._preorder(node.right, result)  # 遍历右子树"
   ]
  },
  {
   "cell_type": "code",
   "execution_count": 20,
   "metadata": {},
   "outputs": [],
   "source": [
    "# 定义二叉树节点类\n",
    "class TreeNode:\n",
    "    def __init__(self, val=0, left=None, right=None):\n",
    "        self.val = val\n",
    "        self.left = left\n",
    "        self.right = right\n",
    "        \n",
    "# 辅助函数：根据列表构建二叉树\n",
    "def build_tree(nodes, index=0):\n",
    "    if index >= len(nodes) or nodes[index] == 'null':\n",
    "        return None\n",
    "    root = TreeNode(nodes[index])\n",
    "    root.left = build_tree(nodes, 2 * index + 1)\n",
    "    root.right = build_tree(nodes, 2 * index + 2)\n",
    "    return root"
   ]
  },
  {
   "cell_type": "code",
   "execution_count": 21,
   "metadata": {},
   "outputs": [
    {
     "name": "stdout",
     "output_type": "stream",
     "text": [
      "0\n"
     ]
    }
   ],
   "source": [
    "root = [9,\"null\",2,0,\"null\",-7,\"null\",-1]\n",
    "root1 = build_tree(root)\n",
    "Solution_ = Solution()\n",
    "ans = Solution_.sumOfLeftLeaves(root1) \n",
    "print(ans) "
   ]
  }
 ],
 "metadata": {
  "kernelspec": {
   "display_name": "base",
   "language": "python",
   "name": "python3"
  },
  "language_info": {
   "codemirror_mode": {
    "name": "ipython",
    "version": 3
   },
   "file_extension": ".py",
   "mimetype": "text/x-python",
   "name": "python",
   "nbconvert_exporter": "python",
   "pygments_lexer": "ipython3",
   "version": "3.12.2"
  }
 },
 "nbformat": 4,
 "nbformat_minor": 2
}
