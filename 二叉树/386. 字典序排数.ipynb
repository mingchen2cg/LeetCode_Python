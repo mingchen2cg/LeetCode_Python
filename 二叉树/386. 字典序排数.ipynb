{
 "cells": [
  {
   "cell_type": "code",
   "execution_count": null,
   "id": "d5e10b63",
   "metadata": {},
   "outputs": [],
   "source": [
    "from typing import List\n",
    "\n",
    "\n",
    "class Solution:\n",
    "    def lexicalOrder(self, n: int) -> List[int]:\n",
    "        res = []\n",
    "\n",
    "        def dfs(curr):\n",
    "            if curr > n :\n",
    "                return \n",
    "            res.append(curr)\n",
    "            for i in range(1,10):\n",
    "                next_num = curr * 10 + 1 \n",
    "                if next_num > n:\n",
    "                    break \n",
    "                dfs(next_num)\n",
    "\n",
    "        for i in range(1, 10):\n",
    "            dfs(i)\n",
    "\n",
    "        return res\n"
   ]
  },
  {
   "cell_type": "code",
   "execution_count": 4,
   "id": "8fe4711c",
   "metadata": {},
   "outputs": [
    {
     "data": {
      "text/plain": [
       "[1, 10, 11, 12, 13, 2, 3, 4, 5, 6, 7, 8, 9]"
      ]
     },
     "execution_count": 4,
     "metadata": {},
     "output_type": "execute_result"
    }
   ],
   "source": [
    "n = 13\n",
    "mysolution = Solution()\n",
    "ans = mysolution.lexicalOrder(n)\n",
    "ans"
   ]
  }
 ],
 "metadata": {
  "kernelspec": {
   "display_name": "base",
   "language": "python",
   "name": "python3"
  },
  "language_info": {
   "codemirror_mode": {
    "name": "ipython",
    "version": 3
   },
   "file_extension": ".py",
   "mimetype": "text/x-python",
   "name": "python",
   "nbconvert_exporter": "python",
   "pygments_lexer": "ipython3",
   "version": "3.12.9"
  }
 },
 "nbformat": 4,
 "nbformat_minor": 5
}
