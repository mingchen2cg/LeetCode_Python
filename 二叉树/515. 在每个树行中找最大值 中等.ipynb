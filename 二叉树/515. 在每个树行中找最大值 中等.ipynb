{
 "cells": [
  {
   "cell_type": "code",
   "execution_count": null,
   "metadata": {},
   "outputs": [],
   "source": [
    "# Definition for a binary tree node.\n",
    "# class TreeNode(object):\n",
    "#     def __init__(self, val=0, left=None, right=None):\n",
    "#         self.val = val\n",
    "#         self.left = left\n",
    "#         self.right = right\n",
    "class Solution(object):\n",
    "    def largestValues(self, root):\n",
    "        \"\"\"\n",
    "        :type root: Optional[TreeNode]\n",
    "        :rtype: List[int]\n",
    "        \"\"\"\n",
    "        if not root:\n",
    "            return []\n",
    "\n",
    "        from collections import deque\n",
    "\n",
    "        result = []\n",
    "        queue = deque()\n",
    "        queue.append(root)\n",
    "\n",
    "        while queue:\n",
    "            level_size = len(queue)\n",
    "            current_level_max = - 2 ** 32\n",
    "            for _ in range(level_size):\n",
    "                current_node = queue.popleft()\n",
    "                \n",
    "                if current_node.val > current_level_max:\n",
    "                    current_level_max = current_node.val\n",
    "\n",
    "                if current_node.left:\n",
    "                    queue.append(current_node.left)\n",
    "\n",
    "                if current_node.right:\n",
    "                    queue.append(current_node.right)\n",
    "\n",
    "            result.append(current_level_max)\n",
    "\n",
    "        return result "
   ]
  }
 ],
 "metadata": {
  "kernelspec": {
   "display_name": "base",
   "language": "python",
   "name": "python3"
  },
  "language_info": {
   "name": "python",
   "version": "3.12.2"
  }
 },
 "nbformat": 4,
 "nbformat_minor": 2
}
