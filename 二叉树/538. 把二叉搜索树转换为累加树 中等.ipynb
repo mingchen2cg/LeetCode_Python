{
 "cells": [
  {
   "cell_type": "code",
   "execution_count": null,
   "metadata": {},
   "outputs": [],
   "source": [
    "# Definition for a binary tree node.\n",
    "class TreeNode(object):\n",
    "    def __init__(self, val=0, left=None, right=None):\n",
    "        self.val = val\n",
    "        self.left = left\n",
    "        self.right = right\n",
    "        \n",
    "class Solution(object):\n",
    "    def convertBST(self, root):\n",
    "        \"\"\"\n",
    "        :type root: Optional[TreeNode]\n",
    "        :rtype: Optional[TreeNode]\n",
    "        \"\"\"\n",
    "        nums = []\n",
    "        self.inorder(root, nums)\n",
    "        return root \n",
    "        \n",
    "    def inorder(self, node, result):\n",
    "        if not node:\n",
    "            return\n",
    "        self.inorder(node.rigth, result)\n",
    "        result.append(node.val)\n",
    "        node.val = sum(result)\n",
    "        self.inorder(node.left, result)"
   ]
  },
  {
   "cell_type": "code",
   "execution_count": null,
   "metadata": {},
   "outputs": [],
   "source": [
    "class Solution(object):\n",
    "    def convertBST(self, root):\n",
    "        \"\"\"\n",
    "        :type root: Optional[TreeNode]\n",
    "        :rtype: Optional[TreeNode]\n",
    "        \"\"\"\n",
    "        self.total = 0  # 用于累加节点值\n",
    "        self.reverse_inorder(root)\n",
    "        return root\n",
    "    \n",
    "    def reverse_inorder(self, node):\n",
    "        if not node:\n",
    "            return\n",
    "        \n",
    "        # 反向中序遍历：右 -> 根 -> 左\n",
    "        self.reverse_inorder(node.right)  # 先遍历右子树\n",
    "        \n",
    "        # 更新当前节点的值\n",
    "        self.total += node.val\n",
    "        node.val = self.total\n",
    "        \n",
    "        self.reverse_inorder(node.left)  # 再遍历左子树\n"
   ]
  }
 ],
 "metadata": {
  "kernelspec": {
   "display_name": "base",
   "language": "python",
   "name": "python3"
  },
  "language_info": {
   "name": "python",
   "version": "3.12.2"
  }
 },
 "nbformat": 4,
 "nbformat_minor": 2
}
