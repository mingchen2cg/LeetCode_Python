{
 "cells": [
  {
   "cell_type": "code",
   "execution_count": null,
   "metadata": {},
   "outputs": [],
   "source": [
    "class Solution(object):\n",
    "    def preorderTraversal(self, root):\n",
    "        \"\"\"\n",
    "        :type root: Optional[TreeNode]\n",
    "        :rtype: List[int]\n",
    "        \"\"\"\n",
    "        if not root:\n",
    "            return []\n",
    "        \n",
    "        result = []\n",
    "        stack = [root]  # Initialize the stack with the root node\n",
    "        \n",
    "        while stack:\n",
    "            node = stack.pop()  # Pop the top node from the stack\n",
    "            result.append(node.val)  # Visit the node\n",
    "            \n",
    "            # Push the right child first, so the left child is processed first\n",
    "            if node.right:\n",
    "                stack.append(node.right)\n",
    "            if node.left:\n",
    "                stack.append(node.left)\n",
    "        \n",
    "        return result"
   ]
  },
  {
   "cell_type": "code",
   "execution_count": null,
   "metadata": {},
   "outputs": [],
   "source": [
    "class Solution(object):\n",
    "    def inorderTraversal(self, root):\n",
    "        \"\"\"\n",
    "        :type root: Optional[TreeNode]\n",
    "        :rtype: List[int]\n",
    "        \"\"\"\n",
    "        result = []\n",
    "        stack = []\n",
    "        current = root  # 当前节点\n",
    "        \n",
    "        while current or stack:\n",
    "            # 遍历到最左子节点，并将路径上的节点压栈\n",
    "            while current:\n",
    "                stack.append(current)\n",
    "                current = current.left\n",
    "            \n",
    "            # 弹出栈顶节点并访问\n",
    "            current = stack.pop()\n",
    "            result.append(current.val)\n",
    "            \n",
    "            # 转向右子树\n",
    "            current = current.right\n",
    "        \n",
    "        return result"
   ]
  },
  {
   "cell_type": "code",
   "execution_count": null,
   "metadata": {},
   "outputs": [],
   "source": [
    "class Solution(object):\n",
    "    def postorderTraversal(self, root):\n",
    "        \"\"\"\n",
    "        :type root: Optional[TreeNode]\n",
    "        :rtype: List[int]\n",
    "        \"\"\"\n",
    "        if not root:\n",
    "            return []\n",
    "        \n",
    "        result = []\n",
    "        stack = [root]  # 使用栈来存储节点\n",
    "        \n",
    "        while stack:\n",
    "            node = stack.pop()  # 弹出栈顶节点\n",
    "            result.append(node.val)  # 访问根节点\n",
    "            # 先将左子节点压栈，再将右子节点压栈\n",
    "            if node.left:\n",
    "                stack.append(node.left)\n",
    "            if node.right:\n",
    "                stack.append(node.right)\n",
    "        \n",
    "        # 后序遍历的顺序是左 -> 右 -> 根，所以需要反转结果\n",
    "        return result[::-1]\n"
   ]
  }
 ],
 "metadata": {
  "kernelspec": {
   "display_name": "base",
   "language": "python",
   "name": "python3"
  },
  "language_info": {
   "name": "python",
   "version": "3.12.2"
  }
 },
 "nbformat": 4,
 "nbformat_minor": 2
}
