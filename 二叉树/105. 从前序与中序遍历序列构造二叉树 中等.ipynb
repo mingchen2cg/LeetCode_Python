{
 "cells": [
  {
   "cell_type": "code",
   "execution_count": null,
   "metadata": {},
   "outputs": [],
   "source": [
    "# Definition for a binary tree node.\n",
    "class TreeNode(object):\n",
    "    def __init__(self, val=0, left=None, right=None):\n",
    "        self.val = val\n",
    "        self.left = left\n",
    "        self.right = right\n",
    "        \n",
    "        \n",
    "class Solution(object):\n",
    "    def buildTree(self, preorder, inorder):\n",
    "        \"\"\"\n",
    "        :type preorder: List[int]\n",
    "        :type inorder: List[int]\n",
    "        :rtype: Optional[TreeNode]\n",
    "        \"\"\"\n",
    "        if not preorder or not inorder:\n",
    "            return None\n",
    "        \n",
    "        root_val = preorder[0]\n",
    "        del preorder[0]\n",
    "        root = TreeNode(root_val)\n",
    "        \n",
    "        mid = inorder.index(root_val)\n",
    "        # 递归构造\n",
    "        # 首先构造左子树\n",
    "        root.left = self.buildTree(preorder, inorder[:mid])\n",
    "        root.right = self.buildTree(preorder, inorder[mid+1:])\n",
    "        \n",
    "        \n",
    "        return root"
   ]
  }
 ],
 "metadata": {
  "kernelspec": {
   "display_name": "base",
   "language": "python",
   "name": "python3"
  },
  "language_info": {
   "name": "python",
   "version": "3.12.2"
  }
 },
 "nbformat": 4,
 "nbformat_minor": 2
}
