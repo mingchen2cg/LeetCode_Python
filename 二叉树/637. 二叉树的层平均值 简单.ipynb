{
 "cells": [
  {
   "cell_type": "code",
   "execution_count": 8,
   "metadata": {},
   "outputs": [],
   "source": [
    "# Definition for a binary tree node.\n",
    "# class TreeNode(object):\n",
    "#     def __init__(self, val=0, left=None, right=None):\n",
    "#         self.val = val\n",
    "#         self.left = left\n",
    "#         self.right = right\n",
    "class Solution(object):\n",
    "    def averageOfLevels(self, root):\n",
    "        \"\"\"\n",
    "        :type root: Optional[TreeNode]\n",
    "        :rtype: List[float]\n",
    "        \"\"\"\n",
    "\n",
    "        if not root:\n",
    "            return []\n",
    "\n",
    "        from collections import deque\n",
    "        queue = deque()\n",
    "        queue.append(root)\n",
    "\n",
    "        result = []\n",
    "\n",
    "        while queue:\n",
    "            current_level_size = len(queue)\n",
    "            \n",
    "            level_sum = 0.\n",
    "\n",
    "            for _ in range(current_level_size):\n",
    "                current_node = queue.popleft()\n",
    "\n",
    "                level_sum += current_node.val\n",
    "\n",
    "                if current_node.left:\n",
    "                    queue.append(current_node.left)\n",
    "                \n",
    "                if current_node.right:\n",
    "                    queue.append(current_node.right)\n",
    "\n",
    "            result.append(level_sum / current_level_size)\n",
    "\n",
    "        return result\n"
   ]
  },
  {
   "cell_type": "code",
   "execution_count": 9,
   "metadata": {},
   "outputs": [],
   "source": [
    "# Definition for a binary tree node.\n",
    "class TreeNode(object):\n",
    "    def __init__(self, val=0, left=None, right=None):\n",
    "        self.val = val\n",
    "        self.left = left\n",
    "        self.right = right"
   ]
  },
  {
   "cell_type": "code",
   "execution_count": 10,
   "metadata": {},
   "outputs": [
    {
     "name": "stdout",
     "output_type": "stream",
     "text": [
      "14.5\n",
      "[3.0, 14.5, 11.0]\n"
     ]
    }
   ],
   "source": [
    "root = TreeNode(3)\n",
    "root.left = TreeNode(9)\n",
    "root.right = TreeNode(20)\n",
    "root.right.left = TreeNode(15)\n",
    "root.right.right = TreeNode(7)\n",
    "\n",
    "    # 创建 Solution 对象    \n",
    "solution = Solution()\n",
    "\n",
    "    # 调用方法并打印结果\n",
    "result = solution.averageOfLevels(root)\n",
    "print(result)  # 输出: [3.0, 14.5, 11.0]"
   ]
  }
 ],
 "metadata": {
  "kernelspec": {
   "display_name": "base",
   "language": "python",
   "name": "python3"
  },
  "language_info": {
   "codemirror_mode": {
    "name": "ipython",
    "version": 3
   },
   "file_extension": ".py",
   "mimetype": "text/x-python",
   "name": "python",
   "nbconvert_exporter": "python",
   "pygments_lexer": "ipython3",
   "version": "3.12.2"
  }
 },
 "nbformat": 4,
 "nbformat_minor": 2
}
