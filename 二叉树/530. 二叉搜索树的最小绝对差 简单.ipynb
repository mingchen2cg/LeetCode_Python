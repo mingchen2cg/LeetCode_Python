{
 "cells": [
  {
   "cell_type": "code",
   "execution_count": null,
   "metadata": {},
   "outputs": [],
   "source": [
    "# Definition for a binary tree node.\n",
    "class TreeNode(object):\n",
    "    def __init__(self, val=0, left=None, right=None):\n",
    "        self.val = val\n",
    "        self.left = left\n",
    "        self.right = right\n"
   ]
  },
  {
   "cell_type": "code",
   "execution_count": null,
   "metadata": {},
   "outputs": [],
   "source": [
    "class Solution(object):\n",
    "    def getMinimumDifference(self, root):\n",
    "        \"\"\"\n",
    "        :type root: Optional[TreeNode]\n",
    "        :rtype: int\n",
    "        \"\"\"\n",
    "        value_list = []\n",
    "        self.inOrder(root, value_list)\n",
    "        result = 10 ** 6\n",
    "         \n",
    "        for i in range(1,len(value_list)):\n",
    "            tmp = abs(value_list[i - 1] - value_list[i])\n",
    "            result = min(tmp, result)\n",
    "            \n",
    "        return result\n",
    "        \n",
    "    \n",
    "    def inOrder(self, root, value_list):\n",
    "        if not root:\n",
    "            return \n",
    "        self.inOrder(root.left, value_list)\n",
    "        value_list.append(root.val)\n",
    "        self.inOrder(root.right, value_list)"
   ]
  },
  {
   "cell_type": "markdown",
   "metadata": {},
   "source": [
    "## 优化空间复杂度 不必要存储整个遍历序列"
   ]
  },
  {
   "cell_type": "code",
   "execution_count": null,
   "metadata": {},
   "outputs": [],
   "source": [
    "class Solution(object):\n",
    "    def getMinimumDifference(self, root):\n",
    "        \"\"\"\n",
    "        :type root: Optional[TreeNode]\n",
    "        :rtype: int\n",
    "        \"\"\"\n",
    "        self.prev = None\n",
    "        self.min_diff = float('inf')\n",
    "        self.inOrder(root)\n",
    "        return self.min_diff\n",
    "    \n",
    "    def inOrder(self, root):\n",
    "        if not root:\n",
    "            return\n",
    "        \n",
    "        # 遍历左子树\n",
    "        self.inOrder(root.left)\n",
    "        \n",
    "        # 处理当前节点\n",
    "        if self.prev is not None:\n",
    "            self.min_diff = min(self.min_diff, abs(root.val - self.prev))\n",
    "        self.prev = root.val\n",
    "        \n",
    "        # 遍历右子树\n",
    "        self.inOrder(root.right)\n"
   ]
  }
 ],
 "metadata": {
  "kernelspec": {
   "display_name": "base",
   "language": "python",
   "name": "python3"
  },
  "language_info": {
   "name": "python",
   "version": "3.12.2"
  }
 },
 "nbformat": 4,
 "nbformat_minor": 2
}
