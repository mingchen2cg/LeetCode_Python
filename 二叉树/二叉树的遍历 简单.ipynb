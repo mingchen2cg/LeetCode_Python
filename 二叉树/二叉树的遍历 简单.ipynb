{
 "cells": [
  {
   "cell_type": "code",
   "execution_count": null,
   "metadata": {},
   "outputs": [],
   "source": [
    "class Solution(object):\n",
    "    def preorderTraversal(self, root):\n",
    "        \"\"\"\n",
    "        :type root: Optional[TreeNode]\n",
    "        :rtype: List[int]\n",
    "        \"\"\"\n",
    "        result = []\n",
    "        self._preorder(root, result)\n",
    "        return result\n",
    "    \n",
    "    def _preorder(self, node, result):\n",
    "        if not node:\n",
    "            return\n",
    "        result.append(node.val)  # 访问根节点\n",
    "        self._preorder(node.left, result)  # 遍历左子树\n",
    "        self._preorder(node.right, result)  # 遍历右子树\n",
    "\n",
    "        "
   ]
  },
  {
   "cell_type": "code",
   "execution_count": null,
   "metadata": {},
   "outputs": [],
   "source": [
    "# Definition for a binary tree node.\n",
    "# class TreeNode(object):\n",
    "#     def __init__(self, val=0, left=None, right=None):\n",
    "#         self.val = val\n",
    "#         self.left = left\n",
    "#         self.right = right\n",
    "class Solution(object):\n",
    "    def postorderTraversal(self, root):\n",
    "        \"\"\"\n",
    "        :type root: Optional[TreeNode]\n",
    "        :rtype: List[int]\n",
    "        \"\"\"\n",
    "        result = []\n",
    "        self.postorder(root,result)\n",
    "        return result\n",
    "\n",
    "\n",
    "    def postorder(self, node, result):\n",
    "        if not node:\n",
    "            return\n",
    "        self.postorder(node.left, result)\n",
    "        self.postorder(node.right, result) \n",
    "        result.append(node.val)"
   ]
  },
  {
   "cell_type": "code",
   "execution_count": null,
   "metadata": {},
   "outputs": [],
   "source": [
    "# Definition for a binary tree node.\n",
    "# class TreeNode(object):\n",
    "#     def __init__(self, val=0, left=None, right=None):\n",
    "#         self.val = val\n",
    "#         self.left = left\n",
    "#         self.right = right\n",
    "class Solution(object):\n",
    "    def inorderTraversal(self, root):\n",
    "        \"\"\"\n",
    "        :type root: Optional[TreeNode]\n",
    "        :rtype: List[int]\n",
    "        \"\"\"\n",
    "\n",
    "        result = []\n",
    "        self.inorder(root, result)\n",
    "        return result \n",
    "    \n",
    "    def inorder(self, node, result):\n",
    "        self.inorder(node.left, result)\n",
    "        result.append(node.val)\n",
    "        self.inorder(node.right, result)"
   ]
  }
 ],
 "metadata": {
  "kernelspec": {
   "display_name": "base",
   "language": "python",
   "name": "python3"
  },
  "language_info": {
   "name": "python",
   "version": "3.12.2"
  }
 },
 "nbformat": 4,
 "nbformat_minor": 2
}
