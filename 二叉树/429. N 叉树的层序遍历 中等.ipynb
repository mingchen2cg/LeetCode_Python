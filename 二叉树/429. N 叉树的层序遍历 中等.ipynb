{
 "cells": [
  {
   "cell_type": "code",
   "execution_count": null,
   "metadata": {},
   "outputs": [],
   "source": [
    "\"\"\"\n",
    "# Definition for a Node.\n",
    "class Node(object):\n",
    "    def __init__(self, val=None, children=None):\n",
    "        self.val = val\n",
    "        self.children = children\n",
    "\"\"\"\n",
    "\n",
    "class Solution(object):\n",
    "    def levelOrder(self, root):\n",
    "        \"\"\"\n",
    "        :type root: Node\n",
    "        :rtype: List[List[int]]\n",
    "        \"\"\"\n",
    "        if not root:\n",
    "            return []\n",
    "\n",
    "        from collections import deque\n",
    "        queue = deque()\n",
    "        queue.append(root)\n",
    "\n",
    "        result = []\n",
    "\n",
    "        while queue:\n",
    "            current_leval_size = len(queue)\n",
    "            current_leval_vals = []\n",
    "\n",
    "            for _ in range(current_leval_size):\n",
    "                current_node = queue.popleft()\n",
    "\n",
    "                current_leval_vals.append(current_node.val)\n",
    "\n",
    "                for children in current_node.children:\n",
    "                    queue.append(children)\n",
    "            \n",
    "            result.append(current_leval_vals)\n",
    "\n",
    "        return result\n"
   ]
  },
  {
   "cell_type": "code",
   "execution_count": null,
   "metadata": {},
   "outputs": [],
   "source": [
    "# 优化后的版本 \n",
    "\n",
    "from collections import deque\n",
    "\n",
    "class Solution(object):\n",
    "    def levelOrder(self, root):\n",
    "        \"\"\"\n",
    "        :type root: Node\n",
    "        :rtype: List[List[int]]\n",
    "        \"\"\"\n",
    "        if not root:\n",
    "            return []\n",
    "\n",
    "        queue = deque([root])\n",
    "        result = []\n",
    "\n",
    "        while queue:\n",
    "            current_level_size = len(queue)\n",
    "            current_level_vals = [node.val for node in queue]  # 使用列表推导收集当前层的值\n",
    "\n",
    "            # 一次性添加所有子节点\n",
    "            for _ in range(current_level_size):\n",
    "                current_node = queue.popleft()\n",
    "                queue.extend(current_node.children)\n",
    "            \n",
    "            result.append(current_level_vals)\n",
    "\n",
    "        return result"
   ]
  }
 ],
 "metadata": {
  "kernelspec": {
   "display_name": "base",
   "language": "python",
   "name": "python3"
  },
  "language_info": {
   "name": "python",
   "version": "3.12.2"
  }
 },
 "nbformat": 4,
 "nbformat_minor": 2
}
