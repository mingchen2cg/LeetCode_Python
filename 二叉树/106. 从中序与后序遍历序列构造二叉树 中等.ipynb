{
 "cells": [
  {
   "cell_type": "code",
   "execution_count": null,
   "metadata": {},
   "outputs": [],
   "source": [
    "# Definition for a binary tree node.\n",
    "# class TreeNode(object):\n",
    "#     def __init__(self, val=0, left=None, right=None):\n",
    "#         self.val = val\n",
    "#         self.left = left\n",
    "#         self.right = right\n",
    "# Definition for a binary tree node.\n",
    "class TreeNode(object):\n",
    "    def __init__(self, val=0, left=None, right=None):\n",
    "        self.val = val\n",
    "        self.left = left\n",
    "        self.right = right\n",
    "        \n",
    "class Solution(object):\n",
    "    def buildTree(self, inorder, postorder):\n",
    "        \"\"\"\n",
    "        :type inorder: List[int]\n",
    "        :type postorder: List[int]\n",
    "        :rtype: Optional[TreeNode]\n",
    "        \"\"\"\n",
    "        # 如果中序或后序遍历序列为空，返回空节点\n",
    "        if not inorder or not postorder:\n",
    "            return None\n",
    "        \n",
    "        # 后序遍历的最后一个元素是当前子树的根节点\n",
    "        root_val = postorder.pop()\n",
    "        root = TreeNode(root_val)\n",
    "        \n",
    "        # 在中序遍历中找到根节点的位置\n",
    "        mid = inorder.index(root_val)\n",
    "        \n",
    "        # 递归构造右子树\n",
    "        # 注意：先构造右子树，因为后序遍历中右子树的节点在左子树之前\n",
    "        root.right = self.buildTree(inorder[mid+1:], postorder)\n",
    "        \n",
    "        # 递归构造左子树\n",
    "        root.left = self.buildTree(inorder[:mid], postorder)\n",
    "        \n",
    "        return root\n",
    "        "
   ]
  },
  {
   "cell_type": "code",
   "execution_count": null,
   "metadata": {},
   "outputs": [],
   "source": [
    "class Solution(object):\n",
    "    def buildTree(self, inorder, postorder):\n",
    "        if not inorder or not postorder:\n",
    "            return None\n",
    "        \n",
    "        # 后序遍历的最后一个元素是当前子树的根节点\n",
    "        root_val = postorder.pop()\n",
    "        root = TreeNode(root_val)\n",
    "        \n",
    "        # 在中序遍历中找到根节点的位置 \n",
    "        mid = inorder.index(root_val)\n",
    "        \n",
    "        # 递归构造右子树\n",
    "        # 注意需要先构造右子树， 因为在后续编制中右子树的节点在左子树之前出栈\n",
    "        \n",
    "        root.right = self.buildTree(inorder[mid+1:], postorder)\n",
    "        \n",
    "        # 递归构造左子树 \n",
    "        root.left = self.buildTree(inorder[:mid], postorder)\n",
    "        \n",
    "        return root \n",
    "        \n"
   ]
  }
 ],
 "metadata": {
  "kernelspec": {
   "display_name": "base",
   "language": "python",
   "name": "python3"
  },
  "language_info": {
   "name": "python",
   "version": "3.12.2"
  }
 },
 "nbformat": 4,
 "nbformat_minor": 2
}
