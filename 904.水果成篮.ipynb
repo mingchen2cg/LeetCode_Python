{
 "cells": [
  {
   "cell_type": "code",
   "execution_count": 6,
   "metadata": {},
   "outputs": [],
   "source": [
    "class Solution(object):\n",
    "    def totalFruit(self, fruits):\n",
    "        \"\"\"\n",
    "        :type fruits: List[int]\n",
    "        :rtype: int\n",
    "        \"\"\"\n",
    "        ans = 0  # 记录最大长度\n",
    "        category = {}  # 使用字典记录水果种类及其出现次数\n",
    "        i = 0  # 滑动窗口的起始位置\n",
    "\n",
    "        for j in range(len(fruits)):\n",
    "            # 将当前水果加入字典\n",
    "            category[fruits[j]] = category.get(fruits[j], 0) + 1\n",
    "\n",
    "            # 如果种类超过 2，收缩窗口\n",
    "            while len(category) > 2:\n",
    "                category[fruits[i]] -= 1  # 左指针指向的水果数量减 1\n",
    "                if category[fruits[i]] == 0:\n",
    "                    del category[fruits[i]]  # 如果水果数量为 0，移出字典\n",
    "                i += 1  # 收缩窗口\n",
    "            \n",
    "            # 更新最大长度\n",
    "            ans = max(ans, j - i + 1)\n",
    "        \n",
    "        return ans\n",
    "\n"
   ]
  },
  {
   "cell_type": "code",
   "execution_count": null,
   "metadata": {},
   "outputs": [
    {
     "name": "stdout",
     "output_type": "stream",
     "text": [
      "[1, 2, 1, 1]\n",
      "5\n"
     ]
    }
   ],
   "source": [
    "fruits = [3,3,3,1,2,1,1,2,3,3,4]\n",
    "solution = Solution()  # 实例化 Solution 类\n",
    "ans = solution.totalFruit(fruits)  # 通过实例调用方法\n",
    "print(ans)"
   ]
  },
  {
   "cell_type": "code",
   "execution_count": null,
   "metadata": {},
   "outputs": [],
   "source": [
    "class Solution(object):\n",
    "    def totalFruit(self, fruits):\n",
    "        \"\"\"\n",
    "        :type fruits: List[int]\n",
    "        :rtype: int\n",
    "        \"\"\"\n",
    "\n",
    "        i = 0 \n",
    "        category = {} # 水果种类->数量的映射字典 \n",
    "        ans = 0 \n",
    "\n",
    "        for j in range(len(fruits)):\n",
    "            category[fruits[j]] = category.get(fruits[j],0) + 1 \n",
    "\n",
    "            while len(category) > 2 : # 左指针需要右移\n",
    "                # 左指针右移 \n",
    "                category[fruits[i]] -= 1 \n",
    "                if category[fruits[i]] == 0 :\n",
    "                    del category[fruits[i]]\n",
    "                i += 1\n",
    "\n",
    "            ans = max(ans, j - i + 1) \n",
    "        return ans"
   ]
  },
  {
   "cell_type": "code",
   "execution_count": 11,
   "metadata": {},
   "outputs": [
    {
     "name": "stdout",
     "output_type": "stream",
     "text": [
      "5\n"
     ]
    }
   ],
   "source": [
    "fruits = [3,3,3,1,2,1,1,2,3,3,4]\n",
    "solution = Solution()  # 实例化 Solution 类\n",
    "ans = solution.totalFruit(fruits)  # 通过实例调用方法\n",
    "print(ans)"
   ]
  }
 ],
 "metadata": {
  "kernelspec": {
   "display_name": "base",
   "language": "python",
   "name": "python3"
  },
  "language_info": {
   "codemirror_mode": {
    "name": "ipython",
    "version": 3
   },
   "file_extension": ".py",
   "mimetype": "text/x-python",
   "name": "python",
   "nbconvert_exporter": "python",
   "pygments_lexer": "ipython3",
   "version": "3.12.7"
  }
 },
 "nbformat": 4,
 "nbformat_minor": 2
}
