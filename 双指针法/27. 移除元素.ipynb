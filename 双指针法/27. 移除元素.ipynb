{
 "cells": [
  {
   "cell_type": "code",
   "execution_count": 47,
   "metadata": {},
   "outputs": [],
   "source": [
    "class Solution:\n",
    "    def removeElement(self, nums, val):\n",
    "        # 快慢指针\n",
    "        fast = 0  # 快指针\n",
    "        slow = 0  # 慢指针\n",
    "        size = len(nums)\n",
    "        while fast < size: \n",
    "            # slow 用来收集不等于 val 的值，如果 fast 对应值不等于 val，则把它与 slow 替换\n",
    "            if nums[fast] != val:\n",
    "                nums[slow] = nums[fast]\n",
    "                slow += 1\n",
    "            fast += 1\n",
    "        return slow\n"
   ]
  },
  {
   "cell_type": "code",
   "execution_count": 53,
   "metadata": {},
   "outputs": [],
   "source": [
    "class Solution:\n",
    "    def removeElement(self, nums, val):\n",
    "        # 快慢指针\n",
    "        fast = 0  # 快指针\n",
    "        slow = 0  # 慢指针\n",
    "        size = len(nums)\n",
    "        while fast < size:\n",
    "            if nums[fast] == val:\n",
    "                fast += 1\n",
    "            else:\n",
    "                nums[slow] = nums[fast]\n",
    "                slow += 1\n",
    "                fast += 1\n",
    "\n",
    "        return slow"
   ]
  },
  {
   "cell_type": "code",
   "execution_count": 52,
   "metadata": {},
   "outputs": [
    {
     "name": "stdout",
     "output_type": "stream",
     "text": [
      "5 [0, 1, 3, 0, 4, 0, 4, 2]\n"
     ]
    }
   ],
   "source": [
    "nums = [0,1,2,2,3,0,4,2]\n",
    "val = 2\n",
    "Solution_ = Solution()\n",
    "ans = Solution_.removeElement(nums, val)\n",
    "print(ans, nums)"
   ]
  }
 ],
 "metadata": {
  "kernelspec": {
   "display_name": "base",
   "language": "python",
   "name": "python3"
  },
  "language_info": {
   "codemirror_mode": {
    "name": "ipython",
    "version": 3
   },
   "file_extension": ".py",
   "mimetype": "text/x-python",
   "name": "python",
   "nbconvert_exporter": "python",
   "pygments_lexer": "ipython3",
   "version": "3.12.2"
  }
 },
 "nbformat": 4,
 "nbformat_minor": 2
}
