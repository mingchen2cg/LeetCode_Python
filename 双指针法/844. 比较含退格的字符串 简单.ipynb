{
 "cells": [
  {
   "cell_type": "code",
   "execution_count": 1,
   "metadata": {},
   "outputs": [],
   "source": [
    "class Solution(object):\n",
    "    def backspaceCompare(self, s, t):\n",
    "        \"\"\"\n",
    "        :type s: str\n",
    "        :type t: str\n",
    "        :rtype: bool\n",
    "        \"\"\"\n",
    "        def get_next_valid_char(s, index):\n",
    "            backspace_count = 0\n",
    "            while index >= 0:\n",
    "                if s[index] == '#':\n",
    "                    backspace_count += 1\n",
    "                elif backspace_count > 0:\n",
    "                    backspace_count -= 1\n",
    "                else:\n",
    "                    break\n",
    "                index -= 1\n",
    "            return index\n",
    "        \n",
    "        i, j = len(s) - 1, len(t) - 1\n",
    "        while i >= 0 or j >= 0:\n",
    "            i = get_next_valid_char(s, i)\n",
    "            j = get_next_valid_char(t, j)\n",
    "            if i < 0 and j < 0:\n",
    "                return True\n",
    "            if i < 0 or j < 0 or s[i] != t[j]:\n",
    "                return False\n",
    "            i -= 1\n",
    "            j -= 1\n",
    "        return True"
   ]
  },
  {
   "cell_type": "markdown",
   "metadata": {},
   "source": [
    "代码解释：\n",
    "get_next_valid_char 函数用于找到当前指针位置之前的第一个有效字符（即跳过退格字符）。\n",
    "使用双指针从字符串的末尾开始遍历，分别找到 s 和 t 中的有效字符进行比较。\n",
    "如果两个字符串都遍历完毕且所有字符都匹配，则返回 True；否则返回 False。"
   ]
  },
  {
   "cell_type": "code",
   "execution_count": null,
   "metadata": {},
   "outputs": [],
   "source": [
    "s = \"ab#c\"\n",
    "t = \"ad#c\"\n",
    "\n",
    "Solution_ = Solution()\n",
    "ans = Solution_.backspaceCompare(s, t)\n",
    "print(ans)"
   ]
  },
  {
   "cell_type": "code",
   "execution_count": null,
   "metadata": {},
   "outputs": [],
   "source": [
    "class Solution(object):\n",
    "    def backspaceCompare(self, s, t):\n",
    "        \"\"\"\n",
    "        :type s: str\n",
    "        :type t: str\n",
    "        :rtype: bool\n",
    "        \"\"\"\n",
    "        def build(s):\n",
    "            stack = []\n",
    "            for char in s:\n",
    "                if char != '#':\n",
    "                    stack.append(char)\n",
    "                elif stack:\n",
    "                    stack.pop()\n",
    "            return ''.join(stack)\n",
    "        \n",
    "        return build(s) == build(t)"
   ]
  }
 ],
 "metadata": {
  "kernelspec": {
   "display_name": "base",
   "language": "python",
   "name": "python3"
  },
  "language_info": {
   "codemirror_mode": {
    "name": "ipython",
    "version": 3
   },
   "file_extension": ".py",
   "mimetype": "text/x-python",
   "name": "python",
   "nbconvert_exporter": "python",
   "pygments_lexer": "ipython3",
   "version": "3.12.2"
  }
 },
 "nbformat": 4,
 "nbformat_minor": 2
}
