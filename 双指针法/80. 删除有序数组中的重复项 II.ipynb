{
 "cells": [
  {
   "cell_type": "code",
   "execution_count": 22,
   "metadata": {},
   "outputs": [],
   "source": [
    "class Solution(object):\n",
    "    def removeDuplicates(self, nums):\n",
    "        \"\"\"\n",
    "        :type nums: List[int]\n",
    "        :rtype: int\n",
    "        \"\"\"\n",
    "\n",
    "        n = len(nums)\n",
    "        if n == 1:\n",
    "            return 1\n",
    "\n",
    "        fast, slow = 1, 1 \n",
    "        cnt = 1\n",
    "        while fast < n:\n",
    "            if nums[fast] == nums[fast - 1]:\n",
    "                cnt += 1\n",
    "                if cnt > 2:\n",
    "                    fast += 1\n",
    "                else:\n",
    "                    nums[slow] = nums[fast]\n",
    "                    slow += 1\n",
    "                    fast += 1\n",
    "            else:\n",
    "                cnt = 1\n",
    "                nums[slow] = nums[fast]\n",
    "                slow += 1\n",
    "                fast += 1\n",
    "\n",
    "        return slow\n"
   ]
  },
  {
   "cell_type": "code",
   "execution_count": 23,
   "metadata": {},
   "outputs": [
    {
     "name": "stdout",
     "output_type": "stream",
     "text": [
      "7 [0, 0, 1, 1, 2, 3, 3, 3, 3, 3, 3]\n"
     ]
    }
   ],
   "source": [
    "nums = [0,0,1,1,1,1,2,3,3,3,3]\n",
    "Solution_ = Solution()\n",
    "ans = Solution_.removeDuplicates(nums)\n",
    "print(ans,nums)"
   ]
  }
 ],
 "metadata": {
  "kernelspec": {
   "display_name": "base",
   "language": "python",
   "name": "python3"
  },
  "language_info": {
   "codemirror_mode": {
    "name": "ipython",
    "version": 3
   },
   "file_extension": ".py",
   "mimetype": "text/x-python",
   "name": "python",
   "nbconvert_exporter": "python",
   "pygments_lexer": "ipython3",
   "version": "3.12.2"
  }
 },
 "nbformat": 4,
 "nbformat_minor": 2
}
