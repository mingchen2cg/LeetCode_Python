{
 "cells": [
  {
   "cell_type": "code",
   "execution_count": null,
   "id": "095df541",
   "metadata": {},
   "outputs": [],
   "source": [
    "class Solution(object):\n",
    "    def minRefuelStops(self, target, startFuel, stations):\n",
    "        self.min_stops = float('inf')\n",
    "        n = len(stations)\n",
    "\n",
    "        def dfs(pos, fuel, idx, count):\n",
    "            # 到达目的地\n",
    "            if pos + fuel >= target:\n",
    "                self.min_stops = min(self.min_stops, count)\n",
    "                return\n",
    "\n",
    "            # 遍历后续所有可到达的加油站\n",
    "            for i in range(idx, n):\n",
    "                station_pos, station_fuel = stations[i]\n",
    "                if station_pos > pos + fuel:\n",
    "                    # 无法到达这个加油站\n",
    "                    break\n",
    "                # 尝试在这个加油站加油\n",
    "                dfs(station_pos, pos + fuel - station_pos + station_fuel, i + 1, count + 1)\n",
    "                # 不加油也不用尝试，因为无法到达下一个站\n",
    "\n",
    "        dfs(0, startFuel, 0, 0)\n",
    "\n",
    "        return self.min_stops if self.min_stops != float('inf') else -1\n"
   ]
  },
  {
   "cell_type": "code",
   "execution_count": null,
   "id": "3bb8fc58",
   "metadata": {},
   "outputs": [],
   "source": [
    "# 设 dp[i] 表示加 i 次油时，能够到达的最远距离。\n",
    "class Solution(object):\n",
    "    def minRefuelStops(self, target, startFuel, stations):\n",
    "        \"\"\"\n",
    "        :type target: int\n",
    "        :type startFuel: int\n",
    "        :type stations: List[List[int]]\n",
    "        :rtype: int\n",
    "        \"\"\"\n",
    "        n = len(stations)\n",
    "        dp = [0] * (n+1)\n",
    "        dp[0] = startFuel\n",
    "\n",
    "        for i in range(n):\n",
    "            position, fuel = stations[i]\n",
    "            for j in range(i, -1, -1):\n",
    "                if dp[j] >= position:\n",
    "                    dp[j + 1] = max(dp[j+1], dp[j] + fuel)\n",
    "        # print(dp)\n",
    "        for i in range(n+1):\n",
    "            if dp[i] >= target:\n",
    "                return i\n",
    "\n",
    "        return -1"
   ]
  },
  {
   "cell_type": "code",
   "execution_count": null,
   "id": "3a4943a7",
   "metadata": {},
   "outputs": [],
   "source": [
    "import heapq\n",
    "\n",
    "class Solution(object):\n",
    "    def minRefuelStops(self, target, startFuel, stations):\n",
    "        maxHeap = []\n",
    "        fuel = startFuel\n",
    "        res = 0\n",
    "        i = 0\n",
    "        n = len(stations)\n",
    "        \n",
    "        while fuel < target:\n",
    "            # 把所有能到达的加油站的油量加入堆中\n",
    "            while i < n and stations[i][0] <= fuel:\n",
    "                heapq.heappush(maxHeap, -stations[i][1])  # 加负号模拟最大堆\n",
    "                i += 1\n",
    "            \n",
    "            if not maxHeap:  # 如果没油可加，无法前进\n",
    "                return -1\n",
    "            \n",
    "            fuel += -heapq.heappop(maxHeap)  # 加最大油量\n",
    "            res += 1\n",
    "        \n",
    "        return res\n"
   ]
  },
  {
   "cell_type": "code",
   "execution_count": 4,
   "id": "6a05aaab",
   "metadata": {},
   "outputs": [
    {
     "name": "stdout",
     "output_type": "stream",
     "text": [
      "[10, 70, 110, 140, 170]\n"
     ]
    },
    {
     "data": {
      "text/plain": [
       "2"
      ]
     },
     "execution_count": 4,
     "metadata": {},
     "output_type": "execute_result"
    }
   ],
   "source": [
    "target = 100\n",
    "startFuel = 10\n",
    "stations = [[10,60],[20,30],[30,30],[60,40]]\n",
    "mysolution = Solution()\n",
    "ans = mysolution.minRefuelStops(target,startFuel,stations)\n",
    "ans"
   ]
  }
 ],
 "metadata": {
  "kernelspec": {
   "display_name": "base",
   "language": "python",
   "name": "python3"
  },
  "language_info": {
   "codemirror_mode": {
    "name": "ipython",
    "version": 3
   },
   "file_extension": ".py",
   "mimetype": "text/x-python",
   "name": "python",
   "nbconvert_exporter": "python",
   "pygments_lexer": "ipython3",
   "version": "3.12.9"
  }
 },
 "nbformat": 4,
 "nbformat_minor": 5
}
