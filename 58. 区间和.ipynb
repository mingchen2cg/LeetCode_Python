{
 "cells": [
  {
   "cell_type": "code",
   "execution_count": null,
   "id": "initial_id",
   "metadata": {
    "collapsed": true
   },
   "outputs": [],
   "source": [
    "import sys\n",
    "input = sys.stdin.read\n",
    "\n",
    "def main():\n",
    "    data = input().split()\n",
    "    index = 0\n",
    "    n = int(data[index])\n",
    "    index += 1\n",
    "    vec = []\n",
    "    for i in range(n):\n",
    "        vec.append(int(data[index + i]))\n",
    "    index += n\n",
    "\n",
    "    p = [0] * n\n",
    "    presum = 0\n",
    "    for i in range(n):\n",
    "        presum += vec[i]\n",
    "        p[i] = presum\n",
    "\n",
    "    results = []\n",
    "    while index < len(data):\n",
    "        a = int(data[index])\n",
    "        b = int(data[index + 1])\n",
    "        index += 2\n",
    "\n",
    "        if a == 0:\n",
    "            sum_value = p[b]\n",
    "        else:\n",
    "            sum_value = p[b] - p[a - 1]\n",
    "\n",
    "        results.append(sum_value)\n",
    "\n",
    "    for result in results:\n",
    "        print(result)\n",
    "\n",
    "if __name__ == \"__main__\":\n",
    "    main()\n"
   ]
  }
 ],
 "metadata": {
  "kernelspec": {
   "display_name": "Python 3",
   "language": "python",
   "name": "python3"
  },
  "language_info": {
   "codemirror_mode": {
    "name": "ipython",
    "version": 2
   },
   "file_extension": ".py",
   "mimetype": "text/x-python",
   "name": "python",
   "nbconvert_exporter": "python",
   "pygments_lexer": "ipython2",
   "version": "2.7.6"
  }
 },
 "nbformat": 4,
 "nbformat_minor": 5
}
